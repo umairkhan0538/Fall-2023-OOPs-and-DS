{
 "cells": [
  {
   "cell_type": "markdown",
   "metadata": {},
   "source": [
    "<div style=\"\n",
    "        background: linear-gradient(90deg, #8e44ad, #3498db);\n",
    "        padding: 30px 20px;\n",
    "        border-radius: 25px;\n",
    "        box-shadow: 0 7px 6px rgba(0, 0, 0, 0.3);\n",
    "        border: 2px solid #CCCCFF;\n",
    "        max-width: 90%;\n",
    "    \">\n",
    "        <span style=\"\n",
    "            color: #FFBF00;\n",
    "            font-size: 20px;\n",
    "            font-family: Cooper Black;\n",
    "            letter-spacing: 2px;\n",
    "            line-height: 1.4;\n",
    "            text-transform: sentencecase;\n",
    "            text-shadow: 3px 3px 8px rgba(0, 0, 0, 0.5);\n",
    "            text-align: center;\n",
    "        \">\n",
    "            University of Engineering and Technology Peshawar Jalozai Campus\n",
    "        </span>\n",
    "  </div>\n"
   ]
  },
  {
   "cell_type": "markdown",
   "metadata": {},
   "source": [
    " <div style=\"\n",
    "        background: linear-gradient(90deg, #e06377, #3b3a30);\n",
    "        padding: 30px 20px;\n",
    "        border-radius: 25px;\n",
    "        box-shadow: 0 7px 6px rgba(0, 0, 0, 0.3);\n",
    "        border: 2px solid #CCCCFF;\n",
    "        max-width: 90%;\n",
    "    \">\n",
    "        <span style=\"\n",
    "            font-size: 20px;\n",
    "            font-family: Cooper Black;\n",
    "            color: #FFBF00;\n",
    "            font-weight: bold;\n",
    "            letter-spacing: 1px;\n",
    "            text-shadow: 3px 1px 8px rgba(0, 0, 1, 0.6);\n",
    "        \">\n",
    "            Lab Title: EE-271 “OOP & Data Structures Lab”\n",
    "        </span>\n",
    "    </div>\n"
   ]
  },
  {
   "cell_type": "markdown",
   "metadata": {},
   "source": [
    "<div style=\"\n",
    "        background: linear-gradient(90deg, #c83349, #622569);\n",
    "        padding: 30px 20px;\n",
    "        border-radius: 25px;\n",
    "        box-shadow: 0 7px 6px rgba(0, 0, 0, 0.3);\n",
    "        border: 2px solid #CCCCFF;\n",
    "        max-width: 90%;\n",
    "    \">\n",
    "        <span style=\"\n",
    "            font-size: 20px;\n",
    "            font-family: Cooper Black;\n",
    "            color: #FFBF00;\n",
    "            font-weight: bold;\n",
    "            letter-spacing: 1px;\n",
    "            text-shadow: 3px 1px 8px rgba(0, 0, 1, 0.6);\n",
    "        \">\n",
    "           Lab 6: Classes 3 @property and @property.setter, @property, @ staticmethod and @classmethod\n",
    "        </span>\n",
    "    </div>\n"
   ]
  },
  {
   "cell_type": "markdown",
   "metadata": {},
   "source": [
    "-----------"
   ]
  },
  {
   "cell_type": "markdown",
   "metadata": {},
   "source": [
    "<span style=\"color: #000000;\n",
    "font-size: 44px;\n",
    "transition: color 0.3s;\">&#x21DD; </span>\n",
    "<span style=\"color: #ff0000;\n",
    "    font-family: Arial Black;\n",
    "font-size: 35px; font-weight: bold; \n",
    "text-shadow: 0px 4px 2px rgb(0, 0, 0);\">\n",
    "    Lab Work Tasks :</span>"
   ]
  },
  {
   "cell_type": "markdown",
   "metadata": {},
   "source": [
    "<center><span style=\"color:blue; \n",
    "font-family:Algerian; \n",
    "font-weight:bold;\n",
    "font-size:35px;\">Task No # 01 </span></center>"
   ]
  },
  {
   "cell_type": "markdown",
   "metadata": {},
   "source": [
    "<div style=\"padding: 20px; font-family: Arial, sans-serif; background-color: #f9f9f9; border: 2px solid black; border-radius: 8px; width: fit-content;\">\n",
    "  <ul style=\"color: #555; font-size: 16px; line-height: 1.6;\">\n",
    "    <li><strong>Class Definition:</strong> Define a class <code>Point</code> in a 2-dimensional coordinate system with the necessary <code>__init__</code> method.</li>\n",
    "    <li><strong>Property Methods:</strong>\n",
    "      <ul>\n",
    "        <li>Implement appropriate property methods using <code>@property</code> and <code>@property.setter</code>.</li>\n",
    "      </ul>\n",
    "    </li>\n",
    "    <li><strong>Instance Methods:</strong>\n",
    "      <ul>\n",
    "        <li><b>Distance Calculation</b>: Add an instance method for calculating the distance between two points.</li>\n",
    "        <li><b>Distance from Origin</b>: Include another instance method to calculate the distance from the origin (0, 0).</li>\n",
    "        <li><b>Locate</b>: Add a method named <code>locate</code> to display the coordinates where the point is located.</li>\n",
    "      </ul>\n",
    "    </li>\n",
    "    <li><strong>Special Methods:</strong>\n",
    "      <ul>\n",
    "        <li>Implement <code>__repr__</code> and <code>__str__</code> methods to provide clear string representations for the class.</li>\n",
    "        <li>Add methods decorated with <code>@staticmethod</code>, <code>@property</code>, and <code>@classmethod</code> if applicable.</li>\n",
    "      </ul>\n",
    "    </li>\n",
    "    <li><strong>Documentation:</strong> Ensure proper annotations and docstrings for every class and instance method to enhance readability and maintainability.</li>\n",
    "  </ul>\n",
    "</div>\n"
   ]
  },
  {
   "cell_type": "code",
   "execution_count": 11,
   "metadata": {},
   "outputs": [],
   "source": [
    "import math\n",
    "\n",
    "class Point:\n",
    "    \"\"\"\n",
    "    A class to represent a point in a 2D coordinate system.\n",
    "    \"\"\"\n",
    "    \n",
    "    def __init__(self, x: float = 0.0, y: float = 0.0):\n",
    "        \"\"\"\n",
    "        Initializes a new point at the given coordinates.\n",
    "        \n",
    "        :param x: x-coordinate (default is 0.0)\n",
    "        :param y: y-coordinate (default is 0.0)\n",
    "        \"\"\"\n",
    "        self._x = x\n",
    "        self._y = y\n",
    "\n",
    "    @property\n",
    "    def x(self) -> float:\n",
    "        \"\"\"Gets the x-coordinate.\"\"\"\n",
    "        return self._x\n",
    "\n",
    "    @x.setter\n",
    "    def x(self, value: float) -> None:\n",
    "        \"\"\"Sets the x-coordinate.\"\"\"\n",
    "        self._x = value\n",
    "\n",
    "    @property\n",
    "    def y(self) -> float:\n",
    "        \"\"\"Gets the y-coordinate.\"\"\"\n",
    "        return self._y\n",
    "\n",
    "    @y.setter\n",
    "    def y(self, value: float) -> None:\n",
    "        \"\"\"Sets the y-coordinate.\"\"\"\n",
    "        self._y = value\n",
    "\n",
    "    def distance_to(self, other: 'Point') -> float:\n",
    "        \"\"\"\n",
    "        Calculates the distance between this point and another point.\n",
    "        \n",
    "        :param other: Another point in the 2D coordinate system.\n",
    "        :return: The distance between the two points.\n",
    "        \"\"\"\n",
    "        return math.sqrt((self.x - other.x) ** 2 + (self.y - other.y) ** 2)\n",
    "        \n",
    "    @property\n",
    "    def distance_from_origin(self) -> float:\n",
    "        \"\"\"\n",
    "        Calculates the distance from the origin (0, 0) to this point.\n",
    "        \n",
    "        :return: The distance from the origin to this point.\n",
    "        \"\"\"\n",
    "        return math.sqrt(self.x ** 2 + self.y ** 2)\n",
    "        \n",
    "    @property\n",
    "    def locate(self) -> str:\n",
    "        \"\"\"\n",
    "        Displays the coordinates of the point.\n",
    "        \n",
    "        :return: A string representation of the coordinates.\n",
    "        \"\"\"\n",
    "        return f\"Point is located at ({self.x}, {self.y})\"\n",
    "\n",
    "    def __repr__(self) -> str:\n",
    "        \"\"\"Returns a detailed string representation of the point.\"\"\"\n",
    "        return f\"Point(x={self.x}, y={self.y})\"\n",
    "\n",
    "    def __str__(self) -> str:\n",
    "        \"\"\"Returns a user-friendly string representation of the point.\"\"\"\n",
    "        return f\"Point({self.x}, {self.y})\"\n",
    "\n",
    "    @staticmethod\n",
    "    def origin() -> 'Point':\n",
    "        \"\"\"\n",
    "        Returns a point at the origin (0, 0).\n",
    "        \n",
    "        :return: A Point object representing the origin.\n",
    "        \"\"\"\n",
    "        return Point(0, 0)\n",
    "\n",
    "    @classmethod\n",
    "    def from_coordinates(cls, coordinates: tuple) -> 'Point':\n",
    "        \"\"\"\n",
    "        Creates a Point instance from a tuple of coordinates.\n",
    "        \n",
    "        :param coordinates: A tuple containing x and y coordinates.\n",
    "        :return: An instance of Point.\n",
    "        \"\"\"\n",
    "        return cls(*coordinates)\n",
    "\n"
   ]
  },
  {
   "cell_type": "markdown",
   "metadata": {},
   "source": [
    "<div style=\"padding: 20px; font-family: Arial, sans-serif; background-color: #f9f9f9; border:2px solid black; border-radius: 8px; width: fit-content;\">\n",
    "  <p style=\"color: #555; font-size: 16px; line-height: 1.6; margin-top: 10px;\">\n",
    "  To Define <code>inst_1</code>,<code>inst_2</code> and pass two numbers \n",
    "  </p>\n",
    "</div>\n"
   ]
  },
  {
   "cell_type": "code",
   "execution_count": 12,
   "metadata": {},
   "outputs": [],
   "source": [
    "inst_1 = Point(3, 4)\n",
    "inst_2 = Point(6, 8)"
   ]
  },
  {
   "cell_type": "markdown",
   "metadata": {},
   "source": [
    "<div style=\"padding: 20px; font-family: Arial, sans-serif; background-color: #f9f9f9; border:2px solid black; border-radius: 8px; width: fit-content;\">\n",
    "  <p style=\"color: #555; font-size: 16px; line-height: 1.6; margin-top: 10px;\">\n",
    " To Print <code>inst_1</code> and <code>inst_2</code>, for this use the print command and pass the <code>inst_1</code> and <code>inst_2</code>.\n",
    "  </p>\n",
    "</div>"
   ]
  },
  {
   "cell_type": "code",
   "execution_count": 13,
   "metadata": {},
   "outputs": [
    {
     "name": "stdout",
     "output_type": "stream",
     "text": [
      "Point(3, 4)\n",
      "Point(6, 8)\n"
     ]
    }
   ],
   "source": [
    "print(inst_1)\n",
    "print(inst_2) "
   ]
  },
  {
   "cell_type": "markdown",
   "metadata": {},
   "source": [
    "<div style=\"padding: 20px; font-family: Arial, sans-serif; background-color: #f9f9f9; border:2px solid black; border-radius: 8px; width: fit-content;\">\n",
    "  <p style=\"color: #555; font-size: 16px; line-height: 1.6; margin-top: 10px;\">\n",
    "  To print the location of both points. (Add a display method).\n",
    "  </p>\n",
    "</div>\n"
   ]
  },
  {
   "cell_type": "code",
   "execution_count": 16,
   "metadata": {},
   "outputs": [
    {
     "name": "stdout",
     "output_type": "stream",
     "text": [
      "Point is located at (3, 4)\n",
      "Point is located at (6, 8)\n"
     ]
    }
   ],
   "source": [
    "print(inst_1.locate)\n",
    "print(inst_2.locate)"
   ]
  },
  {
   "cell_type": "markdown",
   "metadata": {},
   "source": [
    "<div style=\"padding: 20px; font-family: Arial, sans-serif; background-color: #f9f9f9; border:2px solid black; border-radius: 8px; width: fit-content;\">\n",
    "  <p style=\"color: #555; font-size: 16px; line-height: 1.6; margin-top: 10px;\">\n",
    "  To Calculate the distance between these two pints. \n",
    "  </p>\n",
    "</div>\n"
   ]
  },
  {
   "cell_type": "code",
   "execution_count": 17,
   "metadata": {},
   "outputs": [
    {
     "name": "stdout",
     "output_type": "stream",
     "text": [
      "Distance between inst_1 and inst_2: 5.00\n"
     ]
    }
   ],
   "source": [
    "distance = inst_1.distance_to(inst_2)\n",
    "print(f\"Distance between inst_1 and inst_2: {distance:.2f}\")"
   ]
  },
  {
   "cell_type": "markdown",
   "metadata": {},
   "source": [
    "<div style=\"padding: 20px; font-family: Arial, sans-serif; background-color: #f9f9f9; border:2px solid black; border-radius: 8px; width: fit-content;\">\n",
    "  <p style=\"color: #555; font-size: 16px; line-height: 1.6; margin-top: 10px;\">\n",
    "  To Call the <code>__dict__</code> by the class name.\n",
    "  </p>\n",
    "</div>\n"
   ]
  },
  {
   "cell_type": "code",
   "execution_count": 18,
   "metadata": {},
   "outputs": [
    {
     "name": "stdout",
     "output_type": "stream",
     "text": [
      "mappingproxy({'__dict__': <attribute '__dict__' of 'Point' objects>,\n",
      "              '__doc__': '\\n'\n",
      "                         '    A class to represent a point in a 2D coordinate '\n",
      "                         'system.\\n'\n",
      "                         '    ',\n",
      "              '__init__': <function Point.__init__ at 0x0000022653E17C40>,\n",
      "              '__module__': '__main__',\n",
      "              '__repr__': <function Point.__repr__ at 0x00000226543102C0>,\n",
      "              '__str__': <function Point.__str__ at 0x0000022654310360>,\n",
      "              '__weakref__': <attribute '__weakref__' of 'Point' objects>,\n",
      "              'distance_from_origin': <property object at 0x0000022654324180>,\n",
      "              'distance_to': <function Point.distance_to at 0x0000022654310040>,\n",
      "              'from_coordinates': <classmethod(<function Point.from_coordinates at 0x0000022654310680>)>,\n",
      "              'locate': <property object at 0x00000226543240E0>,\n",
      "              'origin': <staticmethod(<function Point.origin at 0x0000022654310860>)>,\n",
      "              'x': <property object at 0x0000022654324360>,\n",
      "              'y': <property object at 0x0000022654324310>})\n"
     ]
    }
   ],
   "source": [
    "from pprint import pprint\n",
    "pprint(Point.__dict__)"
   ]
  },
  {
   "cell_type": "markdown",
   "metadata": {},
   "source": [
    "<div style=\"padding: 20px; font-family: Arial, sans-serif; background-color: #f9f9f9; border:2px solid black; border-radius: 8px; width: fit-content;\">\n",
    "  <p style=\"color: #555; font-size: 16px; line-height: 1.6; margin-top: 10px;\">\n",
    "  Also pass the class name to the <code>vars</code> built-in function.\n",
    "  </p>\n",
    "</div>"
   ]
  },
  {
   "cell_type": "code",
   "execution_count": 19,
   "metadata": {},
   "outputs": [
    {
     "name": "stdout",
     "output_type": "stream",
     "text": [
      "{'__module__': '__main__', '__doc__': '\\n    A class to represent a point in a 2D coordinate system.\\n    ', '__init__': <function Point.__init__ at 0x0000022653E17C40>, 'x': <property object at 0x0000022654324360>, 'y': <property object at 0x0000022654324310>, 'distance_to': <function Point.distance_to at 0x0000022654310040>, 'distance_from_origin': <property object at 0x0000022654324180>, 'locate': <property object at 0x00000226543240E0>, '__repr__': <function Point.__repr__ at 0x00000226543102C0>, '__str__': <function Point.__str__ at 0x0000022654310360>, 'origin': <staticmethod(<function Point.origin at 0x0000022654310860>)>, 'from_coordinates': <classmethod(<function Point.from_coordinates at 0x0000022654310680>)>, '__dict__': <attribute '__dict__' of 'Point' objects>, '__weakref__': <attribute '__weakref__' of 'Point' objects>}\n"
     ]
    }
   ],
   "source": [
    "print(vars(Point))"
   ]
  },
  {
   "cell_type": "markdown",
   "metadata": {},
   "source": [
    "<div style=\"padding: 20px; font-family: Arial, sans-serif; background-color: #f9f9f9; border:2px solid black; border-radius: 8px; width: fit-content;\">\n",
    "  <p style=\"color: #555; font-size: 16px; line-height: 1.6; margin-top: 10px;\">\n",
    "  To  Call the <code>__dict__</code> on the object of the class.\n",
    "  </p>\n",
    "</div>"
   ]
  },
  {
   "cell_type": "code",
   "execution_count": 20,
   "metadata": {},
   "outputs": [
    {
     "name": "stdout",
     "output_type": "stream",
     "text": [
      "{'_x': 3, '_y': 4}\n"
     ]
    }
   ],
   "source": [
    "print(inst_1.__dict__)"
   ]
  },
  {
   "cell_type": "markdown",
   "metadata": {},
   "source": [
    "<div style=\"padding: 20px; font-family: Arial, sans-serif; background-color: #f9f9f9; border:2px solid black; border-radius: 8px; width: fit-content;\">\n",
    "  <p style=\"color: #555; font-size: 16px; line-height: 1.6; margin-top: 10px;\">\n",
    "  To Pass the class name to help.\n",
    "  </p>\n",
    "</div>"
   ]
  },
  {
   "cell_type": "code",
   "execution_count": 21,
   "metadata": {},
   "outputs": [
    {
     "name": "stdout",
     "output_type": "stream",
     "text": [
      "Help on class Point in module __main__:\n",
      "\n",
      "class Point(builtins.object)\n",
      " |  Point(x: float = 0.0, y: float = 0.0)\n",
      " |\n",
      " |  A class to represent a point in a 2D coordinate system.\n",
      " |\n",
      " |  Methods defined here:\n",
      " |\n",
      " |  __init__(self, x: float = 0.0, y: float = 0.0)\n",
      " |      Initializes a new point at the given coordinates.\n",
      " |\n",
      " |      :param x: x-coordinate (default is 0.0)\n",
      " |      :param y: y-coordinate (default is 0.0)\n",
      " |\n",
      " |  __repr__(self) -> str\n",
      " |      Returns a detailed string representation of the point.\n",
      " |\n",
      " |  __str__(self) -> str\n",
      " |      Returns a user-friendly string representation of the point.\n",
      " |\n",
      " |  distance_to(self, other: 'Point') -> float\n",
      " |      Calculates the distance between this point and another point.\n",
      " |\n",
      " |      :param other: Another point in the 2D coordinate system.\n",
      " |      :return: The distance between the two points.\n",
      " |\n",
      " |  ----------------------------------------------------------------------\n",
      " |  Class methods defined here:\n",
      " |\n",
      " |  from_coordinates(coordinates: tuple) -> 'Point'\n",
      " |      Creates a Point instance from a tuple of coordinates.\n",
      " |\n",
      " |      :param coordinates: A tuple containing x and y coordinates.\n",
      " |      :return: An instance of Point.\n",
      " |\n",
      " |  ----------------------------------------------------------------------\n",
      " |  Static methods defined here:\n",
      " |\n",
      " |  origin() -> 'Point'\n",
      " |      Returns a point at the origin (0, 0).\n",
      " |\n",
      " |      :return: A Point object representing the origin.\n",
      " |\n",
      " |  ----------------------------------------------------------------------\n",
      " |  Readonly properties defined here:\n",
      " |\n",
      " |  distance_from_origin\n",
      " |      Calculates the distance from the origin (0, 0) to this point.\n",
      " |\n",
      " |      :return: The distance from the origin to this point.\n",
      " |\n",
      " |  locate\n",
      " |      Displays the coordinates of the point.\n",
      " |\n",
      " |      :return: A string representation of the coordinates.\n",
      " |\n",
      " |  ----------------------------------------------------------------------\n",
      " |  Data descriptors defined here:\n",
      " |\n",
      " |  __dict__\n",
      " |      dictionary for instance variables\n",
      " |\n",
      " |  __weakref__\n",
      " |      list of weak references to the object\n",
      " |\n",
      " |  x\n",
      " |      Gets the x-coordinate.\n",
      " |\n",
      " |  y\n",
      " |      Gets the y-coordinate.\n",
      "\n"
     ]
    }
   ],
   "source": [
    "help(Point)"
   ]
  },
  {
   "cell_type": "markdown",
   "metadata": {},
   "source": [
    "<div style=\"padding: 20px; font-family: Arial, sans-serif; background-color: #f9f9f9; border:2px solid black; border-radius: 8px; width: fit-content;\">\n",
    "  <p style=\"color: #555; font-size: 16px; line-height: 1.6; margin-top: 10px;\">\n",
    " To Print the doc-string and annotations of both the class and each instance method.\n",
    "  </p>\n",
    "</div>"
   ]
  },
  {
   "cell_type": "code",
   "execution_count": 24,
   "metadata": {},
   "outputs": [
    {
     "name": "stdout",
     "output_type": "stream",
     "text": [
      "Point(0.0, 0.0)\n"
     ]
    }
   ],
   "source": [
    "inst_3 = Point()\n",
    "print(inst_3)"
   ]
  },
  {
   "cell_type": "markdown",
   "metadata": {},
   "source": [
    "-----------------"
   ]
  },
  {
   "cell_type": "markdown",
   "metadata": {},
   "source": [
    "<center><span style=\"color:blue; \n",
    "font-family:Algerian; \n",
    "font-weight:bold;\n",
    "font-size:35px;\">Task No # 02 </span></center>"
   ]
  },
  {
   "cell_type": "markdown",
   "metadata": {},
   "source": [
    "<div style=\"padding: 20px; font-family: Arial, sans-serif; background-color: #f9f9f9; border: 2px solid black; border-radius: 8px; width: fit-content;\">\n",
    "  <ul style=\"color: #555; font-size: 16px; line-height: 1.6;\">\n",
    "    <li><strong>Class Definition:</strong> Define a class <code>Circle</code> with the necessary <code>__init__</code> method.</li>\n",
    "    <li><strong>Property Methods:</strong>\n",
    "      <ul>\n",
    "        <li>Add appropriate property methods using <code>@property</code> and <code>@property.setter</code> for <code>radius</code>.</li>\n",
    "        <li>Add property methods for <code>area</code>, <code>circumference</code>, and <code>diameter</code>.</li>\n",
    "      </ul>\n",
    "    </li>\n",
    "    <li><strong>Instance Methods:</strong>\n",
    "      <ul>\n",
    "        <li><b>Volume Calculation</b>: Add an instance method for calculating the volume of a cylinder with the given radius.</li>\n",
    "      </ul>\n",
    "    </li>\n",
    "    <li><strong>Special Methods:</strong>\n",
    "      <ul>\n",
    "        <li>Implement <code>__repr__</code> and <code>__str__</code> methods to provide clear string representations for the class.</li>\n",
    "        <li>Add methods decorated with <code>@staticmethod</code> and <code>@classmethod</code> if applicable.</li>\n",
    "      </ul>\n",
    "    </li>\n",
    "    <li><strong>Documentation:</strong> Ensure proper annotations and docstrings for every class and instance method to enhance readability and maintainability.</li>\n",
    "  </ul>\n",
    "</div>\n"
   ]
  },
  {
   "cell_type": "code",
   "execution_count": 25,
   "metadata": {},
   "outputs": [],
   "source": [
    "class Circle:\n",
    "    \"\"\"A class to represent a circle.\"\"\"\n",
    "\n",
    "    def __init__(self, radius: float = 1.0):\n",
    "        \"\"\"\n",
    "        Initialize the Circle with a given radius.\n",
    "\n",
    "        Parameters:\n",
    "        radius (float): The radius of the circle. Default is 1.0.\n",
    "        \"\"\"\n",
    "        self._radius = radius\n",
    "\n",
    "    @property\n",
    "    def radius(self) -> float:\n",
    "        \"\"\"Get the radius of the circle.\"\"\"\n",
    "        return self._radius\n",
    "\n",
    "    @radius.setter\n",
    "    def radius(self, value: float) -> None:\n",
    "        \"\"\"Set the radius of the circle.\"\"\"\n",
    "        if value < 0:\n",
    "            raise ValueError(\"Radius cannot be negative.\")\n",
    "        self._radius = value\n",
    "\n",
    "    def volume(self, height: float) -> None:\n",
    "        \"\"\"\n",
    "        Calculate the volume of a cylinder with the circle as the base.\n",
    "\n",
    "        Parameters:\n",
    "        height (float): The height of the cylinder.\n",
    "\n",
    "        Returns:\n",
    "        float: The volume of the cylinder.\n",
    "        \"\"\"\n",
    "        return self.area * height\n",
    "\n",
    "    @property\n",
    "    def area(self) -> float:\n",
    "        \"\"\"Calculate the area of the circle.\"\"\"\n",
    "        from math import pi\n",
    "        return pi * (self._radius ** 2)\n",
    "\n",
    "    @property\n",
    "    def circumference(self) -> float:\n",
    "        \"\"\"Calculate the circumference of the circle.\"\"\"\n",
    "        from math import pi\n",
    "        return 2 * pi * self._radius\n",
    "\n",
    "    @property\n",
    "    def diameter(self) -> float:\n",
    "        \"\"\"Calculate the diameter of the circle.\"\"\"\n",
    "        return self._radius * 2\n",
    "\n",
    "    def __repr__(self) -> str:\n",
    "        \"\"\"Return a string representation of the Circle instance.\"\"\"\n",
    "        return f\"Circle(radius={self._radius})\"\n",
    "\n",
    "    def __str__(self) -> str:\n",
    "        \"\"\"Return a user-friendly string representation of the Circle.\"\"\"\n",
    "        return f\"Circle with radius: {self._radius}\"\n",
    "\n",
    "    @staticmethod\n",
    "    def from_diameter(diameter: float):\n",
    "        \"\"\"\n",
    "        Create a Circle instance from the diameter.\n",
    "\n",
    "        Parameters:\n",
    "        diameter (float): The diameter of the circle.\n",
    "\n",
    "        Returns:\n",
    "        Circle: An instance of Circle.\n",
    "        \"\"\"\n",
    "        return Circle(diameter / 2)\n",
    "\n",
    "    @classmethod\n",
    "    def unit_circle(cls) -> 'Circle':\n",
    "        \"\"\"Create a Circle instance with a radius of 1.\"\"\"\n",
    "        return cls(1)\n"
   ]
  },
  {
   "cell_type": "markdown",
   "metadata": {},
   "source": [
    "<div style=\"padding: 20px; font-family: Arial, sans-serif; background-color: #f9f9f9; border:2px solid black; border-radius: 8px; width: fit-content;\">\n",
    "  <p style=\"color: #555; font-size: 16px; line-height: 1.6; margin-top: 10px;\">\n",
    "  To Define <code>inst_1</code>,<code>inst_2</code> and pass two numbers \n",
    "  </p>\n",
    "</div>\n"
   ]
  },
  {
   "cell_type": "code",
   "execution_count": 26,
   "metadata": {},
   "outputs": [],
   "source": [
    "inst_1 = Circle(5)\n",
    "inst_2 = Circle(10)"
   ]
  },
  {
   "cell_type": "markdown",
   "metadata": {},
   "source": [
    "<div style=\"padding: 20px; font-family: Arial, sans-serif; background-color: #f9f9f9; border:2px solid black; border-radius: 8px; width: fit-content;\">\n",
    "  <p style=\"color: #555; font-size: 16px; line-height: 1.6; margin-top: 10px;\">\n",
    " To Print <code>inst_1</code> and <code>inst_2</code>, for this use the print command and pass the <code>inst_1</code> and <code>inst_2</code>.\n",
    "  </p>\n",
    "</div>"
   ]
  },
  {
   "cell_type": "code",
   "execution_count": 27,
   "metadata": {},
   "outputs": [
    {
     "name": "stdout",
     "output_type": "stream",
     "text": [
      "Circle with radius: 5\n",
      "Circle with radius: 10\n"
     ]
    }
   ],
   "source": [
    "print(inst_1)\n",
    "print(inst_2)"
   ]
  },
  {
   "cell_type": "markdown",
   "metadata": {},
   "source": [
    "<div style=\"padding: 20px; font-family: Arial, sans-serif; background-color: #f9f9f9; border:2px solid black; border-radius: 8px; width: fit-content;\">\n",
    "  <p style=\"color: #555; font-size: 16px; line-height: 1.6; margin-top: 10px;\">\n",
    " To Demonstrate the property, staticmethod and classmethod methods on the instances\n",
    "  </p>\n",
    "</div>"
   ]
  },
  {
   "cell_type": "code",
   "execution_count": 28,
   "metadata": {},
   "outputs": [
    {
     "name": "stdout",
     "output_type": "stream",
     "text": [
      "Area of inst_1: 78.54\n",
      "Circumference of inst_1: 31.42\n",
      "Diameter of inst_1: 10.00\n"
     ]
    }
   ],
   "source": [
    "print(f\"Area of inst_1: {inst_1.area:.2f}\")\n",
    "print(f\"Circumference of inst_1: {inst_1.circumference:.2f}\")\n",
    "print(f\"Diameter of inst_1: {inst_1.diameter:.2f}\")"
   ]
  },
  {
   "cell_type": "code",
   "execution_count": 29,
   "metadata": {},
   "outputs": [
    {
     "name": "stdout",
     "output_type": "stream",
     "text": [
      "Circle with radius: 10.0\n"
     ]
    }
   ],
   "source": [
    "circle_from_diameter = Circle.from_diameter(20)\n",
    "print(circle_from_diameter)"
   ]
  },
  {
   "cell_type": "code",
   "execution_count": 30,
   "metadata": {},
   "outputs": [
    {
     "name": "stdout",
     "output_type": "stream",
     "text": [
      "Circle with radius: 1\n"
     ]
    }
   ],
   "source": [
    "unit_circle = Circle.unit_circle()\n",
    "print(unit_circle)"
   ]
  },
  {
   "cell_type": "markdown",
   "metadata": {},
   "source": [
    "<div style=\"padding: 20px; font-family: Arial, sans-serif; background-color: #f9f9f9; border:2px solid black; border-radius: 8px; width: fit-content;\">\n",
    "  <p style=\"color: #555; font-size: 16px; line-height: 1.6; margin-top: 10px;\">\n",
    "  To Call the <code>__dict__</code> by the class name.\n",
    "  </p>\n",
    "</div>\n"
   ]
  },
  {
   "cell_type": "code",
   "execution_count": 32,
   "metadata": {},
   "outputs": [
    {
     "name": "stdout",
     "output_type": "stream",
     "text": [
      "mappingproxy({'__dict__': <attribute '__dict__' of 'Circle' objects>,\n",
      "              '__doc__': 'A class to represent a circle.',\n",
      "              '__init__': <function Circle.__init__ at 0x0000022654311F80>,\n",
      "              '__module__': '__main__',\n",
      "              '__repr__': <function Circle.__repr__ at 0x00000226543128E0>,\n",
      "              '__str__': <function Circle.__str__ at 0x0000022654312AC0>,\n",
      "              '__weakref__': <attribute '__weakref__' of 'Circle' objects>,\n",
      "              'area': <property object at 0x00000226543BDCB0>,\n",
      "              'circumference': <property object at 0x00000226543BDA80>,\n",
      "              'diameter': <property object at 0x00000226543BDA30>,\n",
      "              'from_diameter': <staticmethod(<function Circle.from_diameter at 0x0000022654312DE0>)>,\n",
      "              'radius': <property object at 0x00000226543BDB20>,\n",
      "              'unit_circle': <classmethod(<function Circle.unit_circle at 0x0000022654313060>)>,\n",
      "              'volume': <function Circle.volume at 0x0000022654312840>})\n"
     ]
    }
   ],
   "source": [
    "pprint(Circle.__dict__)"
   ]
  },
  {
   "cell_type": "markdown",
   "metadata": {},
   "source": [
    "<div style=\"padding: 20px; font-family: Arial, sans-serif; background-color: #f9f9f9; border:2px solid black; border-radius: 8px; width: fit-content;\">\n",
    "  <p style=\"color: #555; font-size: 16px; line-height: 1.6; margin-top: 10px;\">\n",
    "  Also pass the class name to the <code>vars</code> built-in function.\n",
    "  </p>\n",
    "</div>"
   ]
  },
  {
   "cell_type": "code",
   "execution_count": 33,
   "metadata": {},
   "outputs": [
    {
     "name": "stdout",
     "output_type": "stream",
     "text": [
      "mappingproxy({'__dict__': <attribute '__dict__' of 'Circle' objects>,\n",
      "              '__doc__': 'A class to represent a circle.',\n",
      "              '__init__': <function Circle.__init__ at 0x0000022654311F80>,\n",
      "              '__module__': '__main__',\n",
      "              '__repr__': <function Circle.__repr__ at 0x00000226543128E0>,\n",
      "              '__str__': <function Circle.__str__ at 0x0000022654312AC0>,\n",
      "              '__weakref__': <attribute '__weakref__' of 'Circle' objects>,\n",
      "              'area': <property object at 0x00000226543BDCB0>,\n",
      "              'circumference': <property object at 0x00000226543BDA80>,\n",
      "              'diameter': <property object at 0x00000226543BDA30>,\n",
      "              'from_diameter': <staticmethod(<function Circle.from_diameter at 0x0000022654312DE0>)>,\n",
      "              'radius': <property object at 0x00000226543BDB20>,\n",
      "              'unit_circle': <classmethod(<function Circle.unit_circle at 0x0000022654313060>)>,\n",
      "              'volume': <function Circle.volume at 0x0000022654312840>})\n"
     ]
    }
   ],
   "source": [
    "pprint(vars(Circle))"
   ]
  },
  {
   "cell_type": "markdown",
   "metadata": {},
   "source": [
    "<div style=\"padding: 20px; font-family: Arial, sans-serif; background-color: #f9f9f9; border:2px solid black; border-radius: 8px; width: fit-content;\">\n",
    "  <p style=\"color: #555; font-size: 16px; line-height: 1.6; margin-top: 10px;\">\n",
    "  To  Call the <code>__dict__</code> on the object of the class.\n",
    "  </p>\n",
    "</div>"
   ]
  },
  {
   "cell_type": "code",
   "execution_count": null,
   "metadata": {},
   "outputs": [
    {
     "name": "stdout",
     "output_type": "stream",
     "text": [
      "{'_radius': 5}\n"
     ]
    }
   ],
   "source": [
    "print(inst_1.__dict__)"
   ]
  },
  {
   "cell_type": "markdown",
   "metadata": {},
   "source": [
    "<div style=\"padding: 20px; font-family: Arial, sans-serif; background-color: #f9f9f9; border:2px solid black; border-radius: 8px; width: fit-content;\">\n",
    "  <p style=\"color: #555; font-size: 16px; line-height: 1.6; margin-top: 10px;\">\n",
    "  To Pass the class name to <code>help</code>.\n",
    "  </p>\n",
    "</div>"
   ]
  },
  {
   "cell_type": "code",
   "execution_count": null,
   "metadata": {},
   "outputs": [
    {
     "name": "stdout",
     "output_type": "stream",
     "text": [
      "Help on class Circle in module __main__:\n",
      "\n",
      "class Circle(builtins.object)\n",
      " |  Circle(radius: float = 1.0)\n",
      " |\n",
      " |  A class to represent a circle.\n",
      " |\n",
      " |  Methods defined here:\n",
      " |\n",
      " |  __init__(self, radius: float = 1.0)\n",
      " |      Initialize the Circle with a given radius.\n",
      " |\n",
      " |      Parameters:\n",
      " |      radius (float): The radius of the circle. Default is 1.0.\n",
      " |\n",
      " |  __repr__(self) -> str\n",
      " |      Return a string representation of the Circle instance.\n",
      " |\n",
      " |  __str__(self) -> str\n",
      " |      Return a user-friendly string representation of the Circle.\n",
      " |\n",
      " |  volume(self, height: float) -> None\n",
      " |      Calculate the volume of a cylinder with the circle as the base.\n",
      " |\n",
      " |      Parameters:\n",
      " |      height (float): The height of the cylinder.\n",
      " |\n",
      " |      Returns:\n",
      " |      float: The volume of the cylinder.\n",
      " |\n",
      " |  ----------------------------------------------------------------------\n",
      " |  Class methods defined here:\n",
      " |\n",
      " |  unit_circle() -> 'Circle'\n",
      " |      Create a Circle instance with a radius of 1.\n",
      " |\n",
      " |  ----------------------------------------------------------------------\n",
      " |  Static methods defined here:\n",
      " |\n",
      " |  from_diameter(diameter: float)\n",
      " |      Create a Circle instance from the diameter.\n",
      " |\n",
      " |      Parameters:\n",
      " |      diameter (float): The diameter of the circle.\n",
      " |\n",
      " |      Returns:\n",
      " |      Circle: An instance of Circle.\n",
      " |\n",
      " |  ----------------------------------------------------------------------\n",
      " |  Readonly properties defined here:\n",
      " |\n",
      " |  area\n",
      " |      Calculate the area of the circle.\n",
      " |\n",
      " |  circumference\n",
      " |      Calculate the circumference of the circle.\n",
      " |\n",
      " |  diameter\n",
      " |      Calculate the diameter of the circle.\n",
      " |\n",
      " |  ----------------------------------------------------------------------\n",
      " |  Data descriptors defined here:\n",
      " |\n",
      " |  __dict__\n",
      " |      dictionary for instance variables\n",
      " |\n",
      " |  __weakref__\n",
      " |      list of weak references to the object\n",
      " |\n",
      " |  radius\n",
      " |      Get the radius of the circle.\n",
      "\n"
     ]
    }
   ],
   "source": [
    "help(Circle)"
   ]
  },
  {
   "cell_type": "markdown",
   "metadata": {},
   "source": [
    "<div style=\"padding: 20px; font-family: Arial, sans-serif; background-color: #f9f9f9; border:2px solid black; border-radius: 8px; width: fit-content;\">\n",
    "  <p style=\"color: #555; font-size: 16px; line-height: 1.6; margin-top: 10px;\">\n",
    " To Print the doc-string and annotations of both the class and each instance method.\n",
    "  </p>\n",
    "</div>"
   ]
  },
  {
   "cell_type": "code",
   "execution_count": null,
   "metadata": {},
   "outputs": [
    {
     "name": "stdout",
     "output_type": "stream",
     "text": [
      "A class to represent a circle.\n",
      "Method: __init__, Docstring: \n",
      "        Initialize the Circle with a given radius.\n",
      "\n",
      "        Parameters:\n",
      "        radius (float): The radius of the circle. Default is 1.0.\n",
      "        , Annotations: {'radius': <class 'float'>}\n",
      "Method: volume, Docstring: \n",
      "        Calculate the volume of a cylinder with the circle as the base.\n",
      "\n",
      "        Parameters:\n",
      "        height (float): The height of the cylinder.\n",
      "\n",
      "        Returns:\n",
      "        float: The volume of the cylinder.\n",
      "        , Annotations: {'height': <class 'float'>, 'return': None}\n",
      "Method: area, Docstring: Calculate the area of the circle., Annotations: {'return': <class 'float'>}\n",
      "Method: circumference, Docstring: Calculate the circumference of the circle., Annotations: {'return': <class 'float'>}\n",
      "Method: diameter, Docstring: Calculate the diameter of the circle., Annotations: {'return': <class 'float'>}\n",
      "Method: __repr__, Docstring: Return a string representation of the Circle instance., Annotations: {'return': <class 'str'>}\n",
      "Method: __str__, Docstring: Return a user-friendly string representation of the Circle., Annotations: {'return': <class 'str'>}\n",
      "Method: from_diameter, Docstring: \n",
      "        Create a Circle instance from the diameter.\n",
      "\n",
      "        Parameters:\n",
      "        diameter (float): The diameter of the circle.\n",
      "\n",
      "        Returns:\n",
      "        Circle: An instance of Circle.\n",
      "        , Annotations: {'diameter': <class 'float'>}\n",
      "Method: unit_circle, Docstring: Create a Circle instance with a radius of 1., Annotations: {'return': 'Circle'}\n"
     ]
    }
   ],
   "source": [
    "print(Circle.__doc__)\n",
    "for method in [\n",
    "    Circle.__init__,\n",
    "    Circle.volume,\n",
    "    Circle.area,\n",
    "    Circle.circumference,\n",
    "    Circle.diameter,\n",
    "    Circle.__repr__,\n",
    "    Circle.__str__,\n",
    "    Circle.from_diameter,\n",
    "    Circle.unit_circle,\n",
    "]:\n",
    "    if isinstance(method, property):\n",
    "        # For properties, we can access __doc__ directly\n",
    "        print(f\"Method: {method.fget.__name__}, Docstring: {method.__doc__}, Annotations: {method.fget.__annotations__}\")\n",
    "    else:\n",
    "        # For regular methods\n",
    "        print(f\"Method: {method.__name__}, Docstring: {method.__doc__}, Annotations: {method.__annotations__}\")"
   ]
  },
  {
   "cell_type": "markdown",
   "metadata": {},
   "source": [
    "<div style=\"padding: 20px; font-family: Arial, sans-serif; background-color: #f9f9f9; border:2px solid black; border-radius: 8px; width: fit-content;\">\n",
    "  <p style=\"color: #555; font-size: 16px; line-height: 1.6; margin-top: 10px;\">\n",
    "  To  Modify the <code>__init__</code> by by making its parameters default and verify by instances.\n",
    "  </p>\n",
    "</div>"
   ]
  },
  {
   "cell_type": "code",
   "execution_count": null,
   "metadata": {},
   "outputs": [
    {
     "name": "stdout",
     "output_type": "stream",
     "text": [
      "Circle with radius: 1.0\n"
     ]
    }
   ],
   "source": [
    "inst_3 = Circle()\n",
    "print(inst_3)"
   ]
  },
  {
   "cell_type": "markdown",
   "metadata": {},
   "source": [
    "---------------------"
   ]
  },
  {
   "cell_type": "markdown",
   "metadata": {},
   "source": [
    "<center><span style=\"color:blue; \n",
    "font-family:Algerian; \n",
    "font-weight:bold;\n",
    "font-size:35px;\">Task No # 03 </span></center>"
   ]
  },
  {
   "cell_type": "markdown",
   "metadata": {},
   "source": [
    "<div style=\"padding: 20px; font-family: Arial, sans-serif; background-color: #f9f9f9; border: 2px solid black; border-radius: 8px; width: fit-content;\">\n",
    "  <ul style=\"color: #555; font-size: 16px; line-height: 1.6;\">\n",
    "    <li><strong>Class Definition:</strong> Define a class <code>RLC</code> with the necessary <code>__init__</code> method.</li>\n",
    "    <li><strong>Property Methods:</strong>\n",
    "      <ul>\n",
    "        <li>Add appropriate property methods using <code>@property</code> and <code>@property.setter</code> for <code>resistance</code>, <code>inductance</code>, and <code>capacitance</code>.</li>\n",
    "        <li>Add property methods for <code>impedance</code>, <code>phase</code>, and <code>power factor</code>.</li>\n",
    "      </ul>\n",
    "    </li>\n",
    "    <li><strong>Instance Method:</strong>\n",
    "      <ul>\n",
    "        <li><b>Current Calculation</b>: Add an instance method for calculating the current in the circuit with a given input voltage.</li>\n",
    "      </ul>\n",
    "    </li>\n",
    "    <li><strong>Special Methods:</strong>\n",
    "      <ul>\n",
    "        <li>Implement <code>__repr__</code> and <code>__str__</code> methods to provide clear string representations for the class.</li>\n",
    "        <li>Add methods decorated with <code>@staticmethod</code> and <code>@classmethod</code> if applicable.</li>\n",
    "      </ul>\n",
    "    </li>\n",
    "    <li><strong>Documentation:</strong> Ensure proper annotations and docstrings for every class and instance method to enhance readability and maintainability.</li>\n",
    "  </ul>\n",
    "</div>\n"
   ]
  },
  {
   "cell_type": "code",
   "execution_count": null,
   "metadata": {},
   "outputs": [],
   "source": [
    "import math\n",
    "\n",
    "class RLC:\n",
    "    \"\"\"A class to represent a series RLC circuit.\"\"\"\n",
    "\n",
    "    def __init__(self, resistance: float = 1.0, inductance: float = 1.0, capacitance: float = 1.0):\n",
    "        \"\"\"\n",
    "        Initialize the RLC circuit with given resistance, inductance, and capacitance.\n",
    "\n",
    "        Parameters:\n",
    "        resistance (float): Resistance in ohms. Default is 1.0.\n",
    "        inductance (float): Inductance in henries. Default is 1.0.\n",
    "        capacitance (float): Capacitance in farads. Default is 1.0.\n",
    "        \"\"\"\n",
    "        self._resistance = resistance\n",
    "        self._inductance = inductance\n",
    "        self._capacitance = capacitance\n",
    "\n",
    "    @property\n",
    "    def resistance(self) -> float:\n",
    "        \"\"\"Get the resistance of the circuit.\"\"\"\n",
    "        return self._resistance\n",
    "\n",
    "    @resistance.setter\n",
    "    def resistance(self, value: float) -> None:\n",
    "        \"\"\"Set the resistance of the circuit.\"\"\"\n",
    "        if value < 0:\n",
    "            raise ValueError(\"Resistance cannot be negative.\")\n",
    "        self._resistance = value\n",
    "\n",
    "    @property\n",
    "    def inductance(self) -> float:\n",
    "        \"\"\"Get the inductance of the circuit.\"\"\"\n",
    "        return self._inductance\n",
    "\n",
    "    @inductance.setter\n",
    "    def inductance(self, value: float) -> None:\n",
    "        \"\"\"Set the inductance of the circuit.\"\"\"\n",
    "        if value < 0:\n",
    "            raise ValueError(\"Inductance cannot be negative.\")\n",
    "        self._inductance = value\n",
    "\n",
    "    @property\n",
    "    def capacitance(self) -> float:\n",
    "        \"\"\"Get the capacitance of the circuit.\"\"\"\n",
    "        return self._capacitance\n",
    "\n",
    "    @capacitance.setter\n",
    "    def capacitance(self, value: float) -> None:\n",
    "        \"\"\"Set the capacitance of the circuit.\"\"\"\n",
    "        if value < 0:\n",
    "            raise ValueError(\"Capacitance cannot be negative.\")\n",
    "        self._capacitance = value\n",
    "\n",
    "    @property\n",
    "    def impedance(self) -> float:\n",
    "        \"\"\"Calculate the impedance of the circuit.\"\"\"\n",
    "        reactance = (1 / (self._capacitance * 2 * math.pi * 50)) ** 2 + (self._inductance * 2 * math.pi * 50) ** 2\n",
    "        return math.sqrt(self._resistance ** 2 + reactance)\n",
    "\n",
    "    @property\n",
    "    def phase(self) -> float:\n",
    "        \"\"\"Calculate the phase angle of the circuit in radians.\"\"\"\n",
    "        reactance = (self._inductance * 2 * math.pi * 50) - (1 / (self._capacitance * 2 * math.pi * 50))\n",
    "        return math.atan(reactance / self._resistance)\n",
    "\n",
    "    @property\n",
    "    def power_factor(self) -> float:\n",
    "        \"\"\"Calculate the power factor of the circuit.\"\"\"\n",
    "        return round(math.cos(self.phase), 2)\n",
    "\n",
    "    def current(self, voltage: float) -> float:\n",
    "        \"\"\"\n",
    "        Calculate the current in the circuit with a given input voltage.\n",
    "\n",
    "        Parameters:\n",
    "        voltage (float): The input voltage in volts.\n",
    "\n",
    "        Returns:\n",
    "        float: The current in amperes.\n",
    "        \"\"\"\n",
    "        return voltage / self.impedance\n",
    "\n",
    "    def __repr__(self) -> str:\n",
    "        \"\"\"Return a string representation of the RLC instance.\"\"\"\n",
    "        return (f\"RLC(resistance={self._resistance}ohm, inductance={self._inductance}, \"\n",
    "                f\"capacitance={self._capacitance})\")\n",
    "\n",
    "    def __str__(self) -> str:\n",
    "        \"\"\"Return a user-friendly string representation of the RLC circuit.\"\"\"\n",
    "        return (f\"RLC Circuit with Resistance: {self._resistance}ohm, \"\n",
    "                f\"Inductance: {self._inductance}H, Capacitance: {self._capacitance}F\")\n",
    "\n",
    "    @staticmethod\n",
    "    def series_rlc_from_values(resistance: float, inductance: float, capacitance: float):\n",
    "        \"\"\"\n",
    "        Create an RLC instance from resistance, inductance, and capacitance values.\n",
    "\n",
    "        Parameters:\n",
    "        resistance (float): Resistance in ohms.\n",
    "        inductance (float): Inductance in henries.\n",
    "        capacitance (float): Capacitance in farads.\n",
    "\n",
    "        Returns:\n",
    "        RLC: An instance of RLC.\n",
    "        \"\"\"\n",
    "        return RLC(resistance, inductance, capacitance)\n",
    "\n",
    "    @classmethod\n",
    "    def default_rlc(cls):\n",
    "        \"\"\"Create a default RLC instance with default values.\"\"\"\n",
    "        return cls()\n"
   ]
  },
  {
   "cell_type": "markdown",
   "metadata": {},
   "source": [
    "<div style=\"padding: 20px; font-family: Arial, sans-serif; background-color: #f9f9f9; border:2px solid black; border-radius: 8px; width: fit-content;\">\n",
    "  <p style=\"color: #555; font-size: 16px; line-height: 1.6; margin-top: 10px;\">\n",
    "  To Define <code>inst_1</code>,<code>inst_2</code> and pass two numbers \n",
    "  </p>\n",
    "</div>"
   ]
  },
  {
   "cell_type": "code",
   "execution_count": null,
   "metadata": {},
   "outputs": [],
   "source": [
    "inst_1 = RLC(50, 0.1, 0.001)\n",
    "inst_2 = RLC(100, 0.2, 0.002)"
   ]
  },
  {
   "cell_type": "markdown",
   "metadata": {},
   "source": [
    "<div style=\"padding: 20px; font-family: Arial, sans-serif; background-color: #f9f9f9; border:2px solid black; border-radius: 8px; width: fit-content;\">\n",
    "  <p style=\"color: #555; font-size: 16px; line-height: 1.6; margin-top: 10px;\">\n",
    " To Print <code>inst_1</code> and <code>inst_2</code>, for this use the print command and pass the <code>inst_1</code> and <code>inst_2</code>.\n",
    "  </p>\n",
    "</div>"
   ]
  },
  {
   "cell_type": "code",
   "execution_count": null,
   "metadata": {},
   "outputs": [
    {
     "name": "stdout",
     "output_type": "stream",
     "text": [
      "RLC Circuit with Resistance: 50ohm, Inductance: 0.1H, Capacitance: 0.001F\n",
      "RLC Circuit with Resistance: 100ohm, Inductance: 0.2H, Capacitance: 0.002F\n"
     ]
    }
   ],
   "source": [
    "print(inst_1)\n",
    "print(inst_2)"
   ]
  },
  {
   "cell_type": "markdown",
   "metadata": {},
   "source": [
    "<div style=\"padding: 20px; font-family: Arial, sans-serif; background-color: #f9f9f9; border:2px solid black; border-radius: 8px; width: fit-content;\">\n",
    "  <p style=\"color: #555; font-size: 16px; line-height: 1.6; margin-top: 10px;\">\n",
    " To Demonstrate the property, staticmethod and classmethod methods on the instances.\n",
    "  </p>\n",
    "</div>"
   ]
  },
  {
   "cell_type": "code",
   "execution_count": null,
   "metadata": {},
   "outputs": [
    {
     "name": "stdout",
     "output_type": "stream",
     "text": [
      "Impedance of inst_1: 59.14ohm\n",
      "Phase of inst_1: 0.51 radians\n",
      "Power Factor of inst_1: 0.87\n"
     ]
    }
   ],
   "source": [
    "print(f\"Impedance of inst_1: {inst_1.impedance:.2f}ohm\")\n",
    "print(f\"Phase of inst_1: {inst_1.phase:.2f} radians\")\n",
    "print(f\"Power Factor of inst_1: {inst_1.power_factor}\")"
   ]
  },
  {
   "cell_type": "markdown",
   "metadata": {},
   "source": [
    "<div style=\"padding: 20px; font-family: Arial, sans-serif; background-color: #f9f9f9; border:2px solid black; border-radius: 8px; width: fit-content;\">\n",
    "  <p style=\"color: #555; font-size: 16px; line-height: 1.6; margin-top: 10px;\">\n",
    " Current with a given voltage,\n",
    "  </p>\n",
    "</div>"
   ]
  },
  {
   "cell_type": "code",
   "execution_count": null,
   "metadata": {},
   "outputs": [
    {
     "name": "stdout",
     "output_type": "stream",
     "text": [
      "Current through inst_1 with voltage 220V: 3.72A\n"
     ]
    }
   ],
   "source": [
    "voltage = 220\n",
    "print(f\"Current through inst_1 with voltage {voltage}V: {inst_1.current(voltage):.2f}A\")"
   ]
  },
  {
   "cell_type": "markdown",
   "metadata": {},
   "source": [
    "<div style=\"padding: 20px; font-family: Arial, sans-serif; background-color: #f9f9f9; border:2px solid black; border-radius: 8px; width: fit-content;\">\n",
    "  <p style=\"color: #555; font-size: 16px; line-height: 1.6; margin-top: 10px;\">\n",
    " Using the static method.\n",
    "  </p>\n",
    "</div>"
   ]
  },
  {
   "cell_type": "code",
   "execution_count": null,
   "metadata": {},
   "outputs": [
    {
     "name": "stdout",
     "output_type": "stream",
     "text": [
      "RLC Circuit with Resistance: 75ohm, Inductance: 0.15H, Capacitance: 0.0015F\n"
     ]
    }
   ],
   "source": [
    "custom_rlc = RLC.series_rlc_from_values(75, 0.15, 0.0015)\n",
    "print(custom_rlc)"
   ]
  },
  {
   "cell_type": "markdown",
   "metadata": {},
   "source": [
    "<div style=\"padding: 20px; font-family: Arial, sans-serif; background-color: #f9f9f9; border:2px solid black; border-radius: 8px; width: fit-content;\">\n",
    "  <p style=\"color: #555; font-size: 16px; line-height: 1.6; margin-top: 10px;\">\n",
    " Using the class method.\n",
    "  </p>\n",
    "</div>"
   ]
  },
  {
   "cell_type": "code",
   "execution_count": null,
   "metadata": {},
   "outputs": [
    {
     "name": "stdout",
     "output_type": "stream",
     "text": [
      "RLC Circuit with Resistance: 1.0ohm, Inductance: 1.0H, Capacitance: 1.0F\n"
     ]
    }
   ],
   "source": [
    "default_rlc = RLC.default_rlc()\n",
    "print(default_rlc)"
   ]
  },
  {
   "cell_type": "markdown",
   "metadata": {},
   "source": [
    "<div style=\"padding: 20px; font-family: Arial, sans-serif; background-color: #f9f9f9; border:2px solid black; border-radius: 8px; width: fit-content;\">\n",
    "  <p style=\"color: #555; font-size: 16px; line-height: 1.6; margin-top: 10px;\">\n",
    "  To Call the <code>__dict__</code> by the class name.\n",
    "  </p>\n",
    "</div>"
   ]
  },
  {
   "cell_type": "code",
   "execution_count": null,
   "metadata": {},
   "outputs": [
    {
     "name": "stdout",
     "output_type": "stream",
     "text": [
      "{'__module__': '__main__', '__doc__': 'A class to represent a series RLC circuit.', '__init__': <function RLC.__init__ at 0x000002CDB0AB1580>, 'resistance': <property object at 0x000002CDB0A71CB0>, 'inductance': <property object at 0x000002CDB0A712B0>, 'capacitance': <property object at 0x000002CDB0A70D10>, 'impedance': <property object at 0x000002CDB04CC9F0>, 'phase': <property object at 0x000002CDB04CCA40>, 'power_factor': <property object at 0x000002CDB0AD59E0>, 'current': <function RLC.current at 0x000002CDB0AB1940>, '__repr__': <function RLC.__repr__ at 0x000002CDB0AB19E0>, '__str__': <function RLC.__str__ at 0x000002CDB0AB1A80>, 'series_rlc_from_values': <staticmethod(<function RLC.series_rlc_from_values at 0x000002CDB0AB1B20>)>, 'default_rlc': <classmethod(<function RLC.default_rlc at 0x000002CDB0AB1BC0>)>, '__dict__': <attribute '__dict__' of 'RLC' objects>, '__weakref__': <attribute '__weakref__' of 'RLC' objects>}\n"
     ]
    }
   ],
   "source": [
    "print(RLC.__dict__)"
   ]
  },
  {
   "cell_type": "markdown",
   "metadata": {},
   "source": [
    "<div style=\"padding: 20px; font-family: Arial, sans-serif; background-color: #f9f9f9; border:2px solid black; border-radius: 8px; width: fit-content;\">\n",
    "  <p style=\"color: #555; font-size: 16px; line-height: 1.6; margin-top: 10px;\">\n",
    "  Also pass the class name to the <code>vars</code> built-in function.\n",
    "  </p>\n",
    "</div>"
   ]
  },
  {
   "cell_type": "code",
   "execution_count": null,
   "metadata": {},
   "outputs": [
    {
     "name": "stdout",
     "output_type": "stream",
     "text": [
      "{'__module__': '__main__', '__doc__': 'A class to represent a series RLC circuit.', '__init__': <function RLC.__init__ at 0x000002CDB0AB1580>, 'resistance': <property object at 0x000002CDB0A71CB0>, 'inductance': <property object at 0x000002CDB0A712B0>, 'capacitance': <property object at 0x000002CDB0A70D10>, 'impedance': <property object at 0x000002CDB04CC9F0>, 'phase': <property object at 0x000002CDB04CCA40>, 'power_factor': <property object at 0x000002CDB0AD59E0>, 'current': <function RLC.current at 0x000002CDB0AB1940>, '__repr__': <function RLC.__repr__ at 0x000002CDB0AB19E0>, '__str__': <function RLC.__str__ at 0x000002CDB0AB1A80>, 'series_rlc_from_values': <staticmethod(<function RLC.series_rlc_from_values at 0x000002CDB0AB1B20>)>, 'default_rlc': <classmethod(<function RLC.default_rlc at 0x000002CDB0AB1BC0>)>, '__dict__': <attribute '__dict__' of 'RLC' objects>, '__weakref__': <attribute '__weakref__' of 'RLC' objects>}\n"
     ]
    }
   ],
   "source": [
    "print(vars(RLC))"
   ]
  },
  {
   "cell_type": "markdown",
   "metadata": {},
   "source": [
    "<div style=\"padding: 20px; font-family: Arial, sans-serif; background-color: #f9f9f9; border:2px solid black; border-radius: 8px; width: fit-content;\">\n",
    "  <p style=\"color: #555; font-size: 16px; line-height: 1.6; margin-top: 10px;\">\n",
    "  To  Call the <code>__dict__</code> on the object of the class.\n",
    "  </p>\n",
    "</div>"
   ]
  },
  {
   "cell_type": "code",
   "execution_count": null,
   "metadata": {},
   "outputs": [
    {
     "name": "stdout",
     "output_type": "stream",
     "text": [
      "{'_resistance': 50, '_inductance': 0.1, '_capacitance': 0.001}\n"
     ]
    }
   ],
   "source": [
    "print(inst_1.__dict__)"
   ]
  },
  {
   "cell_type": "markdown",
   "metadata": {},
   "source": [
    "<div style=\"padding: 20px; font-family: Arial, sans-serif; background-color: #f9f9f9; border:2px solid black; border-radius: 8px; width: fit-content;\">\n",
    "  <p style=\"color: #555; font-size: 16px; line-height: 1.6; margin-top: 10px;\">\n",
    "  To Pass the class name to <code>help</code>.\n",
    "  </p>\n",
    "</div>"
   ]
  },
  {
   "cell_type": "code",
   "execution_count": null,
   "metadata": {},
   "outputs": [
    {
     "name": "stdout",
     "output_type": "stream",
     "text": [
      "Help on class RLC in module __main__:\n",
      "\n",
      "class RLC(builtins.object)\n",
      " |  RLC(resistance: float = 1.0, inductance: float = 1.0, capacitance: float = 1.0)\n",
      " |\n",
      " |  A class to represent a series RLC circuit.\n",
      " |\n",
      " |  Methods defined here:\n",
      " |\n",
      " |  __init__(self, resistance: float = 1.0, inductance: float = 1.0, capacitance: float = 1.0)\n",
      " |      Initialize the RLC circuit with given resistance, inductance, and capacitance.\n",
      " |\n",
      " |      Parameters:\n",
      " |      resistance (float): Resistance in ohms. Default is 1.0.\n",
      " |      inductance (float): Inductance in henries. Default is 1.0.\n",
      " |      capacitance (float): Capacitance in farads. Default is 1.0.\n",
      " |\n",
      " |  __repr__(self) -> str\n",
      " |      Return a string representation of the RLC instance.\n",
      " |\n",
      " |  __str__(self) -> str\n",
      " |      Return a user-friendly string representation of the RLC circuit.\n",
      " |\n",
      " |  current(self, voltage: float) -> float\n",
      " |      Calculate the current in the circuit with a given input voltage.\n",
      " |\n",
      " |      Parameters:\n",
      " |      voltage (float): The input voltage in volts.\n",
      " |\n",
      " |      Returns:\n",
      " |      float: The current in amperes.\n",
      " |\n",
      " |  ----------------------------------------------------------------------\n",
      " |  Class methods defined here:\n",
      " |\n",
      " |  default_rlc()\n",
      " |      Create a default RLC instance with default values.\n",
      " |\n",
      " |  ----------------------------------------------------------------------\n",
      " |  Static methods defined here:\n",
      " |\n",
      " |  series_rlc_from_values(resistance: float, inductance: float, capacitance: float)\n",
      " |      Create an RLC instance from resistance, inductance, and capacitance values.\n",
      " |\n",
      " |      Parameters:\n",
      " |      resistance (float): Resistance in ohms.\n",
      " |      inductance (float): Inductance in henries.\n",
      " |      capacitance (float): Capacitance in farads.\n",
      " |\n",
      " |      Returns:\n",
      " |      RLC: An instance of RLC.\n",
      " |\n",
      " |  ----------------------------------------------------------------------\n",
      " |  Readonly properties defined here:\n",
      " |\n",
      " |  impedance\n",
      " |      Calculate the impedance of the circuit.\n",
      " |\n",
      " |  phase\n",
      " |      Calculate the phase angle of the circuit in radians.\n",
      " |\n",
      " |  power_factor\n",
      " |      Calculate the power factor of the circuit.\n",
      " |\n",
      " |  ----------------------------------------------------------------------\n",
      " |  Data descriptors defined here:\n",
      " |\n",
      " |  __dict__\n",
      " |      dictionary for instance variables\n",
      " |\n",
      " |  __weakref__\n",
      " |      list of weak references to the object\n",
      " |\n",
      " |  capacitance\n",
      " |      Get the capacitance of the circuit.\n",
      " |\n",
      " |  inductance\n",
      " |      Get the inductance of the circuit.\n",
      " |\n",
      " |  resistance\n",
      " |      Get the resistance of the circuit.\n",
      "\n"
     ]
    }
   ],
   "source": [
    "help(RLC)"
   ]
  },
  {
   "cell_type": "markdown",
   "metadata": {},
   "source": [
    "<div style=\"padding: 20px; font-family: Arial, sans-serif; background-color: #f9f9f9; border:2px solid black; border-radius: 8px; width: fit-content;\">\n",
    "  <p style=\"color: #555; font-size: 16px; line-height: 1.6; margin-top: 10px;\">\n",
    " To Print the doc-string and annotations of both the class and each instance method.\n",
    "  </p>\n",
    "</div>"
   ]
  },
  {
   "cell_type": "code",
   "execution_count": null,
   "metadata": {},
   "outputs": [
    {
     "name": "stdout",
     "output_type": "stream",
     "text": [
      "A class to represent a circle.\n",
      "Method: __init__, Docstring: \n",
      "        Initialize the Circle with a given radius.\n",
      "\n",
      "        Parameters:\n",
      "        radius (float): The radius of the circle. Default is 1.0.\n",
      "        , Annotations: {'radius': <class 'float'>}\n",
      "Method: volume, Docstring: \n",
      "        Calculate the volume of a cylinder with the circle as the base.\n",
      "\n",
      "        Parameters:\n",
      "        height (float): The height of the cylinder.\n",
      "\n",
      "        Returns:\n",
      "        float: The volume of the cylinder.\n",
      "        , Annotations: {'height': <class 'float'>, 'return': None}\n",
      "Method: area, Docstring: Calculate the area of the circle., Annotations: {'return': <class 'float'>}\n",
      "Method: circumference, Docstring: Calculate the circumference of the circle., Annotations: {'return': <class 'float'>}\n",
      "Method: diameter, Docstring: Calculate the diameter of the circle., Annotations: {'return': <class 'float'>}\n",
      "Method: __repr__, Docstring: Return a string representation of the Circle instance., Annotations: {'return': <class 'str'>}\n",
      "Method: __str__, Docstring: Return a user-friendly string representation of the Circle., Annotations: {'return': <class 'str'>}\n",
      "Method: from_diameter, Docstring: \n",
      "        Create a Circle instance from the diameter.\n",
      "\n",
      "        Parameters:\n",
      "        diameter (float): The diameter of the circle.\n",
      "\n",
      "        Returns:\n",
      "        Circle: An instance of Circle.\n",
      "        , Annotations: {'diameter': <class 'float'>}\n",
      "Method: unit_circle, Docstring: Create a Circle instance with a radius of 1., Annotations: {'return': 'Circle'}\n"
     ]
    }
   ],
   "source": [
    "print(Circle.__doc__)\n",
    "for method_name in [\n",
    "    '__init__',\n",
    "    'volume',\n",
    "    'area',\n",
    "    'circumference',\n",
    "    'diameter',\n",
    "    '__repr__',\n",
    "    '__str__',\n",
    "    'from_diameter',\n",
    "    'unit_circle',\n",
    "]:\n",
    "    method = getattr(Circle, method_name)\n",
    "    if isinstance(method, property):\n",
    "        print(f\"Method: {method_name}, Docstring: {method.fget.__doc__}, Annotations: {method.fget.__annotations__}\")\n",
    "    else:\n",
    "        print(f\"Method: {method.__name__}, Docstring: {method.__doc__}, Annotations: {method.__annotations__}\")"
   ]
  },
  {
   "cell_type": "markdown",
   "metadata": {},
   "source": [
    "<div style=\"padding: 20px; font-family: Arial, sans-serif; background-color: #f9f9f9; border:2px solid black; border-radius: 8px; width: fit-content;\">\n",
    "  <p style=\"color: #555; font-size: 16px; line-height: 1.6; margin-top: 10px;\">\n",
    "  To  Modify the <code>__init__3</code> by by making its parameters default and verify by instances.\n",
    "  </p>\n",
    "</div>"
   ]
  },
  {
   "cell_type": "code",
   "execution_count": null,
   "metadata": {},
   "outputs": [
    {
     "name": "stdout",
     "output_type": "stream",
     "text": [
      "RLC Circuit with Resistance: 1.0ohm, Inductance: 1.0H, Capacitance: 1.0F\n"
     ]
    }
   ],
   "source": [
    "inst_3 = RLC() \n",
    "print(inst_3)"
   ]
  },
  {
   "cell_type": "markdown",
   "metadata": {},
   "source": [
    "----------------"
   ]
  },
  {
   "cell_type": "markdown",
   "metadata": {},
   "source": [
    "<center><span style=\"color:blue; \n",
    "font-family:Algerian; \n",
    "font-weight:bold;\n",
    "font-size:35px;\">Task No # 04 </span></center"
   ]
  },
  {
   "cell_type": "markdown",
   "metadata": {},
   "source": [
    "<div style=\"padding: 20px; font-family: Arial, sans-serif; background-color: #f9f9f9; border:2px solid black; border-radius: 8px; width: fit-content;\">\n",
    "  <p style=\"color: red; font-size: 20px; line-height: 1; margin-top: 10px;\">\n",
    "  <strong style=\"color:blue; font-size:25px:\">Note:</strong> Please make a class for each of the following using the detail procedure from the above\n",
    "tasks.\n",
    "  </p>\n",
    "</div>"
   ]
  },
  {
   "cell_type": "markdown",
   "metadata": {},
   "source": [
    "<div style=\"padding: 20px; font-family: Arial, sans-serif; background-color: #f9f9f9; border: 2px solid black; border-radius: 8px; width: fit-content;\">\n",
    "  <h2 style=\"color: #333;\">Math:</h2>\n",
    "  <ul style=\"color: #555; font-size: 16px; line-height: 1.6;\">\n",
    "    <li><strong>Square</strong>: A four-sided polygon (quadrilateral) with all sides of equal length and all angles equal to 90 degrees.</li>\n",
    "    <li><strong>Rectangle</strong>: A four-sided polygon where opposite sides are equal in length and all angles are equal to 90 degrees.</li>\n",
    "    <li><strong>Triangle</strong>: A three-sided polygon with three edges and three vertices. Various types include equilateral, isosceles, and scalene.</li>\n",
    "    <li><strong>Trapezoid (US) / Trapezium (UK)</strong>: A four-sided figure with at least one pair of parallel sides.</li>\n",
    "    <li><strong>Parallelogram</strong>: A four-sided shape with opposite sides that are equal in length and parallel.</li>\n",
    "    <li><strong>Rhombus</strong>: A parallelogram where all sides are of equal length, but the angles are not necessarily 90 degrees.</li>\n",
    "    <span style=\"color:red;\">These shapes serve as building blocks for more complex forms in geometry and design.</span>\n",
    "  </ul>\n",
    "</div>\n"
   ]
  },
  {
   "cell_type": "markdown",
   "metadata": {},
   "source": [
    "<center><span style=\"color:green; \n",
    "font-family:Matura MT Script Capitals; \n",
    "font-weight:bold;\n",
    "font-size:35px;\">1. Square</span></center"
   ]
  },
  {
   "cell_type": "code",
   "execution_count": null,
   "metadata": {},
   "outputs": [],
   "source": [
    "class Square:\n",
    "    def __init__(self, side_length: float = 1.0) -> None:\n",
    "        self.side_length = side_length\n",
    "\n",
    "    @property\n",
    "    def side_length(self) -> float:\n",
    "        return self._side_length\n",
    "\n",
    "    @side_length.setter\n",
    "    def side_length(self, value: float) -> None:\n",
    "\n",
    "        if value < 0:\n",
    "            raise ValueError(\"Side length cannot be negative.\")\n",
    "        self._side_length = value\n",
    "\n",
    "    @property\n",
    "    def area(self) -> float:\n",
    "        return self.side_length ** 2\n",
    "\n",
    "    @property\n",
    "    def perimeter(self) -> float:\n",
    "\n",
    "        return 4 * self.side_length\n",
    "\n",
    "    def __repr__(self) -> str:\n",
    "\n",
    "        return f\"Square(side_length={self.side_length})\"\n",
    "\n",
    "    def __str__(self) -> str:\n",
    "        return f\"Square with side length: {self.side_length}, area: {self.area}, perimeter: {self.perimeter}\"\n"
   ]
  },
  {
   "cell_type": "code",
   "execution_count": null,
   "metadata": {},
   "outputs": [],
   "source": [
    "square = Square(side_length=4)"
   ]
  },
  {
   "cell_type": "code",
   "execution_count": null,
   "metadata": {},
   "outputs": [
    {
     "name": "stdout",
     "output_type": "stream",
     "text": [
      "Square with side length: 4, area: 16, perimeter: 16\n"
     ]
    }
   ],
   "source": [
    "print(square)"
   ]
  },
  {
   "cell_type": "markdown",
   "metadata": {},
   "source": [
    "<center><span style=\"color:green; \n",
    "font-family:Matura MT Script Capitals; \n",
    "font-weight:bold;\n",
    "font-size:35px;\">2. Rectangle</span></center"
   ]
  },
  {
   "cell_type": "code",
   "execution_count": null,
   "metadata": {},
   "outputs": [],
   "source": [
    "class Rectangle:\n",
    "   \n",
    "    def __init__(self, width: float = 1.0, height: float = 1.0) -> None:\n",
    "        self.width = width\n",
    "        self.height = height\n",
    "\n",
    "    @property\n",
    "    def width(self) -> float:\n",
    "        return self._width\n",
    "\n",
    "    @width.setter\n",
    "    def width(self, value: float) -> None:\n",
    "\n",
    "        if value < 0:\n",
    "            raise ValueError(\"Width cannot be negative.\")\n",
    "        self._width = value\n",
    "\n",
    "    @property\n",
    "    def height(self) -> float:\n",
    "        return self._height\n",
    "\n",
    "    @height.setter\n",
    "    def height(self, value: float) -> None:\n",
    "\n",
    "        if value < 0:\n",
    "            raise ValueError(\"Height cannot be negative.\")\n",
    "        self._height = value\n",
    "\n",
    "    @property\n",
    "    def area(self) -> float:\n",
    "        return self.width * self.height\n",
    "\n",
    "    @property\n",
    "    def perimeter(self) -> float:\n",
    "        return 2 * (self.width + self.height)\n",
    "\n",
    "    def __repr__(self) -> str:\n",
    "        return f\"Rectangle(width={self.width}, height={self.height})\"\n",
    "\n",
    "    def __str__(self) -> str:\n",
    "        return f\"Rectangle with width: {self.width}, height: {self.height}, area: {self.area}, perimeter: {self.perimeter}\"\n"
   ]
  },
  {
   "cell_type": "code",
   "execution_count": null,
   "metadata": {},
   "outputs": [],
   "source": [
    "rectangle = Rectangle(width=4, height=2)"
   ]
  },
  {
   "cell_type": "code",
   "execution_count": null,
   "metadata": {},
   "outputs": [
    {
     "name": "stdout",
     "output_type": "stream",
     "text": [
      "Rectangle with width: 4, height: 2, area: 8, perimeter: 12\n"
     ]
    }
   ],
   "source": [
    "print(rectangle)"
   ]
  },
  {
   "cell_type": "markdown",
   "metadata": {},
   "source": [
    "<center><span style=\"color:green; \n",
    "font-family:Matura MT Script Capitals; \n",
    "font-weight:bold;\n",
    "font-size:35px;\">3. Triangle</span></center>"
   ]
  },
  {
   "cell_type": "code",
   "execution_count": null,
   "metadata": {},
   "outputs": [],
   "source": [
    "class Triangle:\n",
    "   \n",
    "    def __init__(self, a: float = 1.0, b: float = 1.0, c: float = 1.0) -> None:\n",
    "\n",
    "        self.a = a\n",
    "        self.b = b\n",
    "        self.c = c\n",
    "\n",
    "    @property\n",
    "    def a(self) -> float:\n",
    "        return self._a\n",
    "\n",
    "    @a.setter\n",
    "    def a(self, value: float) -> None:\n",
    "        if value <= 0:\n",
    "            raise ValueError(\"Side length must be positive.\")\n",
    "        self._a = value\n",
    "\n",
    "    @property\n",
    "    def b(self) -> float:\n",
    "        return self._b\n",
    "\n",
    "    @b.setter\n",
    "    def b(self, value: float) -> None:\n",
    "        if value <= 0:\n",
    "            raise ValueError(\"Side length must be positive.\")\n",
    "        self._b = value\n",
    "\n",
    "    @property\n",
    "    def c(self) -> float:\n",
    "        return self._c\n",
    "\n",
    "    @c.setter\n",
    "    def c(self, value: float) -> None:\n",
    "        if value <= 0:\n",
    "            raise ValueError(\"Side length must be positive.\")\n",
    "        self._c = value\n",
    "\n",
    "    @property\n",
    "    def area(self) -> float:\n",
    "        s = (self.a + self.b + self.c) / 2\n",
    "        return math.sqrt(s * (s - self.a) * (s - self.b) * (s - self.c))\n",
    "\n",
    "    @property\n",
    "    def perimeter(self) -> float:\n",
    "        return self.a + self.b + self.c\n",
    "\n",
    "    def __repr__(self) -> str:\n",
    "        return f\"Triangle(a={self.a}, b={self.b}, c={self.c})\"\n",
    "\n",
    "    def __str__(self) -> str:\n",
    "        return (f\"Triangle with sides: a={self.a}, b={self.b}, c={self.c}, \"\n",
    "                f\"area: {self.area}, perimeter: {self.perimeter}\")\n"
   ]
  },
  {
   "cell_type": "code",
   "execution_count": null,
   "metadata": {},
   "outputs": [],
   "source": [
    "triangle = Triangle(a=3, b=4, c=5)"
   ]
  },
  {
   "cell_type": "code",
   "execution_count": null,
   "metadata": {},
   "outputs": [
    {
     "name": "stdout",
     "output_type": "stream",
     "text": [
      "Triangle with sides: a=3, b=4, c=5, area: 6.0, perimeter: 12\n"
     ]
    }
   ],
   "source": [
    "print(triangle)"
   ]
  },
  {
   "cell_type": "markdown",
   "metadata": {},
   "source": [
    "<center><span style=\"color:green; \n",
    "font-family:Matura MT Script Capitals; \n",
    "font-weight:bold;\n",
    "font-size:35px;\">4. Trapezoid</span></center>"
   ]
  },
  {
   "cell_type": "code",
   "execution_count": null,
   "metadata": {},
   "outputs": [],
   "source": [
    "class Trapezoid:\n",
    "    \n",
    "    def __init__(self, base1: float = 1.0, base2: float = 1.0, height: float = 1.0) -> None:\n",
    "        self.base1 = base1\n",
    "        self.base2 = base2\n",
    "        self.height = height\n",
    "\n",
    "    @property\n",
    "    def base1(self) -> float:\n",
    "        return self._base1\n",
    "\n",
    "    @base1.setter\n",
    "    def base1(self, value: float) -> None:\n",
    "\n",
    "        if value < 0:\n",
    "            raise ValueError(\"Base length cannot be negative.\")\n",
    "        self._base1 = value\n",
    "\n",
    "    @property\n",
    "    def base2(self) -> float:\n",
    "        return self._base2\n",
    "\n",
    "    @base2.setter\n",
    "    def base2(self, value: float) -> None:\n",
    "        if value < 0:\n",
    "            raise ValueError(\"Base length cannot be negative.\")\n",
    "        self._base2 = value\n",
    "\n",
    "    @property\n",
    "    def height(self) -> float:\n",
    "\n",
    "        return self._height\n",
    "\n",
    "    @height.setter\n",
    "    def height(self, value: float) -> None:\n",
    "        \n",
    "        if value < 0:\n",
    "            raise ValueError(\"Height cannot be negative.\")\n",
    "        self._height = value\n",
    "\n",
    "    @property\n",
    "    def area(self) -> float:\n",
    "        return (self.base1 + self.base2) * self.height / 2\n",
    "\n",
    "    @property\n",
    "    def perimeter(self) -> float:\n",
    "        raise NotImplementedError(\"Perimeter calculation requires lengths of non-parallel sides.\")\n",
    "\n",
    "    def __repr__(self) -> str:\n",
    "        return f\"Trapezoid(base1={self.base1}, base2={self.base2}, height={self.height})\"\n",
    "\n",
    "    def __str__(self) -> str:\n",
    "        return (f\"Trapezoid with base1: {self.base1}, base2: {self.base2}, \"\n",
    "                f\"height: {self.height}, area: {self.area}\")\n"
   ]
  },
  {
   "cell_type": "code",
   "execution_count": null,
   "metadata": {},
   "outputs": [],
   "source": [
    "trapezoid = Trapezoid(base1=4, base2=6, height=3)"
   ]
  },
  {
   "cell_type": "code",
   "execution_count": null,
   "metadata": {},
   "outputs": [
    {
     "name": "stdout",
     "output_type": "stream",
     "text": [
      "Trapezoid with base1: 4, base2: 6, height: 3, area: 15.0\n"
     ]
    }
   ],
   "source": [
    "print(trapezoid)"
   ]
  },
  {
   "cell_type": "markdown",
   "metadata": {},
   "source": [
    "<center><span style=\"color:green; \n",
    "font-family:Matura MT Script Capitals; \n",
    "font-weight:bold;\n",
    "font-size:35px;\">5. Parallelogram</span></center>"
   ]
  },
  {
   "cell_type": "code",
   "execution_count": null,
   "metadata": {},
   "outputs": [],
   "source": [
    "class Parallelogram:\n",
    "\n",
    "    def __init__(self, base: float = 1.0, height: float = 1.0) -> None:\n",
    "        self.base = base\n",
    "        self.height = height\n",
    "\n",
    "    @property\n",
    "    def base(self) -> float:\n",
    "        return self._base\n",
    "\n",
    "    @base.setter\n",
    "    def base(self, value: float) -> None:\n",
    "\n",
    "        if value < 0:\n",
    "            raise ValueError(\"Base length cannot be negative.\")\n",
    "        self._base = value\n",
    "\n",
    "    @property\n",
    "    def height(self) -> float:\n",
    "        return self._height\n",
    "\n",
    "    @height.setter\n",
    "    def height(self, value: float) -> None:\n",
    "\n",
    "        if value < 0:\n",
    "            raise ValueError(\"Height cannot be negative.\")\n",
    "        self._height = value\n",
    "\n",
    "    @property\n",
    "    def area(self) -> float:\n",
    "\n",
    "        return self.base * self.height\n",
    "\n",
    "    @property\n",
    "    def perimeter(self) -> float:\n",
    "        raise NotImplementedError(\"Perimeter calculation requires lengths of the sides.\")\n",
    "\n",
    "    def __repr__(self) -> str:\n",
    "        return f\"Parallelogram(base={self.base}, height={self.height})\"\n",
    "\n",
    "    def __str__(self) -> str:\n",
    "        return (f\"Parallelogram with base: {self.base}, height: {self.height}, \"\n",
    "                f\"area: {self.area}\")\n"
   ]
  },
  {
   "cell_type": "code",
   "execution_count": null,
   "metadata": {},
   "outputs": [],
   "source": [
    "parallelogram = Parallelogram(base=5, height=3)"
   ]
  },
  {
   "cell_type": "code",
   "execution_count": null,
   "metadata": {},
   "outputs": [
    {
     "name": "stdout",
     "output_type": "stream",
     "text": [
      "Parallelogram with base: 5, height: 3, area: 15\n"
     ]
    }
   ],
   "source": [
    "print(parallelogram)"
   ]
  },
  {
   "cell_type": "markdown",
   "metadata": {},
   "source": [
    "<center><span style=\"color:green; \n",
    "font-family:Matura MT Script Capitals; \n",
    "font-weight:bold;\n",
    "font-size:35px;\">6. Rhombus</span></center>"
   ]
  },
  {
   "cell_type": "code",
   "execution_count": null,
   "metadata": {},
   "outputs": [],
   "source": [
    "class Rhombus:\n",
    "    \"\"\"A class to represent a rhombus, a parallelogram with all sides equal.\"\"\"\n",
    "    \n",
    "    def __init__(self, side_length: float = 1.0, height: float = 1.0) -> None:\n",
    "        \"\"\"Initialize the rhombus with the length of its sides and height.\n",
    "        \n",
    "        Args:\n",
    "            side_length (float): Length of each side. Defaults to 1.0.\n",
    "            height (float): Height of the rhombus. Defaults to 1.0.\n",
    "        \"\"\"\n",
    "        self.side_length = side_length\n",
    "        self.height = height\n",
    "\n",
    "    @property\n",
    "    def side_length(self) -> float:\n",
    "        \"\"\"Get the length of the rhombus's side.\"\"\"\n",
    "        return self._side_length\n",
    "\n",
    "    @side_length.setter\n",
    "    def side_length(self, value: float) -> None:\n",
    "        \"\"\"Set the length of the rhombus's side.\n",
    "        \n",
    "        Args:\n",
    "            value (float): The new length of the side.\n",
    "        \"\"\"\n",
    "        if value < 0:\n",
    "            raise ValueError(\"Side length cannot be negative.\")\n",
    "        self._side_length = value\n",
    "\n",
    "    @property\n",
    "    def height(self) -> float:\n",
    "        \"\"\"Get the height of the rhombus.\"\"\"\n",
    "        return self._height\n",
    "\n",
    "    @height.setter\n",
    "    def height(self, value: float) -> None:\n",
    "        \"\"\"Set the height of the rhombus.\n",
    "        \n",
    "        Args:\n",
    "            value (float): The new height of the rhombus.\n",
    "        \"\"\"\n",
    "        if value < 0:\n",
    "            raise ValueError(\"Height cannot be negative.\")\n",
    "        self._height = value\n",
    "\n",
    "    @property\n",
    "    def area(self) -> float:\n",
    "        \"\"\"Calculate the area of the rhombus.\"\"\"\n",
    "        return self.side_length * self.height\n",
    "\n",
    "    @property\n",
    "    def perimeter(self) -> float:\n",
    "        \"\"\"Calculate the perimeter of the rhombus.\"\"\"\n",
    "        return 4 * self.side_length\n",
    "\n",
    "    def __repr__(self) -> str:\n",
    "        \"\"\"Return a string representation of the rhombus.\"\"\"\n",
    "        return f\"Rhombus(side_length={self.side_length}, height={self.height})\"\n",
    "\n",
    "    def __str__(self) -> str:\n",
    "        \"\"\"Return a user-friendly string representation of the rhombus.\"\"\"\n",
    "        return (f\"Rhombus with side length: {self.side_length}, height: {self.height}, \"\n",
    "                f\"area: {self.area}, perimeter: {self.perimeter}\")\n"
   ]
  },
  {
   "cell_type": "code",
   "execution_count": null,
   "metadata": {},
   "outputs": [],
   "source": [
    "rhombus = Rhombus(side_length=3, height=2)"
   ]
  },
  {
   "cell_type": "code",
   "execution_count": null,
   "metadata": {},
   "outputs": [
    {
     "name": "stdout",
     "output_type": "stream",
     "text": [
      "Rhombus with side length: 3, height: 2, area: 6, perimeter: 12\n"
     ]
    }
   ],
   "source": [
    "print(rhombus)"
   ]
  },
  {
   "cell_type": "markdown",
   "metadata": {},
   "source": [
    "--------------------"
   ]
  },
  {
   "cell_type": "markdown",
   "metadata": {},
   "source": [
    "----------------"
   ]
  },
  {
   "cell_type": "markdown",
   "metadata": {},
   "source": [
    "<center><span style=\"color:blue; \n",
    "font-family:Algerian; \n",
    "font-weight:bold;\n",
    "font-size:35px;\">Task No # 05 </span></center>"
   ]
  },
  {
   "cell_type": "markdown",
   "metadata": {},
   "source": [
    "<div style=\"padding: 20px; font-family: Arial, sans-serif; background-color: #f9f9f9; border: 2px solid black; border-radius: 8px; width: fit-content;\">\n",
    "  <h2 style=\"color: #333;\">Circuit:</h2>\n",
    "  <ul style=\"color: #555; font-size: 16px; line-height: 1.6;\">\n",
    "    <li><strong>Resistor Circuit:</strong> Create a class for a circuit that contains only one resistor.</li>\n",
    "    <li><strong>RL Circuit:</strong> Develop a class representing an RL (Resistor-Inductor) circuit.</li>\n",
    "    <li><strong>RC Circuit:</strong> Create a class for an RC (Resistor-Capacitor) circuit.</li>\n",
    "    <li><strong>RLC Parallel Circuit:</strong> Construct a class for RLC (Resistor-Inductor-Capacitor) parallel circuits.</li>\n",
    "    <li><strong>RLC Series Resonance:</strong> Modify the existing RLC series class to implement the series resonance case.</li>\n",
    "    <li><strong>RLC Parallel Resonance:</strong> Adapt the RLC parallel class to account for the parallel resonance case.</li>\n",
    "  </ul>\n",
    "</div>"
   ]
  },
  {
   "cell_type": "markdown",
   "metadata": {},
   "source": [
    "<center><span style=\"color:green; \n",
    "font-family:Matura MT Script Capitals; \n",
    "font-weight:bold;\n",
    "font-size:35px;\">1. Resistor</span></center"
   ]
  },
  {
   "cell_type": "code",
   "execution_count": null,
   "metadata": {},
   "outputs": [],
   "source": [
    "class Resistor:\n",
    "    \"\"\"A class to represent a simple circuit with a single resistor.\"\"\"\n",
    "    \n",
    "    def __init__(self, resistance: float = 1.0) -> None:\n",
    "        \"\"\"Initialize the resistor with the given resistance value.\n",
    "        \n",
    "        Args:\n",
    "            resistance (float): Resistance in ohms. Defaults to 1.0.\n",
    "        \"\"\"\n",
    "        self.resistance = resistance\n",
    "\n",
    "    @property\n",
    "    def resistance(self) -> float:\n",
    "        \"\"\"Get the resistance value.\"\"\"\n",
    "        return self._resistance\n",
    "\n",
    "    @resistance.setter\n",
    "    def resistance(self, value: float):\n",
    "        \"\"\"Set the resistance value.\"\"\"\n",
    "        if value < 0:\n",
    "            raise ValueError(\"Resistance cannot be negative.\")\n",
    "        self._resistance = value\n",
    "\n",
    "    def __repr__(self) -> str:\n",
    "        return f\"Resistor(resistance={self.resistance})\"\n",
    "\n",
    "    def __str__(self) -> str:\n",
    "        return f\"Resistor with resistance: {self.resistance} ohms\"\n"
   ]
  },
  {
   "cell_type": "code",
   "execution_count": null,
   "metadata": {},
   "outputs": [],
   "source": [
    "resistor = Resistor(10)"
   ]
  },
  {
   "cell_type": "code",
   "execution_count": null,
   "metadata": {},
   "outputs": [
    {
     "name": "stdout",
     "output_type": "stream",
     "text": [
      "Resistor with resistance: 10 ohms\n"
     ]
    }
   ],
   "source": [
    "print(resistor)"
   ]
  },
  {
   "cell_type": "markdown",
   "metadata": {},
   "source": [
    "<center><span style=\"color:green; \n",
    "font-family:Matura MT Script Capitals; \n",
    "font-weight:bold;\n",
    "font-size:35px;\">2. RLCircuit</span></center>"
   ]
  },
  {
   "cell_type": "code",
   "execution_count": null,
   "metadata": {},
   "outputs": [],
   "source": [
    "class RLCircuit:\n",
    "    \"\"\"A class to represent an RL circuit (Resistor and Inductor).\"\"\"\n",
    "    \n",
    "    def __init__(self, resistance: float = 1.0, inductance: float = 1.0):\n",
    "        \"\"\"Initialize the RL circuit with resistance and inductance.\n",
    "        \n",
    "        Args:\n",
    "            resistance (float): Resistance in ohms. Defaults to 1.0.\n",
    "            inductance (float): Inductance in henries. Defaults to 1.0.\n",
    "        \"\"\"\n",
    "        self.resistor = Resistor(resistance)\n",
    "        self.inductance = inductance\n",
    "\n",
    "    @property\n",
    "    def inductance(self) -> float:\n",
    "        \"\"\"Get the inductance value.\"\"\"\n",
    "        return self._inductance\n",
    "\n",
    "    @inductance.setter\n",
    "    def inductance(self, value: float):\n",
    "        \"\"\"Set the inductance value.\"\"\"\n",
    "        if value < 0:\n",
    "            raise ValueError(\"Inductance cannot be negative.\")\n",
    "        self._inductance = value\n",
    "\n",
    "    def impedance(self, frequency: float):\n",
    "        \"\"\"Calculate the impedance of the RL circuit.\n",
    "        \n",
    "        Args:\n",
    "            frequency (float): Frequency in hertz.\n",
    "        \n",
    "        Returns:\n",
    "            float: Impedance in ohms.\n",
    "        \"\"\"\n",
    "        return (self.resistor.resistance**2 + (2 * math.pi * frequency * self.inductance)**2) ** 0.5\n",
    "\n",
    "    def __repr__(self) -> str:\n",
    "        return f\"RLCircuit(resistor={self.resistor}, inductance={self.inductance})\"\n",
    "\n",
    "    def __str__(self) -> str:\n",
    "        return (f\"RL Circuit with {self.resistor}, inductance: {self.inductance} H\")\n"
   ]
  },
  {
   "cell_type": "code",
   "execution_count": null,
   "metadata": {},
   "outputs": [],
   "source": [
    "rl_circuit = RLCircuit(resistance=10, inductance=0.1)"
   ]
  },
  {
   "cell_type": "code",
   "execution_count": null,
   "metadata": {},
   "outputs": [
    {
     "name": "stdout",
     "output_type": "stream",
     "text": [
      "RL Circuit with Resistor with resistance: 10 ohms, inductance: 0.1 H\n"
     ]
    }
   ],
   "source": [
    "print(rl_circuit)"
   ]
  },
  {
   "cell_type": "markdown",
   "metadata": {},
   "source": [
    "<center><span style=\"color:green; \n",
    "font-family:Matura MT Script Capitals; \n",
    "font-weight:bold;\n",
    "font-size:35px;\">3. RCCircuitngle</span></center>"
   ]
  },
  {
   "cell_type": "code",
   "execution_count": null,
   "metadata": {},
   "outputs": [],
   "source": [
    "class RCCircuit:\n",
    "    \"\"\"A class to represent an RC circuit (Resistor and Capacitor).\"\"\"\n",
    "    \n",
    "    def __init__(self, resistance: float = 1.0, capacitance: float = 1.0):\n",
    "        \"\"\"Initialize the RC circuit with resistance and capacitance.\n",
    "        \n",
    "        Args:\n",
    "            resistance (float): Resistance in ohms. Defaults to 1.0.\n",
    "            capacitance (float): Capacitance in farads. Defaults to 1.0.\n",
    "        \"\"\"\n",
    "        self.resistor = Resistor(resistance)\n",
    "        self.capacitance = capacitance\n",
    "\n",
    "    @property\n",
    "    def capacitance(self) -> float:\n",
    "        \"\"\"Get the capacitance value.\"\"\"\n",
    "        return self._capacitance\n",
    "\n",
    "    @capacitance.setter\n",
    "    def capacitance(self, value: float) -> None:\n",
    "        \"\"\"Set the capacitance value.\"\"\"\n",
    "        if value < 0:\n",
    "            raise ValueError(\"Capacitance cannot be negative.\")\n",
    "        self._capacitance = value\n",
    "\n",
    "    def impedance(self, frequency: float) -> float:\n",
    "        \"\"\"Calculate the impedance of the RC circuit.\n",
    "        \n",
    "        Args:\n",
    "            frequency (float): Frequency in hertz.\n",
    "        \n",
    "        Returns:\n",
    "            float: Impedance in ohms.\n",
    "        \"\"\"\n",
    "        return (self.resistor.resistance**2 + (1 / (2 * math.pi * frequency * self.capacitance))**2) ** 0.5\n",
    "\n",
    "    def __repr__(self) -> str:\n",
    "        return f\"RCCircuit(resistor={self.resistor}, capacitance={self.capacitance})\"\n",
    "\n",
    "    def __str__(self) -> str:\n",
    "        return (f\"RC Circuit with {self.resistor}, capacitance: {self.capacitance} F\")\n"
   ]
  },
  {
   "cell_type": "code",
   "execution_count": null,
   "metadata": {},
   "outputs": [],
   "source": [
    "rc_circuit = RCCircuit(resistance=10, capacitance=0.001)"
   ]
  },
  {
   "cell_type": "code",
   "execution_count": null,
   "metadata": {},
   "outputs": [
    {
     "name": "stdout",
     "output_type": "stream",
     "text": [
      "RC Circuit with Resistor with resistance: 10 ohms, capacitance: 0.001 F\n"
     ]
    }
   ],
   "source": [
    "print(rc_circuit)"
   ]
  },
  {
   "cell_type": "markdown",
   "metadata": {},
   "source": [
    "<center><span style=\"color:green; \n",
    "font-family:Matura MT Script Capitals; \n",
    "font-weight:bold;\n",
    "font-size:35px;\">4. RLCCircuitParallel</span></center>"
   ]
  },
  {
   "cell_type": "code",
   "execution_count": null,
   "metadata": {},
   "outputs": [],
   "source": [
    "class RLCCircuitParallel:\n",
    "    \"\"\"A class to represent an RLC parallel circuit.\"\"\"\n",
    "    \n",
    "    def __init__(self, resistance: float = 1.0, inductance: float = 1.0, capacitance: float = 1.0) -> None:\n",
    "        \"\"\"Initialize the parallel RLC circuit with resistance, inductance, and capacitance.\n",
    "        \n",
    "        Args:\n",
    "            resistance (float): Resistance in ohms. Defaults to 1.0.\n",
    "            inductance (float): Inductance in henries. Defaults to 1.0.\n",
    "            capacitance (float): Capacitance in farads. Defaults to 1.0.\n",
    "        \"\"\"\n",
    "        self.resistor = Resistor(resistance)\n",
    "        self.inductance = inductance\n",
    "        self.capacitance = capacitance\n",
    "\n",
    "    @property\n",
    "    def inductance(self) -> float:\n",
    "        return self._inductance\n",
    "\n",
    "    @inductance.setter\n",
    "    def inductance(self, value: float) -> None:\n",
    "        if value < 0:\n",
    "            raise ValueError(\"Inductance cannot be negative.\")\n",
    "        self._inductance = value\n",
    "\n",
    "    @property\n",
    "    def capacitance(self) -> float:\n",
    "        return self._capacitance\n",
    "\n",
    "    @capacitance.setter\n",
    "    def capacitance(self, value: float) -> None:\n",
    "        if value < 0:\n",
    "            raise ValueError(\"Capacitance cannot be negative.\")\n",
    "        self._capacitance = value\n",
    "\n",
    "    def total_impedance(self, frequency: float) -> float:\n",
    "        \"\"\"Calculate the total impedance of the RLC parallel circuit.\n",
    "        \n",
    "        Args:\n",
    "            frequency (float): Frequency in hertz.\n",
    "        \n",
    "        Returns:\n",
    "            float: Total impedance in ohms.\n",
    "        \"\"\"\n",
    "        z_r = self.resistor.resistance\n",
    "        z_l = 2 * math.pi * frequency * self.inductance\n",
    "        z_c = 1 / (2 * math.pi * frequency * self.capacitance)\n",
    "\n",
    "        return 1 / (1/z_r + 1/z_l + 1/z_c)\n",
    "\n",
    "    def __repr__(self) -> str:\n",
    "        return f\"RLCCircuitParallel(resistor={self.resistor}, inductance={self.inductance}, capacitance={self.capacitance})\"\n",
    "\n",
    "    def __str__(self) -> str:\n",
    "        return (f\"RLC Parallel Circuit with {self.resistor}, inductance: {self.inductance} H, \"\n",
    "                f\"capacitance: {self.capacitance} F\")\n"
   ]
  },
  {
   "cell_type": "code",
   "execution_count": null,
   "metadata": {},
   "outputs": [],
   "source": [
    "rlc_parallel_circuit = RLCCircuitParallel(resistance=10, inductance=0.1, capacitance=0.001)"
   ]
  },
  {
   "cell_type": "code",
   "execution_count": null,
   "metadata": {},
   "outputs": [
    {
     "name": "stdout",
     "output_type": "stream",
     "text": [
      "RLC Parallel Circuit with Resistor with resistance: 10 ohms, inductance: 0.1 H, capacitance: 0.001 F\n"
     ]
    }
   ],
   "source": [
    "print(rlc_parallel_circuit)"
   ]
  },
  {
   "cell_type": "markdown",
   "metadata": {},
   "source": [
    "<center><span style=\"color:green; \n",
    "font-family:Matura MT Script Capitals; \n",
    "font-weight:bold;\n",
    "font-size:35px;\">5. RLCSeriesCircuit</span></center>"
   ]
  },
  {
   "cell_type": "code",
   "execution_count": null,
   "metadata": {},
   "outputs": [],
   "source": [
    "class RLCSeriesCircuit:\n",
    "    \"\"\"A class to represent an RLC series circuit with resonance.\"\"\"\n",
    "    \n",
    "    def __init__(self, resistance: float = 1.0, inductance: float = 1.0, capacitance: float = 1.0) -> None:\n",
    "        \"\"\"Initialize the series RLC circuit with resistance, inductance, and capacitance.\n",
    "        \n",
    "        Args:\n",
    "            resistance (float): Resistance in ohms. Defaults to 1.0.\n",
    "            inductance (float): Inductance in henries. Defaults to 1.0.\n",
    "            capacitance (float): Capacitance in farads. Defaults to 1.0.\n",
    "        \"\"\"\n",
    "        self.resistor = Resistor(resistance)\n",
    "        self.inductance = inductance\n",
    "        self.capacitance = capacitance\n",
    "\n",
    "    def resonance_frequency(self) -> float:\n",
    "        \"\"\"Calculate the resonance frequency of the RLC circuit.\n",
    "        \n",
    "        Returns:\n",
    "            float: Resonance frequency in hertz.\n",
    "        \"\"\"\n",
    "        return 1 / (2 * math.pi * ((self.inductance * self.capacitance) ** 0.5))\n",
    "\n",
    "    def impedance(self, frequency: float) -> float:\n",
    "        \"\"\"Calculate the impedance of the RLC series circuit.\n",
    "        \n",
    "        Args:\n",
    "            frequency (float): Frequency in hertz.\n",
    "        \n",
    "        Returns:\n",
    "            float: Impedance in ohms.\n",
    "        \"\"\"\n",
    "        z_l = 2 * math.pi * frequency * self.inductance\n",
    "        z_c = 1 / (2 * math.pi * frequency * self.capacitance)\n",
    "\n",
    "        return (self.resistor.resistance**2 + (z_l - z_c)**2) ** 0.5\n",
    "\n",
    "    def __repr__(self) -> str:\n",
    "        return f\"RLCSeriesCircuit(resistor={self.resistor}, inductance={self.inductance}, capacitance={self.capacitance})\"\n",
    "\n",
    "    def __str__(self) -> str:\n",
    "        return (f\"RLC Series Circuit with {self.resistor}, inductance: {self.inductance} H, \"\n",
    "                f\"capacitance: {self.capacitance:} F, resonance frequency: {self.resonance_frequency():.2f} Hz\")\n"
   ]
  },
  {
   "cell_type": "code",
   "execution_count": null,
   "metadata": {},
   "outputs": [],
   "source": [
    "rlc_series_circuit = RLCSeriesCircuit(resistance=10, inductance=0.1, capacitance=0.001)"
   ]
  },
  {
   "cell_type": "code",
   "execution_count": null,
   "metadata": {},
   "outputs": [
    {
     "name": "stdout",
     "output_type": "stream",
     "text": [
      "RLC Series Circuit with Resistor with resistance: 10 ohms, inductance: 0.1 H, capacitance: 0.001 F, resonance frequency: 15.92 Hz\n"
     ]
    }
   ],
   "source": [
    "print(rlc_series_circuit)"
   ]
  },
  {
   "cell_type": "markdown",
   "metadata": {},
   "source": [
    "<center><span style=\"color:green; \n",
    "font-family:Matura MT Script Capitals; \n",
    "font-weight:bold;\n",
    "font-size:35px;\">6. RLCParallelCircuit</span></center>"
   ]
  },
  {
   "cell_type": "code",
   "execution_count": null,
   "metadata": {},
   "outputs": [],
   "source": [
    "class RLCParallelCircuit:\n",
    "    \"\"\"A class to represent an RLC parallel circuit with resonance.\"\"\"\n",
    "    \n",
    "    def __init__(self, resistance: float = 1.0, inductance: float = 1.0, capacitance: float = 1.0) -> None:\n",
    "        \"\"\"Initialize the parallel RLC circuit with resistance, inductance, and capacitance.\n",
    "        \n",
    "        Args:\n",
    "            resistance (float): Resistance in ohms. Defaults to 1.0.\n",
    "            inductance (float): Inductance in henries. Defaults to 1.0.\n",
    "            capacitance (float): Capacitance in farads. Defaults to 1.0.\n",
    "        \"\"\"\n",
    "        self.resistor = Resistor(resistance)\n",
    "        self.inductance = inductance\n",
    "        self.capacitance = capacitance\n",
    "\n",
    "    def resonance_frequency(self) -> float:\n",
    "        \"\"\"Calculate the resonance frequency of the RLC parallel circuit.\n",
    "        \n",
    "        Returns:\n",
    "            float: Resonance frequency in hertz.\n",
    "        \"\"\"\n",
    "        return 1 / (2 * math.pi * ((self.inductance * self.capacitance) ** 0.5))\n",
    "\n",
    "    def total_impedance(self, frequency: float) -> float:\n",
    "        \"\"\"Calculate the total impedance of the RLC parallel circuit.\n",
    "        \n",
    "        Args:\n",
    "            frequency (float): Frequency in hertz.\n",
    "        \n",
    "        Returns:\n",
    "            float: Total impedance in ohms.\n",
    "        \"\"\"\n",
    "        z_r = self.resistor.resistance\n",
    "        z_l = 2 * math.pi * frequency * self.inductance\n",
    "        z_c = 1 / (2 * math.pi * frequency * self.capacitance)\n",
    "\n",
    "        return 1 / (1/z_r + 1/z_l + 1/z_c)\n",
    "\n",
    "    def __repr__(self) -> str:\n",
    "        return f\"RLCParallelCircuit(resistor={self.resistor}, inductance={self.inductance}, capacitance={self.capacitance})\"\n",
    "\n",
    "    def __str__(self) -> str:\n",
    "        return (f\"RLC Parallel Circuit with {self.resistor}, inductance: {self.inductance} H, \"\n",
    "                f\"capacitance: {self.capacitance} F, resonance frequency: {self.resonance_frequency():.2f} Hz\")\n"
   ]
  },
  {
   "cell_type": "code",
   "execution_count": null,
   "metadata": {},
   "outputs": [],
   "source": [
    "rlc_parallel_resonance = RLCParallelCircuit(resistance=10, inductance=0.1, capacitance=0.001)\n"
   ]
  },
  {
   "cell_type": "code",
   "execution_count": null,
   "metadata": {},
   "outputs": [
    {
     "name": "stdout",
     "output_type": "stream",
     "text": [
      "RLC Parallel Circuit with Resistor with resistance: 10 ohms, inductance: 0.1 H, capacitance: 0.001 F, resonance frequency: 15.92 Hz\n"
     ]
    }
   ],
   "source": [
    "print(rlc_parallel_resonance)"
   ]
  },
  {
   "cell_type": "markdown",
   "metadata": {},
   "source": [
    "-----------------"
   ]
  },
  {
   "cell_type": "markdown",
   "metadata": {},
   "source": [
    "<link href=\"https://fonts.googleapis.com/css2?family=Dancing+Script&display=swap\" rel=\"stylesheet\">\n",
    "<div style=\"text-align: center; border-radius: 15px; \n",
    "            background-color: #4caf50; box-shadow: 0 2px 9px rgba(0, 0, 0, 2);\">\n",
    "    <p style=\"font-size: 1.8em; color: #ffffff; margin: 0;\">\n",
    "        <span style=\"font-weight: bold;\">Prepared By</span>\n",
    "    </p>\n",
    "    <p style=\"font-size: 2.2em; color: #ffffff; margin-top: 5px; \n",
    "               font-family: 'Dancing Script', cursive;\">\n",
    "        <span>Umair Khan</span>\n",
    "    </p>\n",
    "</div>\n"
   ]
  }
 ],
 "metadata": {
  "kernelspec": {
   "display_name": "Python 3 (ipykernel)",
   "language": "python",
   "name": "python3"
  },
  "language_info": {
   "codemirror_mode": {
    "name": "ipython",
    "version": 3
   },
   "file_extension": ".py",
   "mimetype": "text/x-python",
   "name": "python",
   "nbconvert_exporter": "python",
   "pygments_lexer": "ipython3",
   "version": "3.12.4"
  }
 },
 "nbformat": 4,
 "nbformat_minor": 4
}
