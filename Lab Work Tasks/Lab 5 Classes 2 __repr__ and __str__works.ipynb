{
 "cells": [
  {
   "cell_type": "markdown",
   "id": "9c545eb4",
   "metadata": {},
   "source": [
    "<div style=\"\n",
    "        background: linear-gradient(90deg, #8e44ad, #3498db);\n",
    "        padding: 30px 20px;\n",
    "        border-radius: 25px;\n",
    "        box-shadow: 0 7px 6px rgba(0, 0, 0, 0.3);\n",
    "        border: 2px solid #CCCCFF;\n",
    "        max-width: 90%;\n",
    "    \">\n",
    "        <span style=\"\n",
    "            color: #FFBF00;\n",
    "            font-size: 20px;\n",
    "            font-family: Cooper Black;\n",
    "            letter-spacing: 2px;\n",
    "            line-height: 1.4;\n",
    "            text-transform: sentencecase;\n",
    "            text-shadow: 3px 3px 8px rgba(0, 0, 0, 0.5);\n",
    "            text-align: center;\n",
    "        \">\n",
    "            University of Engineering and Technology Peshawar Jalozai Campus\n",
    "        </span>\n",
    "  </div>\n"
   ]
  },
  {
   "cell_type": "markdown",
   "id": "5bbe03d3",
   "metadata": {},
   "source": [
    " <div style=\"\n",
    "        background: linear-gradient(90deg, #e06377, #3b3a30);\n",
    "        padding: 30px 20px;\n",
    "        border-radius: 25px;\n",
    "        box-shadow: 0 7px 6px rgba(0, 0, 0, 0.3);\n",
    "        border: 2px solid #CCCCFF;\n",
    "        max-width: 90%;\n",
    "    \">\n",
    "        <span style=\"\n",
    "            font-size: 20px;\n",
    "            font-family: Cooper Black;\n",
    "            color: #FFBF00;\n",
    "            font-weight: bold;\n",
    "            letter-spacing: 1px;\n",
    "            text-shadow: 3px 1px 8px rgba(0, 0, 1, 0.6);\n",
    "        \">\n",
    "            Lab Title: EE-271 “OOP & Data Structures Lab”\n",
    "        </span>\n",
    "    </div>\n"
   ]
  },
  {
   "cell_type": "markdown",
   "id": "738eebdd",
   "metadata": {},
   "source": [
    "<div style=\"\n",
    "        background: linear-gradient(90deg, #c83349, #622569);\n",
    "        padding: 30px 20px;\n",
    "        border-radius: 25px;\n",
    "        box-shadow: 0 7px 6px rgba(0, 0, 0, 0.3);\n",
    "        border: 2px solid #CCCCFF;\n",
    "        max-width: 90%;\n",
    "    \">\n",
    "        <span style=\"\n",
    "            font-size: 20px;\n",
    "            font-family: Cooper Black;\n",
    "            color: #FFBF00;\n",
    "            font-weight: bold;\n",
    "            letter-spacing: 1px;\n",
    "            text-shadow: 3px 1px 8px rgba(0, 0, 1, 0.6);\n",
    "        \">\n",
    "            Lab 5: Classes 2 __repr__ and __str__\n",
    "        </span>\n",
    "    </div>\n"
   ]
  },
  {
   "cell_type": "markdown",
   "id": "0ba05344",
   "metadata": {},
   "source": [
    "-------------"
   ]
  },
  {
   "cell_type": "markdown",
   "id": "a5ed95ce",
   "metadata": {},
   "source": [
    "<span style=\"color: #000000;\n",
    "font-size: 44px;\n",
    "transition: color 0.3s;\">&#x21DD; </span>\n",
    "<span style=\"color: #ff0000;\n",
    "    font-family: Arial Black;\n",
    "font-size: 35px; font-weight: bold; \n",
    "text-shadow: 0px 4px 2px rgb(0, 0, 0);\">\n",
    "    Lab Work Tasks :</span>"
   ]
  },
  {
   "cell_type": "markdown",
   "id": "14b8044f",
   "metadata": {},
   "source": [
    "<center><span style=\"color:blue; \n",
    "font-family:Algerian; \n",
    "font-weight:bold;\n",
    "font-size:35px;\">Task No # 01 </span></center>"
   ]
  },
  {
   "cell_type": "markdown",
   "id": "db2706be",
   "metadata": {},
   "source": [
    "<div style=\"padding: 20px; font-family: Arial, sans-serif; background-color: #f9f9f9; border: 2px solid black; border-radius: 8px; width: fit-content;\">\n",
    "  <ul style=\"color: #555; font-size: 16px; line-height: 1.6;\">\n",
    "    <li><strong>Class Definition:</strong>Define a class <code>Point</code> in a 2-dimensional coordinate system with the necessary <code>__init__\n",
    "    </code> method.</li>\n",
    "    <li><strong>Instance Methods:</strong></li>\n",
    "    <ul>\n",
    "      <li><b>Distance Calculation</b>: Add an instance method for calculating the distance between two points.</li>\n",
    "      <li><b>Distance from Origin</b>: Include another instance method to calculate the distance from the origin (0, 0).</li>\n",
    "      <li><b>Locate</b>: Add a <code>locate</code> method to return the coordinates where the point is located.</li>\n",
    "    </ul>\n",
    "    <li><strong>Special Methods:</strong></li>\n",
    "    <ul>\n",
    "      <li><code>__repr__</code> and <code>__str__</code>: Implement these methods to provide a clear string representation for the class.</li>\n",
    "    </ul>\n",
    "    <li><strong>Documentation:</strong> Ensure proper annotations and docstrings for every class and instance method to improve readability and maintainability.</li>\n",
    "  </ul>\n",
    "</div>\n",
    "\n"
   ]
  },
  {
   "cell_type": "code",
   "execution_count": 2,
   "id": "9f01ed86-b81a-44a2-92fb-93c3b1da2abf",
   "metadata": {},
   "outputs": [],
   "source": [
    "import math\n",
    "\n",
    "class Point:\n",
    "    \n",
    "    def __init__(self, x: float = 0.0, y: float = 0.0):\n",
    "        self.x = x\n",
    "        self.y = y\n",
    "\n",
    "    def distance_to(self, other: 'Point') -> float:\n",
    "        return math.sqrt((self.x - other.x) ** 2 + (self.y - other.y) ** 2)\n",
    "\n",
    "    def distance_from_origin(self) -> float:\n",
    "        return math.sqrt(self.x ** 2 + self.y ** 2)\n",
    "\n",
    "    def locate(self) -> str:\n",
    "        return f\"Point coordinates: ({self.x}, {self.y})\"\n",
    "\n",
    "    def __repr__(self) -> str:\n",
    "        return f\"Point({self.x}, {self.y})\"\n",
    "\n",
    "    def __str__(self) -> str:\n",
    "        return f\"Point at ({self.x}, {self.y})\"\n"
   ]
  },
  {
   "cell_type": "markdown",
   "id": "e10fd823",
   "metadata": {},
   "source": [
    "<div style=\"padding: 20px; font-family: Arial, sans-serif; background-color: #f9f9f9; border:2px solid black; border-radius: 8px; width: fit-content;\">\n",
    "  <p style=\"color: #555; font-size: 16px; line-height: 1.6; margin-top: 10px;\">\n",
    "  To Define <code>inst_1</code>,<code>inst_2</code> and pass two numbers \n",
    "  </p>\n",
    "</div>\n"
   ]
  },
  {
   "cell_type": "code",
   "execution_count": 3,
   "id": "fd330223-ad12-4f16-9070-6ac124097286",
   "metadata": {},
   "outputs": [],
   "source": [
    "inst_1 = Point(3, 4)\n",
    "inst_2 = Point(6, 8)\n"
   ]
  },
  {
   "cell_type": "markdown",
   "id": "5ed96ca8",
   "metadata": {},
   "source": [
    "<div style=\"padding: 20px; font-family: Arial, sans-serif; background-color: #f9f9f9; border:2px solid black; border-radius: 8px; width: fit-content;\">\n",
    "  <p style=\"color: #555; font-size: 16px; line-height: 1.6; margin-top: 10px;\">\n",
    " To Print <code>inst_1</code> and <code>inst_2</code>, for this use the print command and pass the <code>inst_1</code> and <code>inst_2</code>.\n",
    "  </p>\n",
    "</div>"
   ]
  },
  {
   "cell_type": "code",
   "execution_count": 4,
   "id": "d5db9652-1f44-40cb-8e07-7a001051733c",
   "metadata": {},
   "outputs": [
    {
     "name": "stdout",
     "output_type": "stream",
     "text": [
      "Point at (3, 4)\n",
      "Point at (6, 8)\n"
     ]
    }
   ],
   "source": [
    "print(inst_1)\n",
    "print(inst_2)"
   ]
  },
  {
   "cell_type": "markdown",
   "id": "4cab4abf",
   "metadata": {},
   "source": [
    "<div style=\"padding: 20px; font-family: Arial, sans-serif; background-color: #f9f9f9; border:2px solid black; border-radius: 8px; width: fit-content;\">\n",
    "  <p style=\"color: #555; font-size: 16px; line-height: 1.6; margin-top: 10px;\">\n",
    "  To print the location of both points. (Add a display method).\n",
    "  </p>\n",
    "</div>\n"
   ]
  },
  {
   "cell_type": "code",
   "execution_count": 5,
   "id": "5d7760fa-e02c-4ac5-a1b1-1c8210f5dec5",
   "metadata": {},
   "outputs": [
    {
     "name": "stdout",
     "output_type": "stream",
     "text": [
      "Point coordinates: (3, 4)\n",
      "Point coordinates: (6, 8)\n"
     ]
    }
   ],
   "source": [
    "print(inst_1.locate())\n",
    "print(inst_2.locate())\n"
   ]
  },
  {
   "cell_type": "markdown",
   "id": "64ac7ea8",
   "metadata": {},
   "source": [
    "<div style=\"padding: 20px; font-family: Arial, sans-serif; background-color: #f9f9f9; border:2px solid black; border-radius: 8px; width: fit-content;\">\n",
    "  <p style=\"color: #555; font-size: 16px; line-height: 1.6; margin-top: 10px;\">\n",
    "  To Calculate the distance between these two pints. \n",
    "  </p>\n",
    "</div>\n"
   ]
  },
  {
   "cell_type": "code",
   "execution_count": 6,
   "id": "45f5b6bf-5bb7-44ae-b5e7-fcc943de44dc",
   "metadata": {},
   "outputs": [
    {
     "name": "stdout",
     "output_type": "stream",
     "text": [
      "Distance between inst_1 and inst_2: 5.0\n"
     ]
    }
   ],
   "source": [
    "distance = inst_1.distance_to(inst_2)\n",
    "print(f\"Distance between inst_1 and inst_2: {distance}\")"
   ]
  },
  {
   "cell_type": "markdown",
   "id": "04bb7b1a",
   "metadata": {},
   "source": [
    "<div style=\"padding: 20px; font-family: Arial, sans-serif; background-color: #f9f9f9; border:2px solid black; border-radius: 8px; width: fit-content;\">\n",
    "  <p style=\"color: #555; font-size: 16px; line-height: 1.6; margin-top: 10px;\">\n",
    "  To Call the <code>__dict__</code> by the class name.\n",
    "  </p>\n",
    "</div>\n"
   ]
  },
  {
   "cell_type": "code",
   "execution_count": 7,
   "id": "87e0f930-3f51-4fa8-b83f-f910ac3485a8",
   "metadata": {},
   "outputs": [
    {
     "name": "stdout",
     "output_type": "stream",
     "text": [
      "{'__module__': '__main__', '__init__': <function Point.__init__ at 0x000001DAEE0927A0>, 'distance_to': <function Point.distance_to at 0x000001DAEE092D40>, 'distance_from_origin': <function Point.distance_from_origin at 0x000001DAEE092F20>, 'locate': <function Point.locate at 0x000001DAEE0931A0>, '__repr__': <function Point.__repr__ at 0x000001DAEE093380>, '__str__': <function Point.__str__ at 0x000001DAEE093240>, '__dict__': <attribute '__dict__' of 'Point' objects>, '__weakref__': <attribute '__weakref__' of 'Point' objects>, '__doc__': None}\n"
     ]
    }
   ],
   "source": [
    "print(Point.__dict__)"
   ]
  },
  {
   "cell_type": "markdown",
   "id": "95348fca",
   "metadata": {},
   "source": [
    "<div style=\"padding: 20px; font-family: Arial, sans-serif; background-color: #f9f9f9; border:2px solid black; border-radius: 8px; width: fit-content;\">\n",
    "  <p style=\"color: #555; font-size: 16px; line-height: 1.6; margin-top: 10px;\">\n",
    "  Also pass the class name to the <code>vars</code> built-in function.\n",
    "  </p>\n",
    "</div>"
   ]
  },
  {
   "cell_type": "code",
   "execution_count": 8,
   "id": "e3a8e969-a448-48c2-8593-2742cc6cb341",
   "metadata": {},
   "outputs": [
    {
     "name": "stdout",
     "output_type": "stream",
     "text": [
      "{'__module__': '__main__', '__init__': <function Point.__init__ at 0x000001DAEE0927A0>, 'distance_to': <function Point.distance_to at 0x000001DAEE092D40>, 'distance_from_origin': <function Point.distance_from_origin at 0x000001DAEE092F20>, 'locate': <function Point.locate at 0x000001DAEE0931A0>, '__repr__': <function Point.__repr__ at 0x000001DAEE093380>, '__str__': <function Point.__str__ at 0x000001DAEE093240>, '__dict__': <attribute '__dict__' of 'Point' objects>, '__weakref__': <attribute '__weakref__' of 'Point' objects>, '__doc__': None}\n"
     ]
    }
   ],
   "source": [
    "print(vars(Point))"
   ]
  },
  {
   "cell_type": "markdown",
   "id": "09987210",
   "metadata": {},
   "source": [
    "<div style=\"padding: 20px; font-family: Arial, sans-serif; background-color: #f9f9f9; border:2px solid black; border-radius: 8px; width: fit-content;\">\n",
    "  <p style=\"color: #555; font-size: 16px; line-height: 1.6; margin-top: 10px;\">\n",
    "  To  Call the <code>__dict__</code> on the object of the class.\n",
    "  </p>\n",
    "</div>"
   ]
  },
  {
   "cell_type": "code",
   "execution_count": 9,
   "id": "9ed5d1c0-7a79-4058-ab47-a6716dedc4aa",
   "metadata": {},
   "outputs": [
    {
     "name": "stdout",
     "output_type": "stream",
     "text": [
      "{'x': 3, 'y': 4}\n"
     ]
    }
   ],
   "source": [
    "print(inst_1.__dict__)"
   ]
  },
  {
   "cell_type": "markdown",
   "id": "a94bcda2",
   "metadata": {},
   "source": [
    "<div style=\"padding: 20px; font-family: Arial, sans-serif; background-color: #f9f9f9; border:2px solid black; border-radius: 8px; width: fit-content;\">\n",
    "  <p style=\"color: #555; font-size: 16px; line-height: 1.6; margin-top: 10px;\">\n",
    "  To Pass the class name to help.\n",
    "  </p>\n",
    "</div>"
   ]
  },
  {
   "cell_type": "code",
   "execution_count": 10,
   "id": "cda7cdf6-47e8-4147-bdda-604d4820c337",
   "metadata": {},
   "outputs": [
    {
     "name": "stdout",
     "output_type": "stream",
     "text": [
      "Help on class Point in module __main__:\n",
      "\n",
      "class Point(builtins.object)\n",
      " |  Point(x: float = 0.0, y: float = 0.0)\n",
      " |\n",
      " |  Methods defined here:\n",
      " |\n",
      " |  __init__(self, x: float = 0.0, y: float = 0.0)\n",
      " |      Initialize self.  See help(type(self)) for accurate signature.\n",
      " |\n",
      " |  __repr__(self) -> str\n",
      " |      Return repr(self).\n",
      " |\n",
      " |  __str__(self) -> str\n",
      " |      Return str(self).\n",
      " |\n",
      " |  distance_from_origin(self) -> float\n",
      " |\n",
      " |  distance_to(self, other: 'Point') -> float\n",
      " |\n",
      " |  locate(self) -> str\n",
      " |\n",
      " |  ----------------------------------------------------------------------\n",
      " |  Data descriptors defined here:\n",
      " |\n",
      " |  __dict__\n",
      " |      dictionary for instance variables\n",
      " |\n",
      " |  __weakref__\n",
      " |      list of weak references to the object\n",
      "\n"
     ]
    }
   ],
   "source": [
    "help(Point)"
   ]
  },
  {
   "cell_type": "markdown",
   "id": "02cc73ef",
   "metadata": {},
   "source": [
    "<div style=\"padding: 20px; font-family: Arial, sans-serif; background-color: #f9f9f9; border:2px solid black; border-radius: 8px; width: fit-content;\">\n",
    "  <p style=\"color: #555; font-size: 16px; line-height: 1.6; margin-top: 10px;\">\n",
    " To Print the doc-string and annotations of both the class and each instance method.\n",
    "  </p>\n",
    "</div>"
   ]
  },
  {
   "cell_type": "code",
   "execution_count": 11,
   "id": "9e7e80d8-06b1-4377-a4e3-6ea31e68462a",
   "metadata": {},
   "outputs": [
    {
     "name": "stdout",
     "output_type": "stream",
     "text": [
      "None\n",
      "None\n",
      "{'x': <class 'float'>, 'y': <class 'float'>}\n",
      "None\n",
      "{'other': 'Point', 'return': <class 'float'>}\n",
      "None\n",
      "{'return': <class 'float'>}\n",
      "None\n",
      "{'return': <class 'str'>}\n",
      "None\n",
      "{'return': <class 'str'>}\n",
      "None\n",
      "{'return': <class 'str'>}\n"
     ]
    }
   ],
   "source": [
    "print(Point.__doc__)\n",
    "for method in [Point.__init__, Point.distance_to, Point.distance_from_origin, Point.locate, Point.__repr__, Point.__str__]:\n",
    "    print(method.__doc__)\n",
    "    print(method.__annotations__)"
   ]
  },
  {
   "cell_type": "markdown",
   "id": "e1346c3c",
   "metadata": {},
   "source": [
    "<div style=\"padding: 20px; font-family: Arial, sans-serif; background-color: #f9f9f9; border:2px solid black; border-radius: 8px; width: fit-content;\">\n",
    "  <p style=\"color: #555; font-size: 16px; line-height: 1.6; margin-top: 10px;\">\n",
    "  To  Modify the <code>__init__</code> by by making its parameters default and verify by instances.\n",
    "  </p>\n",
    "</div>\n"
   ]
  },
  {
   "cell_type": "code",
   "execution_count": 12,
   "id": "8cca0e0d-d3cc-475d-964f-74738dcdccff",
   "metadata": {},
   "outputs": [
    {
     "name": "stdout",
     "output_type": "stream",
     "text": [
      "Point coordinates: (0.0, 0.0)\n"
     ]
    }
   ],
   "source": [
    "inst_3 = Point()\n",
    "print(inst_3.locate()) "
   ]
  },
  {
   "cell_type": "markdown",
   "id": "84a91b6b",
   "metadata": {},
   "source": [
    "--------------------------"
   ]
  },
  {
   "cell_type": "markdown",
   "id": "78f4be3e",
   "metadata": {},
   "source": [
    "<center><span style=\"color:blue; \n",
    "font-family:Algerian; \n",
    "font-weight:bold;\n",
    "font-size:35px;\">Task No # 02 </span></center>"
   ]
  },
  {
   "cell_type": "markdown",
   "id": "c54493f2",
   "metadata": {},
   "source": [
    "<div style=\"padding: 20px; font-family: Arial, sans-serif; background-color: #f9f9f9; border: 2px solid black; border-radius: 8px; width: fit-content;\">\n",
    "  <ul style=\"color: #555; font-size: 16px; line-height: 1.6;\">\n",
    "    <li><strong>Class Definition:</strong> Define a class <code>Circle</code> with the necessary <code>__init__</code> method to initialize its radius.</li>\n",
    "    <li><strong>Instance Methods:</strong></li>\n",
    "    <ul>\n",
    "      <li><b>Volume of a Cylinder</b>: Add an instance method to calculate the volume of a cylinder using the circle’s radius and a specified height.</li>\n",
    "      <li><b>Area, Circumference, and Diameter</b>: Add methods to calculate the circle’s area, circumference, and diameter based on the radius.</li>\n",
    "    </ul>\n",
    "    <li><strong>Special Methods:</strong></li>\n",
    "    <ul>\n",
    "      <li><code>__repr__</code> and <code>__str__</code>: Implement these methods to provide a clear string representation of the class.</li>\n",
    "    </ul>\n",
    "    <li><strong>Documentation:</strong> Include proper annotations and docstrings for each method to enhance code readability and maintainability.</li>\n",
    "  </ul>\n",
    "</div>\n"
   ]
  },
  {
   "cell_type": "code",
   "execution_count": 13,
   "id": "ae3c0bce-07b0-4afb-b49e-e41dae47d200",
   "metadata": {},
   "outputs": [],
   "source": [
    "import math\n",
    "\n",
    "class Circle:\n",
    "   \n",
    "    def __init__(self, radius: float = 1.0):\n",
    "        self._radius = radius\n",
    "   \n",
    "    def radius(self) -> float:\n",
    "\n",
    "        return self._radius\n",
    "\n",
    "    def radius(self, value: float) -> None:\n",
    "        \n",
    "        if value < 0:\n",
    "            raise ValueError(\"Radius cannot be negative.\")\n",
    "        self._radius = value\n",
    "\n",
    "    def diameter(self) -> float:\n",
    "\n",
    "        return self._radius * 2\n",
    "\n",
    "    def area(self) -> float:\n",
    "        \n",
    "        return math.pi * (self._radius ** 2)\n",
    "\n",
    "    def circumference(self) -> float:\n",
    "        \n",
    "        return 2 * math.pi * self._radius\n",
    "\n",
    "    def cylinder_volume(self, height: float) -> float:\n",
    "        \n",
    "        return self.area * height\n",
    "\n",
    "    def __repr__(self) -> str:\n",
    "\n",
    "        return f\"Circle(radius={self._radius})\"\n",
    "\n",
    "    def __str__(self) -> str:\n",
    "\n",
    "        return f\"Circle with radius: {self._radius}, area: {self.area}, circumference: {self.circumference}\"\n"
   ]
  },
  {
   "cell_type": "markdown",
   "id": "59ab793f",
   "metadata": {},
   "source": [
    "<div style=\"padding: 20px; font-family: Arial, sans-serif; background-color: #f9f9f9; border:2px solid black; border-radius: 8px; width: fit-content;\">\n",
    "  <p style=\"color: #555; font-size: 16px; line-height: 1.6; margin-top: 10px;\">\n",
    "  To Define <code>inst_1</code>,<code>inst_2</code> and pass two numbers \n",
    "  </p>\n",
    "</div>\n"
   ]
  },
  {
   "cell_type": "code",
   "execution_count": 14,
   "id": "0a105f75-09b5-4de8-96a7-5e1edad7ae2d",
   "metadata": {},
   "outputs": [],
   "source": [
    "inst_1 = Circle(5)\n",
    "inst_2 = Circle(10)\n"
   ]
  },
  {
   "cell_type": "markdown",
   "id": "6288ee51",
   "metadata": {},
   "source": [
    "<div style=\"padding: 20px; font-family: Arial, sans-serif; background-color: #f9f9f9; border:2px solid black; border-radius: 8px; width: fit-content;\">\n",
    "  <p style=\"color: #555; font-size: 16px; line-height: 1.6; margin-top: 10px;\">\n",
    " To Print <code>inst_1</code> and <code>inst_2</code>, for this use the print command and pass the <code>inst_1</code> and <code>inst_2</code>.\n",
    "  </p>\n",
    "</div>"
   ]
  },
  {
   "cell_type": "code",
   "execution_count": 15,
   "id": "9a955a74-a6ee-4c32-9321-875605985cc8",
   "metadata": {},
   "outputs": [
    {
     "name": "stdout",
     "output_type": "stream",
     "text": [
      "Circle with radius: 5, area: <bound method Circle.area of Circle(radius=5)>, circumference: <bound method Circle.circumference of Circle(radius=5)>\n",
      "Circle with radius: 10, area: <bound method Circle.area of Circle(radius=10)>, circumference: <bound method Circle.circumference of Circle(radius=10)>\n"
     ]
    }
   ],
   "source": [
    "print(inst_1)\n",
    "print(inst_2)"
   ]
  },
  {
   "cell_type": "markdown",
   "id": "ac229e9f",
   "metadata": {},
   "source": [
    "<div style=\"padding: 20px; font-family: Arial, sans-serif; background-color: #f9f9f9; border:2px solid black; border-radius: 8px; width: fit-content;\">\n",
    "  <p style=\"color: #555; font-size: 16px; line-height: 1.6; margin-top: 10px;\">\n",
    "  To Call the <code>__dict__</code> by the class name.\n",
    "  </p>\n",
    "</div>\n"
   ]
  },
  {
   "cell_type": "code",
   "execution_count": 16,
   "id": "9d0333e5-0264-4076-aa2e-1cc949fc8752",
   "metadata": {},
   "outputs": [
    {
     "name": "stdout",
     "output_type": "stream",
     "text": [
      "{'__module__': '__main__', '__init__': <function Circle.__init__ at 0x000001DAEE093560>, 'radius': <function Circle.radius at 0x000001DAEE093420>, 'diameter': <function Circle.diameter at 0x000001DAEE0937E0>, 'area': <function Circle.area at 0x000001DAEE092840>, 'circumference': <function Circle.circumference at 0x000001DAEE0932E0>, 'cylinder_volume': <function Circle.cylinder_volume at 0x000001DAEE092AC0>, '__repr__': <function Circle.__repr__ at 0x000001DAEE092CA0>, '__str__': <function Circle.__str__ at 0x000001DAEE093A60>, '__dict__': <attribute '__dict__' of 'Circle' objects>, '__weakref__': <attribute '__weakref__' of 'Circle' objects>, '__doc__': None}\n"
     ]
    }
   ],
   "source": [
    "print(Circle.__dict__)\n",
    "\n"
   ]
  },
  {
   "cell_type": "markdown",
   "id": "bdd57f46",
   "metadata": {},
   "source": [
    "<div style=\"padding: 20px; font-family: Arial, sans-serif; background-color: #f9f9f9; border:2px solid black; border-radius: 8px; width: fit-content;\">\n",
    "  <p style=\"color: #555; font-size: 16px; line-height: 1.6; margin-top: 10px;\">\n",
    "  Also pass the class name to the <code>vars</code> built-in function.\n",
    "  </p>\n",
    "</div>"
   ]
  },
  {
   "cell_type": "code",
   "execution_count": 17,
   "id": "69a286c0",
   "metadata": {},
   "outputs": [
    {
     "name": "stdout",
     "output_type": "stream",
     "text": [
      "{'__module__': '__main__', '__init__': <function Circle.__init__ at 0x000001DAEE093560>, 'radius': <function Circle.radius at 0x000001DAEE093420>, 'diameter': <function Circle.diameter at 0x000001DAEE0937E0>, 'area': <function Circle.area at 0x000001DAEE092840>, 'circumference': <function Circle.circumference at 0x000001DAEE0932E0>, 'cylinder_volume': <function Circle.cylinder_volume at 0x000001DAEE092AC0>, '__repr__': <function Circle.__repr__ at 0x000001DAEE092CA0>, '__str__': <function Circle.__str__ at 0x000001DAEE093A60>, '__dict__': <attribute '__dict__' of 'Circle' objects>, '__weakref__': <attribute '__weakref__' of 'Circle' objects>, '__doc__': None}\n"
     ]
    }
   ],
   "source": [
    "print(vars(Circle))"
   ]
  },
  {
   "cell_type": "markdown",
   "id": "45bf7c26",
   "metadata": {},
   "source": [
    "<div style=\"padding: 20px; font-family: Arial, sans-serif; background-color: #f9f9f9; border:2px solid black; border-radius: 8px; width: fit-content;\">\n",
    "  <p style=\"color: #555; font-size: 16px; line-height: 1.6; margin-top: 10px;\">\n",
    "  To  Call the <code>__dict__</code> on the object of the class.\n",
    "  </p>\n",
    "</div>"
   ]
  },
  {
   "cell_type": "code",
   "execution_count": 18,
   "id": "6c80da0a-7a41-4bb7-b495-f767e103b619",
   "metadata": {},
   "outputs": [
    {
     "name": "stdout",
     "output_type": "stream",
     "text": [
      "{'_radius': 5}\n"
     ]
    }
   ],
   "source": [
    "print(inst_1.__dict__)"
   ]
  },
  {
   "cell_type": "markdown",
   "id": "30684397",
   "metadata": {},
   "source": [
    "<div style=\"padding: 20px; font-family: Arial, sans-serif; background-color: #f9f9f9; border:2px solid black; border-radius: 8px; width: fit-content;\">\n",
    "  <p style=\"color: #555; font-size: 16px; line-height: 1.6; margin-top: 10px;\">\n",
    "  To Pass the class name to <code>help</code>.\n",
    "  </p>\n",
    "</div>"
   ]
  },
  {
   "cell_type": "code",
   "execution_count": 19,
   "id": "74e3033e-ee0e-47cb-a277-4b17562fdbc5",
   "metadata": {},
   "outputs": [
    {
     "name": "stdout",
     "output_type": "stream",
     "text": [
      "Help on class Circle in module __main__:\n",
      "\n",
      "class Circle(builtins.object)\n",
      " |  Circle(radius: float = 1.0)\n",
      " |\n",
      " |  Methods defined here:\n",
      " |\n",
      " |  __init__(self, radius: float = 1.0)\n",
      " |      Initialize self.  See help(type(self)) for accurate signature.\n",
      " |\n",
      " |  __repr__(self) -> str\n",
      " |      Return repr(self).\n",
      " |\n",
      " |  __str__(self) -> str\n",
      " |      Return str(self).\n",
      " |\n",
      " |  area(self) -> float\n",
      " |\n",
      " |  circumference(self) -> float\n",
      " |\n",
      " |  cylinder_volume(self, height: float) -> float\n",
      " |\n",
      " |  diameter(self) -> float\n",
      " |\n",
      " |  radius(self, value: float) -> None\n",
      " |\n",
      " |  ----------------------------------------------------------------------\n",
      " |  Data descriptors defined here:\n",
      " |\n",
      " |  __dict__\n",
      " |      dictionary for instance variables\n",
      " |\n",
      " |  __weakref__\n",
      " |      list of weak references to the object\n",
      "\n"
     ]
    }
   ],
   "source": [
    "help(Circle)"
   ]
  },
  {
   "cell_type": "markdown",
   "id": "3cbf3171",
   "metadata": {},
   "source": [
    "<div style=\"padding: 20px; font-family: Arial, sans-serif; background-color: #f9f9f9; border:2px solid black; border-radius: 8px; width: fit-content;\">\n",
    "  <p style=\"color: #555; font-size: 16px; line-height: 1.6; margin-top: 10px;\">\n",
    " To Print the doc-string and annotations of both the class and each instance method.\n",
    "  </p>\n",
    "</div>"
   ]
  },
  {
   "cell_type": "code",
   "execution_count": 20,
   "id": "774cd553-e2e5-4e58-8e99-acc865a13665",
   "metadata": {},
   "outputs": [
    {
     "name": "stdout",
     "output_type": "stream",
     "text": [
      "None\n",
      "__init__: None\n",
      "Annotations: {'radius': <class 'float'>}\n",
      "\n",
      "radius: None\n",
      "Annotations: {'value': <class 'float'>, 'return': None}\n",
      "\n",
      "radius: None\n",
      "Annotations: {'value': <class 'float'>, 'return': None}\n",
      "\n",
      "diameter: None\n",
      "Annotations: {'return': <class 'float'>}\n",
      "\n",
      "area: None\n",
      "Annotations: {'return': <class 'float'>}\n",
      "\n",
      "circumference: None\n",
      "Annotations: {'return': <class 'float'>}\n",
      "\n",
      "cylinder_volume: None\n",
      "Annotations: {'height': <class 'float'>, 'return': <class 'float'>}\n",
      "\n"
     ]
    }
   ],
   "source": [
    "print(Circle.__doc__)\n",
    "for method in [Circle.__init__, Circle.radius, Circle.radius, Circle.diameter,\n",
    "               Circle.area, Circle.circumference, Circle.cylinder_volume]:\n",
    "    print(f\"{method.__name__}: {method.__doc__}\\nAnnotations: {method.__annotations__}\\n\")"
   ]
  },
  {
   "cell_type": "markdown",
   "id": "1b7d79bf",
   "metadata": {},
   "source": [
    "<div style=\"padding: 20px; font-family: Arial, sans-serif; background-color: #f9f9f9; border:2px solid black; border-radius: 8px; width: fit-content;\">\n",
    "  <p style=\"color: #555; font-size: 16px; line-height: 1.6; margin-top: 10px;\">\n",
    "  To  Modify the <code>__init__</code> by by making its parameters default and verify by instances.\n",
    "  </p>\n",
    "</div>\n"
   ]
  },
  {
   "cell_type": "code",
   "execution_count": 21,
   "id": "47416dd3-6d84-46b7-bc5c-40760232b223",
   "metadata": {},
   "outputs": [
    {
     "name": "stdout",
     "output_type": "stream",
     "text": [
      "Circle with radius: 1.0, area: <bound method Circle.area of Circle(radius=1.0)>, circumference: <bound method Circle.circumference of Circle(radius=1.0)>\n"
     ]
    }
   ],
   "source": [
    "inst_3 = Circle() \n",
    "print(inst_3)"
   ]
  },
  {
   "cell_type": "markdown",
   "id": "57d48224",
   "metadata": {},
   "source": [
    "_____________"
   ]
  },
  {
   "cell_type": "markdown",
   "id": "e29b5520",
   "metadata": {},
   "source": [
    "<center><span style=\"color:blue; \n",
    "font-family:Algerian; \n",
    "font-weight:bold;\n",
    "font-size:35px;\">Task No # 03 </span></center>"
   ]
  },
  {
   "cell_type": "markdown",
   "id": "2911fc1a",
   "metadata": {},
   "source": [
    "<div style=\"padding: 20px; font-family: Arial, sans-serif; background-color: #f9f9f9; border: 2px solid black; border-radius: 8px; width: fit-content;\">\n",
    "  <ul style=\"color: #555; font-size: 16px; line-height: 1.6;\">\n",
    "    <li><strong>Class Definition:</strong> Define a class <code>RLC</code> to represent a series RLC circuit, with an <code>__init__</code> method to initialize resistance (R), inductance (L), and capacitance (C) values.</li>\n",
    "    <li><strong>Instance Methods:</strong></li>\n",
    "    <ul>\n",
    "      <li><b>Impedance Calculation</b>: Add a method to calculate the circuit’s impedance based on the given R, L, and C values.</li>\n",
    "      <li><b>Phase Angle</b>: Include a method to determine the phase angle of the circuit.</li>\n",
    "      <li><b>Power Factor</b>: Add a method to calculate the circuit’s power factor, which indicates the efficiency of the circuit.</li>\n",
    "      <li><b>Current Calculation</b>: Add a method to calculate the current flowing through the circuit for a given input voltage.</li>\n",
    "    </ul>\n",
    "    <li><strong>Special Methods:</strong></li>\n",
    "    <ul>\n",
    "      <li><code>__repr__</code> and <code>__str__</code>: Implement these methods to provide a clear and descriptive string representation of the circuit.</li>\n",
    "    </ul>\n",
    "    <li><strong>Documentation:</strong> Ensure proper annotations and docstrings are included for each method to improve code clarity and maintainability.</li>\n",
    "  </ul>\n",
    "</div>\n"
   ]
  },
  {
   "cell_type": "code",
   "execution_count": 22,
   "id": "1299193e-9443-40e6-a00d-86ae90a94c16",
   "metadata": {},
   "outputs": [],
   "source": [
    "import math\n",
    "\n",
    "class RLC:\n",
    "    \n",
    "    def __init__(self, resistance: float = 1.0, inductance: float = 1.0, capacitance: float = 1.0) -> None:\n",
    "        \n",
    "        self.resistance = resistance\n",
    "        self.inductance = inductance\n",
    "        self.capacitance = capacitance\n",
    "\n",
    "    @property\n",
    "    def resistance(self) -> float:\n",
    "       \n",
    "        return self._resistance\n",
    "\n",
    "    @resistance.setter\n",
    "    def resistance(self, value: float) -> None:\n",
    "        \n",
    "        if value < 0:\n",
    "            raise ValueError(\"Resistance cannot be negative.\")\n",
    "        self._resistance = value\n",
    "\n",
    "    @property\n",
    "    def inductance(self) -> float:\n",
    "        return self._inductance\n",
    "\n",
    "    @inductance.setter\n",
    "    def inductance(self, value: float) -> None:\n",
    "        \n",
    "        if value < 0:\n",
    "            raise ValueError(\"Inductance cannot be negative.\")\n",
    "        self._inductance = value\n",
    "\n",
    "    @property\n",
    "    def capacitance(self) -> float:\n",
    "        \n",
    "        return self._capacitance\n",
    "\n",
    "    @capacitance.setter\n",
    "    def capacitance(self, value: float) -> None:\n",
    "\n",
    "        if value < 0:\n",
    "            raise ValueError(\"Capacitance cannot be negative.\")\n",
    "        self._capacitance = value\n",
    "\n",
    "    @property\n",
    "    def impedance(self) -> float:\n",
    "        reactance_inductive = 2 * math.pi * 60 * self.inductance  # Assume frequency is 60 Hz\n",
    "        reactance_capacitive = 1 / (2 * math.pi * 60 * self.capacitance)\n",
    "        return math.sqrt(self.resistance ** 2 + (reactance_inductive - reactance_capacitive) ** 2)\n",
    "\n",
    "    @property\n",
    "    def phase(self) -> float:\n",
    "        reactance_inductive = 2 * math.pi * 60 * self.inductance\n",
    "        reactance_capacitive = 1 / (2 * math.pi * 60 * self.capacitance)\n",
    "        return math.degrees(math.atan((reactance_inductive - reactance_capacitive) / self.resistance))\n",
    "\n",
    "    @property\n",
    "    def power_factor(self) -> float:\n",
    "        return math.cos(math.radians(self.phase))\n",
    "\n",
    "    def current(self, voltage: float) -> float:\n",
    "        return voltage / self.impedance\n",
    "\n",
    "    def __repr__(self) -> str:\n",
    "        return (f\"RLC(resistance={self.resistance}, inductance={self.inductance}, \"\n",
    "                f\"capacitance={self.capacitance})\")\n",
    "\n",
    "    def __str__(self) -> str:\n",
    "        return (f\"RLC Circuit: Resistance = {self.resistance} Ω, Inductance = {self.inductance} H, \"\n",
    "                f\"Capacitance = {self.capacitance} F, Impedance = {self.impedance:.2f} Ω, \"\n",
    "                f\"Phase = {self.phase:.2f}°, Power Factor = {self.power_factor:.2f}\")\n"
   ]
  },
  {
   "cell_type": "markdown",
   "id": "dacbadf6",
   "metadata": {},
   "source": [
    "<div style=\"padding: 20px; font-family: Arial, sans-serif; background-color: #f9f9f9; border:2px solid black; border-radius: 8px; width: fit-content;\">\n",
    "  <p style=\"color: #555; font-size: 16px; line-height: 1.6; margin-top: 10px;\">\n",
    "  To Define <code>inst_1</code>,<code>inst_2</code> and pass two numbers \n",
    "  </p>\n",
    "</div>\n"
   ]
  },
  {
   "cell_type": "code",
   "execution_count": 23,
   "id": "ad73cb9f-8d6b-44fa-812e-74ea071db477",
   "metadata": {},
   "outputs": [],
   "source": [
    "    inst_1 = RLC(10, 0.5, 0.01)\n",
    "    inst_2 = RLC(20, 1.0, 0.005)"
   ]
  },
  {
   "cell_type": "markdown",
   "id": "b1b14a9d",
   "metadata": {},
   "source": [
    "<div style=\"padding: 20px; font-family: Arial, sans-serif; background-color: #f9f9f9; border:2px solid black; border-radius: 8px; width: fit-content;\">\n",
    "  <p style=\"color: #555; font-size: 16px; line-height: 1.6; margin-top: 10px;\">\n",
    " To Print <code>inst_1</code> and <code>inst_2</code>, for this use the print command and pass the <code>inst_1</code> and <code>inst_2</code>.\n",
    "  </p>\n",
    "</div>"
   ]
  },
  {
   "cell_type": "code",
   "execution_count": 24,
   "id": "58ac8879-1bbe-432a-854b-0e9e5db975e1",
   "metadata": {},
   "outputs": [
    {
     "name": "stdout",
     "output_type": "stream",
     "text": [
      "RLC Circuit: Resistance = 10 Ω, Inductance = 0.5 H, Capacitance = 0.01 F, Impedance = 188.50 Ω, Phase = 86.96°, Power Factor = 0.05\n",
      "RLC Circuit: Resistance = 20 Ω, Inductance = 1.0 H, Capacitance = 0.005 F, Impedance = 376.99 Ω, Phase = 86.96°, Power Factor = 0.05\n"
     ]
    }
   ],
   "source": [
    "print(inst_1)\n",
    "print(inst_2)"
   ]
  },
  {
   "cell_type": "markdown",
   "id": "ff899f88",
   "metadata": {},
   "source": [
    "<div style=\"padding: 20px; font-family: Arial, sans-serif; background-color: #f9f9f9; border:2px solid black; border-radius: 8px; width: fit-content;\">\n",
    "  <p style=\"color: #555; font-size: 16px; line-height: 1.6; margin-top: 10px;\">\n",
    "  To Call the <code>__dict__</code> by the class name.\n",
    "  </p>\n",
    "</div>\n"
   ]
  },
  {
   "cell_type": "code",
   "execution_count": 25,
   "id": "509841ea-c10c-4920-b243-016a7c5c767d",
   "metadata": {},
   "outputs": [
    {
     "name": "stdout",
     "output_type": "stream",
     "text": [
      "{'__module__': '__main__', '__init__': <function RLC.__init__ at 0x000001DAEE0939C0>, 'resistance': <property object at 0x000001DAEE5A09F0>, 'inductance': <property object at 0x000001DAEE5A13A0>, 'capacitance': <property object at 0x000001DAEE5A1990>, 'impedance': <property object at 0x000001DAEE5AE020>, 'phase': <property object at 0x000001DAEE5ACE50>, 'power_factor': <property object at 0x000001DAEE5A22A0>, 'current': <function RLC.current at 0x000001DAEE5B40E0>, '__repr__': <function RLC.__repr__ at 0x000001DAEE5B4540>, '__str__': <function RLC.__str__ at 0x000001DAEE5B4400>, '__dict__': <attribute '__dict__' of 'RLC' objects>, '__weakref__': <attribute '__weakref__' of 'RLC' objects>, '__doc__': None}\n"
     ]
    }
   ],
   "source": [
    "print(RLC.__dict__)"
   ]
  },
  {
   "cell_type": "markdown",
   "id": "c740d738",
   "metadata": {},
   "source": [
    "<div style=\"padding: 20px; font-family: Arial, sans-serif; background-color: #f9f9f9; border:2px solid black; border-radius: 8px; width: fit-content;\">\n",
    "  <p style=\"color: #555; font-size: 16px; line-height: 1.6; margin-top: 10px;\">\n",
    "  Also pass the class name to the <code>vars</code> built-in function.\n",
    "  </p>\n",
    "</div>"
   ]
  },
  {
   "cell_type": "code",
   "execution_count": 26,
   "id": "a87ed1f2",
   "metadata": {},
   "outputs": [
    {
     "name": "stdout",
     "output_type": "stream",
     "text": [
      "{'__module__': '__main__', '__init__': <function RLC.__init__ at 0x000001DAEE0939C0>, 'resistance': <property object at 0x000001DAEE5A09F0>, 'inductance': <property object at 0x000001DAEE5A13A0>, 'capacitance': <property object at 0x000001DAEE5A1990>, 'impedance': <property object at 0x000001DAEE5AE020>, 'phase': <property object at 0x000001DAEE5ACE50>, 'power_factor': <property object at 0x000001DAEE5A22A0>, 'current': <function RLC.current at 0x000001DAEE5B40E0>, '__repr__': <function RLC.__repr__ at 0x000001DAEE5B4540>, '__str__': <function RLC.__str__ at 0x000001DAEE5B4400>, '__dict__': <attribute '__dict__' of 'RLC' objects>, '__weakref__': <attribute '__weakref__' of 'RLC' objects>, '__doc__': None}\n"
     ]
    }
   ],
   "source": [
    "print(vars(RLC))"
   ]
  },
  {
   "cell_type": "markdown",
   "id": "ee5095ea",
   "metadata": {},
   "source": [
    "<div style=\"padding: 20px; font-family: Arial, sans-serif; background-color: #f9f9f9; border:2px solid black; border-radius: 8px; width: fit-content;\">\n",
    "  <p style=\"color: #555; font-size: 16px; line-height: 1.6; margin-top: 10px;\">\n",
    "  To  Call the <code>__dict__</code> on the object of the class.\n",
    "  </p>\n",
    "</div>"
   ]
  },
  {
   "cell_type": "code",
   "execution_count": 27,
   "id": "469bd4e0-a7a5-470b-9d13-5f38ce3a3384",
   "metadata": {},
   "outputs": [
    {
     "name": "stdout",
     "output_type": "stream",
     "text": [
      "{'_resistance': 10, '_inductance': 0.5, '_capacitance': 0.01}\n"
     ]
    }
   ],
   "source": [
    "print(inst_1.__dict__)"
   ]
  },
  {
   "cell_type": "markdown",
   "id": "5daf4ca7",
   "metadata": {},
   "source": [
    "<div style=\"padding: 20px; font-family: Arial, sans-serif; background-color: #f9f9f9; border:2px solid black; border-radius: 8px; width: fit-content;\">\n",
    "  <p style=\"color: #555; font-size: 16px; line-height: 1.6; margin-top: 10px;\">\n",
    "  To Pass the class name to <code>help</code>.\n",
    "  </p>\n",
    "</div>"
   ]
  },
  {
   "cell_type": "code",
   "execution_count": 28,
   "id": "4681f8c2-80f8-4ecc-87b5-4e9555a6f593",
   "metadata": {},
   "outputs": [
    {
     "name": "stdout",
     "output_type": "stream",
     "text": [
      "Help on class RLC in module __main__:\n",
      "\n",
      "class RLC(builtins.object)\n",
      " |  RLC(resistance: float = 1.0, inductance: float = 1.0, capacitance: float = 1.0) -> None\n",
      " |\n",
      " |  Methods defined here:\n",
      " |\n",
      " |  __init__(self, resistance: float = 1.0, inductance: float = 1.0, capacitance: float = 1.0) -> None\n",
      " |      Initialize self.  See help(type(self)) for accurate signature.\n",
      " |\n",
      " |  __repr__(self) -> str\n",
      " |      Return repr(self).\n",
      " |\n",
      " |  __str__(self) -> str\n",
      " |      Return str(self).\n",
      " |\n",
      " |  current(self, voltage: float) -> float\n",
      " |\n",
      " |  ----------------------------------------------------------------------\n",
      " |  Readonly properties defined here:\n",
      " |\n",
      " |  impedance\n",
      " |\n",
      " |  phase\n",
      " |\n",
      " |  power_factor\n",
      " |\n",
      " |  ----------------------------------------------------------------------\n",
      " |  Data descriptors defined here:\n",
      " |\n",
      " |  __dict__\n",
      " |      dictionary for instance variables\n",
      " |\n",
      " |  __weakref__\n",
      " |      list of weak references to the object\n",
      " |\n",
      " |  capacitance\n",
      " |\n",
      " |  inductance\n",
      " |\n",
      " |  resistance\n",
      "\n"
     ]
    }
   ],
   "source": [
    "help(RLC)\n"
   ]
  },
  {
   "cell_type": "markdown",
   "id": "62dc6af4",
   "metadata": {},
   "source": [
    "<div style=\"padding: 20px; font-family: Arial, sans-serif; background-color: #f9f9f9; border:2px solid black; border-radius: 8px; width: fit-content;\">\n",
    "  <p style=\"color: #555; font-size: 16px; line-height: 1.6; margin-top: 10px;\">\n",
    " To Print the doc-string and annotations of both the class and each instance method.\n",
    "  </p>\n",
    "</div>"
   ]
  },
  {
   "cell_type": "code",
   "execution_count": 29,
   "id": "bc502bab-02e9-47a0-acfa-e4b0427b8929",
   "metadata": {},
   "outputs": [
    {
     "name": "stdout",
     "output_type": "stream",
     "text": [
      "None\n",
      "__init__: None\n",
      "Annotations: {'resistance': <class 'float'>, 'inductance': <class 'float'>, 'capacitance': <class 'float'>, 'return': None}\n",
      "\n",
      "resistance: None\n",
      "Annotations: {'return': <class 'float'>}\n",
      "\n",
      "resistance: None\n",
      "Annotations: {'value': <class 'float'>, 'return': None}\n",
      "\n",
      "inductance: None\n",
      "Annotations: {'return': <class 'float'>}\n",
      "\n",
      "inductance: None\n",
      "Annotations: {'value': <class 'float'>, 'return': None}\n",
      "\n",
      "capacitance: None\n",
      "Annotations: {'return': <class 'float'>}\n",
      "\n",
      "capacitance: None\n",
      "Annotations: {'value': <class 'float'>, 'return': None}\n",
      "\n",
      "impedance: None\n",
      "Annotations: {'return': <class 'float'>}\n",
      "\n",
      "phase: None\n",
      "Annotations: {'return': <class 'float'>}\n",
      "\n",
      "power_factor: None\n",
      "Annotations: {'return': <class 'float'>}\n",
      "\n",
      "current: None\n",
      "Annotations: {'voltage': <class 'float'>, 'return': <class 'float'>}\n",
      "\n"
     ]
    }
   ],
   "source": [
    "print(RLC.__doc__)\n",
    "for method in [RLC.__init__, RLC.resistance.fget, RLC.resistance.fset, RLC.inductance.fget, \n",
    "               RLC.inductance.fset, RLC.capacitance.fget, RLC.capacitance.fset, \n",
    "               RLC.impedance.fget, RLC.phase.fget, RLC.power_factor.fget, \n",
    "               RLC.current]:\n",
    "    print(f\"{method.__name__}: {method.__doc__}\\nAnnotations: {method.__annotations__}\\n\")\n"
   ]
  },
  {
   "cell_type": "markdown",
   "id": "82a8ae40",
   "metadata": {},
   "source": [
    "<div style=\"padding: 20px; font-family: Arial, sans-serif; background-color: #f9f9f9; border:2px solid black; border-radius: 8px; width: fit-content;\">\n",
    "  <p style=\"color: #555; font-size: 16px; line-height: 1.6; margin-top: 10px;\">\n",
    "  To  Modify the <code>__init__3</code> by by making its parameters default and verify by instances.\n",
    "  </p>\n",
    "</div>\n"
   ]
  },
  {
   "cell_type": "code",
   "execution_count": 30,
   "id": "f0c994af-d6b9-47b9-9f6a-0e5f2eed9189",
   "metadata": {},
   "outputs": [
    {
     "name": "stdout",
     "output_type": "stream",
     "text": [
      "RLC Circuit: Resistance = 1.0 Ω, Inductance = 1.0 H, Capacitance = 1.0 F, Impedance = 376.99 Ω, Phase = 89.85°, Power Factor = 0.00\n"
     ]
    }
   ],
   "source": [
    "inst_3 = RLC()\n",
    "print(inst_3)\n"
   ]
  },
  {
   "cell_type": "markdown",
   "id": "43966c30",
   "metadata": {},
   "source": [
    "------------"
   ]
  },
  {
   "cell_type": "markdown",
   "id": "5a6c3643",
   "metadata": {},
   "source": [
    "<center><span style=\"color:blue; \n",
    "font-family:Algerian; \n",
    "font-weight:bold;\n",
    "font-size:35px;\">Task No # 04 </span></center>"
   ]
  },
  {
   "cell_type": "markdown",
   "id": "0e2c6cd5",
   "metadata": {},
   "source": [
    "<div style=\"padding: 20px; font-family: Arial, sans-serif; background-color: #f9f9f9; border:2px solid black; border-radius: 8px; width: fit-content;\">\n",
    "  <p style=\"color: red; font-size: 20px; line-height: 1; margin-top: 10px;\">\n",
    "  <strong style=\"color:blue; font-size:25px:\">Note:</strong> Please make a class for each of the following using the detail procedure from the above\n",
    "tasks.\n",
    "  </p>\n",
    "</div>\n"
   ]
  },
  {
   "cell_type": "markdown",
   "id": "a129aa84",
   "metadata": {},
   "source": [
    "<div style=\"padding: 20px; font-family: Arial, sans-serif; background-color: #f9f9f9; border: 2px solid black; border-radius: 8px; width: fit-content;\">\n",
    "  <h2 style=\"color: #333;\">Math:</h2>\n",
    "  <ul style=\"color: #555; font-size: 16px; line-height: 1.6;\">\n",
    "    <li><strong>Square</strong>: A four-sided polygon (quadrilateral) with all sides of equal length and all angles equal to 90 degrees.</li>\n",
    "    <li><strong>Rectangle</strong>: A four-sided polygon where opposite sides are equal in length and all angles are equal to 90 degrees.</li>\n",
    "    <li><strong>Triangle</strong>: A three-sided polygon with three edges and three vertices. Various types include equilateral, isosceles, and scalene.</li>\n",
    "    <li><strong>Trapezoid (US) / Trapezium (UK)</strong>: A four-sided figure with at least one pair of parallel sides.</li>\n",
    "    <li><strong>Parallelogram</strong>: A four-sided shape with opposite sides that are equal in length and parallel.</li>\n",
    "    <li><strong>Rhombus</strong>: A parallelogram where all sides are of equal length, but the angles are not necessarily 90 degrees.</li>\n",
    "    <span style=\"color:red;\">These shapes serve as building blocks for more complex forms in geometry and design.</span>\n",
    "  </ul>\n",
    "</div>\n"
   ]
  },
  {
   "cell_type": "markdown",
   "id": "f1ce5344",
   "metadata": {},
   "source": [
    "<center><span style=\"color:green; \n",
    "font-family:Matura MT Script Capitals; \n",
    "font-weight:bold;\n",
    "font-size:35px;\">1. Square</span></center>"
   ]
  },
  {
   "cell_type": "code",
   "execution_count": 31,
   "id": "79765044-f967-431e-ac99-b72d1178da2f",
   "metadata": {},
   "outputs": [],
   "source": [
    "class Square:\n",
    "    def __init__(self, side_length: float = 1.0) -> None:\n",
    "        self.side_length = side_length\n",
    "        \n",
    "    def side_length(self) -> float:\n",
    "        return self._side_length\n",
    "\n",
    "    def side_length(self, value: float) -> None:\n",
    "\n",
    "        if value < 0:\n",
    "            raise ValueError(\"Side length cannot be negative.\")\n",
    "        self._side_length = value\n",
    "\n",
    "    def area(self) -> float:\n",
    "        return self.side_length ** 2\n",
    "\n",
    "    def perimeter(self) -> float:\n",
    "\n",
    "        return 4 * self.side_length\n",
    "\n",
    "    def __repr__(self) -> str:\n",
    "\n",
    "        return f\"Square(side_length={self.side_length})\"\n",
    "\n",
    "    def __str__(self) -> str:\n",
    "        return f\"Square with side length: {self.side_length}, area: {self.area}, perimeter: {self.perimeter}\"\n"
   ]
  },
  {
   "cell_type": "code",
   "execution_count": 32,
   "id": "6d8b6f2e-987f-4f09-b18b-462c6fcb9cda",
   "metadata": {},
   "outputs": [],
   "source": [
    "square = Square(side_length=4)"
   ]
  },
  {
   "cell_type": "code",
   "execution_count": 33,
   "id": "6fc44b6c-2c18-4a49-a4a4-c6b1e2cb7c36",
   "metadata": {},
   "outputs": [
    {
     "name": "stdout",
     "output_type": "stream",
     "text": [
      "Square with side length: 4, area: <bound method Square.area of Square(side_length=4)>, perimeter: <bound method Square.perimeter of Square(side_length=4)>\n"
     ]
    }
   ],
   "source": [
    "print(square)"
   ]
  },
  {
   "cell_type": "markdown",
   "id": "65bac555",
   "metadata": {},
   "source": [
    "----------------"
   ]
  },
  {
   "cell_type": "markdown",
   "id": "c492d7d0",
   "metadata": {},
   "source": [
    "<center><span style=\"color:green; \n",
    "font-family:Matura MT Script Capitals; \n",
    "font-weight:bold;\n",
    "font-size:35px;\">2. Rectangle</span></center>"
   ]
  },
  {
   "cell_type": "code",
   "execution_count": 34,
   "id": "c4c10499-4495-4437-9626-d5459db0805b",
   "metadata": {},
   "outputs": [],
   "source": [
    "class Rectangle:\n",
    "   \n",
    "    def __init__(self, width: float = 1.0, height: float = 1.0) -> None:\n",
    "        self.width = width\n",
    "        self.height = height\n",
    "\n",
    "    def width(self) -> float:\n",
    "        return self._width\n",
    "\n",
    "    def width(self, value: float) -> None:\n",
    "\n",
    "        if value < 0:\n",
    "            raise ValueError(\"Width cannot be negative.\")\n",
    "        self._width = value\n",
    "\n",
    "    def height(self) -> float:\n",
    "        return self._height\n",
    "\n",
    "    def height(self, value: float) -> None:\n",
    "\n",
    "        if value < 0:\n",
    "            raise ValueError(\"Height cannot be negative.\")\n",
    "        self._height = value\n",
    "\n",
    "    def area(self) -> float:\n",
    "        return self.width * self.height\n",
    "        \n",
    "    def perimeter(self) -> float:\n",
    "        return 2 * (self.width + self.height)\n",
    "\n",
    "    def __repr__(self) -> str:\n",
    "        return f\"Rectangle(width={self.width}, height={self.height})\"\n",
    "\n",
    "    def __str__(self) -> str:\n",
    "        return f\"Rectangle with width: {self.width}, height: {self.height}, area: {self.area}, perimeter: {self.perimeter}\"\n"
   ]
  },
  {
   "cell_type": "code",
   "execution_count": 35,
   "id": "875524fa-94fb-4b8e-b4f9-6a53a904bdb4",
   "metadata": {},
   "outputs": [],
   "source": [
    "rectangle = Rectangle(width=4, height=2)"
   ]
  },
  {
   "cell_type": "code",
   "execution_count": 36,
   "id": "e6953206-d30f-4eb8-b2ce-43773c546956",
   "metadata": {},
   "outputs": [
    {
     "name": "stdout",
     "output_type": "stream",
     "text": [
      "Rectangle with width: 4, height: 2, area: <bound method Rectangle.area of Rectangle(width=4, height=2)>, perimeter: <bound method Rectangle.perimeter of Rectangle(width=4, height=2)>\n"
     ]
    }
   ],
   "source": [
    "print(rectangle)"
   ]
  },
  {
   "cell_type": "markdown",
   "id": "6399155b",
   "metadata": {},
   "source": [
    "____________"
   ]
  },
  {
   "cell_type": "markdown",
   "id": "103bcccf",
   "metadata": {},
   "source": [
    "<center><span style=\"color:green; \n",
    "font-family:Matura MT Script Capitals; \n",
    "font-weight:bold;\n",
    "font-size:35px;\">3. Triangle</span></center>"
   ]
  },
  {
   "cell_type": "code",
   "execution_count": 37,
   "id": "795e09d4-0f47-409e-b424-ae4176435763",
   "metadata": {},
   "outputs": [],
   "source": [
    "class Triangle:\n",
    "   \n",
    "    def __init__(self, a: float = 1.0, b: float = 1.0, c: float = 1.0) -> None:\n",
    "\n",
    "        self.a = a\n",
    "        self.b = b\n",
    "        self.c = c\n",
    "\n",
    "    def a(self) -> float:\n",
    "        return self._a\n",
    "\n",
    "    def a(self, value: float) -> None:\n",
    "        if value <= 0:\n",
    "            raise ValueError(\"Side length must be positive.\")\n",
    "        self._a = value\n",
    "\n",
    "    def b(self) -> float:\n",
    "        return self._b\n",
    "\n",
    "    def b(self, value: float) -> None:\n",
    "        if value <= 0:\n",
    "            raise ValueError(\"Side length must be positive.\")\n",
    "        self._b = value\n",
    "\n",
    "    def c(self) -> float:\n",
    "        return self._c\n",
    "\n",
    "    def c(self, value: float) -> None:\n",
    "        if value <= 0:\n",
    "            raise ValueError(\"Side length must be positive.\")\n",
    "        self._c = value\n",
    "\n",
    "    def area(self) -> float:\n",
    "        s = (self.a + self.b + self.c) / 2\n",
    "        return math.sqrt(s * (s - self.a) * (s - self.b) * (s - self.c))\n",
    "\n",
    "    def perimeter(self) -> float:\n",
    "        return self.a + self.b + self.c\n",
    "\n",
    "    def __repr__(self) -> str:\n",
    "        return f\"Triangle(a={self.a}, b={self.b}, c={self.c})\"\n",
    "\n",
    "    def __str__(self) -> str:\n",
    "        return (f\"Triangle with sides: a={self.a}, b={self.b}, c={self.c}, \"\n",
    "                f\"area: {self.area}, perimeter: {self.perimeter}\")\n"
   ]
  },
  {
   "cell_type": "code",
   "execution_count": 69,
   "id": "f5401a0d-7094-47c9-81c0-a3077ce32d58",
   "metadata": {},
   "outputs": [],
   "source": [
    "triangle = Triangle(a=3, b=4, c=5)"
   ]
  },
  {
   "cell_type": "code",
   "execution_count": 39,
   "id": "bf061560-78e3-444e-b15c-3594b8e819be",
   "metadata": {},
   "outputs": [
    {
     "name": "stdout",
     "output_type": "stream",
     "text": [
      "Triangle with sides: a=3, b=4, c=5, area: <bound method Triangle.area of Triangle(a=3, b=4, c=5)>, perimeter: <bound method Triangle.perimeter of Triangle(a=3, b=4, c=5)>\n"
     ]
    }
   ],
   "source": [
    "print(triangle)"
   ]
  },
  {
   "cell_type": "markdown",
   "id": "aaee9b1e",
   "metadata": {},
   "source": [
    "------------"
   ]
  },
  {
   "cell_type": "markdown",
   "id": "253a8724",
   "metadata": {},
   "source": [
    "<center><span style=\"color:green; \n",
    "font-family:Matura MT Script Capitals; \n",
    "font-weight:bold;\n",
    "font-size:35px;\">4. Trapezoid</span></center>"
   ]
  },
  {
   "cell_type": "code",
   "execution_count": 40,
   "id": "9a120d12-f840-45b3-a9bf-29c442825f96",
   "metadata": {},
   "outputs": [],
   "source": [
    "class Trapezoid:\n",
    "    \n",
    "    def __init__(self, base1: float = 1.0, base2: float = 1.0, height: float = 1.0) -> None:\n",
    "        self.base1 = base1\n",
    "        self.base2 = base2\n",
    "        self.height = height\n",
    "\n",
    "    def base1(self) -> float:\n",
    "        return self._base1\n",
    "\n",
    "    def base1(self, value: float) -> None:\n",
    "\n",
    "        if value < 0:\n",
    "            raise ValueError(\"Base length cannot be negative.\")\n",
    "        self._base1 = value\n",
    "\n",
    "    def base2(self) -> float:\n",
    "        return self._base2\n",
    "\n",
    "    def base2(self, value: float) -> None:\n",
    "        if value < 0:\n",
    "            raise ValueError(\"Base length cannot be negative.\")\n",
    "        self._base2 = value\n",
    "\n",
    "    def height(self) -> float:\n",
    "\n",
    "        return self._height\n",
    "\n",
    "    def height(self, value: float) -> None:\n",
    "        \n",
    "        if value < 0:\n",
    "            raise ValueError(\"Height cannot be negative.\")\n",
    "        self._height = value\n",
    "\n",
    "    def area(self) -> float:\n",
    "        return (self.base1 + self.base2) * self.height / 2\n",
    "\n",
    "    def perimeter(self) -> float:\n",
    "        raise NotImplementedError(\"Perimeter calculation requires lengths of non-parallel sides.\")\n",
    "\n",
    "    def __repr__(self) -> str:\n",
    "        return f\"Trapezoid(base1={self.base1}, base2={self.base2}, height={self.height})\"\n",
    "\n",
    "    def __str__(self) -> str:\n",
    "        return (f\"Trapezoid with base1: {self.base1}, base2: {self.base2}, \"\n",
    "                f\"height: {self.height}, area: {self.area}\")\n"
   ]
  },
  {
   "cell_type": "code",
   "execution_count": 41,
   "id": "6e25fbb1-da94-4dbe-9e02-0bb9feb7f523",
   "metadata": {},
   "outputs": [],
   "source": [
    "trapezoid = Trapezoid(base1=4, base2=6, height=3)"
   ]
  },
  {
   "cell_type": "code",
   "execution_count": 42,
   "id": "e92d06a6-2547-4e77-91c6-d18c589c001a",
   "metadata": {},
   "outputs": [
    {
     "name": "stdout",
     "output_type": "stream",
     "text": [
      "Trapezoid with base1: 4, base2: 6, height: 3, area: <bound method Trapezoid.area of Trapezoid(base1=4, base2=6, height=3)>\n"
     ]
    }
   ],
   "source": [
    "print(trapezoid)"
   ]
  },
  {
   "cell_type": "markdown",
   "id": "f2494824",
   "metadata": {},
   "source": [
    "------------------"
   ]
  },
  {
   "cell_type": "markdown",
   "id": "95d1e3a6",
   "metadata": {},
   "source": [
    "<center><span style=\"color:green; \n",
    "font-family:Matura MT Script Capitals; \n",
    "font-weight:bold;\n",
    "font-size:35px;\">5. Parallelogram</span></center>"
   ]
  },
  {
   "cell_type": "code",
   "execution_count": 43,
   "id": "55974e47-590e-47fd-83f2-29d5b6622687",
   "metadata": {},
   "outputs": [],
   "source": [
    "class Parallelogram:\n",
    "\n",
    "    def __init__(self, base: float = 1.0, height: float = 1.0) -> None:\n",
    "        self.base = base\n",
    "        self.height = height\n",
    "\n",
    "    def base(self) -> float:\n",
    "        return self._base\n",
    "\n",
    "    def base(self, value: float) -> None:\n",
    "\n",
    "        if value < 0:\n",
    "            raise ValueError(\"Base length cannot be negative.\")\n",
    "        self._base = value\n",
    "\n",
    "    def height(self) -> float:\n",
    "        return self._height\n",
    "\n",
    "    def height(self, value: float) -> None:\n",
    "\n",
    "        if value < 0:\n",
    "            raise ValueError(\"Height cannot be negative.\")\n",
    "        self._height = value\n",
    "\n",
    "    def area(self) -> float:\n",
    "\n",
    "        return self.base * self.height\n",
    "\n",
    "    def perimeter(self) -> float:\n",
    "        raise NotImplementedError(\"Perimeter calculation requires lengths of the sides.\")\n",
    "\n",
    "    def __repr__(self) -> str:\n",
    "        return f\"Parallelogram(base={self.base}, height={self.height})\"\n",
    "\n",
    "    def __str__(self) -> str:\n",
    "        return (f\"Parallelogram with base: {self.base}, height: {self.height}, \"\n",
    "                f\"area: {self.area}\")\n"
   ]
  },
  {
   "cell_type": "code",
   "execution_count": 44,
   "id": "315d4b48-d0cd-49c7-a6ac-4be192fcd195",
   "metadata": {},
   "outputs": [],
   "source": [
    "parallelogram = Parallelogram(base=5, height=3)"
   ]
  },
  {
   "cell_type": "code",
   "execution_count": 45,
   "id": "50a1c154-640d-4fec-932f-0e795f0b979c",
   "metadata": {},
   "outputs": [
    {
     "name": "stdout",
     "output_type": "stream",
     "text": [
      "Parallelogram with base: 5, height: 3, area: <bound method Parallelogram.area of Parallelogram(base=5, height=3)>\n"
     ]
    }
   ],
   "source": [
    "print(parallelogram)"
   ]
  },
  {
   "cell_type": "markdown",
   "id": "029b82fb",
   "metadata": {},
   "source": [
    "----------"
   ]
  },
  {
   "cell_type": "markdown",
   "id": "9fc03fbd",
   "metadata": {},
   "source": [
    "<center><span style=\"color:green; \n",
    "font-family:Matura MT Script Capitals; \n",
    "font-weight:bold;\n",
    "font-size:35px;\">6. Rhombus</span></center>"
   ]
  },
  {
   "cell_type": "code",
   "execution_count": 46,
   "id": "821b2531-6c6b-4593-8f16-09c57fe5d9fb",
   "metadata": {},
   "outputs": [],
   "source": [
    "class Rhombus:\n",
    "    \"\"\"A class to represent a rhombus, a parallelogram with all sides equal.\"\"\"\n",
    "    \n",
    "    def __init__(self, side_length: float = 1.0, height: float = 1.0) -> None:\n",
    "        \"\"\"Initialize the rhombus with the length of its sides and height.\n",
    "        \n",
    "        Args:\n",
    "            side_length (float): Length of each side. Defaults to 1.0.\n",
    "            height (float): Height of the rhombus. Defaults to 1.0.\n",
    "        \"\"\"\n",
    "        self.side_length = side_length\n",
    "        self.height = height\n",
    "\n",
    "    def side_length(self) -> float:\n",
    "        \"\"\"Get the length of the rhombus's side.\"\"\"\n",
    "        return self._side_length\n",
    "\n",
    "    def side_length(self, value: float) -> None:\n",
    "        \"\"\"Set the length of the rhombus's side.\n",
    "        \n",
    "        Args:\n",
    "            value (float): The new length of the side.\n",
    "        \"\"\"\n",
    "        if value < 0:\n",
    "            raise ValueError(\"Side length cannot be negative.\")\n",
    "        self._side_length = value\n",
    "\n",
    "    def height(self) -> float:\n",
    "        \"\"\"Get the height of the rhombus.\"\"\"\n",
    "        return self._height\n",
    "\n",
    "    def height(self, value: float) -> None:\n",
    "        \"\"\"Set the height of the rhombus.\n",
    "        \n",
    "        Args:\n",
    "            value (float): The new height of the rhombus.\n",
    "        \"\"\"\n",
    "        if value < 0:\n",
    "            raise ValueError(\"Height cannot be negative.\")\n",
    "        self._height = value\n",
    "\n",
    "    def area(self) -> float:\n",
    "        \"\"\"Calculate the area of the rhombus.\"\"\"\n",
    "        return self.side_length * self.height\n",
    "\n",
    "    def perimeter(self) -> float:\n",
    "        \"\"\"Calculate the perimeter of the rhombus.\"\"\"\n",
    "        return 4 * self.side_length\n",
    "\n",
    "    def __repr__(self) -> str:\n",
    "        \"\"\"Return a string representation of the rhombus.\"\"\"\n",
    "        return f\"Rhombus(side_length={self.side_length}, height={self.height})\"\n",
    "\n",
    "    def __str__(self) -> str:\n",
    "        \"\"\"Return a user-friendly string representation of the rhombus.\"\"\"\n",
    "        return (f\"Rhombus with side length: {self.side_length}, height: {self.height}, \"\n",
    "                f\"area: {self.area}, perimeter: {self.perimeter}\")\n"
   ]
  },
  {
   "cell_type": "code",
   "execution_count": 47,
   "id": "2902c68a-6fff-4270-90e4-75c346ca930e",
   "metadata": {},
   "outputs": [],
   "source": [
    "rhombus = Rhombus(side_length=3, height=2)\n"
   ]
  },
  {
   "cell_type": "code",
   "execution_count": 48,
   "id": "391533fe-d268-4f64-aa18-1f17635bd2e8",
   "metadata": {},
   "outputs": [
    {
     "name": "stdout",
     "output_type": "stream",
     "text": [
      "Rhombus with side length: 3, height: 2, area: <bound method Rhombus.area of Rhombus(side_length=3, height=2)>, perimeter: <bound method Rhombus.perimeter of Rhombus(side_length=3, height=2)>\n"
     ]
    }
   ],
   "source": [
    "print(rhombus)"
   ]
  },
  {
   "cell_type": "markdown",
   "id": "843c04cb",
   "metadata": {},
   "source": [
    "_______________"
   ]
  },
  {
   "cell_type": "markdown",
   "id": "349c1237",
   "metadata": {},
   "source": [
    "----------------------"
   ]
  },
  {
   "cell_type": "markdown",
   "id": "e70230be",
   "metadata": {},
   "source": [
    "<center><span style=\"color:blue; \n",
    "font-family:Algerian; \n",
    "font-weight:bold;\n",
    "font-size:35px;\">Task No # 05 </span></center>"
   ]
  },
  {
   "cell_type": "markdown",
   "id": "06da4e5f",
   "metadata": {},
   "source": [
    "<div style=\"padding: 20px; font-family: Arial, sans-serif; background-color: #f9f9f9; border: 2px solid black; border-radius: 8px; width: fit-content;\">\n",
    "  <h2 style=\"color: #333;\">Circuit:</h2>\n",
    "  <ul style=\"color: #555; font-size: 16px; line-height: 1.6;\">\n",
    "    <li><strong>Resistor Circuit:</strong> Create a class for a circuit that contains only one resistor.</li>\n",
    "    <li><strong>RL Circuit:</strong> Develop a class representing an RL (Resistor-Inductor) circuit.</li>\n",
    "    <li><strong>RC Circuit:</strong> Create a class for an RC (Resistor-Capacitor) circuit.</li>\n",
    "    <li><strong>RLC Parallel Circuit:</strong> Construct a class for RLC (Resistor-Inductor-Capacitor) parallel circuits.</li>\n",
    "    <li><strong>RLC Series Resonance:</strong> Modify the existing RLC series class to implement the series resonance case.</li>\n",
    "    <li><strong>RLC Parallel Resonance:</strong> Adapt the RLC parallel class to account for the parallel resonance case.</li>\n",
    "  </ul>\n",
    "</div>\n"
   ]
  },
  {
   "cell_type": "markdown",
   "id": "7b8970c2",
   "metadata": {},
   "source": [
    "<center><span style=\"color:green; \n",
    "font-family:Matura MT Script Capitals; \n",
    "font-weight:bold;\n",
    "font-size:35px;\">1. Resistor</span></center>"
   ]
  },
  {
   "cell_type": "code",
   "execution_count": 49,
   "id": "7b92f3b1-d0a2-4167-898b-04e8a3814e80",
   "metadata": {},
   "outputs": [],
   "source": [
    "class Resistor:\n",
    "    \"\"\"A class to represent a simple circuit with a single resistor.\"\"\"\n",
    "    \n",
    "    def __init__(self, resistance: float = 1.0) -> None:\n",
    "        \"\"\"Initialize the resistor with the given resistance value.\n",
    "        \n",
    "        Args:\n",
    "            resistance (float): Resistance in ohms. Defaults to 1.0.\n",
    "        \"\"\"\n",
    "        self.resistance = resistance\n",
    "\n",
    "    def resistance(self) -> float:\n",
    "        \"\"\"Get the resistance value.\"\"\"\n",
    "        return self._resistance\n",
    "\n",
    "    def resistance(self, value: float) -> None:\n",
    "        \"\"\"Set the resistance value.\"\"\"\n",
    "        if value < 0:\n",
    "            raise ValueError(\"Resistance cannot be negative.\")\n",
    "        self._resistance = value\n",
    "\n",
    "    def __repr__(self) -> str:\n",
    "        return f\"Resistor(resistance={self.resistance})\"\n",
    "\n",
    "    def __str__(self) -> str:\n",
    "        return f\"Resistor with resistance: {self.resistance} ohms\"\n"
   ]
  },
  {
   "cell_type": "code",
   "execution_count": 50,
   "id": "cda2cfea-f0b2-4ba3-8aea-a934350f6346",
   "metadata": {},
   "outputs": [],
   "source": [
    "resistor = Resistor(10)"
   ]
  },
  {
   "cell_type": "code",
   "execution_count": 51,
   "id": "36f83a65-8c71-40cc-a1e3-a092b6cd1255",
   "metadata": {},
   "outputs": [
    {
     "name": "stdout",
     "output_type": "stream",
     "text": [
      "Resistor with resistance: 10 ohms\n"
     ]
    }
   ],
   "source": [
    "print(resistor)"
   ]
  },
  {
   "cell_type": "markdown",
   "id": "35272d08",
   "metadata": {},
   "source": [
    "--------------------------"
   ]
  },
  {
   "cell_type": "markdown",
   "id": "1f971a44",
   "metadata": {},
   "source": [
    "<center><span style=\"color:green; \n",
    "font-family:Matura MT Script Capitals; \n",
    "font-weight:bold;\n",
    "font-size:35px;\">2. RLCircuit</span></center>"
   ]
  },
  {
   "cell_type": "code",
   "execution_count": 52,
   "id": "f50c2693-a3c1-4d3a-8618-341ad090a523",
   "metadata": {},
   "outputs": [],
   "source": [
    "class RLCircuit:\n",
    "    \"\"\"A class to represent an RL circuit (Resistor and Inductor).\"\"\"\n",
    "    \n",
    "    def __init__(self, resistance: float = 1.0, inductance: float = 1.0) -> None:\n",
    "        \"\"\"Initialize the RL circuit with resistance and inductance.\n",
    "        \n",
    "        Args:\n",
    "            resistance (float): Resistance in ohms. Defaults to 1.0.\n",
    "            inductance (float): Inductance in henries. Defaults to 1.0.\n",
    "        \"\"\"\n",
    "        self.resistor = resistance\n",
    "        self.inductance = inductance\n",
    "\n",
    "    def inductance(self) -> float:\n",
    "        \"\"\"Get the inductance value.\"\"\"\n",
    "        return self._inductance\n",
    "\n",
    "    def inductance(self, value: float) -> None:\n",
    "        \"\"\"Set the inductance value.\"\"\"\n",
    "        if value < 0:\n",
    "            raise ValueError(\"Inductance cannot be negative.\")\n",
    "        self._inductance = value\n",
    "\n",
    "    def impedance(self, frequency: float) -> float:\n",
    "        \"\"\"Calculate the impedance of the RL circuit.\n",
    "        \n",
    "        Args:\n",
    "            frequency (float): Frequency in hertz.\n",
    "        \n",
    "        Returns:\n",
    "            float: Impedance in ohms.\n",
    "        \"\"\"\n",
    "        return (self.resistor.resistance**2 + (2 * math.pi * frequency * self.inductance)**2) ** 0.5\n",
    "\n",
    "    def __repr__(self) -> str:\n",
    "        return f\"RLCircuit(resistor={self.resistor}, inductance={self.inductance})\"\n",
    "\n",
    "    def __str__(self) -> str:\n",
    "        return (f\"RL Circuit with {self.resistor} ohm, inductance: {self.inductance} H\")\n"
   ]
  },
  {
   "cell_type": "code",
   "execution_count": 53,
   "id": "03165b6c-3f18-452c-b578-887d9d78e63c",
   "metadata": {},
   "outputs": [],
   "source": [
    "rl_circuit = RLCircuit(resistance=10, inductance=0.1)"
   ]
  },
  {
   "cell_type": "code",
   "execution_count": 54,
   "id": "335a4d2d-69fd-4137-b07c-7b6be9d36563",
   "metadata": {},
   "outputs": [
    {
     "name": "stdout",
     "output_type": "stream",
     "text": [
      "RL Circuit with 10 ohm, inductance: 0.1 H\n"
     ]
    }
   ],
   "source": [
    "print(rl_circuit)"
   ]
  },
  {
   "cell_type": "markdown",
   "id": "a520a047",
   "metadata": {},
   "source": [
    "----------------"
   ]
  },
  {
   "cell_type": "markdown",
   "id": "a2c84b02",
   "metadata": {},
   "source": [
    "<center><span style=\"color:green; \n",
    "font-family:Matura MT Script Capitals; \n",
    "font-weight:bold;\n",
    "font-size:35px;\">3. RCCircuitngle</span></center>"
   ]
  },
  {
   "cell_type": "code",
   "execution_count": 55,
   "id": "1590842a-371f-482f-a542-9bd24e75611a",
   "metadata": {},
   "outputs": [],
   "source": [
    "class RCCircuit:\n",
    "    \"\"\"A class to represent an RC circuit (Resistor and Capacitor).\"\"\"\n",
    "    \n",
    "    def __init__(self, resistance: float = 1.0, capacitance: float = 1.0) -> None:\n",
    "        \"\"\"Initialize the RC circuit with resistance and capacitance.\n",
    "        \n",
    "        Args:\n",
    "            resistance (float): Resistance in ohms. Defaults to 1.0.\n",
    "            capacitance (float): Capacitance in farads. Defaults to 1.0.\n",
    "        \"\"\"\n",
    "        self.resistor = resistance\n",
    "        self.capacitance = capacitance\n",
    "\n",
    "    def capacitance(self) -> float:\n",
    "        \"\"\"Get the capacitance value.\"\"\"\n",
    "        return self._capacitance\n",
    "\n",
    "    def capacitance(self, value: float) -> None:\n",
    "        \"\"\"Set the capacitance value.\"\"\"\n",
    "        if value < 0:\n",
    "            raise ValueError(\"Capacitance cannot be negative.\")\n",
    "        self._capacitance = value\n",
    "\n",
    "    def impedance(self, frequency: float) -> float:\n",
    "        \"\"\"Calculate the impedance of the RC circuit.\n",
    "        \n",
    "        Args:\n",
    "            frequency (float): Frequency in hertz.\n",
    "        \n",
    "        Returns:\n",
    "            float: Impedance in ohms.\n",
    "        \"\"\"\n",
    "        return (self.resistor.resistance**2 + (1 / (2 * math.pi * frequency * self.capacitance))**2) ** 0.5\n",
    "\n",
    "    def __repr__(self) -> str:\n",
    "        return f\"RCCircuit(resistor={self.resistor}, capacitance={self.capacitance})\"\n",
    "\n",
    "    def __str__(self) -> str:\n",
    "        return (f\"RC Circuit with {self.resistor} ohm, capacitance: {self.capacitance} F\")\n"
   ]
  },
  {
   "cell_type": "code",
   "execution_count": 56,
   "id": "7ecf35c3-444f-4e5f-9b35-fa0a1ff12f51",
   "metadata": {},
   "outputs": [],
   "source": [
    "rc_circuit = RCCircuit(resistance=10, capacitance=0.001)"
   ]
  },
  {
   "cell_type": "code",
   "execution_count": 57,
   "id": "14413bee-9965-4041-b164-b2c26ccea263",
   "metadata": {},
   "outputs": [
    {
     "name": "stdout",
     "output_type": "stream",
     "text": [
      "RC Circuit with 10 ohm, capacitance: 0.001 F\n"
     ]
    }
   ],
   "source": [
    "print(rc_circuit)"
   ]
  },
  {
   "cell_type": "markdown",
   "id": "d8f490f9",
   "metadata": {},
   "source": [
    "----------------"
   ]
  },
  {
   "cell_type": "markdown",
   "id": "7480c9aa",
   "metadata": {},
   "source": [
    "<center><span style=\"color:green; \n",
    "font-family:Matura MT Script Capitals; \n",
    "font-weight:bold;\n",
    "font-size:35px;\">4. RLCCircuitParallel</span></center>"
   ]
  },
  {
   "cell_type": "code",
   "execution_count": 58,
   "id": "9003d214-6249-41a8-bca3-8c8886b3c064",
   "metadata": {},
   "outputs": [],
   "source": [
    "class RLCCircuitParallel:\n",
    "    \"\"\"A class to represent an RLC parallel circuit.\"\"\"\n",
    "    \n",
    "    def __init__(self, resistance: float = 1.0, inductance: float = 1.0, capacitance: float = 1.0) -> None:\n",
    "        \"\"\"Initialize the parallel RLC circuit with resistance, inductance, and capacitance.\n",
    "        \n",
    "        Args:\n",
    "            resistance (float): Resistance in ohms. Defaults to 1.0.\n",
    "            inductance (float): Inductance in henries. Defaults to 1.0.\n",
    "            capacitance (float): Capacitance in farads. Defaults to 1.0.\n",
    "        \"\"\"\n",
    "        self.resistor = resistance\n",
    "        self.inductance = inductance\n",
    "        self.capacitance = capacitance\n",
    "\n",
    "    def inductance(self) -> float:\n",
    "        return self._inductance\n",
    "\n",
    "    def inductance(self, value: float) -> None:\n",
    "        if value < 0:\n",
    "            raise ValueError(\"Inductance cannot be negative.\")\n",
    "        self._inductance = value\n",
    "\n",
    "    def capacitance(self) -> float:\n",
    "        return self._capacitance\n",
    "\n",
    "    def capacitance(self, value: float) -> None:\n",
    "        if value < 0:\n",
    "            raise ValueError(\"Capacitance cannot be negative.\")\n",
    "        self._capacitance = value\n",
    "\n",
    "    def total_impedance(self, frequency: float) -> float:\n",
    "        \"\"\"Calculate the total impedance of the RLC parallel circuit.\n",
    "        \n",
    "        Args:\n",
    "            frequency (float): Frequency in hertz.\n",
    "        \n",
    "        Returns:\n",
    "            float: Total impedance in ohms.\n",
    "        \"\"\"\n",
    "        z_r = self.resistor.resistance\n",
    "        z_l = 2 * math.pi * frequency * self.inductance\n",
    "        z_c = 1 / (2 * math.pi * frequency * self.capacitance)\n",
    "\n",
    "        return 1 / (1/z_r + 1/z_l + 1/z_c)\n",
    "\n",
    "    def __repr__(self) -> str:\n",
    "        return f\"RLCCircuitParallel(resistor={self.resistor}, inductance={self.inductance}, capacitance={self.capacitance})\"\n",
    "\n",
    "    def __str__(self) -> str:\n",
    "        return (f\"RLC Parallel Circuit with {self.resistor} ohm, inductance: {self.inductance} H, \"\n",
    "                f\"capacitance: {self.capacitance} F\")\n"
   ]
  },
  {
   "cell_type": "code",
   "execution_count": 59,
   "id": "84a2936f-203d-4a81-8c84-08a88c312eef",
   "metadata": {},
   "outputs": [],
   "source": [
    "rlc_parallel_circuit = RLCCircuitParallel(resistance=10, inductance=0.1, capacitance=0.001)"
   ]
  },
  {
   "cell_type": "code",
   "execution_count": 60,
   "id": "a46a2b74-dbc7-4051-9f2c-53801c543cdc",
   "metadata": {},
   "outputs": [
    {
     "name": "stdout",
     "output_type": "stream",
     "text": [
      "RLC Parallel Circuit with 10 ohm, inductance: 0.1 H, capacitance: 0.001 F\n"
     ]
    }
   ],
   "source": [
    "print(rlc_parallel_circuit)"
   ]
  },
  {
   "cell_type": "markdown",
   "id": "2d95ddb2",
   "metadata": {},
   "source": [
    "---------------"
   ]
  },
  {
   "cell_type": "markdown",
   "id": "251f6201",
   "metadata": {},
   "source": [
    "<center><span style=\"color:green; \n",
    "font-family:Matura MT Script Capitals; \n",
    "font-weight:bold;\n",
    "font-size:35px;\">5. RLCSeriesCircuit</span></center>"
   ]
  },
  {
   "cell_type": "code",
   "execution_count": 61,
   "id": "5c8db05e-2c85-4758-9964-d8d1b006e2ef",
   "metadata": {},
   "outputs": [],
   "source": [
    "class RLCSeriesCircuit:\n",
    "    \"\"\"A class to represent an RLC series circuit with resonance.\"\"\"\n",
    "    \n",
    "    def __init__(self, resistance: float = 1.0, inductance: float = 1.0, capacitance: float = 1.0) -> None:\n",
    "        \"\"\"Initialize the series RLC circuit with resistance, inductance, and capacitance.\n",
    "        \n",
    "        Args:\n",
    "            resistance (float): Resistance in ohms. Defaults to 1.0.\n",
    "            inductance (float): Inductance in henries. Defaults to 1.0.\n",
    "            capacitance (float): Capacitance in farads. Defaults to 1.0.\n",
    "        \"\"\"\n",
    "        self.resistor = resistance\n",
    "        self.inductance = inductance\n",
    "        self.capacitance = capacitance\n",
    "\n",
    "    def resonance_frequency(self) -> float:\n",
    "        \"\"\"Calculate the resonance frequency of the RLC circuit.\n",
    "        \n",
    "        Returns:\n",
    "            float: Resonance frequency in hertz.\n",
    "        \"\"\"\n",
    "        return 1 / (2 * math.pi * ((self.inductance * self.capacitance) ** 0.5))\n",
    "\n",
    "    def impedance(self, frequency: float) -> float:\n",
    "        \"\"\"Calculate the impedance of the RLC series circuit.\n",
    "        \n",
    "        Args:\n",
    "            frequency (float): Frequency in hertz.\n",
    "        \n",
    "        Returns:\n",
    "            float: Impedance in ohms.\n",
    "        \"\"\"\n",
    "        z_l = 2 * math.pi * frequency * self.inductance\n",
    "        z_c = 1 / (2 * math.pi * frequency * self.capacitance)\n",
    "\n",
    "        return (self.resistor.resistance**2 + (z_l - z_c)**2) ** 0.5\n",
    "\n",
    "    def __repr__(self) -> str:\n",
    "        return f\"RLCSeriesCircuit(resistor={self.resistor}, inductance={self.inductance}, capacitance={self.capacitance})\"\n",
    "\n",
    "    def __str__(self) -> str:\n",
    "        return (f\"RLC Series Circuit with {self.resistor} ohm, inductance: {self.inductance} H, \"\n",
    "                f\"capacitance: {self.capacitance} F, resonance frequency: {self.resonance_frequency()} Hz\")\n"
   ]
  },
  {
   "cell_type": "code",
   "execution_count": 62,
   "id": "6ab8cc9f-421b-40de-a0e3-c9427c6ac29a",
   "metadata": {},
   "outputs": [],
   "source": [
    "rlc_series_circuit = RLCSeriesCircuit(resistance=10, inductance=0.1, capacitance=0.001)"
   ]
  },
  {
   "cell_type": "code",
   "execution_count": 63,
   "id": "3d0f26bf-22ca-4199-ba84-db133c0e732e",
   "metadata": {},
   "outputs": [
    {
     "name": "stdout",
     "output_type": "stream",
     "text": [
      "RLC Series Circuit with 10 ohm, inductance: 0.1 H, capacitance: 0.001 F, resonance frequency: 15.915494309189533 Hz\n"
     ]
    }
   ],
   "source": [
    "print(rlc_series_circuit)"
   ]
  },
  {
   "cell_type": "markdown",
   "id": "bc01caa4",
   "metadata": {},
   "source": [
    "----------------------"
   ]
  },
  {
   "cell_type": "markdown",
   "id": "383612b4",
   "metadata": {},
   "source": [
    "<center><span style=\"color:green; \n",
    "font-family:Matura MT Script Capitals; \n",
    "font-weight:bold;\n",
    "font-size:35px;\">6. RLCParallelCircuit</span></center>"
   ]
  },
  {
   "cell_type": "code",
   "execution_count": 64,
   "id": "065df5d3-5a44-455a-8468-210e693c65d5",
   "metadata": {},
   "outputs": [],
   "source": [
    "class RLCParallelCircuit:\n",
    "    \"\"\"A class to represent an RLC parallel circuit with resonance.\"\"\"\n",
    "    \n",
    "    def __init__(self, resistance: float = 1.0, inductance: float = 1.0, capacitance: float = 1.0) -> None:\n",
    "        \"\"\"Initialize the parallel RLC circuit with resistance, inductance, and capacitance.\n",
    "        \n",
    "        Args:\n",
    "            resistance (float): Resistance in ohms. Defaults to 1.0.\n",
    "            inductance (float): Inductance in henries. Defaults to 1.0.\n",
    "            capacitance (float): Capacitance in farads. Defaults to 1.0.\n",
    "        \"\"\"\n",
    "        self.resistor = resistance\n",
    "        self.inductance = inductance\n",
    "        self.capacitance = capacitance\n",
    "\n",
    "    def resonance_frequency(self) -> float:\n",
    "        \"\"\"Calculate the resonance frequency of the RLC parallel circuit.\n",
    "        \n",
    "        Returns:\n",
    "            float: Resonance frequency in hertz.\n",
    "        \"\"\"\n",
    "        return 1 / (2 * math.pi * ((self.inductance * self.capacitance) ** 0.5))\n",
    "\n",
    "    def total_impedance(self, frequency: float) -> float:\n",
    "        \"\"\"Calculate the total impedance of the RLC parallel circuit.\n",
    "        \n",
    "        Args:\n",
    "            frequency (float): Frequency in hertz.\n",
    "        \n",
    "        Returns:\n",
    "            float: Total impedance in ohms.\n",
    "        \"\"\"\n",
    "        z_r = self.resistor.resistance\n",
    "        z_l = 2 * math.pi * frequency * self.inductance\n",
    "        z_c = 1 / (2 * math.pi * frequency * self.capacitance)\n",
    "\n",
    "        return 1 / (1/z_r + 1/z_l + 1/z_c)\n",
    "\n",
    "    def __repr__(self) -> str:\n",
    "        return f\"RLCParallelCircuit(resistor={self.resistor}, inductance={self.inductance}, capacitance={self.capacitance})\"\n",
    "\n",
    "    def __str__(self) -> str:\n",
    "        return (f\"RLC Parallel Circuit with {self.resistor} ohms, inductance: {self.inductance} H, \"\n",
    "                f\"capacitance: {self.capacitance} F, resonance frequency: {self.resonance_frequency()} Hz\")\n"
   ]
  },
  {
   "cell_type": "code",
   "execution_count": 65,
   "id": "7768f63b-29d8-4789-8053-9d032f6b8e6e",
   "metadata": {},
   "outputs": [],
   "source": [
    "rlc_parallel_resonance = RLCParallelCircuit(resistance=10, inductance=0.1, capacitance=0.001)\n"
   ]
  },
  {
   "cell_type": "code",
   "execution_count": 66,
   "id": "0e0970d8-d9a4-4bfa-b9cf-5f6859a3e8ee",
   "metadata": {},
   "outputs": [
    {
     "name": "stdout",
     "output_type": "stream",
     "text": [
      "RLC Parallel Circuit with 10 ohms, inductance: 0.1 H, capacitance: 0.001 F, resonance frequency: 15.915494309189533 Hz\n"
     ]
    }
   ],
   "source": [
    "print(rlc_parallel_resonance)"
   ]
  },
  {
   "cell_type": "markdown",
   "id": "776c87e4",
   "metadata": {},
   "source": [
    "<link href=\"https://fonts.googleapis.com/css2?family=Dancing+Script&display=swap\" rel=\"stylesheet\">\n",
    "<div style=\"text-align: center; border-radius: 15px; \n",
    "            background-color: #4caf50; box-shadow: 0 2px 9px rgba(0, 0, 0, 2);\">\n",
    "    <p style=\"font-size: 1.8em; color: #ffffff; margin: 0;\">\n",
    "        <span style=\"font-weight: bold;\">Prepared By</span>\n",
    "    </p>\n",
    "    <p style=\"font-size: 2.2em; color: #ffffff; margin-top: 5px; \n",
    "               font-family: 'Dancing Script', cursive;\">\n",
    "        <span>Umair Khan</span>\n",
    "    </p>\n",
    "</div>"
   ]
  }
 ],
 "metadata": {
  "kernelspec": {
   "display_name": "Python 3 (ipykernel)",
   "language": "python",
   "name": "python3"
  },
  "language_info": {
   "codemirror_mode": {
    "name": "ipython",
    "version": 3
   },
   "file_extension": ".py",
   "mimetype": "text/x-python",
   "name": "python",
   "nbconvert_exporter": "python",
   "pygments_lexer": "ipython3",
   "version": "3.12.4"
  }
 },
 "nbformat": 4,
 "nbformat_minor": 5
}
