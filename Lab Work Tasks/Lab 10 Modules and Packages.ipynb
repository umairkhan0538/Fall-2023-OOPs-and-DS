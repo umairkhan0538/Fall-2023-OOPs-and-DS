{
 "cells": [
  {
   "cell_type": "markdown",
   "id": "64d1311b",
   "metadata": {},
   "source": [
    "<div style=\"\n",
    "        background: linear-gradient(90deg, #8e44ad, #3498db);\n",
    "        padding: 30px 20px;\n",
    "        border-radius: 25px;\n",
    "        box-shadow: 0 7px 6px rgba(0, 0, 0, 0.3);\n",
    "        border: 2px solid #CCCCFF;\n",
    "        max-width: 90%;\n",
    "    \">\n",
    "        <span style=\"\n",
    "            color: #FFBF00;\n",
    "            font-size: 20px;\n",
    "            font-family: Cooper Black;\n",
    "            letter-spacing: 2px;\n",
    "            line-height: 1.4;\n",
    "            text-transform: sentencecase;\n",
    "            text-shadow: 3px 3px 8px rgba(0, 0, 0, 0.5);\n",
    "            text-align: center;\n",
    "        \">\n",
    "            University of Engineering and Technology Peshawar Jalozai Campus\n",
    "        </span>\n",
    "  </div>\n"
   ]
  },
  {
   "cell_type": "markdown",
   "id": "7d66cac5",
   "metadata": {},
   "source": [
    " <div style=\"\n",
    "        background: linear-gradient(90deg, #e06377, #3b3a30);\n",
    "        padding: 30px 20px;\n",
    "        border-radius: 25px;\n",
    "        box-shadow: 0 7px 6px rgba(0, 0, 0, 0.3);\n",
    "        border: 2px solid #CCCCFF;\n",
    "        max-width: 90%;\n",
    "    \">\n",
    "        <span style=\"\n",
    "            font-size: 20px;\n",
    "            font-family: Cooper Black;\n",
    "            color: #FFBF00;\n",
    "            font-weight: bold;\n",
    "            letter-spacing: 1px;\n",
    "            text-shadow: 3px 1px 8px rgba(0, 0, 1, 0.6);\n",
    "        \">\n",
    "            Lab Title: EE-271 “OOP & Data Structures Lab”\n",
    "        </span>\n",
    "    </div>\n"
   ]
  },
  {
   "cell_type": "markdown",
   "id": "e06a393e",
   "metadata": {},
   "source": [
    "<div style=\"\n",
    "        background: linear-gradient(90deg, #c83349, #622569);\n",
    "        padding: 30px 20px;\n",
    "        border-radius: 25px;\n",
    "        box-shadow: 0 7px 6px rgba(0, 0, 0, 0.3);\n",
    "        border: 2px solid #CCCCFF;\n",
    "        max-width: 90%;\n",
    "    \">\n",
    "        <span style=\"\n",
    "            font-size: 20px;\n",
    "            font-family: Cooper Black;\n",
    "            color: #FFBF00;\n",
    "            font-weight: bold;\n",
    "            letter-spacing: 1px;\n",
    "            text-shadow: 3px 1px 8px rgba(0, 0, 1, 0.6);\n",
    "        \">\n",
    "            Lab 10: Modules and Packages\n",
    "        </span>\n",
    "    </div>\n"
   ]
  },
  {
   "cell_type": "markdown",
   "id": "fa68cbeb",
   "metadata": {},
   "source": [
    "<h3 style=\"color: #34495e; font-family: Arial, sans-serif;\">LAB WORK TASKS</h3>\n",
    "\n",
    "<h3 style=\"color: #34495e; font-family: Arial, sans-serif;\">TASK 1</h3>\n",
    "\n",
    "<ul style=\"color: #2c3e50; font-family: Arial, sans-serif; line-height: 1.8;\">\n",
    "  <li><strong style=\"color: #2980b9; background-color: #eafaf1; padding: 5px; border-radius: 5px;\">Create a file <code>add.py</code></strong> and save it in the same folder.</li>\n",
    "  <li><strong style=\"color: #2980b9; background-color: #eafaf1; padding: 5px; border-radius: 5px;\">Create a file <code>sub.py</code></strong> and save it in the same folder.</li>\n",
    "  <li><strong style=\"color: #2980b9; background-color: #eafaf1; padding: 5px; border-radius: 5px;\">Create a file <code>mul.py</code></strong> and save it in the same folder.</li>\n",
    "  <li><strong style=\"color: #2980b9; background-color: #eafaf1; padding: 5px; border-radius: 5px;\">Create a file <code>divide.py</code></strong> and save it in the same folder.</li>\n",
    "</ul>\n",
    "\n",
    "<h3 style=\"color: #34495e; font-family: Arial, sans-serif;\">IMPORTING AND RUNNING MODULES</h3>\n",
    "<p style=\"color: #2c3e50; font-family: Arial, sans-serif; line-height: 1.6;\">\n",
    "  After creating the above files, import them into another Python script or an interactive session and run their functions.\n",
    "</p>\n",
    "\n",
    "<h3 style=\"color: #34495e; font-family: Arial, sans-serif;\">EXAMPLE</h3>\n",
    "\n",
    "<pre style=\"background-color: #ecf0f1; padding: 10px; border-radius: 5px; font-family: monospace; color: #2c3e50;\">\n"
   ]
  },
  {
   "cell_type": "code",
   "execution_count": 3,
   "id": "7babb511-3e94-4684-a6ad-d3e2b8a409fc",
   "metadata": {},
   "outputs": [],
   "source": [
    "import Add\n",
    "import Sub\n",
    "import Mul"
   ]
  },
  {
   "cell_type": "code",
   "execution_count": 7,
   "id": "bb41cec5-9ca8-44b4-b301-fd93051efcc3",
   "metadata": {},
   "outputs": [
    {
     "name": "stdout",
     "output_type": "stream",
     "text": [
      "Addition of 10 and 5: 15\n",
      "Subtraction of 10 and 5: 18\n",
      "Multiplication of 10 and 5: 24\n"
     ]
    }
   ],
   "source": [
    "print(\"Addition of 10 and 5:\", Add.add(10, 5))\n",
    "\n",
    "print(\"Subtraction of 10 and 5:\", Sub.subtract(23, 5))\n",
    "\n",
    "print(\"Multiplication of 10 and 5:\", Mul.multiply(3, 8))"
   ]
  },
  {
   "cell_type": "markdown",
   "id": "1ca81f01",
   "metadata": {},
   "source": [
    "-------------------------------"
   ]
  },
  {
   "cell_type": "markdown",
   "id": "cd26a4bb",
   "metadata": {},
   "source": [
    "<h3 style=\"color: #34495e; font-family: Arial, sans-serif;\">LAB WORK TASKS</h3>\n",
    "\n",
    "<h3 style=\"color: #34495e; font-family: Arial, sans-serif;\">TASK 2: CREATING MODULES</h3>\n",
    "\n",
    "<p style=\"color: #2c3e50; font-family: Arial, sans-serif; line-height: 1.6;\">\n",
    "  A module is a Python file that contains functions, classes, or variables that can be reused in other Python scripts. Below is an example process for creating and using modules:\n",
    "</p>\n",
    "\n",
    "<h3 style=\"color: #34495e; font-family: Arial, sans-serif;\">STEPS TO CREATE AND USE MODULES</h3>\n",
    "\n",
    "<ol style=\"color: #2c3e50; font-family: Arial, sans-serif; line-height: 1.8;\">\n",
    "  <li><strong style=\"color: #2980b9; background-color: #eafaf1; padding: 5px; border-radius: 5px;\">Create a Python file:</strong>\n",
    "    <ul>\n",
    "      <li>Write reusable functions or classes in a <code>.py</code> file.</li>\n",
    "    </ul>\n",
    "  </li>\n",
    "  <li><strong style=\"color: #2980b9; background-color: #eafaf1; padding: 5px; border-radius: 5px;\">Save the file:</strong>\n",
    "    <ul>\n",
    "      <li>Save the Python file with a meaningful name (e.g., <code>my_module.py</code>).</li>\n",
    "    </ul>\n",
    "  </li>\n",
    "  <li><strong style=\"color: #2980b9; background-color: #eafaf1; padding: 5px; border-radius: 5px;\">Import the module:</strong>\n",
    "    <ul>\n",
    "      <li>Use the <code>import</code> statement in another Python file to reuse the functions or classes.</li>\n",
    "    </ul>\n",
    "  </li>\n",
    "</ol>\n"
   ]
  },
  {
   "cell_type": "markdown",
   "id": "18b4feb4-cc86-4104-a487-08054f7f4092",
   "metadata": {},
   "source": [
    "## Lab Work Tasks\n",
    "\n",
    "### Task 3: Creating Modules\n",
    "\n",
    "A module is a Python file that contains functions, classes, or variables that can be reused in other Python scripts. Below is an example process for creating and using modules:\n",
    "\n",
    "#### Steps to Create and Use Modules:\n",
    "\n",
    "1. **Create a Python file**:\n",
    "   - Write reusable functions or classes in a `.py` file.\n",
    "\n",
    "2. **Save the file**:\n",
    "   - Save the Python file with a meaningful name (e.g., `my_module.py`).\n",
    "\n",
    "3. **Import the module**:\n",
    "   - Use the `import` statement in another Python file to reuse the functions or classes."
   ]
  },
  {
   "cell_type": "markdown",
   "id": "5591cd60",
   "metadata": {},
   "source": [
    "<h3 style=\"color: #34495e; font-family: Arial, sans-serif;\">TASK: CREATING MODULE</h3>\n",
    "\n",
    "<h3 style=\"color: #34495e; font-family: Arial, sans-serif;\">STEPS</h3>\n",
    "\n",
    "<ol style=\"color: #2c3e50; font-family: Arial, sans-serif; line-height: 1.8;\">\n",
    "  <li><strong style=\"color: #2980b9; background-color: #eafaf1; padding: 5px; border-radius: 5px;\">Create a Module:</strong>\n",
    "    <ul>\n",
    "      <li>Save the following code as <code>adder.py</code> in a new directory named <code>myproject/</code> on your computer.</li>\n",
    "    </ul>\n",
    "  </li>\n",
    "</ol>\n",
    "\n",
    "<h3 style=\"color: #34495e; font-family: Arial, sans-serif;\">CODE EXAMPLE</h3>\n",
    "\n",
    "</pre>\n"
   ]
  },
  {
   "cell_type": "code",
   "execution_count": 8,
   "id": "0f22d859-8ef1-435c-b124-21d6819a19db",
   "metadata": {},
   "outputs": [
    {
     "name": "stdout",
     "output_type": "stream",
     "text": [
      "4\n"
     ]
    }
   ],
   "source": [
    "import adder\n",
    "value = adder.add(2, 2)\n",
    "print(value)"
   ]
  },
  {
   "cell_type": "markdown",
   "id": "1b3279bf",
   "metadata": {},
   "source": [
    "<h3 style=\"color: #34495e; font-family: Arial, sans-serif;\">TASK: ADDING A NEW FUNCTION TO THE MODULE</h3>\n",
    "\n",
    "<h3 style=\"color: #34495e; font-family: Arial, sans-serif;\">STEPS</h3>\n",
    "\n",
    "<ol style=\"color: #2c3e50; font-family: Arial, sans-serif; line-height: 1.8;\">\n",
    "  <li><strong style=\"color: #2980b9; background-color: #eafaf1; padding: 5px; border-radius: 5px;\">Update the <code>adder.py</code> Module:</strong>\n",
    "    <ul>\n",
    "      <li>Add the following function to <code>adder.py</code> to double a given value.</li>\n",
    "    </ul>\n",
    "  </li>\n",
    "</ol>\n",
    "\n",
    "<h3 style=\"color: #34495e; font-family: Arial, sans-serif;\">UPDATED CODE</h3>\n",
    "\n",
    "<pre style=\"background-color: #ecf0f1; padding: 10px; border-radius: 5px; font-family: monospace; color: #2c3e50;\">\n",
    "# adder.py\n",
    "def add(a, b):\n",
    "    return a + b\n",
    "\n",
    "def double(x):\n",
    "    return x + x\n",
    "</pre>\n"
   ]
  },
  {
   "cell_type": "markdown",
   "id": "ef67b91b-6cee-4650-b5d1-04aef965e039",
   "metadata": {},
   "source": [
    "**Run the following code.**"
   ]
  },
  {
   "cell_type": "code",
   "execution_count": 9,
   "id": "87d3be1a-f328-4a94-bfd6-738b83e55db6",
   "metadata": {},
   "outputs": [
    {
     "name": "stdout",
     "output_type": "stream",
     "text": [
      "8\n"
     ]
    }
   ],
   "source": [
    "import adder\n",
    "value = adder.add(2, 2)\n",
    "double_value = adder.double(value)\n",
    "print(double_value)"
   ]
  },
  {
   "cell_type": "raw",
   "id": "eb48c98f-5147-4914-83a2-055cdc68a807",
   "metadata": {},
   "source": [
    "c. import <module> as <other_name>"
   ]
  },
  {
   "cell_type": "markdown",
   "id": "48cdb3b1-6e2c-4936-b31e-f05e9381e04c",
   "metadata": {},
   "source": [
    "\n",
    "### Task: Changing the Name of an Import Using `as`\n",
    "\n",
    "### Explanation:\n",
    "- You can change the name of a module when importing it by using the `as` keyword.\n",
    "- This allows you to reference the module with an alias, which is often useful for shortening long module names or avoiding naming conflicts.\n"
   ]
  },
  {
   "cell_type": "code",
   "execution_count": 15,
   "id": "d01437f9-f073-4c56-9dcb-9022f64fc896",
   "metadata": {},
   "outputs": [
    {
     "name": "stdout",
     "output_type": "stream",
     "text": [
      "8\n"
     ]
    }
   ],
   "source": [
    "import adder as a                 # <-- Change this line Leave the code below unchanged\n",
    "value = adder.add(2, 2)\n",
    "double_value = adder.double(value)\n",
    "\n",
    "print(double_value)"
   ]
  },
  {
   "cell_type": "markdown",
   "id": "34efacdc-08a5-4249-ad51-d3d064623858",
   "metadata": {},
   "source": [
    "ii. Run the following code and note what you observe and why this happened"
   ]
  },
  {
   "cell_type": "code",
   "execution_count": 14,
   "id": "b9f5c681-8904-46a2-af3a-56ac3c5990a1",
   "metadata": {},
   "outputs": [
    {
     "name": "stdout",
     "output_type": "stream",
     "text": [
      "8\n"
     ]
    }
   ],
   "source": [
    "import adder as a\n",
    "value = a.add(2, 2)                        # <-- Change this line\n",
    "double_value = a.double(value)             # <-- Change this line, too\n",
    "print(double_value)\n"
   ]
  },
  {
   "cell_type": "raw",
   "id": "51eddcf0-01f7-47e0-8f24-8f91b559af00",
   "metadata": {},
   "source": [
    "d. from <module> import <name>"
   ]
  },
  {
   "cell_type": "markdown",
   "id": "0bdc46f6-f372-4694-ac0e-b080e33a585c",
   "metadata": {},
   "source": [
    "## Importing Specific Names from a Module\n",
    "\n",
    "Instead of importing the entire namespace, you can import only a specific name from a module. This approach allows you to access specific functions, classes, or variables directly without referencing the module name.\n"
   ]
  },
  {
   "cell_type": "markdown",
   "id": "754f72d9-e974-422e-8a59-cf54d50c4d5a",
   "metadata": {},
   "source": [
    "Run the following code."
   ]
  },
  {
   "cell_type": "code",
   "execution_count": 16,
   "id": "a97b4cb1-2a36-4a2e-9c06-5ee7f4119d7a",
   "metadata": {},
   "outputs": [
    {
     "name": "stdout",
     "output_type": "stream",
     "text": [
      "4\n"
     ]
    }
   ],
   "source": [
    "from adder import add # <-- Change this line\n",
    "value = adder.add(2, 2)\n",
    "print(value)\n"
   ]
  },
  {
   "cell_type": "markdown",
   "id": "7e713f26-66f4-45a2-8591-d95e48a4f622",
   "metadata": {},
   "source": [
    " Run the following code and note what you observe and why this happened.\n"
   ]
  },
  {
   "cell_type": "code",
   "execution_count": 17,
   "id": "f596265d-cd17-4337-9b1e-06e9dfcc54a0",
   "metadata": {},
   "outputs": [
    {
     "ename": "TypeError",
     "evalue": "double() takes 1 positional argument but 2 were given",
     "output_type": "error",
     "traceback": [
      "\u001b[1;31m---------------------------------------------------------------------------\u001b[0m",
      "\u001b[1;31mTypeError\u001b[0m                                 Traceback (most recent call last)",
      "Cell \u001b[1;32mIn[17], line 3\u001b[0m\n\u001b[0;32m      1\u001b[0m \u001b[38;5;28;01mfrom\u001b[39;00m \u001b[38;5;21;01madder\u001b[39;00m \u001b[38;5;28;01mimport\u001b[39;00m add \u001b[38;5;66;03m# <-- Change this line\u001b[39;00m\n\u001b[0;32m      2\u001b[0m value \u001b[38;5;241m=\u001b[39m adder\u001b[38;5;241m.\u001b[39madd(\u001b[38;5;241m2\u001b[39m, \u001b[38;5;241m2\u001b[39m)\n\u001b[1;32m----> 3\u001b[0m double_value \u001b[38;5;241m=\u001b[39m \u001b[43madder\u001b[49m\u001b[38;5;241;43m.\u001b[39;49m\u001b[43mdouble\u001b[49m\u001b[43m(\u001b[49m\u001b[38;5;241;43m2\u001b[39;49m\u001b[43m,\u001b[49m\u001b[43m \u001b[49m\u001b[38;5;241;43m2\u001b[39;49m\u001b[43m)\u001b[49m\n\u001b[0;32m      4\u001b[0m \u001b[38;5;28mprint\u001b[39m(double_value)\n",
      "\u001b[1;31mTypeError\u001b[0m: double() takes 1 positional argument but 2 were given"
     ]
    }
   ],
   "source": [
    "from adder import add         # <-- Change this line\n",
    "value = adder.add(2, 2)\n",
    "double_value = adder.double(2, 2)\n",
    "print(double_value)\n"
   ]
  },
  {
   "cell_type": "markdown",
   "id": "5768872a-8256-4a38-934a-037bddf7033e",
   "metadata": {},
   "source": [
    "Run the following code and note what you observe and why this happened"
   ]
  },
  {
   "cell_type": "code",
   "execution_count": 18,
   "id": "b8aea93a-fe8d-4dce-98d0-f930fb6eec07",
   "metadata": {},
   "outputs": [
    {
     "name": "stdout",
     "output_type": "stream",
     "text": [
      "8\n"
     ]
    }
   ],
   "source": [
    "from adder import add, double           # <-- Change this line\n",
    "                                        # Leave the code below unchanged\n",
    "value = add(2, 2)\n",
    "double_value = double(value)\n",
    "print(double_value)\n"
   ]
  },
  {
   "cell_type": "markdown",
   "id": "cbe743a8",
   "metadata": {},
   "source": [
    "<h3 style=\"color: #34495e; font-family: Arial, sans-serif;\">NOTE</h3>\n",
    "\n",
    "<table style=\"width: 100%; border-collapse: collapse; font-family: Arial, sans-serif; color: #2c3e50;\">\n",
    "  <tr style=\"background-color: #34495e; color: white;\">\n",
    "    <th style=\"border: 1px solid #ddd; padding: 10px; text-align: left;\">Import Statement</th>\n",
    "    <th style=\"border: 1px solid #ddd; padding: 10px; text-align: left;\">Result</th>\n",
    "  </tr>\n",
    "  <tr>\n",
    "    <td style=\"border: 1px solid #ddd; padding: 10px;\"><code>import &lt;module&gt;</code></td>\n",
    "    <td style=\"border: 1px solid #ddd; padding: 10px;\">\n",
    "      Import all of <code>&lt;module&gt;</code>’s namespace into the name <code>&lt;module&gt;</code>.  \n",
    "      Import module names can be accessed from the calling module with <code>&lt;module&gt;.&lt;name&gt;</code>.\n",
    "    </td>\n",
    "  </tr>\n",
    "  <tr>\n",
    "    <td style=\"border: 1px solid #ddd; padding: 10px;\"><code>import &lt;module&gt; as &lt;other_name&gt;</code></td>\n",
    "    <td style=\"border: 1px solid #ddd; padding: 10px;\">\n",
    "      Import all of <code>&lt;module&gt;</code>’s namespace into the name <code>&lt;other_name&gt;</code>.  \n",
    "      Import module names can be accessed from the calling module with <code>&lt;other_name&gt;.&lt;name&gt;</code>.\n",
    "    </td>\n",
    "  </tr>\n",
    "  <tr>\n",
    "    <td style=\"border: 1px solid #ddd; padding: 10px;\"><code>from &lt;module&gt; import &lt;name1&gt;, &lt;name2&gt;, ...</code></td>\n",
    "    <td style=\"border: 1px solid #ddd; padding: 10px;\">\n",
    "      Import only the names <code>&lt;name1&gt;</code>, <code>&lt;name2&gt;</code>, etc., from <code>&lt;module&gt;</code>.  \n",
    "      The names are added to the calling module’s local namespace and can be accessed directly.\n",
    "    </td>\n",
    "  </tr>\n",
    "</table>\n"
   ]
  },
  {
   "cell_type": "markdown",
   "id": "bc38d92d",
   "metadata": {},
   "source": [
    "<h3 style=\"color: #1abc9c; font-family: Arial, sans-serif;\">TASK 4: CONVERT LABS 7, 8, AND 9 INTO MODULES</h3>\n",
    "\n",
    "<h3 style=\"color: #e74c3c; font-family: Arial, sans-serif;\">INTRODUCTION</h3>\n",
    "\n",
    "<p style=\"color: #2c3e50; font-family: Arial, sans-serif; line-height: 1.6;\">\n",
    "  In this task, we are asked to convert Labs 7, 8, and 9 into Python modules and then organize them into a package named <code>inheritance</code>. After converting them into modules, we will revise the tasks to include the functionality and structure of the newly created modules and package.\n",
    "</p>\n",
    "\n",
    "<h3 style=\"color: #3498db; font-family: Arial, sans-serif;\">STEPS TO CONVERT LABS INTO MODULES</h3>\n",
    "\n",
    "<ol style=\"color: #2c3e50; font-family: Arial, sans-serif; line-height: 1.8;\">\n",
    "  <li><strong style=\"color: #9b59b6; background-color: #fdf2e9; padding: 5px; border-radius: 5px;\">Create a new directory:</strong>\n",
    "    <ul>\n",
    "      <li>The name of the directory will be <code>inheritance</code>.</li>\n",
    "    </ul>\n",
    "  </li>\n",
    "  <li><strong style=\"color: #f39c12; background-color: #f5eef8; padding: 5px; border-radius: 5px;\">Convert Lab 7, 8, and 9 scripts into separate Python modules:</strong>\n",
    "    <ul>\n",
    "      <li>Each lab will be a module in the <code>inheritance</code> package.</li>\n",
    "      <li>You will need to create <code>.py</code> files for each lab task.</li>\n",
    "    </ul>\n",
    "  </li>\n",
    "  <li><strong style=\"color: #27ae60; background-color: #fcf3cf; padding: 5px; border-radius: 5px;\">Organize the modules inside the <code>inheritance</code> package:</strong>\n",
    "    <ul>\n",
    "      <li>The directory <code>inheritance</code> will contain the Python modules that correspond to each lab.</li>\n",
    "    </ul>\n",
    "  </li>\n",
    "  <li><strong style=\"color: #e74c3c; background-color: #d4efdf; padding: 5px; border-radius: 5px;\">Revised Tasks with the New Structure:</strong>\n",
    "    <ul>\n",
    "      <li>After creating the modules and packaging them, revise the tasks to import and use the modules as required.</li>\n",
    "    </ul>\n",
    "  </li>\n",
    "</ol>\n",
    "\n",
    "<h3 style=\"color: #8e44ad; font-family: Arial, sans-serif;\">DIRECTORY STRUCTURE</h3>\n",
    "\n",
    "<pre style=\"background-color: #f0f3f4; padding: 10px; border-radius: 5px; font-family: monospace; color: #2c3e50;\">\n",
    "inheritance/\n",
    "│\n",
    "├── __init__.py\n",
    "├── lab7.py\n",
    "├── lab8.py\n",
    "├── lab9.py\n",
    "</pre>\n"
   ]
  },
  {
   "cell_type": "code",
   "execution_count": 1,
   "id": "04024465-108a-4a08-ba60-23fffc6abfcb",
   "metadata": {},
   "outputs": [],
   "source": [
    "import os"
   ]
  },
  {
   "cell_type": "code",
   "execution_count": 8,
   "id": "01684093-0027-4dd6-adcc-a33c47e7836c",
   "metadata": {},
   "outputs": [
    {
     "data": {
      "text/plain": [
       "'C:\\\\Users\\\\Umair\\\\Desktop\\\\INHERITANCE practice\\\\Package\\\\OOP'"
      ]
     },
     "execution_count": 8,
     "metadata": {},
     "output_type": "execute_result"
    }
   ],
   "source": [
    "os.getcwd()"
   ]
  },
  {
   "cell_type": "code",
   "execution_count": 51,
   "id": "eec3ce7c-ad8a-4c51-a516-70490a26d68a",
   "metadata": {},
   "outputs": [],
   "source": [
    "os.chdir(r'C:\\Users\\Umair\\Desktop\\INHERITANCE practice\\Package\\OOP')\n"
   ]
  },
  {
   "cell_type": "code",
   "execution_count": 12,
   "id": "762eeacd",
   "metadata": {},
   "outputs": [
    {
     "data": {
      "text/plain": [
       "'C:\\\\Users\\\\Umair\\\\Desktop\\\\INHERITANCE practice\\\\Package\\\\OOP'"
      ]
     },
     "execution_count": 12,
     "metadata": {},
     "output_type": "execute_result"
    }
   ],
   "source": [
    "os.getcwd()"
   ]
  },
  {
   "cell_type": "code",
   "execution_count": 14,
   "id": "8c3b4820-4b90-4de4-9372-ac7faf9a11de",
   "metadata": {},
   "outputs": [],
   "source": [
    "from Lab7 import Cube, Point3D, Rectangle, Square"
   ]
  },
  {
   "cell_type": "code",
   "execution_count": 15,
   "id": "9f16bff7-70d6-44d2-b2f8-3176b96adc7a",
   "metadata": {},
   "outputs": [
    {
     "data": {
      "text/plain": [
       "24"
      ]
     },
     "execution_count": 15,
     "metadata": {},
     "output_type": "execute_result"
    }
   ],
   "source": [
    "cube1 = Cube(2)\n",
    "cube1.volume()\n",
    "cube1.surface_area()"
   ]
  },
  {
   "cell_type": "code",
   "execution_count": 16,
   "id": "3062e530-c1d6-4b87-9835-81288fba6008",
   "metadata": {},
   "outputs": [
    {
     "name": "stdout",
     "output_type": "stream",
     "text": [
      "Point1: Point3D (3, 4, 5), Distance from origin: 7.0710678118654755\n",
      "Point2: Point3D (6, 8, 10), Distance from origin: 14.142135623730951\n",
      "Distance between Point1 and Point2: 7.0710678118654755\n"
     ]
    }
   ],
   "source": [
    "point1 = Point3D(3, 4, 5)\n",
    "point2 = Point3D(6, 8, 10)\n",
    "print(f\"Point1: {point1}, Distance from origin: {point1.distance_from_origin()}\")\n",
    "print(f\"Point2: {point2}, Distance from origin: {point2.distance_from_origin()}\")\n",
    "print(f\"Distance between Point1 and Point2: {point1.distance_to(point2)}\")"
   ]
  },
  {
   "cell_type": "code",
   "execution_count": 17,
   "id": "81b59ca4-552c-4195-9a66-8b7d1a889874",
   "metadata": {},
   "outputs": [
    {
     "name": "stdout",
     "output_type": "stream",
     "text": [
      "Rectangle 1: Rectangle(width=4, height=6), Area: 24, Perimeter: 20\n",
      "Rectangle 2: Rectangle(width=3, height=8), Area: 24, Perimeter: 22\n",
      "Square: Square(side=5), Area: 25, Perimeter: 20\n"
     ]
    }
   ],
   "source": [
    "rect1 = Rectangle(4, 6)\n",
    "rect2 = Rectangle(3, 8)\n",
    "print(f\"Rectangle 1: {rect1}, Area: {rect1.area}, Perimeter: {rect1.perimeter}\")\n",
    "print(f\"Rectangle 2: {rect2}, Area: {rect2.area}, Perimeter: {rect2.perimeter}\")\n",
    "\n",
    "square = Square(5)\n",
    "print(f\"Square: {square}, Area: {square.area}, Perimeter: {square.perimeter}\")"
   ]
  },
  {
   "cell_type": "code",
   "execution_count": 19,
   "id": "a15b4ab7-5213-4cb4-87e9-26ec037693be",
   "metadata": {},
   "outputs": [],
   "source": [
    "from Lab7 import Payroll_system, Salary_employee, Hourly_employee, Commission_employee"
   ]
  },
  {
   "cell_type": "code",
   "execution_count": 33,
   "id": "5675a69a-a31e-479c-af6c-73570bcdbf65",
   "metadata": {},
   "outputs": [],
   "source": [
    "salary_employee = Salary_employee(538, \"Umair khan\", \"1300 $\")\n",
    "hourly_employee = Hourly_employee(\"5xx\", \"xyz\", 40, 25)\n",
    "commission_employee = Commission_employee(\"5xx\", \"xyz\", 1000, 250)"
   ]
  },
  {
   "cell_type": "code",
   "execution_count": 34,
   "id": "5409fff2-d022-4083-9d6d-9ad45662800b",
   "metadata": {},
   "outputs": [
    {
     "name": "stdout",
     "output_type": "stream",
     "text": [
      "Calculate Payroll\n",
      "===========================\n",
      "Payroll for: 538 - Umair khan\n",
      "- Check amount: 1300 $\n",
      "\n",
      "Payroll for: 5xx - xyz\n",
      "- Check amount: 1000\n",
      "\n",
      "Payroll for: 5xx - xyz\n",
      "- Check amount: 1250\n",
      "\n"
     ]
    }
   ],
   "source": [
    "payroll_system = Payroll_system()\n",
    "employees = [salary_employee, hourly_employee, commission_employee]\n",
    "payroll_system.calculate_payroll(employees)"
   ]
  },
  {
   "cell_type": "code",
   "execution_count": 24,
   "id": "2df7b81e-93d5-44e8-8ca1-03cd4a787043",
   "metadata": {},
   "outputs": [],
   "source": [
    "from Lab7 import ElectricalAdminStaff, ElectricalInstructor"
   ]
  },
  {
   "cell_type": "code",
   "execution_count": 35,
   "id": "162beece-3870-47ee-85c0-c5f1e9bc476e",
   "metadata": {},
   "outputs": [
    {
     "name": "stdout",
     "output_type": "stream",
     "text": [
      "Admin Staff Details:\n",
      "Name: Nabeel khan\n",
      "Email: nabeelkhan@uet.edu.pk\n",
      "Pay: Rs3300.00\n",
      "Department: Electrical Department\n",
      "Team: Team A\n",
      "Tasks Assigned: Manage Electrical Maintenance, Prepare project Reports\n",
      "\n",
      "Instructor Details:\n",
      "Name: Umair khan\n",
      "Email: umairkhan@uet.edu.pk\n",
      "Pay: Rs6000.00\n",
      "Department: Electrical Department\n",
      "Designation: Instructor\n",
      "Courses Assigned: AutoCAD for Electrical Engineerning, Electrical Wiring in AutoCAD\n"
     ]
    }
   ],
   "source": [
    "admin_staff = ElectricalAdminStaff(\"Nabeel\", \"khan\", 3300, \"Team A\")\n",
    "admin_staff.assignTask(\"Manage Electrical Maintenance\")\n",
    "admin_staff.assignTask(\"Prepare project Reports\")\n",
    "\n",
    "instructor = ElectricalInstructor(\"Umair\", \"khan\", 6000, \"Instructor\")\n",
    "instructor.assignCourse(\"AutoCAD for Electrical Engineerning\")\n",
    "instructor.assignCourse(\"Electrical Wiring in AutoCAD\")\n",
    "\n",
    "print(\"Admin Staff Details:\")\n",
    "print(admin_staff)\n",
    "\n",
    "print(\"\\nInstructor Details:\")\n",
    "print(instructor)"
   ]
  },
  {
   "cell_type": "code",
   "execution_count": 36,
   "id": "d1ad2b5d-d042-4ac5-98b2-e551ad8982b5",
   "metadata": {},
   "outputs": [],
   "source": [
    "from Lab8 import Cube"
   ]
  },
  {
   "cell_type": "code",
   "execution_count": 37,
   "id": "49711c6e-12ba-43ab-8008-1d6c8f486d1d",
   "metadata": {},
   "outputs": [
    {
     "name": "stdout",
     "output_type": "stream",
     "text": [
      "Cube 1 Details:\n",
      "Cube [Side: 3, Surface Area: 54, Volume: 27]\n",
      "\n",
      "Cube 2 Details:\n",
      "Cube [Side: 5, Surface Area: 150, Volume: 125]\n"
     ]
    }
   ],
   "source": [
    "cube1 = Cube(3)\n",
    "cube2 = Cube(5)\n",
    "\n",
    "print(\"Cube 1 Details:\")\n",
    "print(cube1)\n",
    "print(\"\\nCube 2 Details:\")\n",
    "print(cube2)"
   ]
  },
  {
   "cell_type": "code",
   "execution_count": 38,
   "id": "0cd2e678-68ca-4396-abe0-fca078d8cd8f",
   "metadata": {},
   "outputs": [],
   "source": [
    "from Lab8 import Manager_role, Secretary_role, SalesPerson_role, FactoryWorker_role"
   ]
  },
  {
   "cell_type": "code",
   "execution_count": 40,
   "id": "9a9a7378-1dff-42a0-924c-9c5cef9e951e",
   "metadata": {},
   "outputs": [],
   "source": [
    "Manager = Manager_role(538, \"Umair khan\", \"2800 $\")\n",
    "Secretary = Secretary_role(\"5xx\", \"xyz\", 1500)\n",
    "SalesPerson = SalesPerson_role(\"5xx\", \"xyz\", 23, 40)\n",
    "FactoryWorker = FactoryWorker_role(\"5xx\", \"xyz\", 34, 55)"
   ]
  },
  {
   "cell_type": "code",
   "execution_count": 41,
   "id": "b619b423-f70b-4389-b24a-9b5512da1e89",
   "metadata": {},
   "outputs": [],
   "source": [
    "from Lab8 import Productivity_system"
   ]
  },
  {
   "cell_type": "code",
   "execution_count": 42,
   "id": "e78af7ea-56e8-43e5-b1c8-e85c739a8f10",
   "metadata": {},
   "outputs": [
    {
     "name": "stdout",
     "output_type": "stream",
     "text": [
      "Productivity System Tracking\n",
      "-----------------------------\n",
      "Umair khan oversees and delegates tasks for 44 hours.\n",
      "\n",
      "xyz efficiently organizes and manages documents for 44 hours.\n",
      "\n",
      "xyz engages with clients and closes deals for 44 hours.\n",
      "\n",
      "xyz diligently assembles products for 44 hours.\n",
      "\n"
     ]
    }
   ],
   "source": [
    "employees = [Manager, Secretary, SalesPerson, FactoryWorker]\n",
    "\n",
    "productivity_system = Productivity_system()\n",
    "\n",
    "productivity_system.Track(employees, 44)"
   ]
  },
  {
   "cell_type": "code",
   "execution_count": 44,
   "id": "9be2495c-995b-4d60-b663-c66466c55dbd",
   "metadata": {},
   "outputs": [],
   "source": [
    "from Lab9 import TemporarySecretary"
   ]
  },
  {
   "cell_type": "code",
   "execution_count": 45,
   "id": "888beb80-f1e9-4861-ab30-30375cccd1a4",
   "metadata": {},
   "outputs": [
    {
     "name": "stdout",
     "output_type": "stream",
     "text": [
      "Productivity System Tracking\n",
      "-----------------------------\n",
      "Robin Williams efficiently organizes and manages documents for 40 hours.\n",
      "\n",
      "Calculate Payroll\n",
      "===========================\n",
      "Payroll for: 5 - Robin Williams\n",
      "- Check amount: 360\n",
      "\n"
     ]
    }
   ],
   "source": [
    "temporary_secretary = TemporarySecretary(5, \"Robin Williams\", 40, 9)\n",
    "company_employees = [temporary_secretary]\n",
    "productivity_system = Productivity_system()\n",
    "productivity_system.Track(company_employees, 40)\n",
    "payroll_system = Payroll_system()\n",
    "payroll_system.calculate_payroll(company_employees)\n"
   ]
  },
  {
   "cell_type": "markdown",
   "id": "0590b6cd",
   "metadata": {},
   "source": [
    "----------------"
   ]
  },
  {
   "cell_type": "markdown",
   "id": "5f1f024d",
   "metadata": {},
   "source": [
    "<h3 style=\"color: #1abc9c; font-family: Arial, sans-serif;\">TASK: CONVERT GEOMETRY CLASSES INTO MODULES AND CREATE A PACKAGE</h3>\n",
    "\n",
    "<h3 style=\"color: #e74c3c; font-family: Arial, sans-serif;\">OBJECTIVE</h3>\n",
    "\n",
    "<p style=\"color: #2c3e50; font-family: Arial, sans-serif; line-height: 1.6;\">\n",
    "  Convert the Geometry classes covered in Lab 6 into separate modules, organize them into a package named after the classes, and perform the corresponding tasks using the package.\n",
    "</p>\n"
   ]
  },
  {
   "cell_type": "code",
   "execution_count": 48,
   "id": "a8424ff0",
   "metadata": {},
   "outputs": [],
   "source": [
    "import os"
   ]
  },
  {
   "cell_type": "code",
   "execution_count": 49,
   "id": "7263bef8",
   "metadata": {},
   "outputs": [
    {
     "data": {
      "text/plain": [
       "'C:\\\\Users\\\\Umair\\\\Desktop\\\\INHERITANCE practice\\\\Package\\\\OOP'"
      ]
     },
     "execution_count": 49,
     "metadata": {},
     "output_type": "execute_result"
    }
   ],
   "source": [
    "os.getcwd()"
   ]
  },
  {
   "cell_type": "code",
   "execution_count": 52,
   "id": "e274185c",
   "metadata": {},
   "outputs": [],
   "source": [
    "os.chdir(r'C:\\Users\\Umair\\Desktop\\INHERITANCE practice\\Package\\Classes')"
   ]
  },
  {
   "cell_type": "code",
   "execution_count": 53,
   "id": "bba3c3b0",
   "metadata": {},
   "outputs": [
    {
     "data": {
      "text/plain": [
       "'C:\\\\Users\\\\Umair\\\\Desktop\\\\INHERITANCE practice\\\\Package\\\\Classes'"
      ]
     },
     "execution_count": 53,
     "metadata": {},
     "output_type": "execute_result"
    }
   ],
   "source": [
    "os.getcwd()"
   ]
  },
  {
   "cell_type": "code",
   "execution_count": 57,
   "id": "c59271e8-c76e-4f8e-a329-914dbdb8b047",
   "metadata": {},
   "outputs": [],
   "source": [
    "from Circle import Circle"
   ]
  },
  {
   "cell_type": "code",
   "execution_count": 58,
   "id": "5c3a10e0-fdf5-4513-a5a1-6e0d95212537",
   "metadata": {},
   "outputs": [
    {
     "name": "stdout",
     "output_type": "stream",
     "text": [
      "Circle with radius: 5\n",
      "Circle(radius=5)\n",
      "Radius: 5\n",
      "Diameter: 10\n",
      "Area: 78.54\n",
      "Circumference: 31.42\n",
      "Circle with radius: 5.0\n",
      "Circle with radius: 1\n",
      "Volume with height 10: 785.40\n"
     ]
    }
   ],
   "source": [
    "circle1 = Circle(5)\n",
    "print(circle1)  \n",
    "print(repr(circle1))  \n",
    "\n",
    "print(f\"Radius: {circle1.radius}\")\n",
    "print(f\"Diameter: {circle1.diameter}\")\n",
    "print(f\"Area: {circle1.area:.2f}\")\n",
    "print(f\"Circumference: {circle1.circumference:.2f}\")\n",
    "\n",
    "circle2 = Circle.from_diameter(10)\n",
    "print(circle2)\n",
    "\n",
    "unit_circle = Circle.unit_circle()\n",
    "print(unit_circle)\n",
    "\n",
    "volume = circle1.volume(10)\n",
    "print(f\"Volume with height 10: {volume:.2f}\")"
   ]
  },
  {
   "cell_type": "code",
   "execution_count": 60,
   "id": "273cf1e2-2313-48e3-a24f-eea6f2ed5020",
   "metadata": {},
   "outputs": [],
   "source": [
    "from point import Point"
   ]
  },
  {
   "cell_type": "code",
   "execution_count": 61,
   "id": "de99e6e8-4551-47dd-a6e9-42178972804f",
   "metadata": {},
   "outputs": [
    {
     "name": "stdout",
     "output_type": "stream",
     "text": [
      "Initial values:\n",
      "Point 1: x=3.0, y=4.0\n",
      "Point 2: x=6.0, y=8.0\n",
      "\n",
      "Updated Point 1:\n",
      "Point 1: x=1.0, y=2.0\n",
      "\n",
      "Distance between Point 1 and Point 2: 7.81\n",
      "Distance of Point 1 from origin: 2.24\n",
      "\n",
      "Point is located at (1.0, 2.0)\n",
      "Origin: Point(0, 0)\n",
      "Point created from coordinates: Point(10.0, 15.0)\n",
      "Point(x=1.0, y=2.0)\n",
      "Point(1.0, 2.0)\n"
     ]
    }
   ],
   "source": [
    "\n",
    "point1 = Point(3.0, 4.0)\n",
    "point2 = Point(6.0, 8.0)\n",
    "\n",
    "print(\"Initial values:\")\n",
    "print(f\"Point 1: x={point1.x}, y={point1.y}\")\n",
    "print(f\"Point 2: x={point2.x}, y={point2.y}\")\n",
    "\n",
    "point1.x = 1.0\n",
    "point1.y = 2.0\n",
    "print(\"\\nUpdated Point 1:\")\n",
    "print(f\"Point 1: x={point1.x}, y={point1.y}\")\n",
    "\n",
    "distance = point1.distance_to(point2)\n",
    "print(f\"\\nDistance between Point 1 and Point 2: {distance:.2f}\")\n",
    "\n",
    "distance_origin = point1.distance_from_origin()\n",
    "print(f\"Distance of Point 1 from origin: {distance_origin:.2f}\")\n",
    "\n",
    "location = point1.locate()\n",
    "print(f\"\\n{location}\")\n",
    "\n",
    "origin_point = Point.origin()\n",
    "print(f\"Origin: {origin_point}\")\n",
    "\n",
    "new_point = Point.from_coordinates((10.0, 15.0))\n",
    "print(f\"Point created from coordinates: {new_point}\")\n",
    "\n",
    "print(repr(point1))\n",
    "print(str(point1))\n"
   ]
  },
  {
   "cell_type": "code",
   "execution_count": 63,
   "id": "6b12804b-95d4-4f03-bf2f-3cedfcdc0126",
   "metadata": {},
   "outputs": [],
   "source": [
    "from square import Square"
   ]
  },
  {
   "cell_type": "code",
   "execution_count": 135,
   "id": "5e4305a2-6136-4316-a78c-521047f82648",
   "metadata": {},
   "outputs": [
    {
     "name": "stdout",
     "output_type": "stream",
     "text": [
      "Square with side length: 6, area: 36, perimeter: 24\n",
      "Square(side_length=6)\n",
      "Side Length: 6\n",
      "Area: 36\n",
      "Perimeter: 24\n",
      "Square with side length: 6, area: 36, perimeter: 24\n"
     ]
    }
   ],
   "source": [
    "square1 = Square(6)\n",
    "print(square1)\n",
    "print(repr(square1))\n",
    "\n",
    "print(f\"Side Length: {square1.side_length}\")\n",
    "print(f\"Area: {square1.area}\")\n",
    "print(f\"Perimeter: {square1.perimeter}\")\n",
    "\n",
    "square1.side_length = 6\n",
    "print(square1)"
   ]
  },
  {
   "cell_type": "code",
   "execution_count": 64,
   "id": "e254edb8-c507-4769-9fd2-8ba2bc547bbf",
   "metadata": {},
   "outputs": [],
   "source": [
    "from triangle import Triangle"
   ]
  },
  {
   "cell_type": "code",
   "execution_count": 65,
   "id": "beb10b7b-b2dc-45ca-8be4-bf5c1bec893c",
   "metadata": {},
   "outputs": [
    {
     "name": "stdout",
     "output_type": "stream",
     "text": [
      "Triangle with sides: a=3, b=4, c=5, area: 6.0, perimeter: 12\n",
      "Sides: a=3, b=4, c=5\n",
      "Area: 6.0, Perimeter: 12\n"
     ]
    }
   ],
   "source": [
    "tri = Triangle(a=3, b=4, c=5)\n",
    "print(tri)\n",
    "print(f\"Sides: a={tri.a}, b={tri.b}, c={tri.c}\")\n",
    "print(f\"Area: {tri.area}, Perimeter: {tri.perimeter}\")"
   ]
  },
  {
   "cell_type": "code",
   "execution_count": 67,
   "id": "e220469c-8e5d-47b1-b665-1ab6970069d3",
   "metadata": {},
   "outputs": [],
   "source": [
    "from rectangle import Rectangle"
   ]
  },
  {
   "cell_type": "code",
   "execution_count": 139,
   "id": "e42a75ad-c0c6-4c64-8397-7ecabfe22db7",
   "metadata": {},
   "outputs": [
    {
     "name": "stdout",
     "output_type": "stream",
     "text": [
      "Rectangle with width: 4, height: 5, area: 20, perimeter: 18\n",
      "Width: 4, Height: 5\n",
      "Area: 20, Perimeter: 18\n"
     ]
    }
   ],
   "source": [
    "rect = Rectangle(width=4, height=5)\n",
    "print(rect)\n",
    "print(f\"Width: {rect.width}, Height: {rect.height}\")\n",
    "print(f\"Area: {rect.area}, Perimeter: {rect.perimeter}\")"
   ]
  },
  {
   "cell_type": "code",
   "execution_count": 68,
   "id": "860e70dd-fe22-4307-86e7-61486a59fcac",
   "metadata": {},
   "outputs": [],
   "source": [
    "from trapezoid import Trapezoid"
   ]
  },
  {
   "cell_type": "code",
   "execution_count": 141,
   "id": "4e56a323-9bf1-4405-bd68-4a1f03ed458a",
   "metadata": {},
   "outputs": [
    {
     "name": "stdout",
     "output_type": "stream",
     "text": [
      "Base 1: 5.0\n",
      "Base 2: 7.0\n",
      "Height: 4.0\n",
      "Area of Trapezoid: 24.0\n",
      "Repr: Trapezoid with base1: 5.0, base2: 7.0\n",
      "Str: Trapezoid with base1: 5.0, base2: 7.0\n"
     ]
    }
   ],
   "source": [
    "trapezoid = Trapezoid(base1=5.0, base2=7.0, height=4.0)\n",
    "\n",
    "print(f\"Base 1: {trapezoid.base1}\")\n",
    "print(f\"Base 2: {trapezoid.base2}\")\n",
    "print(f\"Height: {trapezoid.height}\")\n",
    "\n",
    "print(f\"Area of Trapezoid: {trapezoid.area}\")\n",
    "\n",
    "print(f\"Repr: {(trapezoid)}\")\n",
    "print(f\"Str: {(trapezoid)}\")\n"
   ]
  },
  {
   "cell_type": "code",
   "execution_count": 69,
   "id": "18180f3e-892a-4abc-811f-4669346c0877",
   "metadata": {},
   "outputs": [],
   "source": [
    "from Parallelogram import Parallelogram"
   ]
  },
  {
   "cell_type": "code",
   "execution_count": 70,
   "id": "3b282cbc-eca5-41d8-beb7-84e1b9bde31e",
   "metadata": {},
   "outputs": [
    {
     "name": "stdout",
     "output_type": "stream",
     "text": [
      "Parallelogram with base: 6, height: 8\n",
      "Base: 6, Height: 8\n",
      "Area: 48, Perimeter: 28\n"
     ]
    }
   ],
   "source": [
    "para = Parallelogram(base=6, height=8)\n",
    "print(para)\n",
    "print(f\"Base: {para.base}, Height: {para.height}\")\n",
    "print(f\"Area: {para.area}, Perimeter: {para.perimeter}\")"
   ]
  },
  {
   "cell_type": "markdown",
   "id": "a2c780dd",
   "metadata": {},
   "source": [
    "------------------------------"
   ]
  },
  {
   "cell_type": "markdown",
   "id": "09f29830",
   "metadata": {},
   "source": [
    "<h3 style=\"color: #1abc9c; font-family: Arial, sans-serif;\">TASK: CONVERT CIRCUIT TASKS INTO MODULES AND CREATE A PACKAGE</h3>\n",
    "\n",
    "<h3 style=\"color: #e74c3c; font-family: Arial, sans-serif;\">OBJECTIVE</h3>\n",
    "\n",
    "<p style=\"color: #2c3e50; font-family: Arial, sans-serif; line-height: 1.6;\">\n",
    "  Convert the circuit tasks covered in Lab 6 into one or more modules, organize them into a package named after the circuit, and revise the tasks to demonstrate the package's usage.\n",
    "</p>\n"
   ]
  },
  {
   "cell_type": "code",
   "execution_count": 72,
   "id": "05e4cfbb",
   "metadata": {},
   "outputs": [],
   "source": [
    "os.chdir(r'C:\\Users\\Umair\\Desktop\\INHERITANCE practice\\Package')"
   ]
  },
  {
   "cell_type": "code",
   "execution_count": 73,
   "id": "6fc52b92-a52b-4f5f-91ef-8b53249571b6",
   "metadata": {},
   "outputs": [],
   "source": [
    "from Circuits.RC_Series import RC_series_circuit"
   ]
  },
  {
   "cell_type": "code",
   "execution_count": 74,
   "id": "720508d7-bda5-4f3a-be07-08bbfcfcafd6",
   "metadata": {},
   "outputs": [],
   "source": [
    "circuit_1 = RC_series_circuit(6, 8, I=(5, 53.13))"
   ]
  },
  {
   "cell_type": "code",
   "execution_count": 75,
   "id": "9a6a2655-418f-4fb7-9083-e227f9731a72",
   "metadata": {},
   "outputs": [
    {
     "name": "stdout",
     "output_type": "stream",
     "text": [
      "Resistance (R): 6\n",
      "Capacitive Reactance (X_C): -8j\n",
      "Current (I in Polar Form): (5.0, 53.13000000000001)\n",
      "Impedance (Z in Polar Form): (10.0, -53.13010235415598)\n",
      "Voltage (V in Polar Form): (50.0, -0.0001023541559650813)\n",
      "Voltage across Resistor (V_R in Polar Form): (30.0, 53.13000000000001)\n",
      "Voltage across Capacitor (V_C in Polar Form): (40.0, -36.87)\n",
      "Power (P): 150.0\n",
      "Power Factor (P_f): 0.6\n"
     ]
    }
   ],
   "source": [
    "print(\"Resistance (R):\", circuit_1.R)\n",
    "print(\"Capacitive Reactance (X_C):\", circuit_1.X_C)\n",
    "print(\"Current (I in Polar Form):\", circuit_1.I)\n",
    "print(\"Impedance (Z in Polar Form):\", circuit_1.Z)\n",
    "print(\"Voltage (V in Polar Form):\", circuit_1.V)\n",
    "print(\"Voltage across Resistor (V_R in Polar Form):\", circuit_1.V_R)\n",
    "print(\"Voltage across Capacitor (V_C in Polar Form):\", circuit_1.V_C)\n",
    "print(\"Power (P):\", circuit_1.P)\n",
    "print(\"Power Factor (P_f):\", circuit_1.P_f)"
   ]
  },
  {
   "cell_type": "code",
   "execution_count": 76,
   "id": "8ac1058a-c915-48ea-83c2-315479d3db23",
   "metadata": {},
   "outputs": [],
   "source": [
    "from Circuits.RL_Series import RL_series_circuit"
   ]
  },
  {
   "cell_type": "code",
   "execution_count": 77,
   "id": "9608c021-f004-49f0-9424-7d7c181b8026",
   "metadata": {},
   "outputs": [],
   "source": [
    "circuit_series = RL_series_circuit(6, 8, I = (5, 53.13))"
   ]
  },
  {
   "cell_type": "code",
   "execution_count": 78,
   "id": "9427201c-e663-40fb-b9bf-eab535a5f402",
   "metadata": {},
   "outputs": [
    {
     "name": "stdout",
     "output_type": "stream",
     "text": [
      "Resistance: 6 Ohms\n",
      "Inductive Reactance: 8j Henries\n",
      "Current: (5.0, 53.13000000000001)\n",
      "Impedance: (10.0, 53.13010235415598)\n",
      "Voltage: (49.99999999999999, 106.26010235415598)\n",
      "Voltage across R: (30.0, 53.13000000000001)\n",
      "Voltage across L: (40.0, 143.13)\n",
      "Power: 150.0\n",
      "Power Factor: 0.6\n"
     ]
    }
   ],
   "source": [
    "print(f\"Resistance: {circuit_series.R} Ohms\")\n",
    "print(f\"Inductive Reactance: {circuit_series.X_L} Henries\")\n",
    "print(f\"Current: {circuit_series.I}\")\n",
    "print(f\"Impedance: {circuit_series.Z}\")\n",
    "print(f\"Voltage: {circuit_series.V}\")\n",
    "print(f\"Voltage across R: {circuit_series.V_R}\")\n",
    "print(f\"Voltage across L: {circuit_series.V_L}\")\n",
    "print(f\"Power: {circuit_series.P}\")\n",
    "print(f\"Power Factor: {circuit_series.P_f}\")\n"
   ]
  },
  {
   "cell_type": "code",
   "execution_count": 79,
   "id": "14c513aa-5161-4853-a3fa-dd6e4af0cb42",
   "metadata": {},
   "outputs": [],
   "source": [
    "from Circuits.RL_Parallel import RL_parallel_circuit"
   ]
  },
  {
   "cell_type": "code",
   "execution_count": 80,
   "id": "074dfa95-981a-4499-b5c5-727c33ccfb41",
   "metadata": {},
   "outputs": [],
   "source": [
    "from Circuits.RLC_Series import RLC_series_circuit"
   ]
  },
  {
   "cell_type": "code",
   "execution_count": 81,
   "id": "a192d2c8-18ec-4197-a7f8-d90dbb8e6f65",
   "metadata": {},
   "outputs": [],
   "source": [
    "circuit = RLC_series_circuit(3,7, 3, V=(50, 63))"
   ]
  },
  {
   "cell_type": "code",
   "execution_count": 82,
   "id": "8bc99dcf-d876-45d8-8e1d-991cefc33f8f",
   "metadata": {},
   "outputs": [
    {
     "name": "stdout",
     "output_type": "stream",
     "text": [
      "Resistance (R): 3\n",
      "Inductive Reactance (X_L): 7j\n",
      "Capacitive Reactance (X_C): -3j\n",
      "Source Voltage (V): (49.99999999999999, 63.0)\n",
      "Impedance (Z): (5.0, 53.13010235415598)\n",
      "Current (I): (10.0, 9.869897645844024)\n",
      "Power (P): 300.0\n",
      "Power Factor (cos θ): (0.6000000000000001-0j)\n",
      "Voltage across Resistor (V_R): (30.000000000000004, 9.869897645844022)\n",
      "Voltage across Inductor (V_L): (70.0, 99.86989764584403)\n",
      "Voltage across Capacitor (V_C): (30.000000000000004, -80.13010235415598)\n"
     ]
    }
   ],
   "source": [
    "print(\"Resistance (R):\", circuit.R)\n",
    "print(\"Inductive Reactance (X_L):\", circuit.X_L)\n",
    "print(\"Capacitive Reactance (X_C):\", circuit.X_C)\n",
    "print(\"Source Voltage (V):\", circuit.V)\n",
    "\n",
    "print(\"Impedance (Z):\", circuit.impedance)\n",
    "print(\"Current (I):\", circuit.current)\n",
    "print(\"Power (P):\", circuit.power)\n",
    "print(\"Power Factor (cos θ):\", circuit.power_factor)\n",
    "print(\"Voltage across Resistor (V_R):\", circuit.voltage_resistor)\n",
    "print(\"Voltage across Inductor (V_L):\", circuit.voltage_inductor)\n",
    "print(\"Voltage across Capacitor (V_C):\", circuit.voltage_capacitor)"
   ]
  },
  {
   "cell_type": "code",
   "execution_count": 83,
   "id": "48333898-807e-4430-9dd3-15b8394a22cf",
   "metadata": {},
   "outputs": [],
   "source": [
    "from Circuits.RLC_Parallel import RLC_parallel_circuit"
   ]
  },
  {
   "cell_type": "code",
   "execution_count": 84,
   "id": "804f48c2-7787-46df-a462-a6142b269a20",
   "metadata": {},
   "outputs": [],
   "source": [
    "rlc_circuit = RLC_parallel_circuit(R=10, X_L=20, X_C=30, I=(5, 30))"
   ]
  },
  {
   "cell_type": "code",
   "execution_count": 85,
   "id": "c5d9cc48-139d-4eb1-8bbc-2ff8f0ef3911",
   "metadata": {},
   "outputs": [
    {
     "name": "stdout",
     "output_type": "stream",
     "text": [
      "Admittance of Resistor (Y_R): 0.1\n",
      "Admittance of Inductor (Y_L): -0.05j\n",
      "Admittance of Capacitor (Y_C): (-0+0.03333333333333333j)\n",
      "Impedance (Z): (9.863939238321436, 9.46232220802562)\n",
      "Voltage (V): (49.31969619160718, 39.46232220802561)\n"
     ]
    }
   ],
   "source": [
    "print(\"Admittance of Resistor (Y_R):\", rlc_circuit.admittance_resistor)\n",
    "print(\"Admittance of Inductor (Y_L):\", rlc_circuit.admittance_inductor)\n",
    "print(\"Admittance of Capacitor (Y_C):\", rlc_circuit.admittance_capacitor)\n",
    "print(\"Impedance (Z):\", rlc_circuit.impedance)\n",
    "print(\"Voltage (V):\", rlc_circuit.voltage)"
   ]
  },
  {
   "cell_type": "code",
   "execution_count": 86,
   "id": "b2e8b8cb-5944-4b2b-9d12-23a1c254dbe7",
   "metadata": {},
   "outputs": [],
   "source": [
    "from Circuits.RLC_P_Resonance import RLC_parallel_resonance_circuit"
   ]
  },
  {
   "cell_type": "code",
   "execution_count": 87,
   "id": "3590c138-d08a-4f3d-9ab8-9137e1aef5d9",
   "metadata": {},
   "outputs": [],
   "source": [
    "c1 = RLC_parallel_resonance_circuit(R=2, L=10e-3, C=10e-6)"
   ]
  },
  {
   "cell_type": "code",
   "execution_count": 88,
   "id": "8353751f-4ba3-48e2-a0ad-d5a35e083d91",
   "metadata": {},
   "outputs": [
    {
     "name": "stdout",
     "output_type": "stream",
     "text": [
      "Resonanace frequency = 503.2921210448704\n",
      "Quality factor = 0.06324555320336758\n",
      "Band width  = 7957.747154594767\n",
      "Cut off (f1) = -3475.5814562525134\n",
      "Cut off (f2) = 4482.1656983422545\n",
      "Voltage accross capacitor = 100.0\n",
      "current accross inductor = 3.162277660168379\n",
      "current accross capacitor = 3.16227766016838\n"
     ]
    }
   ],
   "source": [
    "print(f'Resonanace frequency = {c1.Resonance_f()}')\n",
    "print(f'Quality factor = {c1.Q_factor()}')\n",
    "print(f'Band width  = {c1.Band_width()}')\n",
    "print(f'Cut off (f1) = {c1.f1()}')\n",
    "print(f'Cut off (f2) = {c1.f2()}')\n",
    "print(f'Voltage accross capacitor = {c1.Vc(10e-3, 10e3)}')\n",
    "print(f'current accross inductor = {c1.Il(100)}')\n",
    "print(f'current accross capacitor = {c1.Ic(100)}')"
   ]
  },
  {
   "cell_type": "code",
   "execution_count": 89,
   "id": "7045928d-683c-4d81-8637-ce6a9e004d6e",
   "metadata": {},
   "outputs": [],
   "source": [
    "from Circuits.RLC_S_Resonance import RLC_series_resonance_circuit"
   ]
  },
  {
   "cell_type": "code",
   "execution_count": 90,
   "id": "b25d83a2-2cc4-45b4-bd5b-b4d6a6a1f8ce",
   "metadata": {},
   "outputs": [],
   "source": [
    "c1 = RLC_series_resonance_circuit(R=2, L=10e-3, C=10e-6)"
   ]
  },
  {
   "cell_type": "code",
   "execution_count": 91,
   "id": "7275d6e1-72c8-4ef9-aaae-4188644dd06a",
   "metadata": {},
   "outputs": [
    {
     "name": "stdout",
     "output_type": "stream",
     "text": [
      "Resonance frequency = 503.29 Hz\n",
      "Quality factor = 15.81\n",
      "Bandwidth = 31.83 Hz\n",
      "Cut off frequency (f1) = 487.38 Hz\n",
      "Cut off frequency (f2) = 519.21 Hz\n",
      "Voltage across capacitor = 5.00 V\n"
     ]
    }
   ],
   "source": [
    "print(f'Resonance frequency = {c1.Resonance_f():.2f} Hz')\n",
    "print(f'Quality factor = {c1.Q_factor():.2f}')\n",
    "print(f'Bandwidth = {c1.Band_width():.2f} Hz')\n",
    "print(f'Cut off frequency (f1) = {c1.f1():.2f} Hz')\n",
    "print(f'Cut off frequency (f2) = {c1.f2():.2f} Hz')\n",
    "print(f'Voltage across capacitor = {c1.Voltage(10, 2):.2f} V') "
   ]
  },
  {
   "cell_type": "markdown",
   "id": "44ba6d76",
   "metadata": {},
   "source": [
    "-------------"
   ]
  },
  {
   "cell_type": "markdown",
   "id": "6acd6c34",
   "metadata": {},
   "source": [
    "<h3 style=\"color: #1abc9c; font-family: Arial, sans-serif;\">OOP PACKAGE WITH MODULES FOR LABS</h3>\n",
    "\n",
    "<h3 style=\"color: #e74c3c; font-family: Arial, sans-serif;\">OBJECTIVE</h3>\n",
    "\n",
    "<p style=\"color: #2c3e50; font-family: Arial, sans-serif; line-height: 1.6;\">\n",
    "  In this guide, we'll create a Python package called <code>oop</code>, which will contain modules for each lab that involves object-oriented programming concepts. Each lab will have a corresponding module with relevant classes and methods, and a script (<code>tasks.py</code>) will demonstrate the usage of these classes.\n",
    "</p>\n",
    "\n",
    "<h3 style=\"color: #f39c12; font-family: Arial, sans-serif;\">FOLDER STRUCTURE</h3>\n",
    "<pre style=\"background-color: #34495e; color: #ecf0f1; font-family: monospace; padding: 10px;\">\n",
    "oop/\n",
    "├── __init__.py       # Initializes the package\n",
    "├── lab6.py           # Module for Lab 6\n",
    "├── lab7.py           # Module for Lab 7\n",
    "├── lab8.py           # Module for Lab 8\n",
    "├── lab9.py           # Module for Lab 9\n",
    "└── tasks.py          # Script to use and demonstrate functionality\n",
    "</pre>\n"
   ]
  },
  {
   "cell_type": "code",
   "execution_count": 92,
   "id": "3a534f42-91ec-4439-bf63-04dd013bee62",
   "metadata": {},
   "outputs": [],
   "source": [
    "from OOP.Lab6_G import Point as p\n",
    "from OOP.Lab6_C import RC_series_circuit as RCS\n",
    "from OOP.Lab7 import Salary_employee, Payroll_system\n",
    "from OOP.Lab8 import SalesPerson_role, Productivity_system\n",
    "from OOP.Lab9 import TemporarySecretary"
   ]
  },
  {
   "cell_type": "code",
   "execution_count": 95,
   "id": "9b23617c-230d-4725-b16c-194c79cb1362",
   "metadata": {},
   "outputs": [
    {
     "name": "stdout",
     "output_type": "stream",
     "text": [
      "Initial values:\n",
      "Point 1: x=3.0, y=4.0\n",
      "Point 2: x=6.0, y=8.0\n",
      "\n",
      "Updated Point 1:\n",
      "Point 1: x=1.0, y=2.0\n",
      "\n",
      "Distance between Point 1 and Point 2: 7.81\n",
      "Distance of Point 1 from origin: 2.24\n",
      "\n",
      "Point is located at (1.0, 2.0)\n",
      "Origin: Point(0, 0)\n",
      "Point created from coordinates: Point(10.0, 15.0)\n",
      "Point(1.0, 2.0)\n",
      "Point(1.0, 2.0)\n",
      "-------------------------------------------------------------------------------------------------------------------------------\n",
      "Resistance (R): 6\n",
      "Capacitive Reactance (X_C): -8j\n",
      "Current (I in Polar Form): (5.0, 53.13000000000001)\n",
      "Impedance (Z in Polar Form): (10.0, -53.13010235415598)\n",
      "Voltage (V in Polar Form): (50.0, -0.0001023541559650813)\n",
      "Voltage across Resistor (V_R in Polar Form): (30.0, 53.13000000000001)\n",
      "Voltage across Capacitor (V_C in Polar Form): (40.0, -36.87)\n",
      "Power (P): 150.0\n",
      "Power Factor (P_f): 0.6\n",
      "--------------------------------------------------------------------------------------------------------------------------------\n",
      "Calculate Payroll\n",
      "===========================\n",
      "Payroll for: 1 - John Smith\n",
      "- Check amount: 1500\n",
      "\n",
      "--------------------------------------------------------------------------------------------------------------------------------\n",
      "Productivity System Tracking\n",
      "-----------------------------\n",
      "Nabeel engages with clients and closes deals for 40 hours.\n",
      "\n",
      "--------------------------------------------------------------------------------------------------------------------------------\n",
      "umair khan efficiently organizes and manages documents for 45 hours.\n"
     ]
    }
   ],
   "source": [
    "point1 = Point(3.0, 4.0)\n",
    "point2 = Point(6.0, 8.0)\n",
    "print(\"Initial values:\")\n",
    "print(f\"Point 1: x={point1.x}, y={point1.y}\")\n",
    "print(f\"Point 2: x={point2.x}, y={point2.y}\")\n",
    "point1.x = 1.0\n",
    "point1.y = 2.0\n",
    "print(\"\\nUpdated Point 1:\")\n",
    "print(f\"Point 1: x={point1.x}, y={point1.y}\")\n",
    "print(f\"\\nDistance between Point 1 and Point 2: {point1.distance_to(point2):.2f}\")\n",
    "print(f\"Distance of Point 1 from origin: {point1.distance_from_origin():.2f}\")\n",
    "print(f\"\\n{point1.locate()}\")\n",
    "print(f\"Origin: { Point.origin()}\")\n",
    "print(f\"Point created from coordinates: {Point.from_coordinates((10.0, 15.0))}\")\n",
    "print(point1)\n",
    "print(point1)\n",
    "print('-------------------------------------------------------------------------------------------------------------------------------')\n",
    "circuit_1 = RC_series_circuit(6, 8, I=(5, 53.13))\n",
    "print(\"Resistance (R):\", circuit_1.R)\n",
    "print(\"Capacitive Reactance (X_C):\", circuit_1.X_C)\n",
    "print(\"Current (I in Polar Form):\", circuit_1.I)\n",
    "print(\"Impedance (Z in Polar Form):\", circuit_1.Z)\n",
    "print(\"Voltage (V in Polar Form):\", circuit_1.V)\n",
    "print(\"Voltage across Resistor (V_R in Polar Form):\", circuit_1.V_R)\n",
    "print(\"Voltage across Capacitor (V_C in Polar Form):\", circuit_1.V_C)\n",
    "print(\"Power (P):\", circuit_1.P)\n",
    "print(\"Power Factor (P_f):\", circuit_1.P_f)\n",
    "print('--------------------------------------------------------------------------------------------------------------------------------')\n",
    "salary_employee = Salary_employee(1, \"John Smith\", 1500)\n",
    "payroll_system = Payroll_system()\n",
    "payroll_system.calculate_payroll([salary_employee])\n",
    "print('--------------------------------------------------------------------------------------------------------------------------------')\n",
    "sales_person = SalesPerson_role(3, \"Nabeel\", 1000, 250)\n",
    "productivity_system = Productivity_system()\n",
    "productivity_system.Track([sales_person], 40)\n",
    "print('--------------------------------------------------------------------------------------------------------------------------------')\n",
    "temporary_secretary = TemporarySecretary(5, \"umair khan\", 40, 9)\n",
    "temporary_secretary.work(45)"
   ]
  },
  {
   "cell_type": "markdown",
   "id": "1e470895",
   "metadata": {},
   "source": [
    "--------------------------"
   ]
  },
  {
   "cell_type": "markdown",
   "id": "6db218e6",
   "metadata": {},
   "source": [
    "<h3 style=\"color: #1abc9c; font-family: Arial, sans-serif;\">MASTERING DIFFERENT WAYS OF IMPORTING</h3>\n",
    "\n",
    "<p style=\"color: #2c3e50; font-family: Arial, sans-serif; line-height: 1.6;\">\n",
    "  Understanding and mastering different ways of importing modules and classes in Python is crucial for writing clean, efficient, and readable code. Below are various techniques for importing, along with an example of a module containing a class with the same name.\n",
    "</p>\n",
    "\n",
    "<h3 style=\"color: #e74c3c; font-family: Arial, sans-serif;\">1. <strong>IMPORT THE ENTIRE MODULE</strong></h3>\n",
    "\n",
    "<p style=\"color: #2c3e50; font-family: Arial, sans-serif; line-height: 1.6;\">\n",
    "  This approach imports the entire module, allowing access to all its contents.\n",
    "</p>\n",
    "<h3 style=\"color: #f39c12; font-family: Arial, sans-serif;\">1) Run the following code and understand how different ways of importing are important.</h3>\n"
   ]
  },
  {
   "cell_type": "code",
   "execution_count": 96,
   "id": "cab7c4e4-1631-4404-97a6-27ac4bd89815",
   "metadata": {},
   "outputs": [
    {
     "data": {
      "text/plain": [
       "datetime.datetime(2025, 1, 3, 0, 0)"
      ]
     },
     "execution_count": 96,
     "metadata": {},
     "output_type": "execute_result"
    }
   ],
   "source": [
    "import datetime\n",
    "datetime.datetime(2025, 1, 3)\n"
   ]
  },
  {
   "cell_type": "markdown",
   "id": "4be17156-9d4d-4c23-b3bc-508926fc9ec6",
   "metadata": {},
   "source": [
    "2) Run the following code and understand how different ways of importing are\n",
    "important. "
   ]
  },
  {
   "cell_type": "code",
   "execution_count": 97,
   "id": "df90cb59-7d16-4ae7-b7cb-45224c508492",
   "metadata": {},
   "outputs": [
    {
     "data": {
      "text/plain": [
       "datetime.datetime(2025, 1, 3, 0, 0)"
      ]
     },
     "execution_count": 97,
     "metadata": {},
     "output_type": "execute_result"
    }
   ],
   "source": [
    "import datetime as dt\n",
    "dt.datetime(2025, 1, 3)"
   ]
  },
  {
   "cell_type": "markdown",
   "id": "d364ae8f-51ff-4b11-a85f-91d2dfde061e",
   "metadata": {},
   "source": [
    "3) Run the following code and understand how different ways of importing are\n",
    "important. "
   ]
  },
  {
   "cell_type": "code",
   "execution_count": 98,
   "id": "2671b054-2e2a-4201-9df6-64122d111bb6",
   "metadata": {},
   "outputs": [
    {
     "data": {
      "text/plain": [
       "datetime.datetime(2025, 1, 3, 0, 0)"
      ]
     },
     "execution_count": 98,
     "metadata": {},
     "output_type": "execute_result"
    }
   ],
   "source": [
    "from datetime import datetime\n",
    "datetime(2025, 1, 3)"
   ]
  },
  {
   "cell_type": "markdown",
   "id": "cdaec2af",
   "metadata": {},
   "source": [
    "<h3 style=\"color: #1abc9c; font-family: Arial, sans-serif;\">CREATING PACKAGES</h3>\n",
    "\n",
    "<p style=\"color: #2c3e50; font-family: Arial, sans-serif; line-height: 1.6;\">\n",
    "  A package is a folder that contains one or more Python modules. It must also include a special module named <code>__init__.py</code>, which identifies the folder as a Python package. Below is an example of a package structure:\n",
    "</p>\n",
    "\n"
   ]
  },
  {
   "cell_type": "markdown",
   "id": "c3d66d9c",
   "metadata": {},
   "source": [
    "<h3 style=\"color: #1abc9c; font-family: Arial, sans-serif;\">CREATING A SIMPLE PYTHON PACKAGE</h3>\n",
    "\n",
    "<p style=\"color: #2c3e50; font-family: Arial, sans-serif; line-height: 1.6;\">\n",
    "  In this example, we will create a simple Python package with two modules: <code>module1.py</code> and <code>module2.py</code>. The package will also contain an empty <code>__init__.py</code> file, which is required to indicate that the folder is a Python package.\n",
    "</p>\n",
    "\n",
    "<hr style=\"border-top: 2px solid #ecf0f1;\">\n",
    "\n",
    "<h4 style=\"color: #f39c12; font-family: Arial, sans-serif;\">STEP 1: CREATE A FOLDER FOR THE PACKAGE</h4>\n",
    "\n",
    "<p style=\"color: #2c3e50; font-family: Arial, sans-serif; line-height: 1.6;\">\n",
    "  Create a folder called <code>mypackage</code>. Inside this folder, you will place the following Python files.\n",
    "</p>\n",
    "\n",
    "<hr style=\"border-top: 2px solid #ecf0f1;\">\n",
    "\n",
    "<h4 style=\"color: #f39c12; font-family: Arial, sans-serif;\">STEP 2: CREATE THE <code>__init__.py</code> FILE</h4>\n",
    "\n",
    "<p style=\"color: #2c3e50; font-family: Arial, sans-serif; line-height: 1.6;\">\n",
    "  Inside the <code>mypackage</code> folder, create an empty file named <code>__init__.py</code>. This file does not need to contain any code, but it marks the directory as a Python package.\n",
    "</p>\n",
    "\n",
    "<h4 style=\"color: #e74c3c; font-family: Arial, sans-serif;\">`mypackage/__init__.py`</h4>\n",
    "\n",
    "<p style=\"color: #2c3e50; font-family: Arial, sans-serif; line-height: 1.6;\">\n",
    "  This file can be empty. It marks the folder as a Python package.\n",
    "</p>\n",
    "\n",
    "<hr style=\"border-top: 2px solid #ecf0f1;\">\n",
    "\n",
    "<h4 style=\"color: #f39c12; font-family: Arial, sans-serif;\">STEP 3: CREATE THE TWO <code>module1.py</code> AND <code>module2.py</code></h4>\n",
    "\n",
    "<p style=\"color: #2c3e50; font-family: Arial, sans-serif; line-height: 1.6;\">\n",
    "  Create the Python modules <code>module1.py</code> and <code>module2.py</code> inside the <code>mypackage</code> folder. These modules can contain any classes or functions you'd like to include in your package.\n",
    "</p>\n"
   ]
  },
  {
   "cell_type": "markdown",
   "id": "e2b302fb-3df0-45f9-908a-e5653cb3b121",
   "metadata": {},
   "source": [
    "1) Run the following code and observe what happens and why. \n"
   ]
  },
  {
   "cell_type": "code",
   "execution_count": 100,
   "id": "933687ec",
   "metadata": {},
   "outputs": [],
   "source": [
    "os.chdir(r'C:\\Users\\Umair\\Desktop\\INHERITANCE practice\\Package\\mypackage')"
   ]
  },
  {
   "cell_type": "code",
   "execution_count": 104,
   "id": "d0c11686",
   "metadata": {},
   "outputs": [
    {
     "data": {
      "text/plain": [
       "'C:\\\\Users\\\\Umair\\\\Desktop\\\\INHERITANCE practice\\\\Package\\\\mypackage'"
      ]
     },
     "execution_count": 104,
     "metadata": {},
     "output_type": "execute_result"
    }
   ],
   "source": [
    "os.getcwd()"
   ]
  },
  {
   "cell_type": "code",
   "execution_count": 107,
   "id": "7b8477b6-cea9-4344-aece-bb0118f7ba4f",
   "metadata": {},
   "outputs": [
    {
     "name": "stdout",
     "output_type": "stream",
     "text": [
      "Hello, Pythonista!\n",
      "Goodbye, Pythonista!\n"
     ]
    }
   ],
   "source": [
    "from mypackage import module2,module1\n",
    "mypackage.module1.greet(\"Pythonista\")\n",
    "mypackage.module2.depart(\"Pythonista\")"
   ]
  },
  {
   "cell_type": "markdown",
   "id": "c1b0e092-5184-4ed5-bd34-aacdbe3924c4",
   "metadata": {},
   "source": [
    "2) Run the following code and observe what happens and why."
   ]
  },
  {
   "cell_type": "code",
   "execution_count": 108,
   "id": "f9788b86-431a-4450-bb02-5f6e17b61f6f",
   "metadata": {},
   "outputs": [
    {
     "name": "stdout",
     "output_type": "stream",
     "text": [
      "Hello, Pythonista!\n",
      "Goodbye, Pythonista!\n"
     ]
    }
   ],
   "source": [
    "import mypackage.module1       # <-- Change this line        Leave the below code unchanged\n",
    "mypackage.module1.greet(\"Pythonista\")\n",
    "mypackage.module2.depart(\"Pythonista\")"
   ]
  },
  {
   "cell_type": "markdown",
   "id": "564af8a5-34b8-42c7-b657-f229fe8b7ef0",
   "metadata": {},
   "source": [
    "3) Run the following code and observe what happens and why."
   ]
  },
  {
   "cell_type": "code",
   "execution_count": 109,
   "id": "b1b3e5d5-e20f-4bda-829e-d0c40e5a2399",
   "metadata": {},
   "outputs": [
    {
     "name": "stdout",
     "output_type": "stream",
     "text": [
      "Hello, Pythonista!\n",
      "Goodbye, Pythonista!\n"
     ]
    }
   ],
   "source": [
    "import mypackage.module1\n",
    "import mypackage.module2 # <-- Add this line\n",
    "# Leave the below code unchanged\n",
    "mypackage.module1.greet(\"Pythonista\")\n",
    "mypackage.module2.depart(\"Pythonista\")\n"
   ]
  },
  {
   "cell_type": "markdown",
   "id": "c5c95fdc",
   "metadata": {},
   "source": [
    "<h3 style=\"color: #1abc9c; font-family: Arial, sans-serif;\">Note:</h3>\n",
    "\n",
    "<h3 style=\"color: #e74c3c; font-family: Arial, sans-serif;\">Import Statement Variations For Packages</h3>\n",
    "\n",
    "<p style=\"color: #2c3e50; font-family: Arial, sans-serif; line-height: 1.6;\">\n",
    "  There are three variations of the <code>import</code> statement that you learned for importing names from modules. These three variations translate to the following four variations for importing modules from packages:\n",
    "</p>\n",
    "\n",
    "<ol style=\"color: #2c3e50; font-family: Arial, sans-serif; line-height: 1.6;\">\n",
    "  <li><code>import &lt;package&gt;</code></li>\n",
    "  <li><code>import &lt;package&gt; as &lt;other_name&gt;</code></li>\n",
    "  <li><code>from &lt;package&gt; import &lt;module&gt;</code></li>\n",
    "  <li><code>from &lt;package&gt; import &lt;module&gt; as &lt;other_name&gt;</code></li>\n",
    "</ol>\n"
   ]
  },
  {
   "cell_type": "markdown",
   "id": "1e963575-9217-48b0-9fc3-cf8dbcf551d5",
   "metadata": {},
   "source": [
    "4) Run the following code and observe what happens and why"
   ]
  },
  {
   "cell_type": "code",
   "execution_count": 110,
   "id": "f71fd937-7ab5-493d-9c5b-8bfaa91da154",
   "metadata": {},
   "outputs": [
    {
     "name": "stdout",
     "output_type": "stream",
     "text": [
      "Hello, Pythonista!\n",
      "Goodbye, Pythonista!\n"
     ]
    }
   ],
   "source": [
    "# main.py\n",
    "from mypackage import module1, module2\n",
    "module1.greet(\"Pythonista\")\n",
    "module2.depart(\"Pythonista\")\n"
   ]
  },
  {
   "cell_type": "markdown",
   "id": "f217473b-61c2-43bf-8e63-c00a144031d9",
   "metadata": {},
   "source": [
    "5) Run the following code and observe what happens and why"
   ]
  },
  {
   "cell_type": "code",
   "execution_count": 111,
   "id": "d655cd20-cfe3-40dd-b847-ace9a8608607",
   "metadata": {},
   "outputs": [
    {
     "name": "stdout",
     "output_type": "stream",
     "text": [
      "Hello, Pythonista!\n",
      "Goodbye, Pythonista!\n"
     ]
    }
   ],
   "source": [
    "from mypackage import module1 as m1, module2 as m2\n",
    "m1.greet(\"Pythonista\")\n",
    "m2.depart(\"Pythonista\")\n"
   ]
  },
  {
   "cell_type": "markdown",
   "id": "356916d9-b607-4241-a31e-d42d5c65ffa9",
   "metadata": {},
   "source": [
    "6) Run the following code and observe what happens and why"
   ]
  },
  {
   "cell_type": "code",
   "execution_count": 112,
   "id": "db3963b5-a623-4690-a505-b3ba5d06ba2d",
   "metadata": {},
   "outputs": [
    {
     "name": "stdout",
     "output_type": "stream",
     "text": [
      "Hello, Pythonista!\n",
      "Goodbye, Pythonista!\n"
     ]
    }
   ],
   "source": [
    "from mypackage.module1 import greet\n",
    "from mypackage.module2 import depart\n",
    "greet(\"Pythonista\")\n",
    "depart(\"Pythonista\")\n"
   ]
  },
  {
   "cell_type": "markdown",
   "id": "45c59712",
   "metadata": {},
   "source": [
    "------------"
   ]
  }
 ],
 "metadata": {
  "kernelspec": {
   "display_name": "Python 3 (ipykernel)",
   "language": "python",
   "name": "python3"
  },
  "language_info": {
   "codemirror_mode": {
    "name": "ipython",
    "version": 3
   },
   "file_extension": ".py",
   "mimetype": "text/x-python",
   "name": "python",
   "nbconvert_exporter": "python",
   "pygments_lexer": "ipython3",
   "version": "3.12.4"
  }
 },
 "nbformat": 4,
 "nbformat_minor": 5
}
