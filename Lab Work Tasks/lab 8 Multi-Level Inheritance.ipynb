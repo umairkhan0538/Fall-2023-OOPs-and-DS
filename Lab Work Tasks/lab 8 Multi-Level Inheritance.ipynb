{
 "cells": [
  {
   "cell_type": "markdown",
   "metadata": {},
   "source": [
    "<div style=\"\n",
    "        background: linear-gradient(90deg, #8e44ad, #3498db);\n",
    "        padding: 30px 20px;\n",
    "        border-radius: 25px;\n",
    "        box-shadow: 0 7px 6px rgba(0, 0, 0, 0.3);\n",
    "        border: 2px solid #CCCCFF;\n",
    "        max-width: 90%;\n",
    "    \">\n",
    "        <span style=\"\n",
    "            color: #FFBF00;\n",
    "            font-size: 20px;\n",
    "            font-family: Cooper Black;\n",
    "            letter-spacing: 2px;\n",
    "            line-height: 1.4;\n",
    "            text-transform: sentencecase;\n",
    "            text-shadow: 3px 3px 8px rgba(0, 0, 0, 0.5);\n",
    "            text-align: center;\n",
    "        \">\n",
    "            University of Engineering and Technology Peshawar Jalozai Campus\n",
    "        </span>\n",
    "  </div>\n"
   ]
  },
  {
   "cell_type": "markdown",
   "metadata": {},
   "source": [
    " <div style=\"\n",
    "        background: linear-gradient(90deg, #e06377, #3b3a30);\n",
    "        padding: 30px 20px;\n",
    "        border-radius: 25px;\n",
    "        box-shadow: 0 7px 6px rgba(0, 0, 0, 0.3);\n",
    "        border: 2px solid #CCCCFF;\n",
    "        max-width: 90%;\n",
    "    \">\n",
    "        <span style=\"\n",
    "            font-size: 20px;\n",
    "            font-family: Cooper Black;\n",
    "            color: #FFBF00;\n",
    "            font-weight: bold;\n",
    "            letter-spacing: 1px;\n",
    "            text-shadow: 3px 1px 8px rgba(0, 0, 1, 0.6);\n",
    "        \">\n",
    "            Lab Title: EE-271 “OOP & Data Structures Lab”\n",
    "        </span>\n",
    "    </div>\n"
   ]
  },
  {
   "cell_type": "markdown",
   "metadata": {},
   "source": [
    "<div style=\"\n",
    "        background: linear-gradient(90deg, #c83349, #622569);\n",
    "        padding: 30px 20px;\n",
    "        border-radius: 25px;\n",
    "        box-shadow: 0 7px 6px rgba(0, 0, 0, 0.3);\n",
    "        border: 2px solid #CCCCFF;\n",
    "        max-width: 90%;\n",
    "    \">\n",
    "        <span style=\"\n",
    "            font-size: 20px;\n",
    "            font-family: Cooper Black;\n",
    "            color: #FFBF00;\n",
    "            font-weight: bold;\n",
    "            letter-spacing: 1px;\n",
    "            text-shadow: 3px 1px 8px rgba(0, 0, 1, 0.6);\n",
    "        \">\n",
    "           Lab 8 : Multi-Level Inheritance\n",
    "        </span>\n",
    "    </div>\n"
   ]
  },
  {
   "cell_type": "markdown",
   "metadata": {},
   "source": [
    "<span style=\"color: #000000;\n",
    "font-size: 44px;\n",
    "transition: color 0.3s;\">&#x21DD; </span>\n",
    "<span style=\"color: #ff0000;\n",
    "    font-family: Arial Black;\n",
    "font-size: 35px; font-weight: bold; \n",
    "text-shadow: 0px 4px 2px rgb(0, 0, 0);\">\n",
    "    Lab work Tasks :</span>"
   ]
  },
  {
   "cell_type": "markdown",
   "metadata": {},
   "source": [
    "----------------"
   ]
  },
  {
   "cell_type": "markdown",
   "metadata": {},
   "source": [
    "\n",
    "<center><h3 style=\"color: #34495e; font-family: Arial, sans-serif; background-color: pink; padding: 8px; border-radius: 5px;\">Rectangle → Square → Cube </h3></center>\n",
    "\n",
    "<h3 style=\"color: #34495e; font-family: Arial, sans-serif;\">Objective</h3>\n",
    "<p style=\"color: #2c3e50; font-family: Arial, sans-serif; line-height: 1.6;\">\n",
    "  Design a class hierarchy that models a Rectangle, a Square (inheriting from Rectangle), and a Cube (inheriting from Square). Each class should have appropriate methods for calculating area and volume where applicable.\n",
    "</p>\n",
    "\n",
    "<h3 style=\"color: #34495e; font-family: Arial, sans-serif;\">Class Structure</h3>\n",
    "<ol style=\"color: #2c3e50; font-family: Arial, sans-serif; line-height: 1.8;\">\n",
    "  <li>\n",
    "    <strong style=\"color: #2980b9; background-color: #eafaf1; padding: 5px; border-radius: 5px;\">Rectangle Class:</strong>\n",
    "    <ul>\n",
    "      <li>This class will have <code>length</code> and <code>width</code> as attributes.</li>\n",
    "      <li>It will also have a method to calculate the area of the rectangle: <code>area()</code>.</li>\n",
    "    </ul>\n",
    "  </li>\n",
    "  <li>\n",
    "    <strong style=\"color: #e67e22; background-color: #fceae5; padding: 5px; border-radius: 5px;\">Square Class:</strong>\n",
    "    <ul>\n",
    "      <li>This class will inherit from the <code>Rectangle</code> class.</li>\n",
    "      <li>Since a square has equal length and width, the constructor will ensure that both dimensions are equal.</li>\n",
    "    </ul>\n",
    "  </li>\n",
    "  <li>\n",
    "    <strong style=\"color: #27ae60; background-color: #eafaf1; padding: 5px; border-radius: 5px;\">Cube Class:</strong>\n",
    "    <ul>\n",
    "      <li>This class will inherit from the <code>Square</code> class.</li>\n",
    "      <li>The <code>Cube</code> class will extend functionality to calculate the surface area and volume of the cube.</li>\n",
    "      <li>The <code>Cube</code> class will use the inherited <code>area()</code> method from the <code>Square</code> class to calculate its surface area.</li>\n",
    "    </ul>\n",
    "  </li>\n",
    "</ol>\n"
   ]
  },
  {
   "cell_type": "code",
   "execution_count": 26,
   "metadata": {},
   "outputs": [],
   "source": [
    "class Rectangle:\n",
    "    def __init__(self, width, height):\n",
    "        self.width = width\n",
    "        self.height = height\n",
    "        \n",
    "    @property\n",
    "    def area(self):\n",
    "        return self.width * self.height\n",
    "\n",
    "    def __str__(self):\n",
    "        return f\"Rectangle (Width:{self.width}, Height:{self.height})\""
   ]
  },
  {
   "cell_type": "code",
   "execution_count": 27,
   "metadata": {},
   "outputs": [],
   "source": [
    "class Square(Rectangle):\n",
    "    def __init__(self, side):\n",
    "        super().__init__(side, side)\n",
    "\n",
    "    def __str__(self):\n",
    "        return f\"Square (Side:{self.width})\""
   ]
  },
  {
   "cell_type": "code",
   "execution_count": null,
   "metadata": {},
   "outputs": [],
   "source": [
    "class Cube(Square):\n",
    "    def __init__(self, side):\n",
    "        super().__init__(side)\n",
    "\n",
    "    @property\n",
    "    def surface_area(self):\n",
    "        return 6 * super().area\n",
    "        \n",
    "    @property\n",
    "    def volume(self):\n",
    "        return self.width ** 3\n",
    "\n",
    "    def __str__(self):\n",
    "        return (f\"Cube (Side:{self.width})\")"
   ]
  },
  {
   "cell_type": "code",
   "execution_count": 43,
   "metadata": {},
   "outputs": [],
   "source": [
    "cube1 = Cube(3)\n",
    "cube2 = Cube(5)"
   ]
  },
  {
   "cell_type": "code",
   "execution_count": 44,
   "metadata": {},
   "outputs": [
    {
     "name": "stdout",
     "output_type": "stream",
     "text": [
      "Cube (Side:3)\n",
      "Cube (Side:5)\n"
     ]
    }
   ],
   "source": [
    "print(cube1)\n",
    "print(cube2)"
   ]
  },
  {
   "cell_type": "code",
   "execution_count": 45,
   "metadata": {},
   "outputs": [
    {
     "name": "stdout",
     "output_type": "stream",
     "text": [
      "9\n",
      "25\n"
     ]
    }
   ],
   "source": [
    "print(cube1.area)\n",
    "print(cube2.area)"
   ]
  },
  {
   "cell_type": "code",
   "execution_count": null,
   "metadata": {},
   "outputs": [
    {
     "name": "stdout",
     "output_type": "stream",
     "text": [
      "54\n"
     ]
    }
   ],
   "source": [
    "print(cube1.surface_area)"
   ]
  },
  {
   "cell_type": "code",
   "execution_count": 47,
   "metadata": {},
   "outputs": [
    {
     "name": "stdout",
     "output_type": "stream",
     "text": [
      "150\n"
     ]
    }
   ],
   "source": [
    "print(cube2.surface_area)"
   ]
  },
  {
   "cell_type": "markdown",
   "metadata": {},
   "source": [
    "---------------"
   ]
  },
  {
   "cell_type": "markdown",
   "metadata": {},
   "source": [
    "\n",
    "<center><h3 style=\"color: #34495e; font-family: Arial, sans-serif; background-color: yellow; padding: 8px; border-radius: 5px;\">Extend the HR System</h3></center>\n",
    "<h3 style=\"color: #34495e; font-family: Arial, sans-serif;\">Objective</h3>\n",
    "<p style=\"color: #2c3e50; font-family: Arial, sans-serif; line-height: 1.4;\">\n",
    "  Extend the existing HR system to include new classes that represent different employee roles within the company. These roles are:\n",
    "</p>\n",
    "<ul style=\"color: #2c3e50; font-family: Arial, sans-serif; line-height: 1.6;\">\n",
    "  <li>Managers (inheriting from <code style=\"color: #d35400;\">SalaryEmployee</code>)</li>\n",
    "  <li>Secretaries (inheriting from <code style=\"color: #d35400;\">SalaryEmployee</code>)</li>\n",
    "  <li>Sales Employees (inheriting from <code style=\"color: #d35400;\">SalaryEmployee</code>)</li>\n",
    "  <li>Factory Workers (inheriting from <code style=\"color: #d35400;\">HourlyEmployee</code>)</li>\n",
    "</ul>\n",
    "<p style=\"color: #2c3e50; font-family: Arial, sans-serif; line-height: 1.6;\">\n",
    "  Each class should implement the <code style=\"color: #d35400;\">.work()</code> method, which tracks productivity based on the employee's role. The <code style=\"color: #d35400;\">.work()</code> method will take the hours worked as an argument, and each role will calculate productivity in a different way.\n",
    "</p>\n",
    "\n",
    "<h3 style=\"color: #34495e; font-family: Arial, sans-serif;\">Class Structure</h3>\n",
    "<ol style=\"color: #2c3e50; font-family: Arial, sans-serif; line-height: 1.6;\">\n",
    "  <li>\n",
    "    <strong style=\"color: #2980b9; background-color: #eafaf1; padding: 5px; border-radius: 5px;\">Manager:</strong>\n",
    "    <ul>\n",
    "      <li>Managers are salaried employees who make more money and track productivity based on the hours they work. They inherit from <code style=\"color: #d35400;\">SalaryEmployee</code>.</li>\n",
    "      <li>They implement the <code style=\"color: #d35400;\">.work()</code> method to calculate productivity based on hours worked.</li>\n",
    "    </ul>\n",
    "  </li>\n",
    "  <li>\n",
    "    <strong style=\"color: #e67e22; background-color: #fceae5; padding: 5px; border-radius: 5px;\">Secretary:</strong>\n",
    "    <ul>\n",
    "      <li>Secretaries are salaried employees who make less money than managers. They inherit from <code style=\"color: #d35400;\">SalaryEmployee</code> and track productivity in a different way.</li>\n",
    "      <li>They implement the <code style=\"color: #d35400;\">.work()</code> method to calculate productivity based on hours worked.</li>\n",
    "    </ul>\n",
    "  </li>\n",
    "  <li>\n",
    "    <strong style=\"color: #e67e22; background-color: #fceae5; padding: 5px; border-radius: 5px;\">SalesPerson:</strong>\n",
    "    <ul>\n",
    "      <li>Sales employees have a base salary and earn commissions for sales. They inherit from <code style=\"color: #d35400;\">SalaryEmployee</code> and track productivity based on the number of sales.</li>\n",
    "      <li>They implement the <code style=\"color: #d35400;\">.work()</code> method to calculate productivity based on the sales they make.</li>\n",
    "    </ul>\n",
    "  </li>\n",
    "  <li>\n",
    "    <strong style=\"color: #27ae60; background-color: #eafaf1; padding: 5px; border-radius: 5px;\">FactoryWorker:</strong>\n",
    "    <ul>\n",
    "      <li>Factory workers are paid by the hour, and their productivity is tracked based on the hours worked. They inherit from <code style=\"color: #d35400;\">HourlyEmployee</code>.</li>\n",
    "      <li>They implement the <code style=\"color: #d35400;\">.work()</code> method to calculate productivity based on the hours they work.</li>\n",
    "    </ul>\n",
    "  </li>\n",
    "</ol>\n"
   ]
  },
  {
   "cell_type": "code",
   "execution_count": 48,
   "metadata": {},
   "outputs": [],
   "source": [
    "class Payroll_system:\n",
    "    def calculate_payroll(self, employees):\n",
    "        print(\"Calculate Payroll\")\n",
    "        print(\"===========================\")\n",
    "        for employee in employees:\n",
    "            print(f\"Payroll for: {employee.id} - {employee.name}\")\n",
    "            print(f\"- Check amount: {employee.calculate_payroll()}\")\n",
    "            print()\n",
    "\n",
    "#--------\n",
    "\n",
    "class Employee:\n",
    "    def __init__(self, id, name):\n",
    "        self.id = id\n",
    "        self.name = name\n",
    "\n",
    "#--------\n",
    "\n",
    "class Salary_employee(Employee):\n",
    "    def __init__(self, id, name, weekly_salary):\n",
    "        super().__init__(id, name)\n",
    "        self.weekly_salary = weekly_salary\n",
    "\n",
    "    def calculate_payroll(self):\n",
    "        return self.weekly_salary\n",
    "\n",
    "#--------\n",
    "\n",
    "class Hourly_employee(Employee):\n",
    "    def __init__(self, id, name, hours_worked, hourly_rate):\n",
    "        super().__init__(id, name)\n",
    "        self.hours_worked = hours_worked\n",
    "        self.hourly_rate = hourly_rate\n",
    "\n",
    "    def calculate_payroll(self):\n",
    "        return self.hours_worked * self.hourly_rate\n",
    "\n",
    "#--------\n",
    "\n",
    "class Commission_employee(Salary_employee):\n",
    "    def __init__(self, id, name, weekly_salary, commission):\n",
    "        super().__init__(id, name, weekly_salary)\n",
    "        self.commission = commission\n",
    "\n",
    "    def calculate_payroll(self):\n",
    "        fixed = super().calculate_payroll()\n",
    "        return fixed + self.commission"
   ]
  },
  {
   "cell_type": "code",
   "execution_count": 49,
   "metadata": {},
   "outputs": [],
   "source": [
    "class Manager_role(Salary_employee):\n",
    "    def work(self, hours):\n",
    "        print(f\"{self.name} oversees and delegates tasks for {hours} hours.\")\n",
    "\n",
    "class Secretary_role(Salary_employee):\n",
    "    def work(self, hours):\n",
    "        print(f\"{self.name} efficiently organizes and manages documents for {hours} hours.\")\n",
    "\n",
    "class SalesPerson_role(Commission_employee):\n",
    "    def work(self, hours):\n",
    "        print(f\"{self.name} engages with clients and closes deals for {hours} hours.\")\n",
    "\n",
    "class FactoryWorker_role(Hourly_employee):\n",
    "    def work(self, hours):\n",
    "        print(f\"{self.name} diligently assembles products for {hours} hours.\")\n"
   ]
  },
  {
   "cell_type": "code",
   "execution_count": 50,
   "metadata": {},
   "outputs": [],
   "source": [
    "class Productivity_system:\n",
    "    def Track(self, employees, hours):\n",
    "        print(\"Productivity System Tracking\")\n",
    "        print('-----------------------------')\n",
    "        for employee in employees:\n",
    "            employee.work(hours)\n",
    "            print()"
   ]
  },
  {
   "cell_type": "code",
   "execution_count": 51,
   "metadata": {},
   "outputs": [],
   "source": [
    "Manager = Manager_role(538, \"Umair khan\", \"2800 $\")\n",
    "Secretary = Secretary_role(\"5xx\", \"xyz\", 1500)\n",
    "SalesPerson = SalesPerson_role(\"5xx\", \"xyz\", 23, 40)\n",
    "FactoryWorker = FactoryWorker_role(\"5xx\", \"xyz\", 34, 55)"
   ]
  },
  {
   "cell_type": "code",
   "execution_count": 52,
   "metadata": {},
   "outputs": [],
   "source": [
    "employees = [Manager, Secretary, SalesPerson, FactoryWorker]"
   ]
  },
  {
   "cell_type": "code",
   "execution_count": 53,
   "metadata": {},
   "outputs": [
    {
     "name": "stdout",
     "output_type": "stream",
     "text": [
      "Productivity System Tracking\n",
      "-----------------------------\n",
      "Umair khan oversees and delegates tasks for 44 hours.\n",
      "\n",
      "xyz efficiently organizes and manages documents for 44 hours.\n",
      "\n",
      "xyz engages with clients and closes deals for 44 hours.\n",
      "\n",
      "xyz diligently assembles products for 44 hours.\n",
      "\n"
     ]
    }
   ],
   "source": [
    "productivity_system = Productivity_system()\n",
    "productivity_system.Track(employees, 44)"
   ]
  },
  {
   "cell_type": "markdown",
   "metadata": {},
   "source": [
    "--------------"
   ]
  },
  {
   "cell_type": "markdown",
   "metadata": {},
   "source": [
    "<center><h3 style=\"color: black; font-family: Arial, sans-serif; background-color: silver; padding: 8px; border-radius: 5px;\">Employees of the Electrical Department</h3></center>\n",
    "<h3 style=\"color: #34495e; font-family: Arial, sans-serif;\">Objective</h3>\n",
    "<p style=\"color: #2c3e50; font-family: Arial, sans-serif; line-height: 1.6;\">\n",
    "  Design a class structure for employees in the electrical department. The structure should represent the hierarchy of staff within the department.\n",
    "</p>\n",
    "\n",
    "<h3 style=\"color: #34495e; font-family: Arial, sans-serif;\">Class Structure</h3>\n",
    "<ol style=\"color: #2c3e50; font-family: Arial, sans-serif; line-height: 1.8;\">\n",
    "  <li>\n",
    "    <strong style=\"color: #2980b9; background-color: #eafaf1; padding: 5px; border-radius: 5px;\">Base Class: Staff</strong>\n",
    "    <ul>\n",
    "      <li>Represents the base class for all employees.</li>\n",
    "      <li>Contains common attributes like <code style=\"color: #d35400;\">name</code>, <code style=\"color: #d35400;\">designation</code>, and <code style=\"color: #d35400;\">contact</code>.</li>\n",
    "    </ul>\n",
    "  </li>\n",
    "  <li>\n",
    "    <strong style=\"color: #e67e22; background-color: #fceae5; padding: 5px; border-radius: 5px;\">Admin Staff:</strong>\n",
    "    <ul>\n",
    "      <li>Inherits from the <code style=\"color: #d35400;\">Staff</code> class.</li>\n",
    "      <li>Represents administrative staff in the electrical department.</li>\n",
    "      <li>Includes:\n",
    "        <ul>\n",
    "          <li><code style=\"color: #d35400;\">Lab Engineers</code></li>\n",
    "          <li><code style=\"color: #d35400;\">Lab Technicians</code></li>\n",
    "          <li><code style=\"color: #d35400;\">Lab Assistants</code></li>\n",
    "          <li><code style=\"color: #d35400;\">Lab Attendants</code></li>\n",
    "        </ul>\n",
    "      </li>\n",
    "    </ul>\n",
    "  </li>\n",
    "  <li>\n",
    "    <strong style=\"color: #27ae60; background-color: #eafaf1; padding: 5px; border-radius: 5px;\">Faculty Staff:</strong>\n",
    "    <ul>\n",
    "      <li>Inherits from the <code style=\"color: #d35400;\">Staff</code> class.</li>\n",
    "      <li>Represents teaching staff in the electrical department.</li>\n",
    "      <li>Includes:\n",
    "        <ul>\n",
    "          <li><code style=\"color: #d35400;\">Lecturers</code></li>\n",
    "          <li><code style=\"color: #d35400;\">Assistant Professors</code></li>\n",
    "          <li><code style=\"color: #d35400;\">Associate Professors</code></li>\n",
    "          <li><code style=\"color: #d35400;\">Professors</code></li>\n",
    "        </ul>\n",
    "      </li>\n",
    "    </ul>\n",
    "  </li>\n",
    "</ol>\n"
   ]
  },
  {
   "cell_type": "code",
   "execution_count": 2,
   "metadata": {},
   "outputs": [],
   "source": [
    "class EEDJ_Employee:\n",
    "    def __init__(self, id, name, position, workload, scale, b_pay):\n",
    "        self.id = id\n",
    "        self.name = name \n",
    "        self.position = position \n",
    "        self.workload = workload \n",
    "        self.scale = scale\n",
    "        self.b_pay = b_pay\n",
    "\n",
    "    def __str__(self):\n",
    "        return f\"Employee ID: {self.id}, Name: {self.name}, Position: {self.position}, Workload: {self.workload}-Hours, Scale: {self.scale}, Base Pay: {self.b_pay}\"\n",
    "\n",
    "#-------------------------------------------------------------------------------------------------------------------------------------------------------------------\n",
    "\n",
    "class Faculty(EEDJ_Employee):\n",
    "    def __init__(self, id, name, position, workload, scale, b_pay, research, subject, experiance, teach_mode):\n",
    "        super().__init__(id, name, position, workload, scale, b_pay)\n",
    "        self.research = research\n",
    "        self.subject = subject\n",
    "        self.experiance = experiance\n",
    "        self.teach_mode = teach_mode\n",
    "\n",
    "    def __str__(self):\n",
    "        return super().__str__() + f\", Research: {self.research}, Subject: {self.subject}, Experience: {self.experiance} years, Teach Mode: {self.teach_mode}\"\n",
    "\n",
    "class Professor(Faculty):\n",
    "    def __init__(self, id, name, position, workload, scale, b_pay, research, subject, experiance, teach_mode):\n",
    "        super().__init__(id, name, position, workload, scale, b_pay, research, subject, experiance, teach_mode)\n",
    "    \n",
    "    def __str__(self):\n",
    "        return super().__str__()\n",
    "\n",
    "class Associate_Prof(Faculty):\n",
    "    def __init__(self, id, name, position, workload, scale, b_pay, research, subject, experiance, teach_mode):\n",
    "        super().__init__(id, name, position, workload, scale, b_pay, research, subject, experiance, teach_mode)\n",
    "    \n",
    "    def __str__(self):\n",
    "        return super().__str__()\n",
    "\n",
    "class Assistant_Prof(Faculty):\n",
    "    def __init__(self, id, name, position, workload, scale, b_pay, research, subject, experiance, teach_mode):\n",
    "        super().__init__(id, name, position, workload, scale, b_pay, research, subject, experiance, teach_mode)\n",
    "    \n",
    "    def __str__(self):\n",
    "        return super().__str__()\n",
    "\n",
    "class Lecturer(Faculty):\n",
    "    def __init__(self, id, name, position, workload, scale, b_pay, research, subject, experiance, teach_mode):\n",
    "        super().__init__(id, name, position, workload, scale, b_pay, research, subject, experiance, teach_mode)\n",
    "    \n",
    "    def __str__(self):\n",
    "        return super().__str__()\n",
    "# ---------------------------------------------------------------------------------------------------------------------------------------------------------------\n",
    "\n",
    "class Admin(EEDJ_Employee):\n",
    "    def __init__(self, id, name, position, workload, scale, b_pay, lab_name=\"\", lab_capacity=0):\n",
    "        super().__init__(id, name, position, workload, scale, b_pay)\n",
    "        self.lab_name = lab_name\n",
    "        self.lab_capacity = lab_capacity\n",
    "\n",
    "    def __str__(self):\n",
    "        return super().__str__() + f\", Lab Name: {self.lab_name}, Lab Capacity: {self.lab_capacity}\"\n",
    "\n",
    "class Lab_Engr(Admin):\n",
    "    def __init__(self, id, name, position, workload, scale, b_pay, lab_name, lab_capacity,lab_subject):\n",
    "        super().__init__(id, name, position, workload, scale, b_pay, lab_name, lab_capacity)\n",
    "        self.lab_subject = lab_subject\n",
    "    \n",
    "    def __str__(self):\n",
    "        return super().__str__() + f\", Lab Subject: {self.lab_subject}\"\n",
    "\n",
    "class Lab_Technician(Admin):\n",
    "    def __init__(self, id, name, position, workload, scale, b_pay, lab_name, lab_capacity,basic_lab):\n",
    "        super().__init__(id, name, position, workload, scale, b_pay, lab_name, lab_capacity)\n",
    "        self.basic_lab = basic_lab\n",
    "        \n",
    "    def __str__(self):\n",
    "        return super().__str__() + f\", Basic Lab : {self.basic_lab}\"\n",
    "\n",
    "class Lab_Assistant(Admin):\n",
    "    def __init__(self, id, name, position, workload, scale, b_pay, lab_name, lab_capacity,equipment_handle):\n",
    "        super().__init__(id, name, position, workload, scale, b_pay, lab_name, lab_capacity)\n",
    "        self.equipment_handle = equipment_handle\n",
    "\n",
    "    def __str__(self):\n",
    "        return super().__str__() + f\", Equipment Handle: {self.equipment_handle}\"\n",
    "\n",
    "class Lab_Attendant(Admin):\n",
    "    def __init__(self, id, name, position, workload, scale, b_pay, lab_name, lab_capacity):\n",
    "        super().__init__(id, name, position, workload, scale, b_pay, lab_name, lab_capacity)\n",
    "\n",
    "    def __str__(self):\n",
    "        return super().__str__()"
   ]
  },
  {
   "cell_type": "code",
   "execution_count": 3,
   "metadata": {},
   "outputs": [],
   "source": [
    "employees = [\n",
    "    Professor(1, \"Dr Qaisar Ali\", \"Professor\", 8, 21, 300000, \"Electrical Machine\", \"Signal and System\", \"12 Years\", \"Multimedia\"),\n",
    "    Associate_Prof(2, \"Akhtar Nawaz\", \"Associate Professor\", 10, 20, 250000, \"Power Analysis\", \"Circuit Analysis\", \"15 Years\", \"White Board\"),\n",
    "    Assistant_Prof(3, \"Waqas Imtiaz\", \"Assistant Professor\", 12, 19, 200000, \"Electric Cars\", \"Circuit Analysis\", \"5 Years\", \"Projector\"),\n",
    "    Lecturer(4, \"Irshad Ullah Sir\", \"Lecturer\", 14, 18, 100000, \"Renewable Energy\", \"OPPs And Ds\", \"7 Years\", \"Projector\"),\n",
    "    Lab_Engr(5, \"Waqar Hussain\", \"Lab Engineer\", 18, 17, 150000, \"Instrumentation\", 60, \"Circuit-1\"),\n",
    "    Lab_Technician(6, \"Wajid Ali\", \"Lab Technician\", 16, 16, 100000, \"Electronics Lab\", 50, \"DLD\"),\n",
    "    Lab_Assistant(7, \"M.Haris\", \"Lab Assistant\", 15, 16, 70000, \"Power Engineering Lab\", 54, \"AutoCAD\"),\n",
    "    Lab_Attendant(8, \"Shahzaib Khan\", \"Lab Attendant\", 14, 15, 50000, \"Computer Lab\", 33)\n",
    "]"
   ]
  },
  {
   "cell_type": "code",
   "execution_count": 4,
   "metadata": {},
   "outputs": [
    {
     "name": "stdout",
     "output_type": "stream",
     "text": [
      "Employee ID: 1, Name: Dr Qaisar Ali, Position: Professor, Workload: 8-Hours, Scale: 21, Base Pay: 300000, Research: Electrical Machine, Subject: Signal and System, Experience: 12 Years years, Teach Mode: Multimedia\n",
      "Employee ID: 2, Name: Akhtar Nawaz, Position: Associate Professor, Workload: 10-Hours, Scale: 20, Base Pay: 250000, Research: Power Analysis, Subject: Circuit Analysis, Experience: 15 Years years, Teach Mode: White Board\n",
      "Employee ID: 3, Name: Waqas Imtiaz, Position: Assistant Professor, Workload: 12-Hours, Scale: 19, Base Pay: 200000, Research: Electric Cars, Subject: Circuit Analysis, Experience: 5 Years years, Teach Mode: Projector\n",
      "Employee ID: 4, Name: Irshad Ullah Sir, Position: Lecturer, Workload: 14-Hours, Scale: 18, Base Pay: 100000, Research: Renewable Energy, Subject: OPPs And Ds, Experience: 7 Years years, Teach Mode: Projector\n",
      "Employee ID: 5, Name: Waqar Hussain, Position: Lab Engineer, Workload: 18-Hours, Scale: 17, Base Pay: 150000, Lab Name: Instrumentation, Lab Capacity: 60, Lab Subject: Circuit-1\n",
      "Employee ID: 6, Name: Wajid Ali, Position: Lab Technician, Workload: 16-Hours, Scale: 16, Base Pay: 100000, Lab Name: Electronics Lab, Lab Capacity: 50, Basic Lab : DLD\n",
      "Employee ID: 7, Name: M.Haris, Position: Lab Assistant, Workload: 15-Hours, Scale: 16, Base Pay: 70000, Lab Name: Power Engineering Lab, Lab Capacity: 54, Equipment Handle: AutoCAD\n",
      "Employee ID: 8, Name: Shahzaib Khan, Position: Lab Attendant, Workload: 14-Hours, Scale: 15, Base Pay: 50000, Lab Name: Computer Lab, Lab Capacity: 33\n"
     ]
    }
   ],
   "source": [
    "# Print all objects\n",
    "for employee in employees:\n",
    "    print(employee)"
   ]
  }
 ],
 "metadata": {
  "kernelspec": {
   "display_name": "base",
   "language": "python",
   "name": "python3"
  },
  "language_info": {
   "codemirror_mode": {
    "name": "ipython",
    "version": 3
   },
   "file_extension": ".py",
   "mimetype": "text/x-python",
   "name": "python",
   "nbconvert_exporter": "python",
   "pygments_lexer": "ipython3",
   "version": "3.12.4"
  }
 },
 "nbformat": 4,
 "nbformat_minor": 2
}
