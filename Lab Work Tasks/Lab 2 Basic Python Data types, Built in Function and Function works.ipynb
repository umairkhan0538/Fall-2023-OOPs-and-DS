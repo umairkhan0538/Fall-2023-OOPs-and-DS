{
 "cells": [
  {
   "cell_type": "markdown",
   "id": "c744b000",
   "metadata": {},
   "source": [
    "<div style=\"\n",
    "        background: linear-gradient(90deg, #8e44ad, #3498db);\n",
    "        padding: 30px 20px;\n",
    "        border-radius: 25px;\n",
    "        box-shadow: 0 7px 6px rgba(0, 0, 0, 0.3);\n",
    "        border: 2px solid #CCCCFF;\n",
    "        max-width: 90%;\n",
    "    \">\n",
    "        <span style=\"\n",
    "            color: #FFBF00;\n",
    "            font-size: 20px;\n",
    "            font-family: Cooper Black;\n",
    "            letter-spacing: 2px;\n",
    "            line-height: 1.4;\n",
    "            text-transform: sentencecase;\n",
    "            text-shadow: 3px 3px 8px rgba(0, 0, 0, 0.5);\n",
    "            text-align: center;\n",
    "        \">\n",
    "            University of Engineering and Technology Peshawar Jalozai Campus\n",
    "        </span>\n",
    "  </div>\n"
   ]
  },
  {
   "cell_type": "markdown",
   "id": "f3ec7977",
   "metadata": {},
   "source": [
    " <div style=\"\n",
    "        background: linear-gradient(90deg, #e06377, #3b3a30);\n",
    "        padding: 30px 20px;\n",
    "        border-radius: 25px;\n",
    "        box-shadow: 0 7px 6px rgba(0, 0, 0, 0.3);\n",
    "        border: 2px solid #CCCCFF;\n",
    "        max-width: 90%;\n",
    "    \">\n",
    "        <span style=\"\n",
    "            font-size: 20px;\n",
    "            font-family: Cooper Black;\n",
    "            color: #FFBF00;\n",
    "            font-weight: bold;\n",
    "            letter-spacing: 1px;\n",
    "            text-shadow: 3px 1px 8px rgba(0, 0, 1, 0.6);\n",
    "        \">\n",
    "            Lab Title: EE-271 “OOP & Data Structures Lab”\n",
    "        </span>\n",
    "    </div>\n"
   ]
  },
  {
   "cell_type": "markdown",
   "id": "cd396346",
   "metadata": {},
   "source": [
    "<div style=\"\n",
    "        background: linear-gradient(90deg, #c83349, #622569);\n",
    "        padding: 30px 20px;\n",
    "        border-radius: 25px;\n",
    "        box-shadow: 0 7px 6px rgba(0, 0, 0, 0.3);\n",
    "        border: 2px solid #CCCCFF;\n",
    "        max-width: 90%;\n",
    "    \">\n",
    "        <span style=\"\n",
    "            font-size: 20px;\n",
    "            font-family: Cooper Black;\n",
    "            color: #FFBF00;\n",
    "            font-weight: bold;\n",
    "            letter-spacing: 1px;\n",
    "            text-shadow: 3px 1px 8px rgba(0, 0, 1, 0.6);\n",
    "        \">\n",
    "            Lab 2: Basic Python Data types, Built in Function and Function\n",
    "        </span>\n",
    "    </div>\n"
   ]
  },
  {
   "cell_type": "markdown",
   "id": "15207907",
   "metadata": {},
   "source": [
    "<span style=\"color: #000000;\n",
    "font-size: 44px;\n",
    "transition: color 0.3s;\">&#x21DD; </span>\n",
    "<span style=\"color: #ff0000;\n",
    "    font-family: Arial Black;\n",
    "font-size: 35px; font-weight: bold; \n",
    "text-shadow: 0px 4px 2px rgb(0, 0, 0);\">\n",
    "    Lab Work Tasks :</span>"
   ]
  },
  {
   "cell_type": "markdown",
   "id": "00a3e295-6a40-40ff-a95c-357563da9768",
   "metadata": {},
   "source": [
    "\n",
    "<span style=\"color:green; font-size:30px;\">&#x2192;</span>   <span style=\"color:green; font-size:30px;font-family:timesnewroman;\">String Formatting<span>\n"
   ]
  },
  {
   "cell_type": "code",
   "execution_count": 639,
   "id": "3b0d4170-1803-4a09-bb78-6efa3d652693",
   "metadata": {},
   "outputs": [
    {
     "name": "stdout",
     "output_type": "stream",
     "text": [
      "Hello, Bob\n"
     ]
    }
   ],
   "source": [
    "errno = 50159747054\n",
    "name = 'Bob'\n",
    "\n",
    "# a. Using % operator\n",
    "print('Hello, %s' % name)"
   ]
  },
  {
   "cell_type": "code",
   "execution_count": 640,
   "id": "7539367c",
   "metadata": {},
   "outputs": [
    {
     "name": "stdout",
     "output_type": "stream",
     "text": [
      "Name Rehan Khan And My Height is 5.9\n"
     ]
    }
   ],
   "source": [
    "Name=\"Rehan Khan\"\n",
    "height=5.9\n",
    "print(f\"Name {Name} And My Height is {height}\")"
   ]
  },
  {
   "cell_type": "code",
   "execution_count": 641,
   "id": "2c548818",
   "metadata": {},
   "outputs": [
    {
     "name": "stdout",
     "output_type": "stream",
     "text": [
      "Name, Rehan Khan Height  5.9\n"
     ]
    }
   ],
   "source": [
    "print('Name, %s' % Name, 'Height  %s' % height)"
   ]
  },
  {
   "cell_type": "code",
   "execution_count": 642,
   "id": "fd21a2f9-a80e-439a-83b9-8a6a6d46fb45",
   "metadata": {},
   "outputs": [
    {
     "name": "stdout",
     "output_type": "stream",
     "text": [
      "Hey Bob, there is a 0xbadc0ffee error!\n"
     ]
    }
   ],
   "source": [
    "# b. Using % operator with multiple values\n",
    "print('Hey %s, there is a 0x%x error!' % (name, errno))"
   ]
  },
  {
   "cell_type": "code",
   "execution_count": 643,
   "id": "20b68d60",
   "metadata": {},
   "outputs": [
    {
     "name": "stdout",
     "output_type": "stream",
     "text": [
      "Name \n"
     ]
    }
   ],
   "source": [
    "print(\"Name \".format(name))"
   ]
  },
  {
   "cell_type": "code",
   "execution_count": 644,
   "id": "0145503d-d36d-43dc-bff1-646798c263c0",
   "metadata": {},
   "outputs": [
    {
     "name": "stdout",
     "output_type": "stream",
     "text": [
      "Hey Bob, there is a 0xbadc0ffee error!\n"
     ]
    }
   ],
   "source": [
    "# c. Using % operator with dictionary\n",
    "print('Hey %(name)s, there is a 0x%(errno)x error!' % {\"name\": name, \"errno\": errno})"
   ]
  },
  {
   "cell_type": "code",
   "execution_count": 645,
   "id": "1f25f285-7bf3-4c5b-b545-90f37d74ffe6",
   "metadata": {},
   "outputs": [
    {
     "name": "stdout",
     "output_type": "stream",
     "text": [
      "Hello, Bob\n"
     ]
    }
   ],
   "source": [
    "# a. Using format method\n",
    "print('Hello, {}'.format(name))\n",
    "# Output: Hello, Bob"
   ]
  },
  {
   "cell_type": "code",
   "execution_count": 646,
   "id": "21f45eb5-4fb5-42aa-a750-1aa3223fde58",
   "metadata": {},
   "outputs": [
    {
     "name": "stdout",
     "output_type": "stream",
     "text": [
      "Hello, Bob!\n"
     ]
    }
   ],
   "source": [
    "# a. Using f-strings\n",
    "print(f'Hello, {name}!')"
   ]
  },
  {
   "cell_type": "code",
   "execution_count": 647,
   "id": "b183639c-4ff2-4da1-b1c4-a5b99270b498",
   "metadata": {},
   "outputs": [
    {
     "name": "stdout",
     "output_type": "stream",
     "text": [
      "Hey, Bob!\n",
      "Hey Bob, there is a 0xbadc0ffee error!\n"
     ]
    }
   ],
   "source": [
    "from string import Template\n",
    "\n",
    "# a. Using Template with substitute method\n",
    "t = Template('Hey, $name!')\n",
    "print(t.substitute(name=name))\n",
    "\n",
    "# b. Using Template with multiple substitutions\n",
    "templ_string = 'Hey $name, there is a $error error!'\n",
    "print(Template(templ_string).substitute(name=name, error=hex(errno)))\n"
   ]
  },
  {
   "cell_type": "code",
   "execution_count": 648,
   "id": "61878294-bec7-4bdc-861f-6b778b52230a",
   "metadata": {},
   "outputs": [
    {
     "name": "stdout",
     "output_type": "stream",
     "text": [
      "3\n",
      "4\n",
      "3\n",
      "5\n",
      "6\n"
     ]
    }
   ],
   "source": [
    "# Lists\n",
    "list1 = [1, 2, 3]\n",
    "list2 = ['a', 'b', 'c', 'd']\n",
    "list3 = [True, False, True]\n",
    "\n",
    "print(len(list1))  # Output: 3\n",
    "print(len(list2))  # Output: 4\n",
    "print(len(list3))  # Output: 3\n",
    "\n",
    "# Strings\n",
    "string1 = \"Hello\"\n",
    "string2 = \"Python\"\n",
    "\n",
    "print(len(string1))  # Output: 5\n",
    "print(len(string2))  # Output: 6\n"
   ]
  },
  {
   "cell_type": "code",
   "execution_count": 649,
   "id": "3a505043-5d4a-412d-bb79-648d2d5a1973",
   "metadata": {},
   "outputs": [
    {
     "name": "stdout",
     "output_type": "stream",
     "text": [
      "True\n",
      "False\n",
      "True\n"
     ]
    }
   ],
   "source": [
    "# Examples of .is_integer()\n",
    "print((10.0).is_integer())  # Output: True\n",
    "print((10.5).is_integer())  # Output: False\n",
    "print((0.0).is_integer())   # Output: True\n"
   ]
  },
  {
   "cell_type": "code",
   "execution_count": 650,
   "id": "bdf48b51-943e-41b9-9216-beae4c6a70ec",
   "metadata": {},
   "outputs": [
    {
     "name": "stdout",
     "output_type": "stream",
     "text": [
      "(3-4j)\n",
      "(5+6j)\n",
      "(7-0j)\n"
     ]
    }
   ],
   "source": [
    "# Examples of .conjugate()\n",
    "print((3+4j).conjugate())  # Output: (3-4j)\n",
    "print((5-6j).conjugate())  # Output: (5+6j)\n",
    "print((7+0j).conjugate())  # Output: (7-0j)\n"
   ]
  },
  {
   "cell_type": "code",
   "execution_count": 651,
   "id": "1fa3bd52-d4a4-4e36-8366-c6da18a36f2b",
   "metadata": {},
   "outputs": [
    {
     "name": "stdout",
     "output_type": "stream",
     "text": [
      "Resistances: [10, 20, 30, 40, 50]\n",
      "Voltages: [5, 10, 15, 20, 25]\n",
      "Currents: [0.5, 0.5, 0.5, 0.5, 0.5]\n"
     ]
    }
   ],
   "source": [
    "def resistance() -> list:\n",
    "    \"\"\"\n",
    "    Returns a list of five resistances.\n",
    "    \n",
    "    Returns:\n",
    "    list: List of resistances.\n",
    "    \"\"\"\n",
    "    return [10, 20, 30, 40, 50]\n",
    "\n",
    "def voltage() -> list:\n",
    "    \"\"\"\n",
    "    Returns a list of voltages across each resistor.\n",
    "    \n",
    "    Returns:\n",
    "    list: List of voltages.\n",
    "    \"\"\"\n",
    "    return [5, 10, 15, 20, 25]\n",
    "\n",
    "def current(resistances: list, voltages: list) -> list:\n",
    "    \"\"\"\n",
    "    Calculates the current flowing through each resistor.\n",
    "    \n",
    "    Parameters:\n",
    "    resistances (list): List of resistances.\n",
    "    voltages (list): List of voltages.\n",
    "    \n",
    "    Returns:\n",
    "    list: List of currents.\n",
    "    \"\"\"\n",
    "    return [v / r for v, r in zip(voltages, resistances)]\n",
    "\n",
    "# Example usage\n",
    "resistances = resistance()\n",
    "voltages = voltage()\n",
    "currents = current(resistances, voltages)\n",
    "\n",
    "print(f\"Resistances: {resistances}\")\n",
    "print(f\"Voltages: {voltages}\")\n",
    "print(f\"Currents: {currents}\")\n"
   ]
  },
  {
   "cell_type": "code",
   "execution_count": 4,
   "id": "340d959c",
   "metadata": {},
   "outputs": [
    {
     "name": "stdout",
     "output_type": "stream",
     "text": [
      "\n",
      "    Calculate the net resistance of resistors connected in series.\n",
      "\n",
      "    Args:\n",
      "        resistors (list[float] | tuple[float]): A list or tuple of resistor values in ohms.\n",
      "\n",
      "    Returns:\n",
      "        float: The total resistance in ohms of the resistors connected in series.\n",
      "    \n",
      "{}\n"
     ]
    }
   ],
   "source": [
    "def series(list=[]):\n",
    "    \"\"\"\n",
    "    Calculate the net resistance of resistors connected in series.\n",
    "\n",
    "    Args:\n",
    "        resistors (list[float] | tuple[float]): A list or tuple of resistor values in ohms.\n",
    "\n",
    "    Returns:\n",
    "        float: The total resistance in ohms of the resistors connected in series.\n",
    "    \"\"\"\n",
    "    return sum(resistors)\n",
    "\n",
    "print(series.__doc__)\n",
    "\n",
    "print(series.__annotations__)"
   ]
  },
  {
   "cell_type": "code",
   "execution_count": 653,
   "id": "9565a62e-7f74-4e13-b1a4-42574dc50c79",
   "metadata": {},
   "outputs": [
    {
     "name": "stdout",
     "output_type": "stream",
     "text": [
      "Net Resistance (Parallel): 4.37956204379562\n",
      "{'resistances': <class 'list'>, 'return': <class 'float'>}\n"
     ]
    }
   ],
   "source": [
    "def parallel(resistances: list) \n",
    "   \n",
    "    return 1 / sum(1 / r for r in resistances)\n",
    "resistances = [10, 20, 30, 40, 50]\n",
    "net_resistance = parallel(resistances)\n",
    "print(f\"Net Resistance (Parallel): {net_resistance}\")\n",
    "\n"
   ]
  },
  {
   "cell_type": "code",
   "execution_count": 654,
   "id": "6a5acb57-e59f-4234-b7b8-0bd0a1cf805b",
   "metadata": {},
   "outputs": [
    {
     "name": "stdout",
     "output_type": "stream",
     "text": [
      "Net Resistance (Series with *args): 150\n",
      "{'resistances': <class 'float'>, 'return': <class 'float'>}\n"
     ]
    }
   ],
   "source": [
    "def series(*resistances: float) -> float:\n",
    "    \"\"\"\n",
    "    Calculates the net resistance in series using *args.\n",
    "    \n",
    "    Parameters:\n",
    "    *resistances (float): Variable number of resistances.\n",
    "    \n",
    "    Returns:\n",
    "    float: Net resistance.\n",
    "    \"\"\"\n",
    "    return sum(resistances)\n",
    "\n",
    "# Example usage\n",
    "net_resistance = series(10, 20, 30, 40, 50)\n",
    "print(f\"Net Resistance (Series with *args): {net_resistance}\")\n",
    "\n",
    "# Display annotations\n",
    "print(series.__annotations__)\n"
   ]
  },
  {
   "cell_type": "code",
   "execution_count": 655,
   "id": "858c69dc-e87e-4bb4-ad97-cff91b5d2324",
   "metadata": {},
   "outputs": [],
   "source": [
    "def f(a, b, *args, **kwargs):\n",
    " print(F'a = {a}')\n",
    " print(F'b = {b}')\n",
    " print(F'args = {args}')\n",
    " print(F'kwargs = {kwargs}')"
   ]
  },
  {
   "cell_type": "code",
   "execution_count": 656,
   "id": "19bd8fcb",
   "metadata": {},
   "outputs": [
    {
     "name": "stdout",
     "output_type": "stream",
     "text": [
      "a = 1\n",
      "b = 2\n",
      "args = ('foo', 'bar', 'baz', 'qux')\n",
      "kwargs = {'x': 100, 'y': 200, 'z': 300}\n"
     ]
    }
   ],
   "source": [
    "f(1, 2, 'foo', 'bar', 'baz', 'qux', x=100, y=200, z=300)"
   ]
  },
  {
   "cell_type": "code",
   "execution_count": 657,
   "id": "4421182f",
   "metadata": {},
   "outputs": [],
   "source": [
    "def f(*args):\n",
    "    for i in args:\n",
    "        print(i)\n",
    "a = [1, 2, 3]\n",
    "t = (4, 5, 6)\n",
    "s = {7, 8, 9}"
   ]
  },
  {
   "cell_type": "code",
   "execution_count": 658,
   "id": "2b89fccb",
   "metadata": {},
   "outputs": [
    {
     "name": "stdout",
     "output_type": "stream",
     "text": [
      "1\n",
      "2\n",
      "3\n",
      "4\n",
      "5\n",
      "6\n",
      "8\n",
      "9\n",
      "7\n"
     ]
    }
   ],
   "source": [
    "f(*a, *t, *s)\n"
   ]
  },
  {
   "cell_type": "code",
   "execution_count": 659,
   "id": "650ad87c",
   "metadata": {},
   "outputs": [],
   "source": [
    "def f(**kwargs):\n",
    "    for k, v in kwargs.items():\n",
    "        print(k, '->', v)\n",
    "d1 = {'a': 1, 'b': 2}\n",
    "d2 = {'x': 3, 'y': 4}"
   ]
  },
  {
   "cell_type": "code",
   "execution_count": 660,
   "id": "8635179f",
   "metadata": {},
   "outputs": [
    {
     "name": "stdout",
     "output_type": "stream",
     "text": [
      "a -> 1\n",
      "b -> 2\n",
      "x -> 3\n",
      "y -> 4\n"
     ]
    }
   ],
   "source": [
    "f(**d1, **d2)"
   ]
  },
  {
   "cell_type": "code",
   "execution_count": 661,
   "id": "d272989d",
   "metadata": {},
   "outputs": [],
   "source": [
    "def f(*args):\n",
    "    for i in args:\n",
    "        print(i)"
   ]
  },
  {
   "cell_type": "code",
   "execution_count": 662,
   "id": "65c92285",
   "metadata": {},
   "outputs": [
    {
     "name": "stdout",
     "output_type": "stream",
     "text": [
      "1\n",
      "2\n",
      "3\n",
      "6\n",
      "7\n",
      "8\n",
      "10\n",
      "20\n",
      "30\n"
     ]
    }
   ],
   "source": [
    "f(*[1,2,3],*[6,7,8],*[10,20,30])"
   ]
  },
  {
   "cell_type": "code",
   "execution_count": 663,
   "id": "fe33839b",
   "metadata": {},
   "outputs": [],
   "source": [
    "def f(**kwargs):\n",
    "    for k, v in kwargs.items():\n",
    "        print(k, '->', v)"
   ]
  },
  {
   "cell_type": "code",
   "execution_count": 664,
   "id": "f496d613",
   "metadata": {},
   "outputs": [
    {
     "name": "stdout",
     "output_type": "stream",
     "text": [
      "a -> 1\n",
      "b -> 2\n",
      "x -> 3\n",
      "y -> 4\n"
     ]
    }
   ],
   "source": [
    "f(**{'a': 1, 'b': 2}, **{'x': 3, 'y': 4})"
   ]
  },
  {
   "cell_type": "code",
   "execution_count": 665,
   "id": "0eb78d18",
   "metadata": {},
   "outputs": [],
   "source": [
    "def f(a: int, b: str) -> float:\n",
    " print(a, b)\n",
    " return(3.5)"
   ]
  },
  {
   "cell_type": "code",
   "execution_count": 666,
   "id": "f5713949",
   "metadata": {},
   "outputs": [
    {
     "name": "stdout",
     "output_type": "stream",
     "text": [
      "512 Sudais\n"
     ]
    },
    {
     "data": {
      "text/plain": [
       "3.5"
      ]
     },
     "execution_count": 666,
     "metadata": {},
     "output_type": "execute_result"
    }
   ],
   "source": [
    "f(512, 'Sudais')\n"
   ]
  },
  {
   "cell_type": "code",
   "execution_count": 667,
   "id": "c769b893",
   "metadata": {},
   "outputs": [],
   "source": [
    "def f(a: int, b: str) -> float:\n",
    " print(a, b)\n",
    " return 1, 2, 3"
   ]
  },
  {
   "cell_type": "code",
   "execution_count": 668,
   "id": "febde4b4",
   "metadata": {},
   "outputs": [
    {
     "name": "stdout",
     "output_type": "stream",
     "text": [
      "Rehan 2.5\n"
     ]
    },
    {
     "data": {
      "text/plain": [
       "(1, 2, 3)"
      ]
     },
     "execution_count": 668,
     "metadata": {},
     "output_type": "execute_result"
    }
   ],
   "source": [
    "f('Rehan', 2.5)"
   ]
  },
  {
   "cell_type": "code",
   "execution_count": 669,
   "id": "5cd9cabb",
   "metadata": {},
   "outputs": [
    {
     "name": "stdout",
     "output_type": "stream",
     "text": [
      "None\n"
     ]
    }
   ],
   "source": [
    "def charge_from_solar(SOC: float) -> None:\n",
    "    if SOC < 20:\n",
    "        print(\"Charging...\")\n",
    "    elif SOC > 90:\n",
    "        return\n",
    "    else:\n",
    "        print(f\"Battery battery will be charged = {SOC}%\")\n",
    "\n",
    "print(charge_from_solar.__doc__)"
   ]
  },
  {
   "cell_type": "code",
   "execution_count": 670,
   "id": "2dbff5cc",
   "metadata": {},
   "outputs": [
    {
     "name": "stdout",
     "output_type": "stream",
     "text": [
      "None\n"
     ]
    }
   ],
   "source": [
    "print(charge_from_solar.__doc__)"
   ]
  },
  {
   "cell_type": "code",
   "execution_count": 671,
   "id": "bcda26ab",
   "metadata": {},
   "outputs": [],
   "source": [
    "charge_from_solar(94)"
   ]
  },
  {
   "cell_type": "code",
   "execution_count": 672,
   "id": "84ff9993",
   "metadata": {},
   "outputs": [],
   "source": [
    "def resistance() -> list:\n",
    "    \"\"\"Returns a list of five resistances in ohms.\"\"\"\n",
    "    return [10, 20, 30, 40, 50]\n",
    "\n",
    "def voltage() -> list:\n",
    "    \"\"\"Returns a list of voltages across each resistor in volts.\"\"\"\n",
    "    return [100, 200, 300, 400, 500]\n",
    "\n",
    "def current(resistances: list, voltages: list): \n",
    "    \"\"\"Calculates and returns a dictionary with current values for each resistor.\"\"\"\n",
    "    currents = []\n",
    "    currents = [voltages[i]/resistances[i] for i in range(5)]\n",
    "    return currents\n",
    "\n",
    "# Main program\n",
    "resistances = resistance()\n",
    "voltages = voltage()\n",
    "currents = current(resistances, voltages)\n",
    "\n"
   ]
  },
  {
   "cell_type": "code",
   "execution_count": 673,
   "id": "a91f9d90",
   "metadata": {},
   "outputs": [
    {
     "name": "stdout",
     "output_type": "stream",
     "text": [
      "Returns a list of five resistances in ohms.\n",
      "Returns a list of voltages across each resistor in volts.\n",
      "Calculates and returns a dictionary with current values for each resistor.\n"
     ]
    }
   ],
   "source": [
    "# Printing docstrings\n",
    "print(resistance.__doc__)\n",
    "print(voltage.__doc__)\n",
    "print(current.__doc__)"
   ]
  },
  {
   "cell_type": "code",
   "execution_count": 674,
   "id": "2a3cd4f5",
   "metadata": {},
   "outputs": [
    {
     "name": "stdout",
     "output_type": "stream",
     "text": [
      "\n",
      "Resistances (Ohms): [10, 20, 30, 40, 50]\n",
      "Voltages (Volts): [100, 200, 300, 400, 500]\n",
      "Currents (Amps): [10.0, 10.0, 10.0, 10.0, 10.0]\n"
     ]
    }
   ],
   "source": [
    "# Printing the results\n",
    "print(\"\\nResistances (Ohms):\", resistances)\n",
    "print(\"Voltages (Volts):\", voltages)\n",
    "print(\"Currents (Amps):\", currents)"
   ]
  },
  {
   "cell_type": "code",
   "execution_count": 675,
   "id": "c4731daf",
   "metadata": {},
   "outputs": [
    {
     "name": "stdout",
     "output_type": "stream",
     "text": [
      "\n",
      "    Calculate the net resistance of resistors connected in series.\n",
      "\n",
      "    Args:\n",
      "        resistors (list[float] | tuple[float]): A list or tuple of resistor values in ohms.\n",
      "\n",
      "    Returns:\n",
      "        float: The total resistance in ohms of the resistors connected in series.\n",
      "    \n",
      "{'resistors': list[float] | tuple[float], 'return': <class 'float'>}\n"
     ]
    }
   ],
   "source": [
    "def series(resistors: list[float] | tuple[float]) -> float:\n",
    "    \"\"\"\n",
    "    Calculate the net resistance of resistors connected in series.\n",
    "\n",
    "    Args:\n",
    "        resistors (list[float] | tuple[float]): A list or tuple of resistor values in ohms.\n",
    "\n",
    "    Returns:\n",
    "        float: The total resistance in ohms of the resistors connected in series.\n",
    "    \"\"\"\n",
    "    return sum(resistors)\n",
    "\n",
    "# Print the docstring\n",
    "print(series.__doc__)\n",
    "\n",
    "# Display the annotations\n",
    "print(series.__annotations__)"
   ]
  },
  {
   "cell_type": "code",
   "execution_count": 676,
   "id": "80c43402",
   "metadata": {},
   "outputs": [],
   "source": [
    "def parallel(resistors: list[float] | tuple[float]) -> float:\n",
    "    \n",
    "    # Sum of reciprocals of resistances\n",
    "    reciprocal_sum = sum(1 / r for r in resistors)\n",
    "    \n",
    "    # Return the reciprocal of the sum\n",
    "    return 1 / reciprocal_sum\n",
    "\n"
   ]
  },
  {
   "cell_type": "code",
   "execution_count": 677,
   "id": "c1b101ef",
   "metadata": {},
   "outputs": [
    {
     "name": "stdout",
     "output_type": "stream",
     "text": [
      "\n",
      "    Calculate the net resistance of resistors connected in parallel.\n",
      "\n",
      "    Args:\n",
      "        resistors (list[float] | tuple[float]): A list or tuple of resistor values in ohms.\n",
      "\n",
      "    Returns:\n",
      "        float: The total resistance in ohms of the resistors connected in parallel.\n",
      "    \n"
     ]
    }
   ],
   "source": [
    "# Print the docstring\n",
    "print(parallel.__doc__)\n",
    "\n",
    "\n"
   ]
  },
  {
   "cell_type": "code",
   "execution_count": 678,
   "id": "6def75c8",
   "metadata": {},
   "outputs": [
    {
     "name": "stdout",
     "output_type": "stream",
     "text": [
      "{'resistors': list[float] | tuple[float], 'return': <class 'float'>}\n"
     ]
    }
   ],
   "source": [
    "# Display the annotations\n",
    "print(parallel.__annotations__)"
   ]
  },
  {
   "cell_type": "code",
   "execution_count": 679,
   "id": "e1c16d0f",
   "metadata": {},
   "outputs": [
    {
     "data": {
      "text/plain": [
       "2.0"
      ]
     },
     "execution_count": 679,
     "metadata": {},
     "output_type": "execute_result"
    }
   ],
   "source": [
    "parallel([4,4])"
   ]
  },
  {
   "cell_type": "code",
   "execution_count": 680,
   "id": "d31dd08d",
   "metadata": {},
   "outputs": [
    {
     "data": {
      "text/plain": [
       "10.0"
      ]
     },
     "execution_count": 680,
     "metadata": {},
     "output_type": "execute_result"
    }
   ],
   "source": [
    "parallel([10])"
   ]
  },
  {
   "cell_type": "code",
   "execution_count": 681,
   "id": "b94c4c61",
   "metadata": {},
   "outputs": [
    {
     "name": "stdout",
     "output_type": "stream",
     "text": [
      "\n",
      "    Calculate the net resistance of resistors connected in series.\n",
      "\n",
      "    Args:\n",
      "        *resistors (float): Any number of resistor values in ohms.\n",
      "\n",
      "    Returns:\n",
      "        float: The total resistance in ohms of the resistors connected in series.\n",
      "    \n",
      "{'resistors': <class 'float'>, 'return': <class 'float'>}\n"
     ]
    }
   ],
   "source": [
    "def series(*resistors: float) -> float:\n",
    "    \"\"\"\n",
    "    Calculate the net resistance of resistors connected in series.\n",
    "\n",
    "    Args:\n",
    "        *resistors (float): Any number of resistor values in ohms.\n",
    "\n",
    "    Returns:\n",
    "        float: The total resistance in ohms of the resistors connected in series.\n",
    "    \"\"\"\n",
    "    # Calculate the total resistance by summing up all resistor values\n",
    "    return sum(resistors)\n",
    "\n",
    "# Print the docstring\n",
    "print(series.__doc__)\n",
    "\n",
    "# Display the annotations\n",
    "print(series.__annotations__)\n"
   ]
  },
  {
   "cell_type": "code",
   "execution_count": 682,
   "id": "b7a599b8",
   "metadata": {},
   "outputs": [
    {
     "data": {
      "text/plain": [
       "36"
      ]
     },
     "execution_count": 682,
     "metadata": {},
     "output_type": "execute_result"
    }
   ],
   "source": [
    "series(*[1,2,3,4],*[5,6,7,8])"
   ]
  },
  {
   "cell_type": "code",
   "execution_count": 683,
   "id": "cef59781",
   "metadata": {},
   "outputs": [
    {
     "data": {
      "text/plain": [
       "33"
      ]
     },
     "execution_count": 683,
     "metadata": {},
     "output_type": "execute_result"
    }
   ],
   "source": [
    "series(*[3,4,5],*[6,7,8])"
   ]
  },
  {
   "cell_type": "code",
   "execution_count": 684,
   "id": "5c68735d",
   "metadata": {},
   "outputs": [
    {
     "data": {
      "text/plain": [
       "10"
      ]
     },
     "execution_count": 684,
     "metadata": {},
     "output_type": "execute_result"
    }
   ],
   "source": [
    "series(*[2,3,5])"
   ]
  },
  {
   "cell_type": "code",
   "execution_count": 685,
   "id": "01559dcf",
   "metadata": {},
   "outputs": [
    {
     "name": "stdout",
     "output_type": "stream",
     "text": [
      "\n",
      "    Calculate the net resistance of resistors connected in parallel.\n",
      "\n",
      "    Args:\n",
      "        *resistors (float): Any number of resistor values in ohms.\n",
      "\n",
      "    Returns:\n",
      "        float: The total resistance in ohms of the resistors connected in parallel.\n",
      "    \n",
      "    Raises:\n",
      "        ValueError: If no resistors are provided or if any resistor value is zero.\n",
      "    \n",
      "{'resistors': <class 'float'>, 'return': <class 'float'>}\n"
     ]
    }
   ],
   "source": [
    "def parallel(*resistors: float) -> float:\n",
    "    \"\"\"\n",
    "    Calculate the net resistance of resistors connected in parallel.\n",
    "\n",
    "    Args:\n",
    "        *resistors (float): Any number of resistor values in ohms.\n",
    "\n",
    "    Returns:\n",
    "        float: The total resistance in ohms of the resistors connected in parallel.\n",
    "    \n",
    "    Raises:\n",
    "        ValueError: If no resistors are provided or if any resistor value is zero.\n",
    "    \"\"\"\n",
    "    # Ensure there are resistors to calculate\n",
    "    if not resistors:\n",
    "        raise ValueError(\"At least one resistor must be provided.\")\n",
    "    \n",
    "    # Ensure none of the resistor values are zero (which would cause division by zero)\n",
    "    if any(r == 0 for r in resistors):\n",
    "        raise ValueError(\"Resistor values must be non-zero.\")\n",
    "    \n",
    "    # Sum of reciprocals of resistances\n",
    "    reciprocal_sum = sum(1 / r for r in resistors)\n",
    "    \n",
    "    # Return the reciprocal of the sum\n",
    "    return 1 / reciprocal_sum\n",
    "\n",
    "# Print the docstring\n",
    "print(parallel.__doc__)\n",
    "\n",
    "# Display the annotations\n",
    "print(parallel.__annotations__)\n"
   ]
  },
  {
   "cell_type": "code",
   "execution_count": 686,
   "id": "82063795",
   "metadata": {},
   "outputs": [
    {
     "data": {
      "text/plain": [
       "5.758705083991545"
      ]
     },
     "execution_count": 686,
     "metadata": {},
     "output_type": "execute_result"
    }
   ],
   "source": [
    "parallel(10.0,20.4,40.6)"
   ]
  },
  {
   "cell_type": "code",
   "execution_count": 687,
   "id": "7b76dda5",
   "metadata": {},
   "outputs": [
    {
     "data": {
      "text/plain": [
       "2.8325215436493068"
      ]
     },
     "execution_count": 687,
     "metadata": {},
     "output_type": "execute_result"
    }
   ],
   "source": [
    "parallel(40,54,6,7)"
   ]
  },
  {
   "cell_type": "code",
   "execution_count": 688,
   "id": "2b0c0c44",
   "metadata": {},
   "outputs": [
    {
     "data": {
      "text/plain": [
       "5.999999999999999"
      ]
     },
     "execution_count": 688,
     "metadata": {},
     "output_type": "execute_result"
    }
   ],
   "source": [
    "parallel(10,15)"
   ]
  },
  {
   "cell_type": "code",
   "execution_count": 689,
   "id": "0ca9e14f",
   "metadata": {},
   "outputs": [
    {
     "name": "stdout",
     "output_type": "stream",
     "text": [
      "\n",
      "    Print battery SOC, solar generation, and market price in a well-formatted manner.\n",
      "\n",
      "    Args:\n",
      "        data (list[float] | tuple[float]): A list or tuple containing three values:\n",
      "            - Battery SOC in percentage (%)\n",
      "            - Solar generation in kilowatts (kW)\n",
      "            - Market price per unit in rupees (Rs)\n",
      "    \n",
      "    Returns:\n",
      "        None: This function only prints the formatted data.\n",
      "\n",
      "    Example:\n",
      "        For input [60, 2, 60], the output will be:\n",
      "        Battery SOC: 60%\n",
      "        Solar Generation: 2 kW\n",
      "        Market Price: 60 Rs/unit\n",
      "    \n",
      "{'data': list[float] | tuple[float], 'return': None}\n"
     ]
    }
   ],
   "source": [
    "def print_inverter_data(data: list[float] | tuple[float]) -> None:\n",
    "    \"\"\"\n",
    "    Print battery SOC, solar generation, and market price in a well-formatted manner.\n",
    "\n",
    "    Args:\n",
    "        data (list[float] | tuple[float]): A list or tuple containing three values:\n",
    "            - Battery SOC in percentage (%)\n",
    "            - Solar generation in kilowatts (kW)\n",
    "            - Market price per unit in rupees (Rs)\n",
    "    \n",
    "    Returns:\n",
    "        None: This function only prints the formatted data.\n",
    "\n",
    "    Example:\n",
    "        For input [60, 2, 60], the output will be:\n",
    "        Battery SOC: 60%\n",
    "        Solar Generation: 2 kW\n",
    "        Market Price: 60 Rs/unit\n",
    "    \"\"\"\n",
    "    # Unpack the values from the list or tuple\n",
    "    battery_soc, solar_generation, market_price = data\n",
    "\n",
    "    # Print the values in a formatted manner\n",
    "    print(f\"Battery SOC: {battery_soc}%\")\n",
    "    print(f\"Solar Generation: {solar_generation} kW\")\n",
    "    print(f\"Market Price: {market_price} Rs/unit\")\n",
    "\n",
    "# Print the docstring\n",
    "print(print_inverter_data.__doc__)\n",
    "\n",
    "# Display the annotations\n",
    "print(print_inverter_data.__annotations__)"
   ]
  },
  {
   "cell_type": "code",
   "execution_count": 690,
   "id": "2f2b5c61",
   "metadata": {},
   "outputs": [
    {
     "data": {
      "text/plain": [
       "<function __main__.print_inverter_data(data: list[float] | tuple[float]) -> None>"
      ]
     },
     "execution_count": 690,
     "metadata": {},
     "output_type": "execute_result"
    }
   ],
   "source": [
    "print_inverter_data"
   ]
  },
  {
   "cell_type": "code",
   "execution_count": 691,
   "id": "ca78117e",
   "metadata": {},
   "outputs": [
    {
     "name": "stdout",
     "output_type": "stream",
     "text": [
      "\n",
      "    Print battery SOC, solar generation, and market price in a well-formatted manner using dictionary unpacking.\n",
      "\n",
      "    Args:\n",
      "        **data (float): A dictionary containing the following keys:\n",
      "            - 'SOC': Battery SOC in percentage (%)\n",
      "            - 'solar generation': Solar generation in kilowatts (kW)\n",
      "            - 'price': Market price per unit in rupees (Rs)\n",
      "    \n",
      "    Returns:\n",
      "        None: This function only prints the formatted data.\n",
      "\n",
      "    Example:\n",
      "        For input {'SOC': 60, 'solar generation': 2, 'price': 60}, the output will be:\n",
      "        Battery SOC: 60%\n",
      "        Solar Generation: 2 kW\n",
      "        Market Price: 60 Rs/unit\n",
      "    \n",
      "{'data': <class 'float'>, 'return': None}\n"
     ]
    }
   ],
   "source": [
    "def print_inverter_data(**data: float) -> None:\n",
    "    \"\"\"\n",
    "    Print battery SOC, solar generation, and market price in a well-formatted manner using dictionary unpacking.\n",
    "\n",
    "    Args:\n",
    "        **data (float): A dictionary containing the following keys:\n",
    "            - 'SOC': Battery SOC in percentage (%)\n",
    "            - 'solar generation': Solar generation in kilowatts (kW)\n",
    "            - 'price': Market price per unit in rupees (Rs)\n",
    "    \n",
    "    Returns:\n",
    "        None: This function only prints the formatted data.\n",
    "\n",
    "    Example:\n",
    "        For input {'SOC': 60, 'solar generation': 2, 'price': 60}, the output will be:\n",
    "        Battery SOC: 60%\n",
    "        Solar Generation: 2 kW\n",
    "        Market Price: 60 Rs/unit\n",
    "    \"\"\"\n",
    "    # Unpack the dictionary values\n",
    "    soc = data.get('SOC')\n",
    "    solar_generation = data.get('solar generation')\n",
    "    price = data.get('price')\n",
    "\n",
    "    # Print the values in a formatted manner\n",
    "    print(f\"Battery SOC: {soc}%\")\n",
    "    print(f\"Solar Generation: {solar_generation} kW\")\n",
    "    print(f\"Market Price: {price} Rs/unit\")\n",
    "\n",
    "# Print the docstring\n",
    "print(print_inverter_data.__doc__)\n",
    "\n",
    "# Display the annotations\n",
    "print(print_inverter_data.__annotations__)\n"
   ]
  },
  {
   "cell_type": "code",
   "execution_count": 692,
   "id": "8749bffa",
   "metadata": {},
   "outputs": [
    {
     "name": "stdout",
     "output_type": "stream",
     "text": [
      "Battery SOC: 60%\n",
      "Solar Generation: None kW\n",
      "Market Price: 60 Rs/unit\n",
      "\n",
      "    Print battery SOC, solar generation, and market price in a well-formatted manner using dictionary unpacking.\n",
      "\n",
      "    Args:\n",
      "        **data (float): Keyword arguments passed as a dictionary with the following keys:\n",
      "            - 'SOC': Battery SOC in percentage (%)\n",
      "            - 'solar generation': Solar generation in kilowatts (kW)\n",
      "            - 'price': Market price per unit in rupees (Rs)\n",
      "    \n",
      "    Returns:\n",
      "        None: This function only prints the formatted data.\n",
      "\n",
      "    Example:\n",
      "        For a function call like solar(SOC=60, solar_generation=2, price=60), the output will be:\n",
      "        Battery SOC: 60%\n",
      "        Solar Generation: 2 kW\n",
      "        Market Price: 60 Rs/unit\n",
      "    \n",
      "{'data': <class 'float'>, 'return': None}\n"
     ]
    }
   ],
   "source": [
    "def solar(**data: float) -> None:\n",
    "    \"\"\"\n",
    "    Print battery SOC, solar generation, and market price in a well-formatted manner using dictionary unpacking.\n",
    "\n",
    "    Args:\n",
    "        **data (float): Keyword arguments passed as a dictionary with the following keys:\n",
    "            - 'SOC': Battery SOC in percentage (%)\n",
    "            - 'solar generation': Solar generation in kilowatts (kW)\n",
    "            - 'price': Market price per unit in rupees (Rs)\n",
    "    \n",
    "    Returns:\n",
    "        None: This function only prints the formatted data.\n",
    "\n",
    "    Example:\n",
    "        For a function call like solar(SOC=60, solar_generation=2, price=60), the output will be:\n",
    "        Battery SOC: 60%\n",
    "        Solar Generation: 2 kW\n",
    "        Market Price: 60 Rs/unit\n",
    "    \"\"\"\n",
    "    # Unpack the dictionary values\n",
    "    soc = data.get('SOC')\n",
    "    solar_generation = data.get('solar generation')\n",
    "    price = data.get('price')\n",
    "\n",
    "    # Print the values in a formatted manner\n",
    "    print(f\"Battery SOC: {soc}%\")\n",
    "    print(f\"Solar Generation: {solar_generation} kW\")\n",
    "    print(f\"Market Price: {price} Rs/unit\")\n",
    "\n",
    "# Example function call\n",
    "solar(SOC=60, solar_generation=2, price=60)\n",
    "\n",
    "# Print the docstring\n",
    "print(solar.__doc__)\n",
    "\n",
    "# Display the annotations\n",
    "print(solar.__annotations__)\n"
   ]
  },
  {
   "cell_type": "code",
   "execution_count": 693,
   "id": "f8323c58",
   "metadata": {},
   "outputs": [
    {
     "data": {
      "text/plain": [
       "<function __main__.solar(**data: float) -> None>"
      ]
     },
     "execution_count": 693,
     "metadata": {},
     "output_type": "execute_result"
    }
   ],
   "source": [
    "solar"
   ]
  }
 ],
 "metadata": {
  "kernelspec": {
   "display_name": "Python 3",
   "language": "python",
   "name": "python3"
  },
  "language_info": {
   "codemirror_mode": {
    "name": "ipython",
    "version": 3
   },
   "file_extension": ".py",
   "mimetype": "text/x-python",
   "name": "python",
   "nbconvert_exporter": "python",
   "pygments_lexer": "ipython3",
   "version": "3.12.4"
  }
 },
 "nbformat": 4,
 "nbformat_minor": 5
}
