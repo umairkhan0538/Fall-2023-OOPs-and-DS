{
 "cells": [
  {
   "cell_type": "markdown",
   "metadata": {},
   "source": [
    "<div style=\"\n",
    "        background: linear-gradient(90deg, #8e44ad, #3498db);\n",
    "        padding: 30px 20px;\n",
    "        border-radius: 25px;\n",
    "        box-shadow: 0 7px 6px rgba(0, 0, 0, 0.3);\n",
    "        border: 2px solid #CCCCFF;\n",
    "        max-width: 90%;\n",
    "    \">\n",
    "        <span style=\"\n",
    "            color: #FFBF00;\n",
    "            font-size: 20px;\n",
    "            font-family: Cooper Black;\n",
    "            letter-spacing: 2px;\n",
    "            line-height: 1.4;\n",
    "            text-transform: sentencecase;\n",
    "            text-shadow: 3px 3px 8px rgba(0, 0, 0, 0.5);\n",
    "            text-align: center;\n",
    "        \">\n",
    "            University of Engineering and Technology Peshawar Jalozai Campus\n",
    "        </span>\n",
    "  </div>\n"
   ]
  },
  {
   "cell_type": "markdown",
   "metadata": {},
   "source": [
    " <div style=\"\n",
    "        background: linear-gradient(90deg, #e06377, #3b3a30);\n",
    "        padding: 30px 20px;\n",
    "        border-radius: 25px;\n",
    "        box-shadow: 0 7px 6px rgba(0, 0, 0, 0.3);\n",
    "        border: 2px solid #CCCCFF;\n",
    "        max-width: 90%;\n",
    "    \">\n",
    "        <span style=\"\n",
    "            font-size: 20px;\n",
    "            font-family: Cooper Black;\n",
    "            color: #FFBF00;\n",
    "            font-weight: bold;\n",
    "            letter-spacing: 1px;\n",
    "            text-shadow: 3px 1px 8px rgba(0, 0, 1, 0.6);\n",
    "        \">\n",
    "            Lab Title: EE-271 “OOP & Data Structures Lab”\n",
    "        </span>\n",
    "    </div>\n"
   ]
  },
  {
   "cell_type": "markdown",
   "metadata": {},
   "source": [
    "<div style=\"\n",
    "        background: linear-gradient(90deg, #c83349, #622569);\n",
    "        padding: 30px 20px;\n",
    "        border-radius: 25px;\n",
    "        box-shadow: 0 7px 6px rgba(0, 0, 0, 0.3);\n",
    "        border: 2px solid #CCCCFF;\n",
    "        max-width: 90%;\n",
    "    \">\n",
    "        <span style=\"\n",
    "            font-size: 20px;\n",
    "            font-family: Cooper Black;\n",
    "            color: #FFBF00;\n",
    "            font-weight: bold;\n",
    "            letter-spacing: 1px;\n",
    "            text-shadow: 3px 1px 8px rgba(0, 0, 1, 0.6);\n",
    "        \">\n",
    "            Lab 12 : Queue Algorithms\n",
    "        </span>\n",
    "    </div>\n"
   ]
  },
  {
   "cell_type": "markdown",
   "metadata": {},
   "source": [
    "------------------------"
   ]
  },
  {
   "cell_type": "markdown",
   "metadata": {},
   "source": [
    "<ol style=\"color: #2c3e50; font-family: 'Verdana', sans-serif; line-height: 1.8; padding: 10px;\">\n",
    "    <strong style=\"color: #3498db; background-color: #eaf7fc; padding: 12px; border-radius: 8px; display: block; margin-bottom: 10px;\">\n",
    "        Understanding the Concept of Queue Algorithms in OOP (Python)\n",
    "    </strong>\n",
    "    <h3 style=\"color: #16a085; margin-bottom: 10px;\">Aim:</h3>\n",
    "    <p style=\"margin: 10px 0; color: #34495e;\">To understand the concept of queue algorithms in Object-Oriented Programming (OOP) using Python.</p>\n",
    "    <h3 style=\"color: #f39c12; margin-bottom: 10px;\">Introduction:</h3>\n",
    "    <p style=\"margin: 10px 0; color: #34495e;\">\n",
    "        A <strong style=\"color: #e74c3c;\">queue</strong> is a fundamental data structure in computer science that operates on the \n",
    "        <strong style=\"color: #2980b9;\">First-In-First-Out (FIFO)</strong> principle. In a queue, elements are added at the \n",
    "        <strong style=\"color: #16a085;\">rear</strong> (enqueue) and removed from the <strong style=\"color: #e67e22;\">front</strong> (dequeue). \n",
    "        This ensures that the <strong style=\"color: #9b59b6;\">oldest element</strong> in the queue is processed first.\n",
    "    </p>\n",
    "    <h3 style=\"color: #8e44ad; margin-bottom: 10px;\">Types of Queue:</h3>\n",
    "    <ul style=\"list-style-type: disc; padding-left: 20px; color: #34495e;\">\n",
    "        <li style=\"margin-bottom: 10px; color: #16a085;\"><strong>List Queue</strong><br>\n",
    "            A queue implementation using Python's built-in list, where elements are appended at the end and removed from the front.\n",
    "        </li>\n",
    "        <li style=\"margin-bottom: 10px; color: #f39c12;\"><strong>Deque Queue</strong><br>\n",
    "            A queue implemented using Python's <code style=\"color: #2980b9;\">collections.deque</code> module, which is optimized for fast appends and pops from both ends.\n",
    "        </li>\n",
    "        <li style=\"margin-bottom: 10px; color: #9b59b6;\"><strong>Node-Based Queue</strong><br>\n",
    "            A queue implemented using a linked list, where each element (node) contains a value and a reference to the next node.\n",
    "        </li>\n",
    "    </ul>\n",
    "</ol>\n"
   ]
  },
  {
   "cell_type": "markdown",
   "metadata": {},
   "source": [
    "--------------------"
   ]
  },
  {
   "cell_type": "markdown",
   "metadata": {},
   "source": [
    "<ol style=\"color: #2c3e50; font-family: 'Verdana', sans-serif; line-height: 1.6; padding: 10px;\">\n",
    "    <strong style=\"color: #3498db; background-color: #eaf7fc; padding: 8px; border-radius: 8px; display: block; margin-bottom: 8px;\">\n",
    "        List Queue in Python\n",
    "    </strong>\n",
    "    <h3 style=\"color: #e74c3c; margin-bottom: 8px; font-size: 18px;\">1) <strong>__init__(self)</strong> Method</h3>\n",
    "    <p style=\"margin: 8px 0; color: #34495e; font-size: 14px;\">\n",
    "        This is the constructor method that initializes a new instance of the <code style=\"color: #2980b9;\">Queue</code> class. \n",
    "        It creates an empty list (<code style=\"color: #16a085;\">self.items</code>) to store the elements of the queue.\n",
    "    </p>\n",
    "    <h3 style=\"color: #f39c12; margin-bottom: 8px; font-size: 18px;\">2) <strong>is_empty(self)</strong> Method</h3>\n",
    "    <p style=\"margin: 8px 0; color: #34495e; font-size: 14px;\">\n",
    "        This method checks whether the queue is empty.\n",
    "    </p>\n",
    "    <h3 style=\"color: #9b59b6; margin-bottom: 8px; font-size: 18px;\">3) <strong>dequeue(self)</strong> Method</h3>\n",
    "    <p style=\"margin: 8px 0; color: #34495e; font-size: 14px;\">\n",
    "        This method removes and returns the item from the front of the queue. It uses the <code style=\"color: #2980b9;\">pop(0)</code> method to remove and return the first element in the list. Before attempting to dequeue, it checks if the queue is empty using the <code style=\"color: #16a085;\">is_empty</code> method to avoid errors.\n",
    "    </p>\n",
    "    <h3 style=\"color: #16a085; margin-bottom: 8px; font-size: 18px;\">4) <strong>Example: Basic Functionality of a Queue</strong></h3>\n",
    "    <p style=\"margin: 8px 0; color: #34495e; font-size: 14px;\">\n",
    "        This example demonstrates the creation of a <code style=\"color: #e67e22;\">Queue</code> object, adding elements to the queue (<strong style=\"color: #f39c12;\">enqueue</strong>), removing elements from the queue (<strong style=\"color: #9b59b6;\">dequeue</strong>), and checking if the queue is empty.\n",
    "    </p>\n",
    "    <h3 style=\"color: #8e44ad; margin-bottom: 8px; font-size: 18px;\">Code:</h3>\n",
    "    <pre style=\"background-color: #ecf0f1; padding: 12px; border-radius: 8px; color: #2c3e50; font-size: 13px;\">\n"
   ]
  },
  {
   "cell_type": "code",
   "execution_count": 1,
   "metadata": {},
   "outputs": [],
   "source": [
    "class Queue:\n",
    "    def __init__(self):\n",
    "        self.items = []\n",
    "\n",
    "    def is_empty(self):\n",
    "        return len(self.items) == 0\n",
    "    \n",
    "    def enqueue(self, item):\n",
    "        self.items.append(item)\n",
    "\n",
    "    def dequeue(self):\n",
    "        if not self.is_empty():\n",
    "            return self.items.pop(0)\n",
    "        else:\n",
    "            print(\"Queue is empty. Cannot dequeue.\")"
   ]
  },
  {
   "cell_type": "code",
   "execution_count": 2,
   "metadata": {},
   "outputs": [],
   "source": [
    "my_queue = Queue()\n",
    "my_queue.enqueue(1)\n",
    "my_queue.enqueue(2)\n",
    "my_queue.enqueue(3)"
   ]
  },
  {
   "cell_type": "markdown",
   "metadata": {},
   "source": [
    "<ol style=\"color: #2c3e50; font-family: 'Verdana', sans-serif; line-height: 1.6; padding: 10px;\">\n",
    "    <strong style=\"color: #3498db; background-color: #eaf7fc; padding: 8px; border-radius: 8px; display: block; margin-bottom: 8px;\">\n",
    "        2. DEQUE QUEUE\n",
    "    </strong>\n",
    "    <p style=\"margin: 8px 0; color: #34495e; font-size: 14px;\">\n",
    "        A <strong style=\"color: #2980b9;\">deque</strong> (double-ended queue) is a data structure that allows elements to be added or removed from both ends. \n",
    "        It provides greater flexibility than a standard queue and is ideal for use cases like maintaining sliding windows, palindromes, or implementing algorithms that require access to both ends of a collection.\n",
    "    </p>\n",
    "    <p style=\"margin: 8px 0; color: #34495e; font-size: 14px;\">\n",
    "        In Python, the <code style=\"color: #2980b9;\">collections.deque</code> class provides an efficient implementation of a deque.\n",
    "    </p>\n",
    "    <h3 style=\"color: #e74c3c; margin-bottom: 8px; font-size: 18px;\">1) <strong>__init__(self)</strong> Method</h3>\n",
    "    <p style=\"margin: 8px 0; color: #34495e; font-size: 14px;\">\n",
    "        This is the constructor method that initializes a new instance of the <code style=\"color: #2980b9;\">Queue</code> class. \n",
    "        It creates an empty list (<code style=\"color: #16a085;\">self.items</code>) to store the elements of the queue.\n",
    "    </p>\n",
    "    <h3 style=\"color: #f39c12; margin-bottom: 8px; font-size: 18px;\">2) <strong>is_empty(self)</strong> Method</h3>\n",
    "    <p style=\"margin: 8px 0; color: #34495e; font-size: 14px;\">\n",
    "        This method checks whether the queue is empty.\n",
    "    </p>\n",
    "    <h3 style=\"color: #9b59b6; margin-bottom: 8px; font-size: 18px;\">3) <strong>dequeue(self)</strong> Method</h3>\n",
    "    <p style=\"margin: 8px 0; color: #34495e; font-size: 14px;\">\n",
    "        This method removes and returns the item from the front of the queue. It uses the <code style=\"color: #2980b9;\">pop(0)</code> method to remove and return the first element in the list. Before attempting to dequeue, it checks if the queue is empty using the <code style=\"color: #16a085;\">is_empty</code> method to avoid errors.\n",
    "    </p>\n",
    "    <h3 style=\"color: #16a085; margin-bottom: 8px; font-size: 18px;\">4) <strong>Example: Basic Functionality of a Queue</strong></h3>\n",
    "    <p style=\"margin: 8px 0; color: #34495e; font-size: 14px;\">\n",
    "        This example demonstrates the creation of a <code style=\"color: #e67e22;\">Queue</code> object, adding elements to the queue (<strong style=\"color: #f39c12;\">enqueue</strong>), removing elements from the queue (<strong style=\"color: #9b59b6;\">dequeue</strong>), and checking if the queue is empty.\n",
    "    </p>\n",
    "   "
   ]
  },
  {
   "cell_type": "code",
   "execution_count": 3,
   "metadata": {},
   "outputs": [],
   "source": [
    "from collections import deque\n",
    "\n",
    "class DequeQueue:\n",
    "    def __init__(self):\n",
    "        self.items = deque()\n",
    "\n",
    "    def is_empty(self):\n",
    "        return len(self.items) == 0\n",
    "\n",
    "    def enqueue(self, item):\n",
    "        self.items.append(item)\n",
    "\n",
    "    def dequeue(self):\n",
    "        if not self.is_empty():\n",
    "            return self.items.popleft()\n",
    "        else:\n",
    "            print(\"Queue is empty. Cannot dequeue.\")\n",
    "\n",
    "def __init__(self):\n",
    "    self.items = deque()\n",
    "\n",
    "def is_empty(self):\n",
    "    return len(self.items) == 0\n",
    "\n",
    "def enqueue(self, item):\n",
    "    self.items.append(item)\n",
    "\n",
    "def dequeue(self):\n",
    "    if not self.is_empty():\n",
    "        return self.items.popleft()\n",
    "    else:\n",
    "        print(\"Queue is empty. Cannot dequeue.\")"
   ]
  },
  {
   "cell_type": "code",
   "execution_count": 4,
   "metadata": {},
   "outputs": [],
   "source": [
    "my_queue = DequeQueue()"
   ]
  },
  {
   "cell_type": "code",
   "execution_count": 5,
   "metadata": {},
   "outputs": [],
   "source": [
    "# Enqueue elements\n",
    "my_queue.enqueue(1)\n",
    "my_queue.enqueue(2)\n",
    "my_queue.enqueue(3)"
   ]
  },
  {
   "cell_type": "code",
   "execution_count": 6,
   "metadata": {},
   "outputs": [
    {
     "name": "stdout",
     "output_type": "stream",
     "text": [
      "Current Queue: [1, 2, 3]\n"
     ]
    }
   ],
   "source": [
    "# Print the queue (for demonstration purposes, not a standard queue method)\n",
    "print(\"Current Queue:\", list(my_queue.items)) "
   ]
  },
  {
   "cell_type": "code",
   "execution_count": 7,
   "metadata": {},
   "outputs": [
    {
     "name": "stdout",
     "output_type": "stream",
     "text": [
      "Dequeued: 1\n",
      "Dequeued: 2\n"
     ]
    }
   ],
   "source": [
    "# Dequeue two elements\n",
    "print(\"Dequeued:\", my_queue.dequeue())\n",
    "print(\"Dequeued:\", my_queue.dequeue())"
   ]
  },
  {
   "cell_type": "code",
   "execution_count": 8,
   "metadata": {},
   "outputs": [
    {
     "name": "stdout",
     "output_type": "stream",
     "text": [
      "Is the queue empty? False\n"
     ]
    }
   ],
   "source": [
    "# Check if the queue is empty\n",
    "print(\"Is the queue empty?\", my_queue.is_empty())"
   ]
  },
  {
   "cell_type": "markdown",
   "metadata": {},
   "source": [
    "--------------------"
   ]
  },
  {
   "cell_type": "markdown",
   "metadata": {},
   "source": [
    "<ol style=\"color: #2c3e50; font-family: 'Verdana', sans-serif; line-height: 1.6; padding: 10px;\">\n",
    "    <strong style=\"color: #3498db; background-color: #eaf7fc; padding: 8px; border-radius: 8px; display: block; margin-bottom: 8px;\">\n",
    "        3. Node-Based Queue\n",
    "    </strong>\n",
    "    <p style=\"margin: 8px 0; color: #34495e; font-size: 14px;\">\n",
    "        A <strong style=\"color: #2980b9;\">Node-Based Queue</strong> is implemented using a linked list structure where each node contains two parts:\n",
    "    </p>\n",
    "    <ul style=\"margin: 8px 0; color: #34495e; font-size: 14px;\">\n",
    "        <li><strong>Data</strong>: The value stored in the node.</li>\n",
    "        <li><strong>Next Pointer</strong>: A reference to the next node in the queue.</li>\n",
    "    </ul>\n",
    "    <p style=\"margin: 8px 0; color: #34495e; font-size: 14px;\">\n",
    "        This implementation uses a <strong style=\"color: #2980b9;\">front</strong> pointer to indicate the first node and a <strong style=\"color: #2980b9;\">rear</strong> pointer to indicate the last node. Operations like enqueue and dequeue are performed by manipulating these pointers.\n",
    "    </p>\n",
    "    <hr style=\"border: 1px solid #ccc; margin: 15px 0;\">\n",
    "    <h3 style=\"color: #e74c3c; margin-bottom: 8px; font-size: 18px;\">i. <strong>Node Class</strong></h3>\n",
    "    <p style=\"margin: 8px 0; color: #34495e; font-size: 14px;\">\n",
    "        The <strong style=\"color: #2980b9;\">Node</strong> class represents a single element in a node-based queue. Each node contains two attributes:\n",
    "    </p>\n",
    "    <ul style=\"margin: 8px 0; color: #34495e; font-size: 14px;\">\n",
    "        <li><strong>data</strong>: The value or data stored in the node.</li>\n",
    "        <li><strong>next</strong>: A reference to the next node in the queue (or <code style=\"color: #2980b9;\">None</code> if it's the last node).</li>\n",
    "    </ul>\n",
    "    <h3 style=\"color: #f39c12; margin-bottom: 8px; font-size: 18px;\">1) <strong>__init__(self)</strong> Method</h3>\n",
    "    <p style=\"margin: 8px 0; color: #34495e; font-size: 14px;\">\n",
    "        This is the constructor method that initializes a new instance of the <code style=\"color: #2980b9;\">Queue</code> class. \n",
    "        It creates an empty list (<code style=\"color: #16a085;\">self.items</code>) to store the elements of the queue.\n",
    "    </p>\n",
    "    <h3 style=\"color: #9b59b6; margin-bottom: 8px; font-size: 18px;\">2) <strong>is_empty(self)</strong> Method</h3>\n",
    "    <p style=\"margin: 8px 0; color: #34495e; font-size: 14px;\">\n",
    "        This method checks whether the queue is empty.\n",
    "    </p>\n",
    "    <h3 style=\"color: #16a085; margin-bottom: 8px; font-size: 18px;\">3) <strong>dequeue(self)</strong> Method</h3>\n",
    "    <p style=\"margin: 8px 0; color: #34495e; font-size: 14px;\">\n",
    "        This method removes and returns the item from the front of the queue. It uses the <code style=\"color: #2980b9;\">pop(0)</code> method to remove and return the first element in the list. Before attempting to dequeue, it checks if the queue is empty using the <code style=\"color: #16a085;\">is_empty</code> method to avoid errors.\n",
    "    </p>\n",
    "    <h3 style=\"color: #8e44ad; margin-bottom: 8px; font-size: 18px;\">4) <strong>Example: Basic Functionality of a Queue</strong></h3>\n",
    "    <p style=\"margin: 8px 0; color: #34495e; font-size: 14px;\">\n",
    "        This example demonstrates the creation of a <code style=\"color: #e67e22;\">Queue</code> object, adding elements to the queue (<strong style=\"color: #f39c12;\">enqueue</strong>), removing elements from the queue (<strong style=\"color: #9b59b6;\">dequeue</strong>), and checking if the queue is empty.\n",
    "    </p>\n",
    "    <h3 style=\"color: #8e44ad; margin-bottom: 8px; font-size: 18px;\">Code:</h3>\n",
    "    <pre style=\"background-color: #ecf0f1; padding: 12px; border-radius: 8px; color: #2c3e50; font-size: 13px;\">\n"
   ]
  },
  {
   "cell_type": "code",
   "execution_count": 9,
   "metadata": {},
   "outputs": [],
   "source": [
    "class Node:\n",
    "    def __init__(self, data=None):\n",
    "        self.data = data\n",
    "        self.next = None\n",
    "\n",
    "class NodeQueue:\n",
    "    def __init__(self):\n",
    "        self.front = None\n",
    "        self.rear = None\n",
    "        \n",
    "    def is_empty(self):\n",
    "        return self.front is None\n",
    "\n",
    "    def enqueue(self, data):\n",
    "        new_node = Node(data)\n",
    "        if self.rear is None:\n",
    "            self.front = self.rear = new_node\n",
    "        else:\n",
    "            self.rear.next = new_node\n",
    "            self.rear = new_node\n",
    "\n",
    "    def dequeue(self):\n",
    "        if self.is_empty():\n",
    "            print(\"Queue is empty. Cannot dequeue.\")\n",
    "            return None\n",
    "        else:\n",
    "            removed_data = self.front.data\n",
    "            self.front = self.front.next\n",
    "        if self.front is None:\n",
    "            self.rear = None\n",
    "        return removed_data\n"
   ]
  },
  {
   "cell_type": "code",
   "execution_count": 10,
   "metadata": {},
   "outputs": [
    {
     "name": "stdout",
     "output_type": "stream",
     "text": [
      "Dequeue: 1\n",
      "Dequeue: 2\n",
      "Is the queue empty? False\n"
     ]
    }
   ],
   "source": [
    "\n",
    "# Example usage:\n",
    "my_node_queue = NodeQueue()\n",
    "\n",
    "my_node_queue.enqueue(1)\n",
    "my_node_queue.enqueue(2)\n",
    "my_node_queue.enqueue(3)\n",
    "\n",
    "print(\"Dequeue:\", my_node_queue.dequeue())\n",
    "print(\"Dequeue:\", my_node_queue.dequeue())\n",
    "\n",
    "print(\"Is the queue empty?\", my_node_queue.is_empty())"
   ]
  },
  {
   "cell_type": "code",
   "execution_count": 11,
   "metadata": {},
   "outputs": [],
   "source": [
    "my_node_queue.enqueue(1)\n",
    "my_node_queue.enqueue(2)\n",
    "my_node_queue.enqueue(3)"
   ]
  },
  {
   "cell_type": "code",
   "execution_count": 12,
   "metadata": {},
   "outputs": [
    {
     "name": "stdout",
     "output_type": "stream",
     "text": [
      "Dequeue: 3\n",
      "Dequeue: 1\n",
      "Is the queue empty? False\n"
     ]
    }
   ],
   "source": [
    "print(\"Dequeue:\", my_node_queue.dequeue())\n",
    "print(\"Dequeue:\", my_node_queue.dequeue())\n",
    "\n",
    "print(\"Is the queue empty?\", my_node_queue.is_empty())"
   ]
  }
 ],
 "metadata": {
  "kernelspec": {
   "display_name": "base",
   "language": "python",
   "name": "python3"
  },
  "language_info": {
   "codemirror_mode": {
    "name": "ipython",
    "version": 3
   },
   "file_extension": ".py",
   "mimetype": "text/x-python",
   "name": "python",
   "nbconvert_exporter": "python",
   "pygments_lexer": "ipython3",
   "version": "3.12.4"
  }
 },
 "nbformat": 4,
 "nbformat_minor": 2
}
