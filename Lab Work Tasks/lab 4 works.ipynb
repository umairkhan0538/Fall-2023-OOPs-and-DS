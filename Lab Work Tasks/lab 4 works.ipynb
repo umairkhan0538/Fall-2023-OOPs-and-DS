{
 "cells": [
  {
   "cell_type": "markdown",
   "id": "e1047f5b",
   "metadata": {},
   "source": [
    "<center>\n",
    "    <div style=\"\n",
    "        background: linear-gradient(90deg, #8e44ad, #3498db);\n",
    "        padding: 30px 20px;\n",
    "        border-radius: 25px;\n",
    "        box-shadow: 0 7px 6px rgba(0, 0, 0, 0.3);\n",
    "        display: inline-block;\n",
    "        border: 2px solid #CCCCFF;\n",
    "        max-width: 90%;\n",
    "    \">\n",
    "        <span style=\"\n",
    "            color: #FFBF00;\n",
    "            font-size: 25px;\n",
    "            font-family: Cooper Black;\n",
    "            letter-spacing: 2px;\n",
    "            line-height: 1.4;\n",
    "            font-weight: bold;\n",
    "            text-transform: uppercase;\n",
    "            text-shadow: 3px 3px 8px rgba(0, 0, 0, 0.5);\n",
    "        \">\n",
    "            University of Engineering and Technology Peshawar <br> Jalozai Campus\n",
    "        </span>\n",
    "    </div>\n",
    "</center>  </div>\n",
    "</center>\n",
    "  </div>\n",
    "</center>\n"
   ]
  },
  {
   "cell_type": "markdown",
   "id": "10a36e37",
   "metadata": {},
   "source": [
    "<center>\n",
    "    <div style=\"\n",
    "        background: linear-gradient(90deg, #CB0000, #618685);\n",
    "        padding: 30px 20px;\n",
    "        border-radius: 25px;\n",
    "        box-shadow: 0 7px 6px rgba(0, 0, 0, 0.3);\n",
    "        display: inline-block;\n",
    "        border: 2px solid #CCCCFF;\n",
    "        max-width: 90%;\n",
    "    \">\n",
    "        <span style=\"\n",
    "            font-size: 30px;\n",
    "            font-family: Cooper Black;\n",
    "            letter-spacing: 2px;\n",
    "            line-height: 1.4;\n",
    "            color: #FFBF00;\n",
    "            font-weight: bold;\n",
    "            letter-spacing: 1px;\n",
    "            text-shadow: 3px 1px 8px rgba(0, 0, 1, 0.6);\n",
    "        \">\n",
    "            Lab Title: EE-271 “OOP & Data Structures Lab”\n",
    "        </span>\n",
    "    </div>\n",
    "</center>\n"
   ]
  },
  {
   "cell_type": "markdown",
   "id": "5022aea1",
   "metadata": {},
   "source": [
    "<center>\n",
    "    <div style=\"\n",
    "        background: linear-gradient(90deg, #FEE715, #101820);\n",
    "        padding: 30px 20px;\n",
    "        border-radius: 25px;\n",
    "        box-shadow: 0 7px 6px rgba(0, 0, 0, 0.3);\n",
    "        display: inline-block;\n",
    "        border: 2px solid #CCCCFF;\n",
    "        max-width: 90%;\n",
    "    \">\n",
    "        <span style=\"\n",
    "            font-size: 30px;\n",
    "            font-family: Cooper Black;\n",
    "            letter-spacing: 2px;\n",
    "            line-height: 1.4;\n",
    "            color: #FFBF00;\n",
    "            font-weight: bold;\n",
    "            letter-spacing: 1px;\n",
    "            text-shadow: 3px 1px 8px rgba(0, 0, 1, 0.6);\n",
    "        \">\n",
    "            Lab 4: Classes, Objects, and Instances\n",
    "        </span>\n",
    "    </div>\n",
    "</center>\n"
   ]
  },
  {
   "cell_type": "markdown",
   "id": "3317f8ed",
   "metadata": {},
   "source": [
    "-------------"
   ]
  },
  {
   "cell_type": "markdown",
   "id": "88407e19",
   "metadata": {},
   "source": [
    "<span style=\"color: #000000;\n",
    "font-size: 44px;\n",
    "transition: color 0.3s;\">&#x21DD; </span>\n",
    "<span style=\"color: #ff0000;\n",
    "    font-family: Arial Black;\n",
    "font-size: 35px; font-weight: bold; \n",
    "text-shadow: 0px 4px 2px rgb(0, 0, 0);\">\n",
    "    Lab Work Tasks :</span>"
   ]
  },
  {
   "cell_type": "markdown",
   "id": "d2b706e1",
   "metadata": {},
   "source": [
    "<center><span style=\"color:#6B3E26; \n",
    "font-family:Matura MT Script Capitals; \n",
    "font-weight:bold;\n",
    "font-size:35px;\">1. Motivation  </span></center>"
   ]
  },
  {
   "cell_type": "markdown",
   "id": "bfd912cb",
   "metadata": {},
   "source": [
    "<div style=\"padding: 20px; font-family: Arial, sans-serif; background-color: #f9f9f9; border:2px solid black; border-radius: 8px; width:  fit-content;\">\n",
    "  <h3 style=\"color: #333;\">Employee Data List</h2>\n",
    "  <p style=\"color: #555; font-size: 16px; line-height: 1.6;\">\n",
    "    Interest is to make a list that can store employee data.<br>\n",
    "    <strong>[name, age, position, the year they started working]</strong>\n",
    "  </p>\n",
    "  \n",
    "  <p style=\"color: #333; font-weight: bold;\">For example:</p>\n",
    "  \n",
    "  <pre style=\"background-color: #e8e8e8; padding: 10px; border-radius: 5px; color: #2d2d2d; font-size: 14px;\">\n",
    "kirk = [\"James Kirk\", 34, \"Captain\", 2265]\n",
    "spock = [\"Spock\", 35, \"Science Officer\", 2254]\n",
    "mccoy = [\"Leonard McCoy\", \"Chief Medical Officer\", 2266]\n",
    "  </pre>\n",
    "</div>\n"
   ]
  },
  {
   "cell_type": "code",
   "execution_count": 22,
   "id": "4f90c0ff-a741-4f92-8f29-498af635866d",
   "metadata": {},
   "outputs": [],
   "source": [
    "kirk = [\"James Kirk\", 34, \"Captain\", 2265] \n",
    "spock = [\"Spock\", 35, \"Science Officer\", 2254] \n",
    "mccoy = [\"Leonard McCoy\", \"Chief Medical Officer\", 2266] "
   ]
  },
  {
   "cell_type": "code",
   "execution_count": 23,
   "id": "e95d9114-f6cc-41b1-8877-7ea76809d94d",
   "metadata": {},
   "outputs": [
    {
     "name": "stdout",
     "output_type": "stream",
     "text": [
      "Employee Name: James Kirk\n",
      "Employee Name: Spock\n",
      "Employee Name: Leonard McCoy\n"
     ]
    }
   ],
   "source": [
    "print(\"Employee Name:\",kirk[0]) # will print james krik\n",
    "print(\"Employee Name:\",spock[0])# will print Spock\n",
    "print(\"Employee Name:\",mccoy[0])# will print Leonard McCoy"
   ]
  },
  {
   "cell_type": "markdown",
   "id": "4627c203",
   "metadata": {},
   "source": [
    "<div style=\"padding: 20px; font-family: Arial, sans-serif; background-color: #f9f9f9; border:2px solid black; border-radius: 8px; width: fit-content;\">\n",
    "  <h3 style=\"color: green; font-family: timnes new roman;l \">Hint :</h3>\n",
    "  <p style=\"color: #555; font-size: 16px; line-height: 1.6;\">\n",
    "    First, when you reference <code>kirk[0]</code> several lines away from where the <code>kirk</code> list is declared, <br>will you remember that the <strong>0th element</strong> of the list is the employee’s name?\n",
    "  </p>\n",
    "</div>\n"
   ]
  },
  {
   "cell_type": "code",
   "execution_count": 24,
   "id": "acdb3f62-0e8d-45ca-98ac-2c8d58f38e59",
   "metadata": {},
   "outputs": [
    {
     "name": "stdout",
     "output_type": "stream",
     "text": [
      "Employee age: 34\n",
      "Employee age: 35\n",
      "Employee age: Chief Medical Officer\n"
     ]
    }
   ],
   "source": [
    "print(\"Employee age:\",kirk[1])\n",
    "print(\"Employee age:\",spock[1])\n",
    "print(\"Employee age:\",mccoy[1])"
   ]
  },
  {
   "cell_type": "markdown",
   "id": "d2bc9024",
   "metadata": {},
   "source": [
    "<div style=\"padding: 20px; font-family: Arial, sans-serif; background-color: #f9f9f9; border:2px solid black;border-radius: 8px; width: fit-content;\">\n",
    "  <h3 style=\"color: green; font-family: timnes new roman;l \">Hint :</h3>\n",
    "  <p style=\"color: #555; font-size: 16px; line-height: 1.6;\">\n",
    "    What if not every employee has the same number of elements in the list? In the <code>mccoy</code> list above, the age is missing,<br> so <code>mccoy[1]</code> will return \"Chief Medical Officer\" instead of Dr. McCoy’s age.\n",
    "  </p>\n",
    "</div>\n"
   ]
  },
  {
   "cell_type": "markdown",
   "id": "952f58a9",
   "metadata": {},
   "source": [
    "<center><span style=\"color:red; font-size:25px;\">&#x279B;   </span><span style=\"color:red; \n",
    "font-size:25px; \n",
    "font-family: Times New Roman;\n",
    "font-weight:bold;\">A great way to make this type of code more manageable and more maintainable is to use\n",
    "classes.</span></center>"
   ]
  },
  {
   "cell_type": "markdown",
   "id": "6a442fc1",
   "metadata": {},
   "source": [
    "------------------"
   ]
  },
  {
   "cell_type": "markdown",
   "id": "63fa8a23",
   "metadata": {},
   "source": [
    "<center><span style=\"color:#6B3E26; \n",
    "font-family:Matura MT Script Capitals; \n",
    "font-weight:bold;\n",
    "font-size:35px;\">2. Dog class </span></center>"
   ]
  },
  {
   "cell_type": "code",
   "execution_count": 25,
   "id": "838108ad-3e47-4925-9b47-3115ed40aafc",
   "metadata": {},
   "outputs": [],
   "source": [
    "class Dog:\n",
    "     pass\n"
   ]
  },
  {
   "cell_type": "markdown",
   "id": "7ea1f6ba",
   "metadata": {},
   "source": [
    "<div style=\"padding: 20px; font-family: Arial, sans-serif; background-color: #f9f9f9;border:2px solid black; border-radius: 8px; width: fit-content;\">\n",
    "  <h4 style=\"color: #333;\">Creating a new object</h4>\n",
    "  <p style=\"color: #555; font-size: 16px; line-height: 1.6;\">\n",
    "    Creating a new object from a class is called instantiating a class. You can create a new object by typing the name of the class,<br>followed by opening and closing parentheses:\n",
    "  </p>\n",
    "  <p style=\"color: #555; font-size: 16px; line-height: 1.6;\">\n",
    "    Example:<br>\n",
    "    <code>Dog()</code><br>\n",
    "    This can be assigned to a variable.<br>\n",
    "    <code>Inst = Dog()</code>\n",
    "  </p>\n",
    "</div>\n"
   ]
  },
  {
   "cell_type": "code",
   "execution_count": 26,
   "id": "b4a14c76",
   "metadata": {},
   "outputs": [],
   "source": [
    "inst = Dog()"
   ]
  },
  {
   "cell_type": "markdown",
   "id": "fb2e1e13",
   "metadata": {},
   "source": [
    "<div style=\"padding: 20px; font-family: Arial, sans-serif; background-color: #f9f9f9;border:2px solid black; border-radius: 8px; width: fit-content;\">\n",
    "  <p style=\"color: #555; font-size: 16px; line-height: 1.6;\">\n",
    "    To create two new Dog objects and assign them to the variables <code>a</code> and <code>b</code>, we can do the following:\n",
    "  </p>\n",
    "</div>\n"
   ]
  },
  {
   "cell_type": "code",
   "execution_count": 27,
   "id": "20af3047",
   "metadata": {},
   "outputs": [],
   "source": [
    "a = Dog()\n",
    "b = Dog()"
   ]
  },
  {
   "cell_type": "markdown",
   "id": "b892e61a",
   "metadata": {},
   "source": [
    "<div style=\"padding: 20px; font-family: Arial, sans-serif; background-color: #f9f9f9;border:2px solid black; border-radius: 8px; width: fit-content;\">\n",
    "  <p style=\"color: #555; font-size: 16px; line-height: 1.6;\">\n",
    "When we compare <code>a</code> and <code>b</code> using the <code>==</code> operator, the result is <strong>False</strong>. Even though <code>a</code> and <code>b</code> are both<br> instances of the Dog class, they represent two distinct objects in memory.\n",
    "  </p>\n",
    "</div>\n"
   ]
  },
  {
   "cell_type": "code",
   "execution_count": 28,
   "id": "77933787",
   "metadata": {},
   "outputs": [
    {
     "name": "stdout",
     "output_type": "stream",
     "text": [
      "Comparison of a and b is: False\n"
     ]
    }
   ],
   "source": [
    "comparison_result = a == b  \n",
    "print(f\"Comparison of a and b is: {comparison_result}\") "
   ]
  },
  {
   "cell_type": "markdown",
   "id": "72dbdd5a",
   "metadata": {},
   "source": [
    "<div style=\"padding: 20px; font-family: Arial, sans-serif; background-color: #f9f9f9;border:2px solid black; border-radius: 8px; width: fit-content;\">\n",
    "  <p style=\"color: #555; font-size: 16px; line-height: 1.6;\">\n",
    "To print both instances/objects, we can use the <code>print</code> command as follows:\n",
    "  </p>\n",
    "  <p style=\"color: #555; font-size: 16px; line-height: 1.6;\">\n",
    "    <code>print(a)</code><br>\n",
    "    <code>print(b)</code>\n",
    "  </p>\n",
    "</div>\n"
   ]
  },
  {
   "cell_type": "code",
   "execution_count": 29,
   "id": "6a3ab57b",
   "metadata": {},
   "outputs": [
    {
     "name": "stdout",
     "output_type": "stream",
     "text": [
      "Instance a: <__main__.Dog object at 0x0000026E3217B920>\n",
      "Instance b: <__main__.Dog object at 0x0000026E32179E50>\n"
     ]
    }
   ],
   "source": [
    "print(\"Instance a:\", a)\n",
    "print(\"Instance b:\", b)"
   ]
  },
  {
   "cell_type": "markdown",
   "id": "ca812738",
   "metadata": {},
   "source": [
    "--------------"
   ]
  },
  {
   "cell_type": "markdown",
   "id": "021f9304",
   "metadata": {},
   "source": [
    "<center><span style=\"color:#6B3E26; \n",
    "font-family:Matura MT Script Capitals; \n",
    "font-weight:bold;\n",
    "font-size:35px;\">3. MyFirstClass. </span></center>"
   ]
  },
  {
   "cell_type": "code",
   "execution_count": 30,
   "id": "45377d17-4282-44c7-9b9d-17d24abcc5a5",
   "metadata": {},
   "outputs": [],
   "source": [
    "class MyFirstClass:\n",
    "    pass\n"
   ]
  },
  {
   "cell_type": "markdown",
   "id": "dca75943",
   "metadata": {},
   "source": [
    "<div style=\"padding: 20px; font-family: Arial, sans-serif; background-color: #f9f9f9; border:2px solid black;border-radius: 8px; width: fit-content;\">\n",
    "  <p style=\"color: #555; font-size: 16px; line-height: 1.6;\">\n",
    "    To Make two instances named <code>FC1</code> and <code>FC2</code>:\n",
    "  </p>\n",
    "  <p style=\"color: #555; font-size: 16px; line-height: 1.6;\">\n",
    "    <code>FC1 = MyFirstClass()</code><br>\n",
    "    <code>FC2 = MyFirstClass()</code>\n",
    "  </p>\n",
    "</div>\n"
   ]
  },
  {
   "cell_type": "code",
   "execution_count": 31,
   "id": "3a67bb33-6986-42c6-9b0e-b493e165c79d",
   "metadata": {},
   "outputs": [],
   "source": [
    "\n",
    "FC1 = MyFirstClass()\n",
    "FC2 = MyFirstClass()\n"
   ]
  },
  {
   "cell_type": "markdown",
   "id": "0dba4fba",
   "metadata": {},
   "source": [
    "<div style=\"padding: 20px; font-family: Arial, sans-serif; background-color: #f9f9f9; border:2px solid black; border-radius: 8px; width: fit-content;\">\n",
    "  <p style=\"color: #555; font-size: 16px; line-height: 1.6;\">\n",
    "    To check whether <code>FC1</code> and <code>FC2</code> represent the same object, we can use the <code>is</code> operator:\n",
    "  </p>\n",
    "  <p style=\"color: #555; font-size: 16px; line-height: 1.6;\">\n",
    "    <code>FC1 is FC2</code>\n",
    "  </p>\n",
    "  <p style=\"color: #555; font-size: 16px; line-height: 1.6;\">\n",
    "    This will return <strong>False</strong> because <code>FC1</code> and <code>FC2</code> are two distinct objects.\n",
    "  </p>\n",
    "</div>\n"
   ]
  },
  {
   "cell_type": "code",
   "execution_count": 32,
   "id": "e6c048a5-c1ad-4b38-a373-9a42a1a1070a",
   "metadata": {},
   "outputs": [
    {
     "name": "stdout",
     "output_type": "stream",
     "text": [
      "Dose FC1 and FC2 represent the same object?\n",
      "Ans: False\n"
     ]
    }
   ],
   "source": [
    "same_object = FC1 is FC2  \n",
    "print(f\"Dose FC1 and FC2 represent the same object?\\nAns: {same_object}\")  \n"
   ]
  },
  {
   "cell_type": "markdown",
   "id": "4aac16b8",
   "metadata": {},
   "source": [
    "<div style=\"padding: 20px; font-family: Arial, sans-serif; background-color: #f9f9f9;border:2px solid black; border-radius: 8px; width: fit-content;\">\n",
    "  <p style=\"color: #555; font-size: 16px; line-height: 1.6;\">\n",
    "    To print both instances, we can use the <code>print</code> command as follows:\n",
    "  </p>\n",
    "  <p style=\"color: #555; font-size: 16px; line-height: 1.6;\">\n",
    "    <code>print(FC1)</code><br>\n",
    "    <code>print(FC2)</code>\n",
    "  </p>\n",
    "</div>\n"
   ]
  },
  {
   "cell_type": "code",
   "execution_count": 33,
   "id": "9dd6d54d-39c3-4320-a559-a41cc9c1a8e6",
   "metadata": {},
   "outputs": [
    {
     "name": "stdout",
     "output_type": "stream",
     "text": [
      "Instance FC1: <__main__.MyFirstClass object at 0x0000026E3219BD10>\n",
      "Instance FC2: <__main__.MyFirstClass object at 0x0000026E3206AAB0>\n"
     ]
    }
   ],
   "source": [
    "print(\"Instance FC1:\", FC1)\n",
    "print(\"Instance FC2:\", FC2)\n"
   ]
  },
  {
   "cell_type": "markdown",
   "id": "72c1cc19",
   "metadata": {},
   "source": [
    "<div style=\"padding: 20px; font-family: Arial, sans-serif; background-color: #f9f9f9; border:2px solid black;border-radius: 8px; width: fit-content;\">\n",
    "  <h3 style=\"color: #333;\">Note:</h3>\n",
    "  <ul style=\"color: #555; font-size: 16px; line-height: 1.6;\">\n",
    "    <li>The <code>pass</code> keyword on the second line indicates that no further action needs to be taken.</li>\n",
    "    <li>When printed, the two objects tell us which class they are and what memory address they live at.</li><li>Memory addresses aren't used much in Python code, but here, they demonstrate that there are two distinct objects involved.</li>\n",
    "  </ul>\n",
    "</div>\n"
   ]
  },
  {
   "cell_type": "markdown",
   "id": "7657f61a",
   "metadata": {},
   "source": [
    "----------"
   ]
  },
  {
   "cell_type": "markdown",
   "id": "7b16eff8-4d7c-494d-b44d-dbc4a8ca0567",
   "metadata": {},
   "source": [
    "<center><span style=\"color:#6B3E26; \n",
    "font-family:Matura MT Script Capitals; \n",
    "font-weight:bold;\n",
    "font-size:35px;\">4. class Point. </span></center>"
   ]
  },
  {
   "cell_type": "code",
   "execution_count": 34,
   "id": "b2365f73-4e8b-449e-8d16-2cf369276596",
   "metadata": {},
   "outputs": [],
   "source": [
    "class point:\n",
    "    pass\n"
   ]
  },
  {
   "cell_type": "markdown",
   "id": "5d479eda",
   "metadata": {},
   "source": [
    "<div style=\"padding: 20px; font-family: Arial, sans-serif; background-color: #f9f9f9; border:2px solid black; border-radius: 8px; width: fit-content;\">\n",
    "  <p style=\"color: #555; font-size: 16px; line-height: 1.6;\">\n",
    "    To Make two instances named <code>p1</code> and <code>p2</code>:\n",
    "  </p>\n",
    "  <p style=\"color: #555; font-size: 16px; line-height: 1.6;\">\n",
    "    <code>p1 = point()</code><br>\n",
    "    <code>p2 = point()</code>\n",
    "  </p>\n",
    "</div>\n"
   ]
  },
  {
   "cell_type": "code",
   "execution_count": 35,
   "id": "69ea8bee",
   "metadata": {},
   "outputs": [],
   "source": [
    "p1 = point()\n",
    "p2 = point()"
   ]
  },
  {
   "cell_type": "markdown",
   "id": "cbe02db6",
   "metadata": {},
   "source": [
    "<div style=\"padding: 20px; font-family: Arial, sans-serif; background-color: #f9f9f9; border:2px solid black; border-radius: 8px; width: fit-content;\">\n",
    "  <p style=\"color: #555; font-size: 16px; line-height: 1.6;\">\n",
    "    To print both objects <code>p1</code> and <code>p2</code>:\n",
    "  </p>\n",
    "  <p style=\"color: #555; font-size: 16px; line-height: 1.6;\">\n",
    "    <code>print(p1)</code><br>\n",
    "    <code>print(p2)</code>\n",
    "  </p>\n",
    "</div>\n"
   ]
  },
  {
   "cell_type": "code",
   "execution_count": 36,
   "id": "5c820cbf",
   "metadata": {},
   "outputs": [
    {
     "name": "stdout",
     "output_type": "stream",
     "text": [
      "Instance p1: <__main__.point object at 0x0000026E321063F0>\n",
      "Instance p2: <__main__.point object at 0x0000026E3219B920>\n"
     ]
    }
   ],
   "source": [
    "print(\"Instance p1:\", p1)\n",
    "print(\"Instance p2:\", p2)"
   ]
  },
  {
   "cell_type": "markdown",
   "id": "65cf4789",
   "metadata": {},
   "source": [
    "<div style=\"padding: 20px; font-family: Arial, sans-serif; background-color: #f9f9f9; border:2px solid black; border-radius: 8px; width: fit-content;\">\n",
    "  <p style=\"color: #555; font-size: 16px; line-height: 1.6;\">\n",
    "    To make two instances named <code>point1</code> and <code>point2</code> with different attributes:\n",
    "  </p>\n",
    "  <p style=\"color: #555; font-size: 16px; line-height: 1.6;\">\n",
    "    <code>point1 = Point()</code><br>\n",
    "    <code>point2 = Point()</code>\n",
    "  </p>\n",
    "</div>\n"
   ]
  },
  {
   "cell_type": "code",
   "execution_count": 37,
   "id": "634f33d2",
   "metadata": {},
   "outputs": [],
   "source": [
    "point1=point()\n",
    "point2=point()"
   ]
  },
  {
   "cell_type": "markdown",
   "id": "548b08ec",
   "metadata": {},
   "source": [
    "<div style=\"padding: 20px; font-family: Arial, sans-serif; background-color: #f9f9f9; border:2px solid black; border-radius: 8px; width: fit-content;\">\n",
    "  <p style=\"color: #555; font-size: 16px; line-height: 1.6;\">\n",
    "  <code>point1</code> and <code>point2</code> with different attributes:\n",
    "  </p>\n",
    "<p style=\"color: #555; font-size: 16px; line-height: 1.6;\">\n",
    "    <code>point.x = 4</code><br>\n",
    "    <code>point.y = 7</code>\n",
    "  </p>"
   ]
  },
  {
   "cell_type": "code",
   "execution_count": 38,
   "id": "258b6995",
   "metadata": {},
   "outputs": [],
   "source": [
    "point.x = 4\n",
    "point.y = 7"
   ]
  },
  {
   "cell_type": "markdown",
   "id": "c4c9da13",
   "metadata": {},
   "source": [
    "<div style=\"padding: 20px; font-family: Arial, sans-serif; background-color: #f9f9f9; border:2px solid black; border-radius: 8px; width: fit-content;\">\n",
    "  <p style=\"color: #555; font-size: 16px; line-height: 1.6;\">\n",
    "  To print<code>point1</code> and <code>point2</code> with different attributes:\n",
    "  </p>\n",
    "<p style=\"color: #555; font-size: 16px; line-height: 1.6;\">\n",
    "    <code>point.x = 4</code><br>\n",
    "    <code>point.y = 7</code>\n",
    "  </p>"
   ]
  },
  {
   "cell_type": "code",
   "execution_count": 39,
   "id": "49f044e5",
   "metadata": {},
   "outputs": [
    {
     "name": "stdout",
     "output_type": "stream",
     "text": [
      "Point x: 4\n",
      "Point y: 7\n"
     ]
    }
   ],
   "source": [
    "\n",
    "print(\"Point x:\", point.x)\n",
    "print(\"Point y:\",point.y)\n"
   ]
  },
  {
   "cell_type": "markdown",
   "id": "0ea7182e",
   "metadata": {},
   "source": [
    "<div style=\"padding: 20px; font-family: Arial, sans-serif; background-color: #f9f9f9; border:2px solid black; border-radius: 8px; width: fit-content;\">\n",
    "  <p style=\"color: #555; font-size: 16px; line-height: 1.6; margin-top: 10px;\">\n",
    "    <strong style=\"font-size:20px;\">Note:</strong><br>\n",
    "    The value assigned to an attribute can be anything: a Python primitive, a built-in data type,<br> or another object. It can even be a function or another class!\n",
    "  </p>\n",
    "</div>\n"
   ]
  },
  {
   "cell_type": "markdown",
   "id": "17f41cdf",
   "metadata": {},
   "source": [
    "----------------"
   ]
  },
  {
   "cell_type": "markdown",
   "id": "39436e98",
   "metadata": {},
   "source": [
    "<center><span style=\"color:#6B3E26; \n",
    "font-family:Matura MT Script Capitals; \n",
    "font-weight:bold;\n",
    "font-size:35px;\">5. Class Dog. </span></center>"
   ]
  },
  {
   "cell_type": "markdown",
   "id": "76a8fb9b",
   "metadata": {},
   "source": [
    "<div style=\"padding: 20px; font-family: Arial, sans-serif; background-color: #f9f9f9; border:2px solid black; border-radius: 8px; width: fit-content;\">\n",
    "  <p style=\"color: #555; font-size: 16px; line-height: 1.6; margin-top: 10px;\">\n",
    "    Update the <code>Dog</code> class with an <code>__init__()</code> method that creates <code>.name</code> and <code>.age</code> attributes:\n",
    "  </p>\n",
    "</div>\n"
   ]
  },
  {
   "cell_type": "code",
   "execution_count": 40,
   "id": "c9c3fdb9-5630-49f3-82f0-50832acfd932",
   "metadata": {},
   "outputs": [
    {
     "name": "stdout",
     "output_type": "stream",
     "text": [
      "Miles is 4 years old.\n"
     ]
    }
   ],
   "source": [
    "class Dog:\n",
    "    def __init__(self, name, age):\n",
    "        self.name = name\n",
    "        self.age = age\n",
    "\n",
    "    def __str__(self):\n",
    "        return f\"{self.name} is {self.age} years old.\"\n",
    "        \n",
    "miles = Dog(\"Miles\", 4)\n",
    "\n",
    "print(miles)\n",
    "\n"
   ]
  },
  {
   "cell_type": "markdown",
   "id": "2e963e9f",
   "metadata": {},
   "source": [
    "<center><span style=\"color:#6B3E26; \n",
    "font-family:Matura MT Script Capitals; \n",
    "font-weight:bold;\n",
    "font-size:35px;\">6. Updating Class Dog. </span></center>"
   ]
  },
  {
   "cell_type": "markdown",
   "id": "c54f82f6",
   "metadata": {},
   "source": [
    "<div style=\"padding: 20px; font-family: Arial, sans-serif; background-color: #f9f9f9; border:2px solid black; border-radius: 8px; width: fit-content;\">\n",
    "  <p style=\"color: #555; font-size: 16px; line-height: 1.6; margin-top: 10px;\">\n",
    "    Create a new <code>Dog</code> class with a class attribute called <code>species</code> and two instance attributes called <code>name</code> and <code>age</code>:\n",
    "  </p>\n",
    "  <p style=\"color: #555; font-size: 16px; line-height: 1.6; margin-top: 10px;\">\n",
    "    <strong>Class attribute:</strong> You define class attributes directly beneath the first line of the class name and indent them by four spaces.\n",
    "  </p>\n",
    "</div>\n"
   ]
  },
  {
   "cell_type": "code",
   "execution_count": 41,
   "id": "cdc2443a",
   "metadata": {},
   "outputs": [],
   "source": [
    "class Dog:\n",
    "    species = \"Canis familiaris\"  \n",
    "\n",
    "    def __init__(self, name, age):  \n",
    "        self.name = name  \n",
    "        self.age = age  "
   ]
  },
  {
   "cell_type": "markdown",
   "id": "b9d41825",
   "metadata": {},
   "source": [
    "<div style=\"padding: 20px; font-family: Arial, sans-serif; background-color: #f9f9f9; border:2px solid black; border-radius: 8px; width: fit-content;\">\n",
    "  <p style=\"color: #555; font-size: 16px; line-height: 1.6; margin-top: 10px;\">\n",
    "    To instantiate this <code>Dog</code> class, you need to provide values for <code>name</code> and <code>age</code>. If you don’t, then Python raises a <code>TypeError</code>.\n",
    "  </p>\n",
    "</div>\n"
   ]
  },
  {
   "cell_type": "code",
   "execution_count": 42,
   "id": "1fd8bba9",
   "metadata": {},
   "outputs": [
    {
     "ename": "TypeError",
     "evalue": "Dog.__init__() missing 2 required positional arguments: 'name' and 'age'",
     "output_type": "error",
     "traceback": [
      "\u001b[1;31m---------------------------------------------------------------------------\u001b[0m",
      "\u001b[1;31mTypeError\u001b[0m                                 Traceback (most recent call last)",
      "Cell \u001b[1;32mIn[42], line 1\u001b[0m\n\u001b[1;32m----> 1\u001b[0m \u001b[43mDog\u001b[49m\u001b[43m(\u001b[49m\u001b[43m)\u001b[49m\n",
      "\u001b[1;31mTypeError\u001b[0m: Dog.__init__() missing 2 required positional arguments: 'name' and 'age'"
     ]
    }
   ],
   "source": [
    "Dog()"
   ]
  },
  {
   "cell_type": "markdown",
   "id": "644364c3",
   "metadata": {},
   "source": [
    "<div style=\"padding: 20px; font-family: Arial, sans-serif; background-color: #f9f9f9; border:2px solid black; border-radius: 8px; width: fit-content;\">\n",
    "  <p style=\"color: #555; font-size: 16px; line-height: 1.6; margin-top: 10px;\">\n",
    "    To pass arguments to the <code>name</code> and <code>age</code> parameters, put values into the parentheses after the class name.\n",
    "  </p>\n",
    "</div>\n"
   ]
  },
  {
   "cell_type": "code",
   "execution_count": null,
   "id": "cbb6c7d1",
   "metadata": {},
   "outputs": [],
   "source": [
    "miles = Dog(\"Miles\", 4)\n",
    "buddy = Dog(\"Buddy\", 9)"
   ]
  },
  {
   "cell_type": "markdown",
   "id": "003b489c",
   "metadata": {},
   "source": [
    "<div style=\"padding: 20px; font-family: Arial, sans-serif; background-color: #f9f9f9; border:2px solid black; border-radius: 8px; width: fit-content;\">\n",
    "  <p style=\"color: #555; font-size: 16px; line-height: 1.6; margin-top: 10px;\">\n",
    "    After you create the <code>Dog</code> instances, you can access their instance attributes using dot notation:\n",
    "  </p>\n",
    "</div>\n"
   ]
  },
  {
   "cell_type": "code",
   "execution_count": null,
   "id": "9ec7ff5b",
   "metadata": {},
   "outputs": [
    {
     "name": "stdout",
     "output_type": "stream",
     "text": [
      "Miles\n",
      "4\n",
      "Buddy\n",
      "9\n"
     ]
    }
   ],
   "source": [
    "print(miles.name)  \n",
    "print(miles.age)   \n",
    "print(buddy.name)  \n",
    "print(buddy.age)"
   ]
  },
  {
   "cell_type": "markdown",
   "id": "5e2fa8a7",
   "metadata": {},
   "source": [
    "<div style=\"padding: 20px; font-family: Arial, sans-serif; background-color: #f9f9f9; border:2px solid black; border-radius: 8px; width: fit-content;\">\n",
    "  <p style=\"color: #555; font-size: 16px; line-height: 1.6; margin-top: 10px;\">\n",
    "    Although the attributes are guaranteed to exist, their values can change dynamically:\n",
    "  </p>\n",
    "</div>\n"
   ]
  },
  {
   "cell_type": "code",
   "execution_count": null,
   "id": "ef697add",
   "metadata": {},
   "outputs": [
    {
     "name": "stdout",
     "output_type": "stream",
     "text": [
      "10\n",
      "Felis silvestris\n",
      "Canis familiaris\n"
     ]
    }
   ],
   "source": [
    "buddy.age = 10\n",
    "print(buddy.age)   \n",
    "\n",
    "miles.species = \"Felis silvestris\"\n",
    "print(miles.species)  \n",
    "print(buddy.species) "
   ]
  },
  {
   "cell_type": "markdown",
   "id": "995e4d98",
   "metadata": {},
   "source": [
    "--------------"
   ]
  },
  {
   "cell_type": "markdown",
   "id": "ad6f53ec-d407-49f4-ad17-e7fb793d552d",
   "metadata": {},
   "source": [
    "<center><span style=\"color:#6B3E26; \n",
    "font-family:Matura MT Script Capitals; \n",
    "font-weight:bold;\n",
    "font-size:35px;\">7. Class point. </span></center>"
   ]
  },
  {
   "cell_type": "markdown",
   "id": "f4dfc51c",
   "metadata": {},
   "source": [
    "<div style=\"padding: 20px; font-family: Arial, sans-serif; background-color: #f9f9f9; border:2px solid black; border-radius: 8px; width: fit-content;\">\n",
    "  <ul style=\"color: #555; font-size: 16px; line-height: 1.6;\">\n",
    "    <li>The <code>Point</code> class represents a point in a two-dimensional coordinate system, defined by its <code>x</code> and <code>y</code> coordinates.</li>\n",
    "    <li>The <code>__init__</code> method initializes a new instance of the class, assigning values to the coordinates.</li>\n",
    "    <li>Additional methods include <code>distance</code>, which calculates the distance to another point, and <code>display</code>, which returns the point's coordinates as a tuple (like <code>(x, y)</code>).</li>\n",
    "    <li>The <code>locate</code> method provides a string representation of the point's coordinates, indicating its location in the 2D space.</li>\n",
    "    <li>Proper annotations and docstrings are included in each method to enhance code clarity and maintainability.</li>\n",
    "    <li>When an instance of the class is printed, it shows the class name and its memory address, which helps in identifying distinct objects created in memory.</li>\n",
    "    <li>This structured approach promotes better understanding and usability of the class in various applications, making it easier for developers to implement and extend functionality.</li>\n",
    "  </ul>\n",
    "</div>\n"
   ]
  },
  {
   "cell_type": "code",
   "execution_count": null,
   "id": "325611c8",
   "metadata": {},
   "outputs": [],
   "source": [
    "import math\n",
    "\n",
    "class Point:\n",
    "    \"\"\"\n",
    "    A class to represent a point in a 2-dimensional coordinate system.\n",
    "    \"\"\"\n",
    "\n",
    "    def __init__(self, x: float, y: float)->None:\n",
    "        \"\"\"\n",
    "        Initializes a new instance of the Point class.\n",
    "\n",
    "        Args:\n",
    "            x (float): The x-coordinate of the point.\n",
    "            y (float): The y-coordinate of the point.\n",
    "        \"\"\"\n",
    "        self.x = x  \n",
    "        self.y = y  \n",
    "\n",
    "    def distance(self, other: 'Point') -> float:\n",
    "        \"\"\"\n",
    "        Calculates the distance between this point and another point.\n",
    "\n",
    "        Args:\n",
    "            other (Point): Another instance of the Point class.\n",
    "\n",
    "        Returns:\n",
    "            float: The Euclidean distance between the two points.\n",
    "        \"\"\"\n",
    "        return math.sqrt((self.x - other.x) ** 2 + (self.y - other.y) ** 2)\n",
    "\n",
    "    def show(self) -> tuple:\n",
    "        \"\"\"\n",
    "        Returns the coordinates of the point as a tuple.\n",
    "\n",
    "        Returns:\n",
    "            tuple: A tuple containing the x and y coordinates of the point.\n",
    "        \"\"\"\n",
    "        return (self.x, self.y)\n",
    "\n",
    "    def locate(self) -> str:\n",
    "        \"\"\"\n",
    "        Determines the quadrant in which the point is located or if it is on an axis.\n",
    "\n",
    "        Returns:\n",
    "            str: A description of the point's location (Quadrant I, II, III, IV, or on an axis).\n",
    "        \"\"\"\n",
    "        if self.x > 0 and self.y > 0:\n",
    "            return \"Quadrant I\"\n",
    "        elif self.x < 0 and self.y > 0:\n",
    "            return \"Quadrant II\"\n",
    "        elif self.x < 0 and self.y < 0:\n",
    "            return \"Quadrant III\"\n",
    "        elif self.x > 0 and self.y < 0:\n",
    "            return \"Quadrant IV\"\n",
    "        else:\n",
    "            return \"On an axis or the origin\"\n",
    "            \n",
    "    def print_point(self):\n",
    "        \"\"\"\n",
    "        Prints the coordinates of the point in a readable format.\n",
    "\n",
    "        Returns:\n",
    "            None\n",
    "        \"\"\"\n",
    "        print(f\"Point coordinates: ({self.x}, {self.y})\")\n"
   ]
  },
  {
   "cell_type": "markdown",
   "id": "22cdf6ba",
   "metadata": {},
   "source": [
    "<div style=\"padding: 20px; font-family: Arial, sans-serif; background-color: #f9f9f9; border:2px solid black; border-radius: 8px; width: fit-content;\">\n",
    "  <h3 style=\"color: #333;\">Creating a Point Instance:</h3>\n",
    "  <ul style=\"color: #555; font-size: 16px; line-height: 1.6;\">\n",
    "    <li>Define <code>p1</code> and pass two numbers:</li>\n",
    "  </ul>\n",
    "  <pre style=\"background-color: #fff; border: 1px solid #ccc; padding: 10px; overflow: auto;\">\n",
    "p1 = Point(-3, 4)\n",
    "  </pre>\n",
    "</div>\n"
   ]
  },
  {
   "cell_type": "code",
   "execution_count": null,
   "id": "821d5e0d-048a-45d3-9974-fb76c5563896",
   "metadata": {},
   "outputs": [],
   "source": [
    "p1 = Point(-3, 4)"
   ]
  },
  {
   "cell_type": "markdown",
   "id": "ae250048",
   "metadata": {},
   "source": [
    "<div style=\"padding: 20px; font-family: Arial, sans-serif; background-color: #f9f9f9; border:2px solid black; border-radius: 8px; width: fit-content;\">\n",
    "  <h3 style=\"color: #333;\">Creating Another Point Instance:</h3>\n",
    "  <ul style=\"color: #555; font-size: 16px; line-height: 1.6;\">\n",
    "    <li>Make another instance of the <code>Point</code> class, naming it <code>p2</code>:</li>\n",
    "  </ul>\n",
    "  <pre style=\"background-color: #fff; border: 1px solid #ccc; padding: 10px; overflow: auto;\">\n",
    "p2 = Point(6, 8)\n",
    "  </pre>\n",
    "</div>\n"
   ]
  },
  {
   "cell_type": "code",
   "execution_count": null,
   "id": "f4e8698d-5648-4ab7-92ed-ee98a3f059cc",
   "metadata": {},
   "outputs": [],
   "source": [
    "p2 = Point(6, 8)"
   ]
  },
  {
   "cell_type": "markdown",
   "id": "165fafaa",
   "metadata": {},
   "source": [
    "<div style=\"padding: 20px; font-family: Arial, sans-serif; background-color: #f9f9f9; border:2px solid black; border-radius: 8px; width: fit-content;\">\n",
    "  <h3 style=\"color: #333;\">Printing Point Instances:</h3>\n",
    "  <ul style=\"color: #555; font-size: 16px; line-height: 1.6;\">\n",
    "    <li>To print <code>p1</code> and <code>p2</code>, use the <code>print</code> command and pass the points as input:</li>\n",
    "  </ul>\n",
    "  <pre style=\"background-color: #fff; border: 1px solid #ccc; padding: 10px; overflow: auto;\">\n",
    "print(p1)\n",
    "print(p2) \n",
    "  </pre>\n",
    "</div>\n"
   ]
  },
  {
   "cell_type": "code",
   "execution_count": null,
   "id": "4de8c709-9162-4e32-9b0c-f76e5ee6f73b",
   "metadata": {},
   "outputs": [
    {
     "name": "stdout",
     "output_type": "stream",
     "text": [
      "(-3, 4)\n",
      "(6, 8)\n"
     ]
    }
   ],
   "source": [
    "print(p1.show())  \n",
    "print(p2.show())  \n"
   ]
  },
  {
   "cell_type": "markdown",
   "id": "93e6e67c",
   "metadata": {},
   "source": [
    "<div style=\"padding: 20px; font-family: Arial, sans-serif; background-color: #f9f9f9; border:2px solid black; border-radius: 8px; width: fit-content;\">\n",
    "  <h3 style=\"color: #333;\">Printing the Location of Point Instances:</h3>\n",
    "  <ul style=\"color: #555; font-size: 16px; line-height: 1.6;\">\n",
    "    <li>To print the location of both <code>p1</code> and <code>p2</code>, you can call the <code>locate</code> method for each point:</li>\n",
    "  </ul>\n",
    "  <pre style=\"background-color: #fff; border: 1px solid #ccc; padding: 10px; overflow: auto;\">\n",
    "print(p1.locate())\n",
    "print(p2.locate())  \n",
    "  </pre>\n",
    "</div>\n"
   ]
  },
  {
   "cell_type": "code",
   "execution_count": null,
   "id": "a4b99a25-62a7-41d4-a7c0-2b41269b54bb",
   "metadata": {},
   "outputs": [
    {
     "name": "stdout",
     "output_type": "stream",
     "text": [
      "Quadrant II\n",
      "Quadrant I\n"
     ]
    }
   ],
   "source": [
    "print(p1.locate())  \n",
    "print(p2.locate())  \n"
   ]
  },
  {
   "cell_type": "markdown",
   "id": "603b0e42",
   "metadata": {},
   "source": [
    "<div style=\"padding: 20px; font-family: Arial, sans-serif; background-color: #f9f9f9; border:2px solid black; border-radius: 8px; width: fit-content;\">\n",
    "  <h3 style=\"color: #333;\">Printing Coordinates Using the Dot Operator:</h3>\n",
    "  <ul style=\"color: #555; font-size: 16px; line-height: 1.6;\">\n",
    "    <li>To print the coordinates of <code>p1</code> and <code>p2</code>, use the dot operator to access the <code>x</code> and <code>y</code> attributes:</li>\n",
    "  </ul>\n",
    "  <pre style=\"background-color: #fff; border: 1px solid #ccc; padding: 10px; overflow: auto;\">\n",
    "print(f\"Coordinates of p1: ({p1.x}, {p1.y})\")  \n",
    "print(f\"Coordinates of p2: ({p2.x}, {p2.y})\")  \n",
    "  </pre>\n",
    "</div>\n"
   ]
  },
  {
   "cell_type": "code",
   "execution_count": null,
   "id": "d23601e9-3812-4001-99f5-c8f4db4b5127",
   "metadata": {},
   "outputs": [
    {
     "name": "stdout",
     "output_type": "stream",
     "text": [
      "Coordinates of p1: (-3, 4)\n",
      "Coordinates of p2: (6, 8)\n"
     ]
    }
   ],
   "source": [
    "\n",
    "print(f\"Coordinates of p1: ({p1.x}, {p1.y})\")\n",
    "print(f\"Coordinates of p2: ({p2.x}, {p2.y})\")\n"
   ]
  },
  {
   "cell_type": "markdown",
   "id": "7ce389ee",
   "metadata": {},
   "source": [
    "<div style=\"padding: 20px; font-family: Arial, sans-serif; background-color: #f9f9f9; border:2px solid black; border-radius: 8px; width: fit-content;\">\n",
    "  <h3 style=\"color: #333;\">Printing Points Using the Print Method:</h3>\n",
    "  <ul style=\"color: #555; font-size: 16px; line-height: 1.6;\">\n",
    "    <li>To print both <code>p1</code> and <code>p2</code> using the <code>print_point</code> method:</li>\n",
    "  </ul>\n",
    "  <pre style=\"background-color: #fff; border: 1px solid #ccc; padding: 10px; overflow: auto;\">\n",
    "p1.print_point()  \n",
    "p2.print_point()  \n",
    "  </pre>\n",
    "</div>\n"
   ]
  },
  {
   "cell_type": "code",
   "execution_count": null,
   "id": "5ab4e282-8085-4147-8ae4-f5fc3bfae663",
   "metadata": {},
   "outputs": [
    {
     "name": "stdout",
     "output_type": "stream",
     "text": [
      "Point coordinates: (-3, 4)\n",
      "Point coordinates: (6, 8)\n"
     ]
    }
   ],
   "source": [
    "p1.print_point()  \n",
    "p2.print_point()  \n"
   ]
  },
  {
   "cell_type": "markdown",
   "id": "97a45bc8",
   "metadata": {},
   "source": [
    "<div style=\"padding: 20px; font-family: Arial, sans-serif; background-color: #f9f9f9; border:2px solid black; border-radius: 8px; width: fit-content;\">\n",
    "  <h3 style=\"color: #333;\">Calculating the Distance Between Two Points:</h3>\n",
    "  <ul style=\"color: #555; font-size: 16px; line-height: 1.6;\">\n",
    "    <li>To calculate the distance between <code>p1</code> and <code>p2</code>, use the <code>distance</code> method:</li>\n",
    "  \n",
    "  </pre>\n",
    "</div>\n"
   ]
  },
  {
   "cell_type": "code",
   "execution_count": null,
   "id": "10f44cee-35d0-4af7-b887-33cbda22d2ad",
   "metadata": {},
   "outputs": [
    {
     "name": "stdout",
     "output_type": "stream",
     "text": [
      "Distance between p1 and p2: 9.848857801796104\n"
     ]
    }
   ],
   "source": [
    "distance = p1.distance(p2)\n",
    "print(f\"Distance between p1 and p2: {distance}\")  \n"
   ]
  },
  {
   "cell_type": "markdown",
   "id": "3d11811f",
   "metadata": {},
   "source": [
    "<div style=\"padding: 20px; font-family: Arial, sans-serif; background-color: #f9f9f9; border:2px solid black; border-radius: 8px; width: fit-content;\">\n",
    "  <h3 style=\"color: #333;\">Calling the __dict__ by Class Name:</h3>\n",
    "  <ul style=\"color: #555; font-size: 16px; line-height: 1.6;\">\n",
    "    <li>To access the class attributes and methods using <code>__dict__</code>, call it by the class name <code>Point</code>:</li>\n",
    "  </ul>\n",
    "  <pre style=\"background-color: #fff; border: 1px solid #ccc; padding: 10px; overflow: auto;\">\n",
    "print(Point.__dict__)\n",
    "  </pre>\n",
    "</div>\n"
   ]
  },
  {
   "cell_type": "code",
   "execution_count": null,
   "id": "6aee6f85",
   "metadata": {},
   "outputs": [
    {
     "name": "stdout",
     "output_type": "stream",
     "text": [
      "{'__module__': '__main__', '__doc__': '\\n    A class to represent a point in a 2-dimensional coordinate system.\\n    ', '__init__': <function Point.__init__ at 0x0000016DBF88D1C0>, 'distance': <function Point.distance at 0x0000016DBF88D440>, 'show': <function Point.show at 0x0000016DBF88D4E0>, 'locate': <function Point.locate at 0x0000016DBF88D580>, 'print_point': <function Point.print_point at 0x0000016DBF88D620>, '__dict__': <attribute '__dict__' of 'Point' objects>, '__weakref__': <attribute '__weakref__' of 'Point' objects>}\n"
     ]
    }
   ],
   "source": [
    "print(Point.__dict__)"
   ]
  },
  {
   "cell_type": "markdown",
   "id": "d50cbce7",
   "metadata": {},
   "source": [
    "<div style=\"padding: 20px; font-family: Arial, sans-serif; background-color: #f9f9f9; border:2px solid black; border-radius: 8px; width: fit-content;\">\n",
    "  <h3 style=\"color: #333;\">Calling the __dict__ on Object of the Class:</h3>\n",
    "  <ul style=\"color: #555; font-size: 16px; line-height: 1.6;\">\n",
    "    <li>To access the attributes of a specific object, use <code>__dict__</code> on the instance <code>p1</code>:</li>\n",
    "  </ul>\n",
    "  <pre style=\"background-color: #fff; border: 1px solid #ccc; padding: 10px; overflow: auto;\">\n",
    "print(p1.__dict__)\n",
    "  </pre>\n",
    "</div>\n"
   ]
  },
  {
   "cell_type": "code",
   "execution_count": null,
   "id": "6e1829e3-2d57-4847-a5a3-158675bab735",
   "metadata": {},
   "outputs": [
    {
     "name": "stdout",
     "output_type": "stream",
     "text": [
      "{'x': -3, 'y': 4}\n"
     ]
    }
   ],
   "source": [
    "print(p1.__dict__) "
   ]
  },
  {
   "cell_type": "markdown",
   "id": "2ca895ab",
   "metadata": {},
   "source": [
    "<div style=\"padding: 20px; font-family: Arial, sans-serif; background-color: #f9f9f9; border:2px solid black; border-radius: 8px; width: fit-content;\">\n",
    "  <h3 style=\"color: #333;\">Passing the Class Name to Help:</h3>\n",
    "  <ul style=\"color: #555; font-size: 16px; line-height: 1.6;\">\n",
    "    <li>To get help information about the <code>Point</code> class, pass the class name to the <code>help()</code> function:</li>\n",
    "  </ul>\n",
    "  <pre style=\"background-color: #fff; border: 1px solid #ccc; padding: 10px; overflow: auto;\">\n",
    "print(help(Point))\n",
    "  </pre>\n",
    "</div>\n"
   ]
  },
  {
   "cell_type": "code",
   "execution_count": null,
   "id": "63e21528-04b2-4cde-83f0-12cb08bba000",
   "metadata": {},
   "outputs": [
    {
     "name": "stdout",
     "output_type": "stream",
     "text": [
      "Help on class Point in module __main__:\n",
      "\n",
      "class Point(builtins.object)\n",
      " |  Point(x: float, y: float)\n",
      " |\n",
      " |  A class to represent a point in a 2-dimensional coordinate system.\n",
      " |\n",
      " |  Methods defined here:\n",
      " |\n",
      " |  __init__(self, x: float, y: float)\n",
      " |      Initializes a new instance of the Point class.\n",
      " |\n",
      " |      Args:\n",
      " |          x (float): The x-coordinate of the point.\n",
      " |          y (float): The y-coordinate of the point.\n",
      " |\n",
      " |  distance(self, other: 'Point') -> float\n",
      " |      Calculates the distance between this point and another point.\n",
      " |\n",
      " |      Args:\n",
      " |          other (Point): Another instance of the Point class.\n",
      " |\n",
      " |      Returns:\n",
      " |          float: The Euclidean distance between the two points.\n",
      " |\n",
      " |  locate(self) -> str\n",
      " |      Determines the quadrant in which the point is located or if it is on an axis.\n",
      " |\n",
      " |      Returns:\n",
      " |          str: A description of the point's location (Quadrant I, II, III, IV, or on an axis).\n",
      " |\n",
      " |  print_point(self)\n",
      " |      Prints the coordinates of the point in a readable format.\n",
      " |\n",
      " |      Returns:\n",
      " |          None\n",
      " |\n",
      " |  show(self) -> tuple\n",
      " |      Returns the coordinates of the point as a tuple.\n",
      " |\n",
      " |      Returns:\n",
      " |          tuple: A tuple containing the x and y coordinates of the point.\n",
      " |\n",
      " |  ----------------------------------------------------------------------\n",
      " |  Data descriptors defined here:\n",
      " |\n",
      " |  __dict__\n",
      " |      dictionary for instance variables\n",
      " |\n",
      " |  __weakref__\n",
      " |      list of weak references to the object\n",
      "\n",
      "None\n"
     ]
    }
   ],
   "source": [
    "print(help(Point))"
   ]
  },
  {
   "cell_type": "markdown",
   "id": "6d71432f",
   "metadata": {},
   "source": [
    "<div style=\"padding: 20px; font-family: Arial, sans-serif; background-color: #f9f9f9; border:2px solid black; border-radius: 8px; width: fit-content;\">\n",
    "  <h3 style=\"color: #333;\">Printing Doc-Strings and Annotations:</h3>\n",
    "  <ul style=\"color: #555; font-size: 16px; line-height: 1.6;\">\n",
    "    <li>To print the doc-string and annotations for the <code>Point</code> class:</li>\n",
    "  \n",
    "</div>\n"
   ]
  },
  {
   "cell_type": "code",
   "execution_count": null,
   "id": "e166f4da-8546-4824-bed8-076d10e64361",
   "metadata": {
    "scrolled": true
   },
   "outputs": [
    {
     "name": "stdout",
     "output_type": "stream",
     "text": [
      "\n",
      "    A class to represent a point in a 2-dimensional coordinate system.\n",
      "    \n",
      "__init__ docstring: \n",
      "        Initializes a new instance of the Point class.\n",
      "\n",
      "        Args:\n",
      "            x (float): The x-coordinate of the point.\n",
      "            y (float): The y-coordinate of the point.\n",
      "        \n",
      "__init__ annotations: {'x': <class 'float'>, 'y': <class 'float'>}\n",
      "distance docstring: \n",
      "        Calculates the distance between this point and another point.\n",
      "\n",
      "        Args:\n",
      "            other (Point): Another instance of the Point class.\n",
      "\n",
      "        Returns:\n",
      "            float: The Euclidean distance between the two points.\n",
      "        \n",
      "distance annotations: {'other': 'Point', 'return': <class 'float'>}\n",
      "show docstring: \n",
      "        Returns the coordinates of the point as a tuple.\n",
      "\n",
      "        Returns:\n",
      "            tuple: A tuple containing the x and y coordinates of the point.\n",
      "        \n",
      "show annotations: {'return': <class 'tuple'>}\n",
      "locate docstring: \n",
      "        Determines the quadrant in which the point is located or if it is on an axis.\n",
      "\n",
      "        Returns:\n",
      "            str: A description of the point's location (Quadrant I, II, III, IV, or on an axis).\n",
      "        \n",
      "locate annotations: {'return': <class 'str'>}\n",
      "print_point docstring: \n",
      "        Prints the coordinates of the point in a readable format.\n",
      "\n",
      "        Returns:\n",
      "            None\n",
      "        \n",
      "print_point annotations: {}\n"
     ]
    }
   ],
   "source": [
    "print(Point.__doc__)\n",
    "for method in [Point.__init__, Point.distance, Point.show, Point.locate, Point.print_point]:\n",
    "    print(f\"{method.__name__} docstring: {method.__doc__}\")\n",
    "    print(f\"{method.__name__} annotations: {method.__annotations__}\")\n"
   ]
  },
  {
   "cell_type": "markdown",
   "id": "033b21fe",
   "metadata": {},
   "source": [
    "------------------------------"
   ]
  },
  {
   "cell_type": "markdown",
   "id": "a3bc1470-08bb-40bc-bf36-49cc63d0cc06",
   "metadata": {},
   "source": [
    "<center><span style=\"color:#6B3E26; \n",
    "font-family:Matura MT Script Capitals; \n",
    "font-weight:bold;\n",
    "font-size:35px;\">8. Modifying class Point. </span></center>"
   ]
  },
  {
   "cell_type": "markdown",
   "id": "08cc081b",
   "metadata": {},
   "source": [
    "<div style=\"padding: 20px; font-family: Arial, sans-serif; background-color: #f9f9f9; border:2px solid black; border-radius: 8px; width: fit-content;\">\n",
    "  <p style=\"color: #555; font-size: 16px; line-height: 1.6; margin-top: 10px;\">.\n",
    "   Modify the above class point by making its parameters default. The parameters will initialize the point with no parameters to the origin. \n",
    "  </p>\n",
    "</div>\n"
   ]
  },
  {
   "cell_type": "code",
   "execution_count": null,
   "id": "a49e64d3-12ec-472b-9437-571dc6044b29",
   "metadata": {},
   "outputs": [],
   "source": [
    "import math\n",
    "\n",
    "class Point:\n",
    "   \n",
    "    def __init__(self, x: float = 0.0, y: float = 0.0):\n",
    "       \n",
    "        \n",
    "        self.x = x  \n",
    "        self.y = y  \n",
    "\n",
    "    def distance(self, other: 'Point') -> float:\n",
    "       \n",
    "        return math.sqrt((self.x - other.x) ** 2 + (self.y - other.y) ** 2)\n",
    "\n",
    "    def show(self) -> tuple:\n",
    "        \n",
    "        return (self.x, self.y)\n",
    "\n",
    "    def locate(self) -> str:\n",
    "        \n",
    "        return f\"Point is located at ({self.x}, {self.y})\"\n",
    "\n",
    "    def print_point(self):\n",
    "        \n",
    "        print(f\"Point coordinates: ({self.x}, {self.y})\")"
   ]
  },
  {
   "cell_type": "markdown",
   "id": "35b2032d",
   "metadata": {},
   "source": [
    "<div style=\"padding: 20px; font-family: Arial, sans-serif; background-color: #f9f9f9; border:2px solid black; border-radius: 8px; width: fit-content;\">\n",
    "  <p style=\"color: #555; font-size: 16px; line-height: 1.6; margin-top: 10px;\">.\n",
    "  To Define <code>point_1</code> by passing two arguments and print their values by using the dot\n",
    "operator and also by calling the show function.\n",
    "  </p>\n",
    "</div>\n"
   ]
  },
  {
   "cell_type": "code",
   "execution_count": null,
   "id": "92d5b55a-abbc-487a-be18-70555fb9c5c2",
   "metadata": {},
   "outputs": [
    {
     "name": "stdout",
     "output_type": "stream",
     "text": [
      "point_1 coordinates using dot operator: x = 3, y = 4\n",
      "point_1 coordinates using show method: (3, 4)\n"
     ]
    }
   ],
   "source": [
    "point_1 = Point(3, 4)\n",
    "print(f\"point_1 coordinates using dot operator: x = {point_1.x}, y = {point_1.y}\")  \n",
    "print(f\"point_1 coordinates using show method: {point_1.show()}\")  \n"
   ]
  },
  {
   "cell_type": "markdown",
   "id": "18af0405",
   "metadata": {},
   "source": [
    "<div style=\"padding: 20px; font-family: Arial, sans-serif; background-color: #f9f9f9; border:2px solid black; border-radius: 8px; width: fit-content;\">\n",
    "  <p style=\"color: #555; font-size: 16px; line-height: 1.6; margin-top: 10px;\">.\n",
    "  To Define another object with the name <code>point_2</code> and pass one argument. Display its value\n",
    "by calling the show method.\n",
    "  </p>\n",
    "</div>"
   ]
  },
  {
   "cell_type": "code",
   "execution_count": null,
   "id": "541c7f81-b28b-4e7a-a4d5-3d94339b930a",
   "metadata": {},
   "outputs": [
    {
     "name": "stdout",
     "output_type": "stream",
     "text": [
      "point_2 coordinates using show method: (5, 0.0)\n"
     ]
    }
   ],
   "source": [
    "point_2 = Point(5)  \n",
    "print(f\"point_2 coordinates using show method: {point_2.show()}\")  "
   ]
  },
  {
   "cell_type": "markdown",
   "id": "bcb8f320",
   "metadata": {},
   "source": [
    "<div style=\"padding: 20px; font-family: Arial, sans-serif; background-color: #f9f9f9; border:2px solid black; border-radius: 8px; width: fit-content;\">\n",
    "  <p style=\"color: #555; font-size: 16px; line-height: 1.6; margin-top: 10px;\">.\n",
    "  To Define another object with the name <code>point_3</code> and pass no argument. Display its value by\n",
    "calling the show method.\n",
    "  </p>\n",
    "</div>\n"
   ]
  },
  {
   "cell_type": "code",
   "execution_count": null,
   "id": "8b215857-892f-42a8-8a2f-8a809cf3832d",
   "metadata": {},
   "outputs": [
    {
     "name": "stdout",
     "output_type": "stream",
     "text": [
      "point_3 coordinates using show method: (0.0, 0.0)\n"
     ]
    }
   ],
   "source": [
    "point_3 = Point()  \n",
    "print(f\"point_3 coordinates using show method: {point_3.show()}\")  \n"
   ]
  }
 ],
 "metadata": {
  "kernelspec": {
   "display_name": "Python 3 (ipykernel)",
   "language": "python",
   "name": "python3"
  },
  "language_info": {
   "codemirror_mode": {
    "name": "ipython",
    "version": 3
   },
   "file_extension": ".py",
   "mimetype": "text/x-python",
   "name": "python",
   "nbconvert_exporter": "python",
   "pygments_lexer": "ipython3",
   "version": "3.8.20"
  }
 },
 "nbformat": 4,
 "nbformat_minor": 5
}
