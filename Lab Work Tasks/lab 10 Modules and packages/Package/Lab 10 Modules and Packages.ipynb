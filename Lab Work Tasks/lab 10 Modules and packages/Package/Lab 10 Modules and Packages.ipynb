{
 "cells": [
  {
   "cell_type": "markdown",
   "id": "4d6d0799",
   "metadata": {},
   "source": [
    "<div style=\"\n",
    "        background: linear-gradient(90deg, #8e44ad, #3498db);\n",
    "        padding: 30px 20px;\n",
    "        border-radius: 25px;\n",
    "        box-shadow: 0 7px 6px rgba(0, 0, 0, 0.3);\n",
    "        border: 2px solid #CCCCFF;\n",
    "        max-width: 90%;\n",
    "    \">\n",
    "        <span style=\"\n",
    "            color: #FFBF00;\n",
    "            font-size: 20px;\n",
    "            font-family: Cooper Black;\n",
    "            letter-spacing: 2px;\n",
    "            line-height: 1.4;\n",
    "            text-transform: sentencecase;\n",
    "            text-shadow: 3px 3px 8px rgba(0, 0, 0, 0.5);\n",
    "            text-align: center;\n",
    "        \">\n",
    "            University of Engineering and Technology Peshawar Jalozai Campus\n",
    "        </span>\n",
    "  </div>\n"
   ]
  },
  {
   "cell_type": "markdown",
   "id": "bca5a141",
   "metadata": {},
   "source": [
    " <div style=\"\n",
    "        background: linear-gradient(90deg, #e06377, #3b3a30);\n",
    "        padding: 30px 20px;\n",
    "        border-radius: 25px;\n",
    "        box-shadow: 0 7px 6px rgba(0, 0, 0, 0.3);\n",
    "        border: 2px solid #CCCCFF;\n",
    "        max-width: 90%;\n",
    "    \">\n",
    "        <span style=\"\n",
    "            font-size: 20px;\n",
    "            font-family: Cooper Black;\n",
    "            color: #FFBF00;\n",
    "            font-weight: bold;\n",
    "            letter-spacing: 1px;\n",
    "            text-shadow: 3px 1px 8px rgba(0, 0, 1, 0.6);\n",
    "        \">\n",
    "            Lab Title: EE-271 “OOP & Data Structures Lab”\n",
    "        </span>\n",
    "    </div>\n"
   ]
  },
  {
   "cell_type": "markdown",
   "id": "853ea820",
   "metadata": {},
   "source": [
    "<div style=\"\n",
    "        background: linear-gradient(90deg, #c83349, #622569);\n",
    "        padding: 30px 20px;\n",
    "        border-radius: 25px;\n",
    "        box-shadow: 0 7px 6px rgba(0, 0, 0, 0.3);\n",
    "        border: 2px solid #CCCCFF;\n",
    "        max-width: 90%;\n",
    "    \">\n",
    "        <span style=\"\n",
    "            font-size: 20px;\n",
    "            font-family: Cooper Black;\n",
    "            color: #FFBF00;\n",
    "            font-weight: bold;\n",
    "            letter-spacing: 1px;\n",
    "            text-shadow: 3px 1px 8px rgba(0, 0, 1, 0.6);\n",
    "        \">\n",
    "            Lab 10: Modules and Packages\n",
    "        </span>\n",
    "    </div>\n"
   ]
  },
  {
   "cell_type": "markdown",
   "id": "7fe6c779",
   "metadata": {},
   "source": [
    "<center><h3 style=\"color: white; font-family: Arial, sans-serif; background-color: gray; padding: 8px; border-radius: 5px;\">LAB REPORT TASK</h3></center>\n",
    "\n",
    "<h3 style=\"color: #34495e; font-family: Arial, sans-serif;\">AIM</h3>\n",
    "<p style=\"color: #2c3e50; font-family: Arial, sans-serif; line-height: 1.6;\">\n",
    "  To convert Labs 7, 8, and 9 into Python modules, package them under the name <strong>inheritance</strong>, and revise the corresponding tasks accordingly.\n",
    "</p>\n",
    "\n",
    "<h3 style=\"color: #34495e; font-family: Arial, sans-serif;\">INTRODUCTION</h3>\n",
    "<p style=\"color: #2c3e50; font-family: Arial, sans-serif; line-height: 1.6;\">\n",
    "  In this task, we will transform Lab 7, 8, and 9 scripts into Python modules and structure them within a package named <strong>inheritance</strong>. Once the modules are set up, the tasks will be revised to utilize the newly structured package.\n",
    "</p>\n",
    "\n",
    "<h3 style=\"color: #34495e; font-family: Arial, sans-serif;\">STEPS TO CONVERT LABS INTO MODULES</h3>\n",
    "<ol style=\"color: #2c3e50; font-family: Arial, sans-serif; line-height: 1.8;\">\n",
    "  <li><strong style=\"color: #2980b9; background-color: #eafaf1; padding: 5px; border-radius: 5px;\">Create a new directory:</strong>\n",
    "    <ul>\n",
    "      <li>Name the directory <code>inheritance</code>.</li>\n",
    "    </ul>\n",
    "  </li>\n",
    "  <li><strong style=\"color: #2980b9; background-color: #eafaf1; padding: 5px; border-radius: 5px;\">Convert Lab 7, 8, and 9 scripts into Python modules:</strong>\n",
    "    <ul>\n",
    "      <li>Each lab script will be a separate module inside the <code>inheritance</code> package.</li>\n",
    "      <li>Each module will be saved as a <code>.py</code> file.</li>\n",
    "    </ul>\n",
    "  </li>\n",
    "  <li><strong style=\"color: #2980b9; background-color: #eafaf1; padding: 5px; border-radius: 5px;\">Organize the modules inside the <code>inheritance</code> package:</strong>\n",
    "    <ul>\n",
    "      <li>The directory <code>inheritance</code> will store the Python modules for each lab.</li>\n",
    "    </ul>\n",
    "  </li>\n",
    "  <li><strong style=\"color: #2980b9; background-color: #eafaf1; padding: 5px; border-radius: 5px;\">Revise tasks to use the new module structure:</strong>\n",
    "    <ul>\n",
    "      <li>Modify the lab tasks to import and use the modules correctly.</li>\n",
    "    </ul>\n",
    "  </li>\n",
    "</ol>\n",
    "\n",
    "<h3 style=\"color: #34495e; font-family: Arial, sans-serif;\">DIRECTORY STRUCTURE</h3>\n",
    "<pre style=\"background-color: #ecf0f1; padding: 10px; border-radius: 5px; font-family: monospace; color: #2c3e50;\">\n",
    "inheritance/\n",
    "│\n",
    "├── __init__.py\n",
    "├── lab7.py\n",
    "├── lab8.py\n",
    "├── lab9.py\n",
    "</pre>\n"
   ]
  },
  {
   "cell_type": "code",
   "execution_count": 2,
   "id": "9ee235b8-d668-4c3e-b773-aa07df7dcfa6",
   "metadata": {},
   "outputs": [],
   "source": [
    "import os"
   ]
  },
  {
   "cell_type": "code",
   "execution_count": 3,
   "id": "d2d821cf-8b79-4f25-9325-c5e001c97bbc",
   "metadata": {},
   "outputs": [
    {
     "data": {
      "text/plain": [
       "'c:\\\\Users\\\\Umair\\\\Desktop\\\\INHERITANCE practice\\\\Package'"
      ]
     },
     "execution_count": 3,
     "metadata": {},
     "output_type": "execute_result"
    }
   ],
   "source": [
    "os.getcwd()"
   ]
  },
  {
   "cell_type": "code",
   "execution_count": 4,
   "id": "4b4a0dd6-5a22-4c70-be76-e6dc71cc99be",
   "metadata": {},
   "outputs": [],
   "source": [
    "from Lab7 import Cube, Point3D, Rectangle, Square"
   ]
  },
  {
   "cell_type": "code",
   "execution_count": 5,
   "id": "5a095a78-1b30-4409-b36f-b7d961b367cf",
   "metadata": {},
   "outputs": [
    {
     "data": {
      "text/plain": [
       "24"
      ]
     },
     "execution_count": 5,
     "metadata": {},
     "output_type": "execute_result"
    }
   ],
   "source": [
    "cube1 = Cube(2)\n",
    "cube1.volume()\n",
    "cube1.surface_area()"
   ]
  },
  {
   "cell_type": "code",
   "execution_count": 6,
   "id": "b171d96b-c084-4666-9d2d-0aae0fb4d11e",
   "metadata": {},
   "outputs": [
    {
     "name": "stdout",
     "output_type": "stream",
     "text": [
      "Point1: Point3D (3, 4, 5), Distance from origin: 7.0710678118654755\n",
      "Point2: Point3D (6, 8, 10), Distance from origin: 14.142135623730951\n",
      "Distance between Point1 and Point2: 7.0710678118654755\n"
     ]
    }
   ],
   "source": [
    "point1 = Point3D(3, 4, 5)\n",
    "point2 = Point3D(6, 8, 10)\n",
    "print(f\"Point1: {point1}, Distance from origin: {point1.distance_from_origin()}\")\n",
    "print(f\"Point2: {point2}, Distance from origin: {point2.distance_from_origin()}\")\n",
    "print(f\"Distance between Point1 and Point2: {point1.distance_to(point2)}\")"
   ]
  },
  {
   "cell_type": "code",
   "execution_count": 7,
   "id": "466d1c5e-7629-45f4-b0e1-1a556dc665a7",
   "metadata": {},
   "outputs": [
    {
     "name": "stdout",
     "output_type": "stream",
     "text": [
      "Rectangle 1: Rectangle(width=4, height=6), Area: 24, Perimeter: 20\n",
      "Rectangle 2: Rectangle(width=3, height=8), Area: 24, Perimeter: 22\n",
      "Square: Square(side=5), Area: 25, Perimeter: 20\n"
     ]
    }
   ],
   "source": [
    "rect1 = Rectangle(4, 6)\n",
    "rect2 = Rectangle(3, 8)\n",
    "print(f\"Rectangle 1: {rect1}, Area: {rect1.area}, Perimeter: {rect1.perimeter}\")\n",
    "print(f\"Rectangle 2: {rect2}, Area: {rect2.area}, Perimeter: {rect2.perimeter}\")\n",
    "\n",
    "square = Square(5)\n",
    "print(f\"Square: {square}, Area: {square.area}, Perimeter: {square.perimeter}\")"
   ]
  },
  {
   "cell_type": "code",
   "execution_count": 8,
   "id": "2e185f3a-4bb4-434a-813f-41a469d22c0c",
   "metadata": {},
   "outputs": [],
   "source": [
    "from Lab7 import Payroll_system, Salary_employee, Hourly_employee, Commission_employee"
   ]
  },
  {
   "cell_type": "code",
   "execution_count": 10,
   "id": "14c91170-a0da-4623-88fa-b5013ca74bd6",
   "metadata": {},
   "outputs": [],
   "source": [
    "salary_employee = Salary_employee(538, \"Umair khan\", \"1300 $\")\n",
    "hourly_employee = Hourly_employee(\"5xx\", \"xyz\", 40, 25)\n",
    "commission_employee = Commission_employee(\"5xx\", \"xyz\", 1000, 250)"
   ]
  },
  {
   "cell_type": "code",
   "execution_count": 11,
   "id": "ec02f82c-e4f9-4d1c-9e0c-afe05a145c8f",
   "metadata": {},
   "outputs": [
    {
     "name": "stdout",
     "output_type": "stream",
     "text": [
      "Calculate Payroll\n",
      "===========================\n",
      "Payroll for: 538 - Umair khan\n",
      "- Check amount: 1300 $\n",
      "\n",
      "Payroll for: 5xx - xyz\n",
      "- Check amount: 1000\n",
      "\n",
      "Payroll for: 5xx - xyz\n",
      "- Check amount: 1250\n",
      "\n"
     ]
    }
   ],
   "source": [
    "payroll_system = Payroll_system()\n",
    "employees = [salary_employee, hourly_employee, commission_employee]\n",
    "payroll_system.calculate_payroll(employees)"
   ]
  },
  {
   "cell_type": "code",
   "execution_count": 12,
   "id": "1e47a590-5365-4c79-ba07-8674874450cf",
   "metadata": {},
   "outputs": [],
   "source": [
    "from Lab7 import ElectricalAdminStaff, ElectricalInstructor"
   ]
  },
  {
   "cell_type": "code",
   "execution_count": 13,
   "id": "61133144-7969-4aa6-ad44-dd1b6f0fbda4",
   "metadata": {},
   "outputs": [
    {
     "name": "stdout",
     "output_type": "stream",
     "text": [
      "Admin Staff Details:\n",
      "Name: Nabeel khan\n",
      "Email: nabeelkhan@uet.edu.pk\n",
      "Pay: Rs3300.00\n",
      "Department: Electrical Department\n",
      "Team: Team A\n",
      "Tasks Assigned: Manage Electrical Maintenance, Prepare project Reports\n",
      "\n",
      "Instructor Details:\n",
      "Name: Umair khan\n",
      "Email: umairkhan@uet.edu.pk\n",
      "Pay: Rs6000.00\n",
      "Department: Electrical Department\n",
      "Designation: Instructor\n",
      "Courses Assigned: AutoCAD for Electrical Engineerning, Electrical Wiring in AutoCAD\n"
     ]
    }
   ],
   "source": [
    "admin_staff = ElectricalAdminStaff(\"Nabeel\", \"khan\", 3300, \"Team A\")\n",
    "admin_staff.assignTask(\"Manage Electrical Maintenance\")\n",
    "admin_staff.assignTask(\"Prepare project Reports\")\n",
    "\n",
    "instructor = ElectricalInstructor(\"Umair\", \"khan\", 6000, \"Instructor\")\n",
    "instructor.assignCourse(\"AutoCAD for Electrical Engineerning\")\n",
    "instructor.assignCourse(\"Electrical Wiring in AutoCAD\")\n",
    "\n",
    "print(\"Admin Staff Details:\")\n",
    "print(admin_staff)\n",
    "\n",
    "print(\"\\nInstructor Details:\")\n",
    "print(instructor)"
   ]
  },
  {
   "cell_type": "code",
   "execution_count": 14,
   "id": "364c078e-446c-4e24-8be0-fe718f9f4439",
   "metadata": {},
   "outputs": [],
   "source": [
    "from Lab8 import Cube"
   ]
  },
  {
   "cell_type": "code",
   "execution_count": 15,
   "id": "5e961e6c-a7f1-46a3-b7bd-fb5597a18991",
   "metadata": {},
   "outputs": [
    {
     "name": "stdout",
     "output_type": "stream",
     "text": [
      "Cube 1 Details:\n",
      "Cube [Side: 3, Surface Area: 54, Volume: 27]\n",
      "\n",
      "Cube 2 Details:\n",
      "Cube [Side: 5, Surface Area: 150, Volume: 125]\n"
     ]
    }
   ],
   "source": [
    "cube1 = Cube(3)\n",
    "cube2 = Cube(5)\n",
    "\n",
    "print(\"Cube 1 Details:\")\n",
    "print(cube1)\n",
    "print(\"\\nCube 2 Details:\")\n",
    "print(cube2)"
   ]
  },
  {
   "cell_type": "code",
   "execution_count": 16,
   "id": "0feaa2dd-823b-43f6-87d7-a55e1bdcf6b5",
   "metadata": {},
   "outputs": [],
   "source": [
    "from Lab8 import Manager_role, Secretary_role, SalesPerson_role, FactoryWorker_role"
   ]
  },
  {
   "cell_type": "code",
   "execution_count": 18,
   "id": "dded6378-6d19-43f6-aa0d-6e1959a2e77e",
   "metadata": {},
   "outputs": [],
   "source": [
    "Manager = Manager_role(538, \"Umair khan\", \"2800 $\")\n",
    "Secretary = Secretary_role(\"5xx\", \"xyz\", 1500)\n",
    "SalesPerson = SalesPerson_role(\"5xx\", \"xyz\", 23, 40)\n",
    "FactoryWorker = FactoryWorker_role(\"5xx\", \"xyz\", 34, 55)"
   ]
  },
  {
   "cell_type": "code",
   "execution_count": 19,
   "id": "73dda40c-3715-4419-a371-dc370ca93250",
   "metadata": {},
   "outputs": [],
   "source": [
    "from Lab8 import Productivity_system"
   ]
  },
  {
   "cell_type": "code",
   "execution_count": 20,
   "id": "7b287902-ce63-45b2-88f7-e62286aac7c5",
   "metadata": {},
   "outputs": [
    {
     "name": "stdout",
     "output_type": "stream",
     "text": [
      "Productivity System Tracking\n",
      "-----------------------------\n",
      "Umair khan oversees and delegates tasks for 44 hours.\n",
      "\n",
      "xyz efficiently organizes and manages documents for 44 hours.\n",
      "\n",
      "xyz engages with clients and closes deals for 44 hours.\n",
      "\n",
      "xyz diligently assembles products for 44 hours.\n",
      "\n"
     ]
    }
   ],
   "source": [
    "employees = [Manager, Secretary, SalesPerson, FactoryWorker]\n",
    "\n",
    "productivity_system = Productivity_system()\n",
    "\n",
    "productivity_system.Track(employees, 44)"
   ]
  },
  {
   "cell_type": "code",
   "execution_count": 21,
   "id": "5d209f38-91f7-4397-a7de-b10bb8f1786f",
   "metadata": {},
   "outputs": [],
   "source": [
    "from Lab9 import TemporarySecretary"
   ]
  },
  {
   "cell_type": "code",
   "execution_count": 22,
   "id": "41a0c88b-448e-4452-9135-f90c135790f1",
   "metadata": {},
   "outputs": [
    {
     "name": "stdout",
     "output_type": "stream",
     "text": [
      "Productivity System Tracking\n",
      "-----------------------------\n",
      "Robin Williams efficiently organizes and manages documents for 40 hours.\n",
      "\n",
      "Calculate Payroll\n",
      "===========================\n",
      "Payroll for: 5 - Robin Williams\n",
      "- Check amount: 360\n",
      "\n"
     ]
    }
   ],
   "source": [
    "temporary_secretary = TemporarySecretary(5, \"Robin Williams\", 40, 9)\n",
    "company_employees = [temporary_secretary]\n",
    "productivity_system = Productivity_system()\n",
    "productivity_system.Track(company_employees, 40)\n",
    "payroll_system = Payroll_system()\n",
    "payroll_system.calculate_payroll(company_employees)\n"
   ]
  },
  {
   "cell_type": "markdown",
   "id": "cbb68149",
   "metadata": {},
   "source": [
    "-------------------"
   ]
  }
 ],
 "metadata": {
  "kernelspec": {
   "display_name": "Python 3 (ipykernel)",
   "language": "python",
   "name": "python3"
  },
  "language_info": {
   "codemirror_mode": {
    "name": "ipython",
    "version": 3
   },
   "file_extension": ".py",
   "mimetype": "text/x-python",
   "name": "python",
   "nbconvert_exporter": "python",
   "pygments_lexer": "ipython3",
   "version": "3.12.4"
  }
 },
 "nbformat": 4,
 "nbformat_minor": 5
}
