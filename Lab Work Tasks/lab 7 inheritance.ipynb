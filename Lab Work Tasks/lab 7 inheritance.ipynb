{
 "cells": [
  {
   "cell_type": "markdown",
   "metadata": {},
   "source": [
    "<div style=\"\n",
    "        background: linear-gradient(90deg, #8e44ad, #3498db);\n",
    "        padding: 30px 20px;\n",
    "        border-radius: 25px;\n",
    "        box-shadow: 0 7px 6px rgba(0, 0, 0, 0.3);\n",
    "        border: 2px solid #CCCCFF;\n",
    "        max-width: 90%;\n",
    "    \">\n",
    "        <span style=\"\n",
    "            color: #FFBF00;\n",
    "            font-size: 20px;\n",
    "            font-family: Cooper Black;\n",
    "            letter-spacing: 2px;\n",
    "            line-height: 1.4;\n",
    "            text-transform: sentencecase;\n",
    "            text-shadow: 3px 3px 8px rgba(0, 0, 0, 0.5);\n",
    "            text-align: center;\n",
    "        \">\n",
    "            University of Engineering and Technology Peshawar Jalozai Campus\n",
    "        </span>\n",
    "  </div>\n"
   ]
  },
  {
   "cell_type": "markdown",
   "metadata": {},
   "source": [
    " <div style=\"\n",
    "        background: linear-gradient(90deg, #e06377, #3b3a30);\n",
    "        padding: 30px 20px;\n",
    "        border-radius: 25px;\n",
    "        box-shadow: 0 7px 6px rgba(0, 0, 0, 0.3);\n",
    "        border: 2px solid #CCCCFF;\n",
    "        max-width: 90%;\n",
    "    \">\n",
    "        <span style=\"\n",
    "            font-size: 20px;\n",
    "            font-family: Cooper Black;\n",
    "            color: #FFBF00;\n",
    "            font-weight: bold;\n",
    "            letter-spacing: 1px;\n",
    "            text-shadow: 3px 1px 8px rgba(0, 0, 1, 0.6);\n",
    "        \">\n",
    "            Lab Title: EE-271 “OOP & Data Structures Lab”\n",
    "        </span>\n",
    "    </div>\n"
   ]
  },
  {
   "cell_type": "markdown",
   "metadata": {},
   "source": [
    "<div style=\"\n",
    "        background: linear-gradient(90deg, #c83349, #622569);\n",
    "        padding: 30px 20px;\n",
    "        border-radius: 25px;\n",
    "        box-shadow: 0 7px 6px rgba(0, 0, 0, 0.3);\n",
    "        border: 2px solid #CCCCFF;\n",
    "        max-width: 90%;\n",
    "    \">\n",
    "        <span style=\"\n",
    "            font-size: 20px;\n",
    "            font-family: Cooper Black;\n",
    "            color: #FFBF00;\n",
    "            font-weight: bold;\n",
    "            letter-spacing: 1px;\n",
    "            text-shadow: 3px 1px 8px rgba(0, 0, 1, 0.6);\n",
    "        \">\n",
    "           Lab 7: Inheritanced\n",
    "        </span>\n",
    "    </div>\n"
   ]
  },
  {
   "cell_type": "markdown",
   "metadata": {},
   "source": [
    "<span style=\"color: #000000;\n",
    "font-size: 44px;\n",
    "transition: color 0.3s;\">&#x21DD; </span>\n",
    "<span style=\"color: #ff0000;\n",
    "    font-family: Arial Black;\n",
    "font-size: 35px; font-weight: bold; \n",
    "text-shadow: 0px 4px 2px rgb(0, 0, 0);\">\n",
    "    Lab work Tasks :</span>"
   ]
  },
  {
   "cell_type": "markdown",
   "metadata": {},
   "source": [
    "-------"
   ]
  },
  {
   "cell_type": "markdown",
   "metadata": {},
   "source": [
    "\n",
    "<center><h3 style=\"color: black; font-family: Arial, sans-serif; background-color: #c83349; padding: 8px; border-radius: 5px;\">Square → Cube </h3></center>\n",
    "\n",
    "<h3 style=\"color: #34495e; font-family: Arial, sans-serif;\">Overview</h3>\n",
    "<p style=\"color: #2c3e50; font-family: Arial, sans-serif; line-height: 1.6;\">\n",
    "  This exercise involves creating a Python implementation of class inheritance to model a square and a cube. The goal is to design a reusable and modular structure, where the cube class extends the functionality of the square class.\n",
    "</p>\n",
    "\n",
    "<h3 style=\"color: #34495e; font-family: Arial, sans-serif;\">Specifications</h3>\n",
    "<ol style=\"color: #2c3e50; font-family: Arial, sans-serif; line-height: 1.8;\">\n",
    "  <li>\n",
    "    <strong style=\"color: #2980b9;\"><code>Square</code> Class:</strong>\n",
    "    <ul>\n",
    "      <li>Represents a square with a given side length.</li>\n",
    "      <li>Includes an instance method to compute the area of the square.</li>\n",
    "    </ul>\n",
    "  </li>\n",
    "  <li>\n",
    "    <strong style=\"color: #e67e22;\"><code>Cube</code> Class:</strong>\n",
    "    <ul>\n",
    "      <li>Inherits from the <code>Square</code> class.</li>\n",
    "      <li>Includes instance methods to compute the volume and surface area of the cube.</li>\n",
    "    </ul>\n",
    "  </li>\n",
    "  <li>\n",
    "    <strong style=\"color: #27ae60;\">Implementation:</strong>\n",
    "    <ul>\n",
    "      <li>Create two instances of the <code>Cube</code> class.</li>\n",
    "      <li>Use the instance methods to calculate and display the volume and surface area for each instance.</li>\n",
    "    </ul>\n",
    "  </li>\n",
    "</ol>\n"
   ]
  },
  {
   "cell_type": "code",
   "execution_count": 13,
   "metadata": {},
   "outputs": [],
   "source": [
    "class Square:\n",
    "    def __init__(self, side_length):\n",
    "        self.side_length = side_length\n",
    "\n",
    "    @property\n",
    "    def area(self):\n",
    "        return self.side_length ** 2\n",
    "\n",
    "    @property\n",
    "    def perimeter(self):\n",
    "        return 4 * self.side_length\n",
    "\n",
    "    def __repr__(self) -> str:\n",
    "        return f\"{type(self).__name__}({self.side_length})\"\n",
    "\n",
    "    def __str__(self) -> str:\n",
    "        return f\"Square with side length: {self.side_length}\"\n",
    "\n",
    "\n",
    "class Cube(Square):\n",
    "    def __init__(self, side_length):\n",
    "        super().__init__(side_length)\n",
    "    \n",
    "    def volume(self):\n",
    "        return  self.side_length ** 3\n",
    "        \n",
    "    def surface_area(self):\n",
    "        return 6 * self.side_length ** 2"
   ]
  },
  {
   "cell_type": "code",
   "execution_count": 14,
   "metadata": {},
   "outputs": [],
   "source": [
    "cube1 = Cube(2)"
   ]
  },
  {
   "cell_type": "code",
   "execution_count": 15,
   "metadata": {},
   "outputs": [
    {
     "data": {
      "text/plain": [
       "8"
      ]
     },
     "execution_count": 15,
     "metadata": {},
     "output_type": "execute_result"
    }
   ],
   "source": [
    "cube1.volume()"
   ]
  },
  {
   "cell_type": "code",
   "execution_count": 16,
   "metadata": {},
   "outputs": [
    {
     "data": {
      "text/plain": [
       "24"
      ]
     },
     "execution_count": 16,
     "metadata": {},
     "output_type": "execute_result"
    }
   ],
   "source": [
    "cube1.surface_area()"
   ]
  },
  {
   "cell_type": "markdown",
   "metadata": {},
   "source": [
    "---------------------------------"
   ]
  },
  {
   "cell_type": "markdown",
   "metadata": {},
   "source": [
    "\n",
    "<center><h3 style=\"color: #34495e; font-family: Arial, sans-serif; background-color: orange; padding: 8px; border-radius: 5px;\">Point2D → Point3D </h3></center>\n",
    "\n",
    "<h3 style=\"color: #34495e; font-family: Arial, sans-serif;\">Objective</h3>\n",
    "<p style=\"color: #2c3e50; font-family: Arial, sans-serif; line-height: 1.6;\">\n",
    "  Create a <code>Point2D</code> class and inherit a <code>Point3D</code> class from it. The <code>Point3D</code> class should have an instance method \n",
    "  <code>distance_from_origin()</code> to calculate the distance of the point from the origin (0, 0, 0).\n",
    "</p>\n",
    "\n",
    "<h3 style=\"color: #34495e; font-family: Arial, sans-serif;\">Specifications</h3>\n",
    "<ol style=\"color: #2c3e50; font-family: Arial, sans-serif; line-height: 1.8;\">\n",
    "  <li>\n",
    "    <strong style=\"color: #2980b9;\"><code>Point2D</code> Class:</strong>\n",
    "    <ul>\n",
    "      <li>Represents a 2-dimensional point with <code>x</code> and <code>y</code> coordinates.</li>\n",
    "    </ul>\n",
    "  </li>\n",
    "  <li>\n",
    "    <strong style=\"color: #e67e22;\"><code>Point3D</code> Class:</strong>\n",
    "    <ul>\n",
    "      <li>Inherits from the <code>Point2D</code> class.</li>\n",
    "      <li>Adds a third coordinate, <code>z</code>.</li>\n",
    "      <li>Includes an instance method <code>distance_from_origin()</code> to calculate the distance from the origin in 3D space.</li>\n",
    "    </ul>\n",
    "  </li>\n",
    "  <li>\n",
    "    <strong style=\"color: #27ae60;\">Implementation:</strong>\n",
    "    <ul>\n",
    "      <li>Create two instances of the <code>Point3D</code> class.</li>\n",
    "      <li>Use the <code>distance_from_origin()</code> method to calculate and display the distance from the origin for each point.</li>\n",
    "    </ul>\n",
    "  </li>\n",
    "</ol>\n"
   ]
  },
  {
   "cell_type": "code",
   "execution_count": 17,
   "metadata": {},
   "outputs": [],
   "source": [
    "import math\n",
    "\n",
    "class Point:\n",
    "    def __init__(self, x: float = 0.0, y: float = 0.0):\n",
    "        self.x = x\n",
    "        self.y = y\n",
    "\n",
    "    def distance_to(self, other: 'Point') -> float:\n",
    "        return math.sqrt((self.x - other.x) ** 2 + (self.y - other.y) ** 2)\n",
    "\n",
    "    def distance_from_origin(self) -> float:\n",
    "        return math.sqrt(self.x ** 2 + self.y ** 2)\n",
    "\n",
    "    def __repr__(self):\n",
    "        return f'{type(self).__name__} ({self.x},{self.y})'\n",
    "\n",
    "\n",
    "class Point3D(Point):\n",
    "    def __init__(self, x: float = 0.0, y: float = 0.0, z: float = 0.0):\n",
    "        super().__init__(x, y)\n",
    "        self.z = z\n",
    "\n",
    "    def distance_from_origin(self) -> float:\n",
    "        return math.sqrt(self.x ** 2 + self.y ** 2 + self.z ** 2)\n",
    "\n",
    "    def distance_to(self, other: 'Point3D') -> float:\n",
    "        return math.sqrt((self.x - other.x) ** 2 + (self.y - other.y) ** 2 + (self.z - other.z) ** 2)\n",
    "\n",
    "    def __repr__(self):\n",
    "        return f'{type(self).__name__} ({self.x}, {self.y}, {self.z})'\n"
   ]
  },
  {
   "cell_type": "code",
   "execution_count": 18,
   "metadata": {},
   "outputs": [],
   "source": [
    "point1 = Point3D(3, 4, 5)\n",
    "point2 = Point3D(6, 8, 10)"
   ]
  },
  {
   "cell_type": "code",
   "execution_count": 19,
   "metadata": {},
   "outputs": [
    {
     "name": "stdout",
     "output_type": "stream",
     "text": [
      "Point1: Point3D (3, 4, 5), Distance from origin: 7.0710678118654755\n",
      "Point2: Point3D (6, 8, 10), Distance from origin: 14.142135623730951\n",
      "Distance between Point1 and Point2: 7.0710678118654755\n"
     ]
    }
   ],
   "source": [
    "print(f\"Point1: {point1}, Distance from origin: {point1.distance_from_origin()}\")\n",
    "print(f\"Point2: {point2}, Distance from origin: {point2.distance_from_origin()}\")\n",
    "print(f\"Distance between Point1 and Point2: {point1.distance_to(point2)}\")"
   ]
  },
  {
   "cell_type": "markdown",
   "metadata": {},
   "source": [
    "----------------------------------"
   ]
  },
  {
   "cell_type": "markdown",
   "metadata": {},
   "source": [
    "\n",
    "<center><h3 style=\"color: black; font-family: Arial, sans-serif; background-color: red; padding: 8px; border-radius: 5px;\">Rectangle → Square</h3></center>\n",
    "\n",
    "<h3 style=\"color: #34495e; font-family: Arial, sans-serif;\">Objective</h3>\n",
    "<p style=\"color: #2c3e50; font-family: Arial, sans-serif; line-height: 1.6;\">\n",
    "  Create a <code>Rectangle</code> class and inherit it into a <code>Square</code> class. The <code>Square</code> class should inherit the properties and methods from the <code>Rectangle</code> class and be able to represent a square where all sides are equal.\n",
    "</p>\n",
    "\n",
    "<h3 style=\"color: #34495e; font-family: Arial, sans-serif;\">Specifications</h3>\n",
    "<ol style=\"color: #2c3e50; font-family: Arial, sans-serif; line-height: 1.8;\">\n",
    "  <li>\n",
    "    <strong style=\"color: #2980b9;\"><code>Rectangle</code> Class:</strong>\n",
    "    <ul>\n",
    "      <li>Represents a rectangle with two sides: <code>length</code> and <code>width</code>.</li>\n",
    "      <li>Includes instance methods to calculate the area and perimeter of the rectangle.</li>\n",
    "    </ul>\n",
    "  </li>\n",
    "  <li>\n",
    "    <strong style=\"color: #e67e22;\"><code>Square</code> Class:</strong>\n",
    "    <ul>\n",
    "      <li>Inherits from the <code>Rectangle</code> class.</li>\n",
    "      <li>Represents a square, where all sides are equal.</li>\n",
    "      <li>Overrides methods to calculate the area and perimeter, taking only one side as input.</li>\n",
    "    </ul>\n",
    "  </li>\n",
    "  <li>\n",
    "    <strong style=\"color: #27ae60;\">Implementation:</strong>\n",
    "    <ul>\n",
    "      <li>Create two instances of the <code>Rectangle</code> class.</li>\n",
    "      <li>Call the instance methods for each rectangle to compute the area and perimeter.</li>\n",
    "    </ul>\n",
    "  </li>\n",
    "</ol>\n"
   ]
  },
  {
   "cell_type": "code",
   "execution_count": 20,
   "metadata": {},
   "outputs": [],
   "source": [
    "class Rectangle:\n",
    "    def __init__(self, width: float, height: float):\n",
    "        self.width = width\n",
    "        self.height = height\n",
    "\n",
    "    @property\n",
    "    def area(self) -> float:\n",
    "        return self.width * self.height\n",
    "\n",
    "    @property\n",
    "    def perimeter(self) -> float:\n",
    "        return 2 * (self.width + self.height)\n",
    "\n",
    "    def __repr__(self) -> str:\n",
    "        return f'Rectangle(width={self.width}, height={self.height})'\n",
    "\n",
    "\n",
    "class Square(Rectangle):\n",
    "    def __init__(self, side: float):\n",
    "        super().__init__(side, side)\n",
    "        self.side = side\n",
    "    def __repr__(self) -> str:\n",
    "        return f'Square(side={self.side})'"
   ]
  },
  {
   "cell_type": "code",
   "execution_count": 21,
   "metadata": {},
   "outputs": [],
   "source": [
    "rect1 = Rectangle(4, 6)\n",
    "rect2 = Rectangle(3, 8)"
   ]
  },
  {
   "cell_type": "code",
   "execution_count": 22,
   "metadata": {},
   "outputs": [
    {
     "name": "stdout",
     "output_type": "stream",
     "text": [
      "Rectangle 1: Rectangle(width=4, height=6), Area: 24, Perimeter: 20\n",
      "Rectangle 2: Rectangle(width=3, height=8), Area: 24, Perimeter: 22\n"
     ]
    }
   ],
   "source": [
    "print(f\"Rectangle 1: {rect1}, Area: {rect1.area}, Perimeter: {rect1.perimeter}\")\n",
    "print(f\"Rectangle 2: {rect2}, Area: {rect2.area}, Perimeter: {rect2.perimeter}\")"
   ]
  },
  {
   "cell_type": "code",
   "execution_count": 23,
   "metadata": {},
   "outputs": [],
   "source": [
    "square = Square(5)"
   ]
  },
  {
   "cell_type": "code",
   "execution_count": 24,
   "metadata": {},
   "outputs": [
    {
     "name": "stdout",
     "output_type": "stream",
     "text": [
      "Square: Square(side=5), Area: 25, Perimeter: 20\n"
     ]
    }
   ],
   "source": [
    "print(f\"Square: {square}, Area: {square.area}, Perimeter: {square.perimeter}\")"
   ]
  },
  {
   "cell_type": "markdown",
   "metadata": {},
   "source": [
    "-------------------------"
   ]
  },
  {
   "cell_type": "markdown",
   "metadata": {},
   "source": [
    "\n",
    "<center><h3 style=\"color: #34495e; font-family: Arial, sans-serif; background-color: #FF00FF; padding: 8px; border-radius: 5px;\">Circle → Sphere</h3></center>\n",
    "\n",
    "<h3 style=\"color: #34495e; font-family: Arial, sans-serif;\">Objective</h3>\n",
    "<p style=\"color: #2c3e50; font-family: Arial, sans-serif; line-height: 1.6;\">\n",
    "  Create a <code>Circle</code> class and inherit it into a <code>Sphere</code> class. The <code>Sphere</code> class will have its own methods for calculating the volume and surface area, while inheriting the attributes from the <code>Circle</code> class.\n",
    "</p>\n",
    "\n",
    "<h3 style=\"color: #34495e; font-family: Arial, sans-serif;\">Specifications</h3>\n",
    "<ol style=\"color: #2c3e50; font-family: Arial, sans-serif; line-height: 1.8;\">\n",
    "  <li>\n",
    "    <strong style=\"color: #2980b9;\"><code>Circle</code> Class:</strong>\n",
    "    <ul>\n",
    "      <li>Represents a circle with a given radius.</li>\n",
    "      <li>Provides instance methods to calculate the area and circumference of the circle.</li>\n",
    "    </ul>\n",
    "  </li>\n",
    "  <li>\n",
    "    <strong style=\"color: #e67e22;\"><code>Sphere</code> Class:</strong>\n",
    "    <ul>\n",
    "      <li>Inherits from the <code>Circle</code> class.</li>\n",
    "      <li>Uses the radius from the <code>Circle</code> class.</li>\n",
    "      <li>Includes instance methods to calculate the volume and surface area of the sphere.</li>\n",
    "    </ul>\n",
    "  </li>\n",
    "  <li>\n",
    "    <strong style=\"color: #27ae60;\">Implementation:</strong>\n",
    "    <ul>\n",
    "      <li>Create two instances of the <code>Sphere</code> class.</li>\n",
    "      <li>Call the instance methods for each sphere to compute the volume and surface area.</li>\n",
    "    </ul>\n",
    "  </li>\n",
    "</ol>\n"
   ]
  },
  {
   "cell_type": "code",
   "execution_count": 25,
   "metadata": {},
   "outputs": [],
   "source": [
    "import math\n",
    "\n",
    "class Circle:\n",
    "    def __init__(self, radius: float):\n",
    "        self.radius = radius\n",
    "\n",
    "    @property\n",
    "    def area(self) -> float:\n",
    "        return math.pi * (self._radius ** 2)\n",
    "\n",
    "    @property\n",
    "    def circumference(self) -> float:\n",
    "        return 2 * math.pi * self._radius\n",
    "\n",
    "    @property\n",
    "    def diameter(self) -> float:\n",
    "        return self._radius * 2\n",
    "\n",
    "\n",
    "class Sphere(Circle):\n",
    "    def __init__(self, radius: float):\n",
    "        super().__init__(radius)\n",
    "\n",
    "    @property\n",
    "    def surface_area(self) -> float:\n",
    "        return 4 * math.pi * (self.radius ** 2)\n",
    "\n",
    "    @property\n",
    "    def volume(self) -> float:\n",
    "        return (4/3) * math.pi * (self.radius ** 3)\n",
    "\n",
    "    def __repr__(self) -> str:\n",
    "        return f\"Sphere(radius={self.radius})\""
   ]
  },
  {
   "cell_type": "code",
   "execution_count": 26,
   "metadata": {},
   "outputs": [],
   "source": [
    "sphere = Sphere(5)"
   ]
  },
  {
   "cell_type": "code",
   "execution_count": 27,
   "metadata": {},
   "outputs": [
    {
     "data": {
      "text/plain": [
       "Sphere(radius=5)"
      ]
     },
     "execution_count": 27,
     "metadata": {},
     "output_type": "execute_result"
    }
   ],
   "source": [
    "sphere"
   ]
  },
  {
   "cell_type": "code",
   "execution_count": 28,
   "metadata": {},
   "outputs": [
    {
     "name": "stdout",
     "output_type": "stream",
     "text": [
      "Surface Area: 314.16, Volume: 523.60\n"
     ]
    }
   ],
   "source": [
    "print(f\"Surface Area: {sphere.surface_area:.2f}, Volume: {sphere.volume:.2f}\")"
   ]
  },
  {
   "cell_type": "markdown",
   "metadata": {},
   "source": [
    "------------------"
   ]
  },
  {
   "cell_type": "markdown",
   "metadata": {},
   "source": [
    "<h2 style=\"color: #2c3e50; font-family: Arial, sans-serif; background-color: #008080; padding: 10px; border-radius: 8px; text-align: center;\">HR System: Employee Payroll Processing</h2>\n",
    "\n",
    "<h3 style=\"color: #34495e; font-family: Arial, sans-serif; background-color: #dfe6e9; padding: 8px; border-radius: 5px;\">Objective</h3>\n",
    "<p style=\"color: #2c3e50; font-family: Arial, sans-serif; line-height: 1.6; background-color: #f8f9fa; padding: 10px; border-radius: 5px;\">\n",
    "  The goal is to implement an HR system that can process payroll for different types of employees. There are three types of employees: Salary-based employees, Hourly employees, and Commission-based employees. We will implement a base class <code style=\"color: #d35400;\">Employee</code> with subclasses for each type of employee. Additionally, we will create a <code style=\"color: #27ae60;\">PayrollSystem</code> class to calculate and display payroll for a collection of employees.\n",
    "</p>\n",
    "\n",
    "<h3 style=\"color: #34495e; font-family: Arial, sans-serif; background-color: #dfe6e9; padding: 8px; border-radius: 5px;\">Classes</h3>\n",
    "<ol style=\"color: #2c3e50; font-family: Arial, sans-serif; line-height: 1.8; background-color: #f8f9fa; padding: 10px; border-radius: 5px;\">\n",
    "  <li>\n",
    "    <strong style=\"color: #2980b9; background-color: #eafaf1; padding: 5px; border-radius: 5px;\"><code>Employee</code> (Base Class):</strong>\n",
    "    <ul>\n",
    "      <li>Holds common properties like <code style=\"color: #d35400;\">id</code> and <code style=\"color: #d35400;\">name</code> for every employee.</li>\n",
    "      <li>Defines an abstract <code style=\"color: #d35400;\">calculate_payroll()</code> method, which is overridden in derived classes.</li>\n",
    "    </ul>\n",
    "  </li>\n",
    "  <li>\n",
    "    <strong style=\"color: #e67e22; background-color: #fceae5; padding: 5px; border-radius: 5px;\"><code>SalaryEmployee</code>:</strong>\n",
    "    <ul>\n",
    "      <li>Represents employees with a fixed salary.</li>\n",
    "      <li>Implements the <code style=\"color: #d35400;\">calculate_payroll()</code> method to return a fixed weekly salary.</li>\n",
    "    </ul>\n",
    "  </li>\n",
    "  <li>\n",
    "    <strong style=\"color: #e67e22; background-color: #fceae5; padding: 5px; border-radius: 5px;\"><code>HourlyEmployee</code>:</strong>\n",
    "    <ul>\n",
    "      <li>Represents employees who are paid hourly.</li>\n",
    "      <li>Implements the <code style=\"color: #d35400;\">calculate_payroll()</code> method to return the product of hours worked and hourly rate.</li>\n",
    "    </ul>\n",
    "  </li>\n",
    "  <li>\n",
    "    <strong style=\"color: #e67e22; background-color: #fceae5; padding: 5px; border-radius: 5px;\"><code>CommissionEmployee</code>:</strong>\n",
    "    <ul>\n",
    "      <li>Represents employees with a fixed salary plus commission based on sales.</li>\n",
    "      <li>Uses the base class <code style=\"color: #d35400;\">SalaryEmployee</code> for the fixed salary and adds the commission.</li>\n",
    "    </ul>\n",
    "  </li>\n",
    "  <li>\n",
    "    <strong style=\"color: #27ae60; background-color: #eafaf1; padding: 5px; border-radius: 5px;\"><code>PayrollSystem</code>:</strong>\n",
    "    <ul>\n",
    "      <li>Processes payroll for a collection of employees.</li>\n",
    "      <li>Prints each employee's details and their payroll.</li>\n",
    "    </ul>\n",
    "  </li>\n",
    "</ol>\n"
   ]
  },
  {
   "cell_type": "code",
   "execution_count": 29,
   "metadata": {},
   "outputs": [],
   "source": [
    "class Payroll_system:\n",
    "    def calculate_payroll(self, employees):\n",
    "        print(\"Calculate Payroll\")\n",
    "        print(\"===========================\")\n",
    "        for employee in employees:\n",
    "            print(f\"Payroll for: {employee.id} - {employee.name}\")\n",
    "            print(f\"Check amount: {employee.calculate_payroll()}\")\n",
    "            print()"
   ]
  },
  {
   "cell_type": "code",
   "execution_count": 30,
   "metadata": {},
   "outputs": [],
   "source": [
    "class Employee:\n",
    "    def __init__(self, id, name):\n",
    "        self.id = id\n",
    "        self.name = name"
   ]
  },
  {
   "cell_type": "code",
   "execution_count": 31,
   "metadata": {},
   "outputs": [],
   "source": [
    "class Salary_employee(Employee):\n",
    "    def __init__(self, id, name, weekly_salary):\n",
    "        super().__init__(id, name)\n",
    "        self.weekly_salary = weekly_salary\n",
    "\n",
    "    def calculate_payroll(self):\n",
    "        return self.weekly_salary"
   ]
  },
  {
   "cell_type": "code",
   "execution_count": 32,
   "metadata": {},
   "outputs": [],
   "source": [
    "class Hourly_employee(Employee):\n",
    "    def __init__(self, id, name, hours_worked, hourly_rate):\n",
    "        super().__init__(id, name)\n",
    "        self.hours_worked = hours_worked\n",
    "        self.hourly_rate = hourly_rate\n",
    "\n",
    "    def calculate_payroll(self):\n",
    "        return self.hours_worked * self.hourly_rate"
   ]
  },
  {
   "cell_type": "code",
   "execution_count": 33,
   "metadata": {},
   "outputs": [],
   "source": [
    "class Commission_employee(Salary_employee):\n",
    "    def __init__(self, id, name, weekly_salary, commission):\n",
    "        super().__init__(id, name, weekly_salary)\n",
    "        self.commission = commission\n",
    "\n",
    "    def calculate_payroll(self):\n",
    "        fixed = super().calculate_payroll()\n",
    "        return fixed + self.commission"
   ]
  },
  {
   "cell_type": "code",
   "execution_count": 34,
   "metadata": {},
   "outputs": [],
   "source": [
    "salary_employee = Salary_employee(538, \"Umair khan\", \"1300 $\")\n",
    "hourly_employee = Hourly_employee(\"5xx\", \"xyz\", 40, 25)\n",
    "commission_employee = Commission_employee(\"5xx\", \"xyz\", 1000, 250)"
   ]
  },
  {
   "cell_type": "code",
   "execution_count": 35,
   "metadata": {},
   "outputs": [
    {
     "name": "stdout",
     "output_type": "stream",
     "text": [
      "Calculate Payroll\n",
      "===========================\n",
      "Payroll for: 538 - Umair khan\n",
      "Check amount: 1300 $\n",
      "\n",
      "Payroll for: 5xx - xyz\n",
      "Check amount: 1000\n",
      "\n",
      "Payroll for: 5xx - xyz\n",
      "Check amount: 1250\n",
      "\n"
     ]
    }
   ],
   "source": [
    "payroll_system = Payroll_system()\n",
    "employees = [salary_employee, hourly_employee, commission_employee]\n",
    "payroll_system.calculate_payroll(employees)"
   ]
  },
  {
   "cell_type": "markdown",
   "metadata": {},
   "source": [
    "-------"
   ]
  },
  {
   "cell_type": "markdown",
   "metadata": {},
   "source": [
    "<h3 style=\"color: #2c3e50; font-family: Arial, sans-serif; background-color: #808000; padding: 10px; border-radius: 8px; text-align: center;\">ElectricalDepartment</h3>\n",
    "\n",
    "<h3 style=\"color: #34495e; font-family: Arial, sans-serif;\">Objective</h3>\n",
    "<p style=\"color: #2c3e50; font-family: Arial, sans-serif; line-height: 1.3;\">\n",
    "  Design a class called <code>ElectricalDepartment</code> that represents an electrical department in a company. This class should model the typical operations and responsibilities of the department.\n",
    "</p>\n",
    "\n",
    "<h3 style=\"color: #34495e; font-family: Arial, sans-serif;\">Requirements</h3>\n",
    "<ol style=\"color: #2c3e50; font-family: Arial, sans-serif; line-height: 1.3;\">\n",
    "  <li>\n",
    "    <strong style=\"color: #2980b9;\">Employee Class:</strong>\n",
    "    <ul>\n",
    "      <li>Create an <code>Employee</code> class that holds employee-specific information such as name, position, and contact details.</li>\n",
    "    </ul>\n",
    "  </li>\n",
    "  <li>\n",
    "    <strong style=\"color: #e67e22;\">Department Management:</strong>\n",
    "    <ul>\n",
    "      <li>The <code>ElectricalDepartment</code> class should have a list of employees.</li>\n",
    "      <li>Include methods to add and remove employees.</li>\n",
    "      <li>Provide a method to display all employees in the department.</li>\n",
    "    </ul>\n",
    "  </li>\n",
    "  <li>\n",
    "    <strong style=\"color: #e67e22;\">Project/Task Management:</strong>\n",
    "    <ul>\n",
    "      <li>Include methods for adding and removing tasks.</li>\n",
    "      <li>Allow assigning employees to tasks.</li>\n",
    "      <li>Provide functionality to report on task completion or status.</li>\n",
    "    </ul>\n",
    "  </li>\n",
    "  <li>\n",
    "    <strong style=\"color: #27ae60;\">Equipment:</strong>\n",
    "    <ul>\n",
    "      <li>Model equipment used by the electrical department, including type, condition, and usage.</li>\n",
    "    </ul>\n",
    "  </li>\n",
    "  <li>\n",
    "    <strong style=\"color: #27ae60;\">Salary Calculation:</strong>\n",
    "    <ul>\n",
    "      <li>Implement salary calculations for employees, including overtime or performance-based bonuses.</li>\n",
    "    </ul>\n",
    "  </li>\n",
    "  <li>\n",
    "    <strong style=\"color: #27ae60;\">Performance Reports:</strong>\n",
    "    <ul>\n",
    "      <li>Include functionality to generate reports on employee performance based on the tasks assigned to them.</li>\n",
    "    </ul>\n",
    "  </li>\n",
    "</ol>\n"
   ]
  },
  {
   "cell_type": "code",
   "execution_count": 36,
   "metadata": {},
   "outputs": [],
   "source": [
    "class ElectricalEmployee:\n",
    "    def __init__(self, fName, lName, pay, department=\"Electrical Department\"):\n",
    "        self.fName = fName\n",
    "        self.lName = lName\n",
    "        self.email = f\"{self.fName.lower()}{self.lName.lower()}@uet.edu.pk\"\n",
    "        self.pay = pay\n",
    "        self.department = department\n",
    "\n",
    "    def raisePay(self, percentage):\n",
    "        self.pay += self.pay * (percentage / 100)\n",
    "\n",
    "    def __str__(self):\n",
    "        return (\n",
    "            f\"Name: {self.fName} {self.lName}\\n\"\n",
    "            f\"Email: {self.email}\\n\"\n",
    "            f\"Pay: Rs{self.pay:.2f}\\n\"\n",
    "            f\"Department: {self.department}\"\n",
    "        )"
   ]
  },
  {
   "cell_type": "code",
   "execution_count": 37,
   "metadata": {},
   "outputs": [],
   "source": [
    "class ElectricalAdminStaff(ElectricalEmployee):\n",
    "    def __init__(self, fName, lName, pay, team=None):\n",
    "        super().__init__(fName, lName, pay)\n",
    "        self.team = team\n",
    "        self.tasks = []\n",
    "\n",
    "    def assignTask(self, task):\n",
    "        self.tasks.append(task)\n",
    "\n",
    "    def __str__(self):\n",
    "        base_info = super().__str__()\n",
    "        team_info = f\"Team: {self.team}\" if self.team else \"Team: None\"\n",
    "        tasks_info = f\"Tasks Assigned: {', '.join(self.tasks) if self.tasks else 'No tasks assigned'}\"\n",
    "        return f\"{base_info}\\n{team_info}\\n{tasks_info}\""
   ]
  },
  {
   "cell_type": "code",
   "execution_count": 38,
   "metadata": {},
   "outputs": [],
   "source": [
    "class ElectricalInstructor(ElectricalEmployee):\n",
    "    def __init__(self, fName, lName, pay, designation):\n",
    "        super().__init__(fName, lName, pay)\n",
    "        self.designation = designation\n",
    "        self.courses = []\n",
    "\n",
    "    def assignCourse(self, course):\n",
    "        self.courses.append(course)\n",
    "\n",
    "    def __str__(self):\n",
    "        base_info = super().__str__()\n",
    "        designation_info = f\"Designation: {self.designation}\"\n",
    "        courses_info = f\"Courses Assigned: {', '.join(self.courses) if self.courses else 'No courses assigned'}\"\n",
    "        return f\"{base_info}\\n{designation_info}\\n{courses_info}\""
   ]
  },
  {
   "cell_type": "code",
   "execution_count": 39,
   "metadata": {},
   "outputs": [],
   "source": [
    "admin_staff = ElectricalAdminStaff(\"Nabeel\", \"khan\", 3300, \"Team A\")\n",
    "admin_staff.assignTask(\"Manage Electrical Maintenance\")\n",
    "admin_staff.assignTask(\"Prepare project Reports\")"
   ]
  },
  {
   "cell_type": "code",
   "execution_count": 40,
   "metadata": {},
   "outputs": [],
   "source": [
    "instructor = ElectricalInstructor(\"Umair\", \"khan\", 6000, \"Instructor\")\n",
    "instructor.assignCourse(\"AutoCAD for Electrical Engineerning\")\n",
    "instructor.assignCourse(\"Electrical Wiring in AutoCAD\")"
   ]
  },
  {
   "cell_type": "code",
   "execution_count": 41,
   "metadata": {},
   "outputs": [
    {
     "name": "stdout",
     "output_type": "stream",
     "text": [
      "Admin Staff Details:\n",
      "Name: Nabeel khan\n",
      "Email: nabeelkhan@uet.edu.pk\n",
      "Pay: Rs3300.00\n",
      "Department: Electrical Department\n",
      "Team: Team A\n",
      "Tasks Assigned: Manage Electrical Maintenance, Prepare project Reports\n"
     ]
    }
   ],
   "source": [
    "print(\"Admin Staff Details:\")\n",
    "print(admin_staff)"
   ]
  },
  {
   "cell_type": "code",
   "execution_count": 42,
   "metadata": {},
   "outputs": [
    {
     "name": "stdout",
     "output_type": "stream",
     "text": [
      "Instructor Details:\n",
      "Name: Umair khan\n",
      "Email: umairkhan@uet.edu.pk\n",
      "Pay: Rs6000.00\n",
      "Department: Electrical Department\n",
      "Designation: Instructor\n",
      "Courses Assigned: AutoCAD for Electrical Engineerning, Electrical Wiring in AutoCAD\n"
     ]
    }
   ],
   "source": [
    "print(\"Instructor Details:\")\n",
    "print(instructor)"
   ]
  }
 ],
 "metadata": {
  "kernelspec": {
   "display_name": "base",
   "language": "python",
   "name": "python3"
  },
  "language_info": {
   "codemirror_mode": {
    "name": "ipython",
    "version": 3
   },
   "file_extension": ".py",
   "mimetype": "text/x-python",
   "name": "python",
   "nbconvert_exporter": "python",
   "pygments_lexer": "ipython3",
   "version": "3.12.4"
  }
 },
 "nbformat": 4,
 "nbformat_minor": 2
}
