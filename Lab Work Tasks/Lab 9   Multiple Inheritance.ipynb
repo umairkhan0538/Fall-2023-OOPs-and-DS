{
 "cells": [
  {
   "cell_type": "markdown",
   "metadata": {},
   "source": [
    "<div style=\"\n",
    "        background: linear-gradient(90deg, #8e44ad, #3498db);\n",
    "        padding: 30px 20px;\n",
    "        border-radius: 25px;\n",
    "        box-shadow: 0 7px 6px rgba(0, 0, 0, 0.3);\n",
    "        border: 2px solid #CCCCFF;\n",
    "        max-width: 90%;\n",
    "    \">\n",
    "        <span style=\"\n",
    "            color: #FFBF00;\n",
    "            font-size: 20px;\n",
    "            font-family: Cooper Black;\n",
    "            letter-spacing: 2px;\n",
    "            line-height: 1.4;\n",
    "            text-transform: sentencecase;\n",
    "            text-shadow: 3px 3px 8px rgba(0, 0, 0, 0.5);\n",
    "            text-align: center;\n",
    "        \">\n",
    "            University of Engineering and Technology Peshawar Jalozai Campus\n",
    "        </span>\n",
    "  </div>\n"
   ]
  },
  {
   "cell_type": "markdown",
   "metadata": {},
   "source": [
    " <div style=\"\n",
    "        background: linear-gradient(90deg, #e06377, #3b3a30);\n",
    "        padding: 30px 20px;\n",
    "        border-radius: 25px;\n",
    "        box-shadow: 0 7px 6px rgba(0, 0, 0, 0.3);\n",
    "        border: 2px solid #CCCCFF;\n",
    "        max-width: 90%;\n",
    "    \">\n",
    "        <span style=\"\n",
    "            font-size: 20px;\n",
    "            font-family: Cooper Black;\n",
    "            color: #FFBF00;\n",
    "            font-weight: bold;\n",
    "            letter-spacing: 1px;\n",
    "            text-shadow: 3px 1px 8px rgba(0, 0, 1, 0.6);\n",
    "        \">\n",
    "            Lab Title: EE-271 “OOP & Data Structures Lab”\n",
    "        </span>\n",
    "    </div>\n"
   ]
  },
  {
   "cell_type": "markdown",
   "metadata": {},
   "source": [
    "<div style=\"\n",
    "        background: linear-gradient(90deg, #c83349, #622569);\n",
    "        padding: 30px 20px;\n",
    "        border-radius: 25px;\n",
    "        box-shadow: 0 7px 6px rgba(0, 0, 0, 0.3);\n",
    "        border: 2px solid #CCCCFF;\n",
    "        max-width: 90%;\n",
    "    \">\n",
    "        <span style=\"\n",
    "            font-size: 20px;\n",
    "            font-family: Cooper Black;\n",
    "            color: #FFBF00;\n",
    "            font-weight: bold;\n",
    "            letter-spacing: 1px;\n",
    "            text-shadow: 3px 1px 8px rgba(0, 0, 1, 0.6);\n",
    "        \">\n",
    "            Lab 9 : Multiple Inheritance\n",
    "        </span>\n",
    "    </div>\n"
   ]
  },
  {
   "cell_type": "markdown",
   "metadata": {},
   "source": [
    "<span style=\"color: #000000;\n",
    "font-size: 44px;\n",
    "transition: color 0.3s;\">&#x21DD; </span>\n",
    "<span style=\"color: #ff0000;\n",
    "    font-family: Arial Black;\n",
    "font-size: 35px; font-weight: bold; \n",
    "text-shadow: 0px 4px 2px rgb(0, 0, 0);\">\n",
    "    Lab work / Report Tasks :</span>"
   ]
  },
  {
   "cell_type": "markdown",
   "metadata": {},
   "source": [
    "------------------------"
   ]
  },
  {
   "cell_type": "markdown",
   "metadata": {},
   "source": [
    "<center><h3 style=\"color: #34495e; font-family: Arial, sans-serif; background-color: #3498db; padding: 8px; border-radius: 5px;\">Problem 1: Temporary Secretary</h3></center>\n",
    "\n",
    "<h3 style=\"color: #34495e; font-family: Arial, sans-serif;\">Objective</h3>\n",
    "<p style=\"color: #2c3e50; font-family: Arial, sans-serif; line-height: 1.6;\">\n",
    "  It turns out that sometimes temporary secretaries are hired when there’s too much paperwork to do. The <code style=\"color: #d35400;\">TemporarySecretary</code> class performs the role of a Secretary in the context of the ProductivitySystem, but for payroll purposes, it’s an <code style=\"color: #d35400;\">HourlyEmployee</code>.\n",
    "</p>\n",
    "\n"
   ]
  },
  {
   "cell_type": "code",
   "execution_count": 12,
   "metadata": {},
   "outputs": [],
   "source": [
    "class Payroll_system:\n",
    "    def calculate_payroll(self, employees):\n",
    "        print(\"Calculate Payroll\")\n",
    "        print(\"===========================\")\n",
    "        for employee in employees:\n",
    "            print(f\"Payroll for: {employee.id} - {employee.name}\")\n",
    "            print(f\"- Check amount: {employee.calculate_payroll()}\")\n",
    "            print()\n",
    "\n",
    "#-------------\n",
    "\n",
    "class Employee:\n",
    "    def __init__(self, id, name):\n",
    "        self.id = id\n",
    "        self.name = name\n",
    "\n",
    "#-------------\n",
    "\n",
    "class Salary_employee(Employee):\n",
    "    def __init__(self, id, name, weekly_salary):\n",
    "        super().__init__(id, name)\n",
    "        self.weekly_salary = weekly_salary\n",
    "\n",
    "    def calculate_payroll(self):\n",
    "        return self.weekly_salary\n",
    "\n",
    "#-------------\n",
    "\n",
    "class Hourly_employee(Employee):\n",
    "    def __init__(self, id, name, hours_worked, hourly_rate):\n",
    "        super().__init__(id, name)\n",
    "        self.hours_worked = hours_worked\n",
    "        self.hourly_rate = hourly_rate\n",
    "\n",
    "    def calculate_payroll(self):\n",
    "        return self.hours_worked * self.hourly_rate\n",
    "\n",
    "#-------------\n",
    "\n",
    "class Commission_employee(Salary_employee):\n",
    "    def __init__(self, id, name, weekly_salary, commission):\n",
    "        super().__init__(id, name, weekly_salary)\n",
    "        self.commission = commission\n",
    "\n",
    "    def calculate_payroll(self):\n",
    "        fixed = super().calculate_payroll()\n",
    "        return fixed + self.commission\n",
    "\n",
    "#-------------\n",
    "\n",
    "class Manager(Salary_employee):\n",
    "    def work(self, hours):\n",
    "        print(f\"{self.name} oversees and delegates tasks for {hours} hours.\")\n",
    "\n",
    "#-------------\n",
    "\n",
    "class Secretary(Salary_employee):\n",
    "    def work(self, hours):\n",
    "        print(f\"{self.name} efficiently organizes and manages documents for {hours} hours.\")\n",
    "\n",
    "#-------------\n",
    "\n",
    "class SalesPerson(Commission_employee):\n",
    "    def work(self, hours):\n",
    "        print(f\"{self.name} engages with clients and closes deals for {hours} hours.\")\n",
    "\n",
    "#-------------\n",
    "\n",
    "class FactoryWorker(Hourly_employee):\n",
    "    def work(self, hours):\n",
    "        print(f\"{self.name} diligently assembles products for {hours} hours.\")\n",
    "\n",
    "#-------------\n",
    "\n",
    "class Productivity_system:\n",
    "    def Track(self, employees, hours):\n",
    "        print(\"Productivity System Tracking\")\n",
    "        print('-----------------------------')\n",
    "        for employee in employees:\n",
    "            employee.work(hours)\n",
    "            print()"
   ]
  },
  {
   "cell_type": "markdown",
   "metadata": {},
   "source": [
    "<ol style=\"color: #2c3e50; font-family: Arial, sans-serif; line-height: 1.8;\">\n",
    "  <li>\n",
    "    <strong style=\"color: #2980b9; background-color: #eafaf1; padding: 5px; border-radius: 5px;\">TemporarySecretary:</strong>\n",
    "    <ul>\n",
    "      <li>Derive it from both <code style=\"color: #d35400;\">Secretary</code> and <code style=\"color: #d35400;\">HourlyEmployee</code>.</li>\n",
    "</ol>\n",
    "<ol style=\"color: #2c3e50; font-family: Arial, sans-serif; line-height: 1.8;\">"
   ]
  },
  {
   "cell_type": "code",
   "execution_count": 13,
   "metadata": {},
   "outputs": [],
   "source": [
    "class TemporarySecretary(Secretary, Hourly_employee):\n",
    "    pass"
   ]
  },
  {
   "cell_type": "code",
   "execution_count": 14,
   "metadata": {},
   "outputs": [
    {
     "ename": "TypeError",
     "evalue": "Salary_employee.__init__() takes 4 positional arguments but 5 were given",
     "output_type": "error",
     "traceback": [
      "\u001b[1;31m---------------------------------------------------------------------------\u001b[0m",
      "\u001b[1;31mTypeError\u001b[0m                                 Traceback (most recent call last)",
      "Cell \u001b[1;32mIn[14], line 1\u001b[0m\n\u001b[1;32m----> 1\u001b[0m temporary_secretary \u001b[38;5;241m=\u001b[39m TemporarySecretary(\u001b[38;5;241m5\u001b[39m, \u001b[38;5;124m\"\u001b[39m\u001b[38;5;124mRobin Williams\u001b[39m\u001b[38;5;124m\"\u001b[39m, \u001b[38;5;241m40\u001b[39m, \u001b[38;5;241m9\u001b[39m)\n",
      "\u001b[1;31mTypeError\u001b[0m: Salary_employee.__init__() takes 4 positional arguments but 5 were given"
     ]
    }
   ],
   "source": [
    "temporary_secretary = TemporarySecretary(5, \"Robin Williams\", 40, 9)"
   ]
  },
  {
   "cell_type": "code",
   "execution_count": 15,
   "metadata": {},
   "outputs": [
    {
     "data": {
      "text/plain": [
       "(__main__.TemporarySecretary,\n",
       " __main__.Secretary,\n",
       " __main__.Salary_employee,\n",
       " __main__.Hourly_employee,\n",
       " __main__.Employee,\n",
       " object)"
      ]
     },
     "execution_count": 15,
     "metadata": {},
     "output_type": "execute_result"
    }
   ],
   "source": [
    "TemporarySecretary.__mro__"
   ]
  },
  {
   "cell_type": "markdown",
   "metadata": {},
   "source": [
    "<strong style=\"color: #2980b9; background-color: #eafaf1; padding: 5px; border-radius: 5px;\">ii.Modify the above class as</strong>"
   ]
  },
  {
   "cell_type": "code",
   "execution_count": 17,
   "metadata": {},
   "outputs": [],
   "source": [
    "class TemporarySecretary(Hourly_employee, Secretary):\n",
    "    pass"
   ]
  },
  {
   "cell_type": "code",
   "execution_count": 18,
   "metadata": {},
   "outputs": [
    {
     "ename": "TypeError",
     "evalue": "Salary_employee.__init__() missing 1 required positional argument: 'weekly_salary'",
     "output_type": "error",
     "traceback": [
      "\u001b[1;31m---------------------------------------------------------------------------\u001b[0m",
      "\u001b[1;31mTypeError\u001b[0m                                 Traceback (most recent call last)",
      "Cell \u001b[1;32mIn[18], line 1\u001b[0m\n\u001b[1;32m----> 1\u001b[0m temporary_secretary \u001b[38;5;241m=\u001b[39m TemporarySecretary(\u001b[38;5;241m5\u001b[39m, \u001b[38;5;124m\"\u001b[39m\u001b[38;5;124mRobin Williams\u001b[39m\u001b[38;5;124m\"\u001b[39m, \u001b[38;5;241m40\u001b[39m, \u001b[38;5;241m9\u001b[39m)\n",
      "Cell \u001b[1;32mIn[12], line 31\u001b[0m, in \u001b[0;36mHourly_employee.__init__\u001b[1;34m(self, id, name, hours_worked, hourly_rate)\u001b[0m\n\u001b[0;32m     30\u001b[0m \u001b[38;5;28;01mdef\u001b[39;00m \u001b[38;5;21m__init__\u001b[39m(\u001b[38;5;28mself\u001b[39m, \u001b[38;5;28mid\u001b[39m, name, hours_worked, hourly_rate):\n\u001b[1;32m---> 31\u001b[0m     \u001b[38;5;28msuper\u001b[39m()\u001b[38;5;241m.\u001b[39m\u001b[38;5;21m__init__\u001b[39m(\u001b[38;5;28mid\u001b[39m, name)\n\u001b[0;32m     32\u001b[0m     \u001b[38;5;28mself\u001b[39m\u001b[38;5;241m.\u001b[39mhours_worked \u001b[38;5;241m=\u001b[39m hours_worked\n\u001b[0;32m     33\u001b[0m     \u001b[38;5;28mself\u001b[39m\u001b[38;5;241m.\u001b[39mhourly_rate \u001b[38;5;241m=\u001b[39m hourly_rate\n",
      "\u001b[1;31mTypeError\u001b[0m: Salary_employee.__init__() missing 1 required positional argument: 'weekly_salary'"
     ]
    }
   ],
   "source": [
    "temporary_secretary = TemporarySecretary(5, \"Robin Williams\", 40, 9)\n"
   ]
  },
  {
   "cell_type": "code",
   "execution_count": 19,
   "metadata": {},
   "outputs": [
    {
     "data": {
      "text/plain": [
       "(__main__.TemporarySecretary,\n",
       " __main__.Hourly_employee,\n",
       " __main__.Secretary,\n",
       " __main__.Salary_employee,\n",
       " __main__.Employee,\n",
       " object)"
      ]
     },
     "execution_count": 19,
     "metadata": {},
     "output_type": "execute_result"
    }
   ],
   "source": [
    "TemporarySecretary.__mro__"
   ]
  },
  {
   "cell_type": "markdown",
   "metadata": {},
   "source": [
    "<strong style=\"color: #2980b9; background-color: #eafaf1; padding: 5px; border-radius: 5px;\">iii. Modify the above class as</strong>"
   ]
  },
  {
   "cell_type": "code",
   "execution_count": 20,
   "metadata": {},
   "outputs": [],
   "source": [
    "class TemporarySecretary(Hourly_employee, Secretary):\n",
    "    def __init__(self, id, name, hours_worked, hourly_rate):\n",
    "        super().__init__(id, name, hours_worked, hourly_rate)"
   ]
  },
  {
   "cell_type": "code",
   "execution_count": 21,
   "metadata": {},
   "outputs": [
    {
     "ename": "TypeError",
     "evalue": "Salary_employee.__init__() missing 1 required positional argument: 'weekly_salary'",
     "output_type": "error",
     "traceback": [
      "\u001b[1;31m---------------------------------------------------------------------------\u001b[0m",
      "\u001b[1;31mTypeError\u001b[0m                                 Traceback (most recent call last)",
      "Cell \u001b[1;32mIn[21], line 1\u001b[0m\n\u001b[1;32m----> 1\u001b[0m temporary_secretary \u001b[38;5;241m=\u001b[39m TemporarySecretary(\u001b[38;5;241m5\u001b[39m, \u001b[38;5;124m\"\u001b[39m\u001b[38;5;124mRobin Williams\u001b[39m\u001b[38;5;124m\"\u001b[39m, \u001b[38;5;241m40\u001b[39m, \u001b[38;5;241m9\u001b[39m)\n",
      "Cell \u001b[1;32mIn[20], line 3\u001b[0m, in \u001b[0;36mTemporarySecretary.__init__\u001b[1;34m(self, id, name, hours_worked, hourly_rate)\u001b[0m\n\u001b[0;32m      2\u001b[0m \u001b[38;5;28;01mdef\u001b[39;00m \u001b[38;5;21m__init__\u001b[39m(\u001b[38;5;28mself\u001b[39m, \u001b[38;5;28mid\u001b[39m, name, hours_worked, hourly_rate):\n\u001b[1;32m----> 3\u001b[0m     \u001b[38;5;28msuper\u001b[39m()\u001b[38;5;241m.\u001b[39m\u001b[38;5;21m__init__\u001b[39m(\u001b[38;5;28mid\u001b[39m, name, hours_worked, hourly_rate)\n",
      "Cell \u001b[1;32mIn[12], line 31\u001b[0m, in \u001b[0;36mHourly_employee.__init__\u001b[1;34m(self, id, name, hours_worked, hourly_rate)\u001b[0m\n\u001b[0;32m     30\u001b[0m \u001b[38;5;28;01mdef\u001b[39;00m \u001b[38;5;21m__init__\u001b[39m(\u001b[38;5;28mself\u001b[39m, \u001b[38;5;28mid\u001b[39m, name, hours_worked, hourly_rate):\n\u001b[1;32m---> 31\u001b[0m     \u001b[38;5;28msuper\u001b[39m()\u001b[38;5;241m.\u001b[39m\u001b[38;5;21m__init__\u001b[39m(\u001b[38;5;28mid\u001b[39m, name)\n\u001b[0;32m     32\u001b[0m     \u001b[38;5;28mself\u001b[39m\u001b[38;5;241m.\u001b[39mhours_worked \u001b[38;5;241m=\u001b[39m hours_worked\n\u001b[0;32m     33\u001b[0m     \u001b[38;5;28mself\u001b[39m\u001b[38;5;241m.\u001b[39mhourly_rate \u001b[38;5;241m=\u001b[39m hourly_rate\n",
      "\u001b[1;31mTypeError\u001b[0m: Salary_employee.__init__() missing 1 required positional argument: 'weekly_salary'"
     ]
    }
   ],
   "source": [
    "temporary_secretary = TemporarySecretary(5, \"Robin Williams\", 40, 9)"
   ]
  },
  {
   "cell_type": "code",
   "execution_count": 22,
   "metadata": {},
   "outputs": [
    {
     "data": {
      "text/plain": [
       "(__main__.TemporarySecretary,\n",
       " __main__.Hourly_employee,\n",
       " __main__.Secretary,\n",
       " __main__.Salary_employee,\n",
       " __main__.Employee,\n",
       " object)"
      ]
     },
     "execution_count": 22,
     "metadata": {},
     "output_type": "execute_result"
    }
   ],
   "source": [
    "TemporarySecretary.__mro__"
   ]
  },
  {
   "cell_type": "markdown",
   "metadata": {},
   "source": [
    "<strong style=\"color: #2980b9; background-color: #eafaf1; padding: 5px; border-radius: 5px;\">iv. Modified the code and Run the code</strong>"
   ]
  },
  {
   "cell_type": "code",
   "execution_count": 23,
   "metadata": {},
   "outputs": [],
   "source": [
    "class TemporarySecretary(Secretary, Hourly_employee):\n",
    "    def __init__(self, id, name, hours_worked, hourly_rate):\n",
    "        Hourly_employee.__init__(self, id, name, hours_worked, hourly_rate)"
   ]
  },
  {
   "cell_type": "code",
   "execution_count": 24,
   "metadata": {},
   "outputs": [
    {
     "name": "stdout",
     "output_type": "stream",
     "text": [
      "Productivity System Tracking\n",
      "-----------------------------\n",
      "Robin Williams efficiently organizes and manages documents for 40 hours.\n",
      "\n",
      "Calculate Payroll\n",
      "===========================\n",
      "Payroll for: 5 - Robin Williams\n"
     ]
    },
    {
     "ename": "AttributeError",
     "evalue": "'TemporarySecretary' object has no attribute 'weekly_salary'",
     "output_type": "error",
     "traceback": [
      "\u001b[1;31m---------------------------------------------------------------------------\u001b[0m",
      "\u001b[1;31mAttributeError\u001b[0m                            Traceback (most recent call last)",
      "Cell \u001b[1;32mIn[24], line 6\u001b[0m\n\u001b[0;32m      4\u001b[0m productivity_system\u001b[38;5;241m.\u001b[39mTrack(company_employees, \u001b[38;5;241m40\u001b[39m)\n\u001b[0;32m      5\u001b[0m payroll_system \u001b[38;5;241m=\u001b[39m Payroll_system()\n\u001b[1;32m----> 6\u001b[0m payroll_system\u001b[38;5;241m.\u001b[39mcalculate_payroll(company_employees)\n",
      "Cell \u001b[1;32mIn[12], line 7\u001b[0m, in \u001b[0;36mPayroll_system.calculate_payroll\u001b[1;34m(self, employees)\u001b[0m\n\u001b[0;32m      5\u001b[0m \u001b[38;5;28;01mfor\u001b[39;00m employee \u001b[38;5;129;01min\u001b[39;00m employees:\n\u001b[0;32m      6\u001b[0m     \u001b[38;5;28mprint\u001b[39m(\u001b[38;5;124mf\u001b[39m\u001b[38;5;124m\"\u001b[39m\u001b[38;5;124mPayroll for: \u001b[39m\u001b[38;5;132;01m{\u001b[39;00memployee\u001b[38;5;241m.\u001b[39mid\u001b[38;5;132;01m}\u001b[39;00m\u001b[38;5;124m - \u001b[39m\u001b[38;5;132;01m{\u001b[39;00memployee\u001b[38;5;241m.\u001b[39mname\u001b[38;5;132;01m}\u001b[39;00m\u001b[38;5;124m\"\u001b[39m)\n\u001b[1;32m----> 7\u001b[0m     \u001b[38;5;28mprint\u001b[39m(\u001b[38;5;124mf\u001b[39m\u001b[38;5;124m\"\u001b[39m\u001b[38;5;124m- Check amount: \u001b[39m\u001b[38;5;132;01m{\u001b[39;00memployee\u001b[38;5;241m.\u001b[39mcalculate_payroll()\u001b[38;5;132;01m}\u001b[39;00m\u001b[38;5;124m\"\u001b[39m)\n\u001b[0;32m      8\u001b[0m     \u001b[38;5;28mprint\u001b[39m()\n",
      "Cell \u001b[1;32mIn[12], line 25\u001b[0m, in \u001b[0;36mSalary_employee.calculate_payroll\u001b[1;34m(self)\u001b[0m\n\u001b[0;32m     24\u001b[0m \u001b[38;5;28;01mdef\u001b[39;00m \u001b[38;5;21mcalculate_payroll\u001b[39m(\u001b[38;5;28mself\u001b[39m):\n\u001b[1;32m---> 25\u001b[0m     \u001b[38;5;28;01mreturn\u001b[39;00m \u001b[38;5;28mself\u001b[39m\u001b[38;5;241m.\u001b[39mweekly_salary\n",
      "\u001b[1;31mAttributeError\u001b[0m: 'TemporarySecretary' object has no attribute 'weekly_salary'"
     ]
    }
   ],
   "source": [
    "temporary_secretary = TemporarySecretary(5, \"Robin Williams\", 40, 9)\n",
    "company_employees = [temporary_secretary]\n",
    "productivity_system = Productivity_system()\n",
    "productivity_system.Track(company_employees, 40)\n",
    "payroll_system = Payroll_system()\n",
    "payroll_system.calculate_payroll(company_employees)"
   ]
  },
  {
   "cell_type": "code",
   "execution_count": 25,
   "metadata": {},
   "outputs": [
    {
     "data": {
      "text/plain": [
       "(__main__.TemporarySecretary,\n",
       " __main__.Secretary,\n",
       " __main__.Salary_employee,\n",
       " __main__.Hourly_employee,\n",
       " __main__.Employee,\n",
       " object)"
      ]
     },
     "execution_count": 25,
     "metadata": {},
     "output_type": "execute_result"
    }
   ],
   "source": [
    "TemporarySecretary.__mro__"
   ]
  },
  {
   "cell_type": "markdown",
   "metadata": {},
   "source": [
    "<strong style=\"color: #2980b9; background-color: #eafaf1; padding: 5px; border-radius: 5px;\">v. Modified the code and Run the code</strong>"
   ]
  },
  {
   "cell_type": "code",
   "execution_count": 26,
   "metadata": {},
   "outputs": [],
   "source": [
    "class TemporarySecretary(Secretary_role, Hourly_employee):\n",
    "    def __init__(self, id, name, hours_worked, hourly_rate):\n",
    "        Hourly_employee.__init__(self, id, name, hours_worked, hourly_rate)\n",
    "    def calculate_payroll(self):\n",
    "        return Hourly_employee.calculate_payroll(self)"
   ]
  },
  {
   "cell_type": "code",
   "execution_count": 27,
   "metadata": {},
   "outputs": [
    {
     "name": "stdout",
     "output_type": "stream",
     "text": [
      "Productivity System Tracking\n",
      "-----------------------------\n",
      "Robin Williams efficiently organizes and manages documents for 40 hours.\n",
      "\n",
      "Calculate Payroll\n",
      "===========================\n",
      "Payroll for: 5 - Robin Williams\n",
      "- Check amount: 360\n",
      "\n"
     ]
    }
   ],
   "source": [
    "temporary_secretary = TemporarySecretary(5, \"Robin Williams\", 40, 9)\n",
    "company_employees = [temporary_secretary]\n",
    "productivity_system = Productivity_system()\n",
    "productivity_system.Track(company_employees, 40)\n",
    "payroll_system = Payroll_system()\n",
    "payroll_system.calculate_payroll(company_employees)"
   ]
  },
  {
   "cell_type": "code",
   "execution_count": 28,
   "metadata": {},
   "outputs": [
    {
     "data": {
      "text/plain": [
       "(__main__.TemporarySecretary,\n",
       " __main__.Secretary_role,\n",
       " __main__.Salary_employee,\n",
       " __main__.Employee,\n",
       " __main__.Hourly_employee,\n",
       " __main__.Employee,\n",
       " object)"
      ]
     },
     "execution_count": 28,
     "metadata": {},
     "output_type": "execute_result"
    }
   ],
   "source": [
    "TemporarySecretary.__mro__"
   ]
  },
  {
   "cell_type": "markdown",
   "metadata": {},
   "source": [
    "-----------------------"
   ]
  },
  {
   "cell_type": "markdown",
   "metadata": {},
   "source": [
    "<center><h3 style=\"color: white; font-family: Arial, sans-serif; background-color: gray; padding: 8px; border-radius: 5px;\">Problem 2: Multiple Inheritance in Python</h3></center>\n",
    "<h3 style=\"color: #27ae60; font-family: Arial, sans-serif;\">Objective</h3>\n",
    "<p style=\"color: #2c3e50; font-family: Arial, sans-serif; line-height: 1.6;\">\n",
    "  Understand the following code with the help of the concepts of <strong style=\"color: #e74c3c;\">multiple inheritance</strong> in Python.\n",
    "</p>\n"
   ]
  },
  {
   "cell_type": "code",
   "execution_count": 42,
   "metadata": {},
   "outputs": [],
   "source": [
    "class Rectangle:\n",
    "    def __init__(self, length, width, **kwargs):\n",
    "        self.length = length\n",
    "        self.width = width\n",
    "        super().__init__(**kwargs)\n",
    "\n",
    "    def area(self):\n",
    "        return self.length * self.width\n",
    "\n",
    "    def perimeter(self):\n",
    "        return 2 * self.length + 2 * self.width\n",
    "\n",
    "#----------------\n",
    "\n",
    "class Square(Rectangle):\n",
    "    def __init__(self, length, **kwargs):\n",
    "        super().__init__(length=length, width=length, **kwargs)\n",
    "\n",
    "#----------------\n",
    "\n",
    "class Triangle:\n",
    "    def __init__(self, base, height, **kwargs):\n",
    "        self.base = base\n",
    "        self.height = height\n",
    "        super().__init__(**kwargs)\n",
    "\n",
    "    def tri_area(self):\n",
    "        return 0.5 * self.base * self.height\n",
    "\n",
    "#----------------\n",
    "\n",
    "class RightPyramid(Square, Triangle):\n",
    "    def __init__(self, base, slant_height, **kwargs):\n",
    "        self.base = base\n",
    "        self.slant_height = slant_height\n",
    "        kwargs[\"height\"] = slant_height\n",
    "        kwargs[\"length\"] = base\n",
    "        super().__init__(base=base, **kwargs)\n",
    "\n",
    "    def area(self):\n",
    "        base_area = super().area()\n",
    "        perimeter = super().perimeter()\n",
    "        return 0.5 * perimeter * self.slant_height + base_area\n",
    "\n",
    "    def area_2(self):\n",
    "        base_area = super().area()\n",
    "        triangle_area = super().tri_area()\n",
    "        return triangle_area * 4 + base_area\n",
    "\n",
    "#----------------\n",
    "\n",
    "class SurfaceAreaMixin:\n",
    "    def surface_area(self):\n",
    "        surface_area = 0\n",
    "        for surface in self.surfaces:\n",
    "            surface_area += surface.area(self)\n",
    "\n",
    "        return surface_area\n",
    "\n",
    "#----------------\n",
    "\n",
    "class Cube(Square, SurfaceAreaMixin):\n",
    "    def __init__(self, length):\n",
    "        super().__init__(length)\n",
    "        self.surfaces = [Square, Square, Square, Square, Square, Square]\n",
    "\n",
    "#----------------\n",
    "\n",
    "class RightPyramid(Square, Triangle, SurfaceAreaMixin):\n",
    "    def __init__(self, base, slant_height):\n",
    "        self.base = base\n",
    "        self.slant_height = slant_height\n",
    "        self.height = slant_height\n",
    "        self.length = base\n",
    "        self.width = base\n",
    "\n",
    "        self.surfaces = [Square, Triangle, Triangle, Triangle, Triangle]"
   ]
  },
  {
   "cell_type": "code",
   "execution_count": 43,
   "metadata": {},
   "outputs": [
    {
     "data": {
      "text/plain": [
       "54"
      ]
     },
     "execution_count": 43,
     "metadata": {},
     "output_type": "execute_result"
    }
   ],
   "source": [
    "cube = Cube(3)\n",
    "cube.surface_area()"
   ]
  },
  {
   "cell_type": "markdown",
   "metadata": {},
   "source": [
    "--------------------"
   ]
  },
  {
   "cell_type": "markdown",
   "metadata": {},
   "source": [
    "<center><h3 style=\"color: black; font-family: Arial, sans-serif; background-color: silver; padding: 8px; border-radius: 5px;\">Problem 3: Employees of the Electrical Department</h3></center>\n",
    "<h3 style=\"color: #27ae60; font-family: Arial, sans-serif;\">Objective</h3>\n",
    "<p style=\"color: #2c3e50; font-family: Arial, sans-serif; line-height: 1.6;\">\n",
    "  Design a class for the employees of the electrical department.\n",
    "</p>\n",
    "\n",
    "<h3 style=\"color: #34495e; font-family: Arial, sans-serif;\">Class Structure</h3>\n",
    "<ol style=\"color: #2c3e50; font-family: Arial, sans-serif; line-height: 1.8;\">\n",
    "  <li>\n",
    "    <strong style=\"color: #2980b9; background-color: #eafaf1; padding: 5px; border-radius: 5px;\">Base Class:</strong>\n",
    "    <ul>\n",
    "      <li>Base class on the name of staff.</li>\n",
    "    </ul>\n",
    "  </li>\n",
    "  <li>\n",
    "    <strong style=\"color: #e67e22; background-color: #fceae5; padding: 5px; border-radius: 5px;\">Faculty Staff:</strong>\n",
    "    <ul>\n",
    "      <li>The faculty contains <strong style=\"color: #27ae60;\">Lecturers</strong>, <strong style=\"color: #27ae60;\">Assistant Professors</strong>, <strong style=\"color: #27ae60;\">Associate Professors</strong>, and <strong style=\"color: #27ae60;\">Professors</strong>.</li>\n",
    "    </ul>\n",
    "  </li>\n",
    "  <li>\n",
    "    <strong style=\"color: #e67e22; background-color: #fceae5; padding: 5px; border-radius: 5px;\">Admin Staff:</strong>\n",
    "    <ul>\n",
    "      <li>The admin staff contains <strong style=\"color: #27ae60;\">Lab Engineers</strong>, <strong style=\"color: #27ae60;\">Lab Technicians</strong>, <strong style=\"color: #27ae60;\">Lab Assistants</strong>, and <strong style=\"color: #27ae60;\">Lab Attendants</strong>.</li>\n",
    "    </ul>\n",
    "  </li>\n",
    "  <li>\n",
    "    <strong style=\"color: #2980b9; background-color: #eafaf1; padding: 5px; border-radius: 5px;\">Additional Roles:</strong>\n",
    "    <ul>\n",
    "      <li><strong style=\"color: #e74c3c;\">Chairman</strong> and <strong style=\"color: #e74c3c;\">Semester Coordinator</strong> have both roles.</li>\n",
    "    </ul>\n",
    "  </li>\n",
    "</ol>\n"
   ]
  },
  {
   "cell_type": "code",
   "execution_count": 1,
   "metadata": {},
   "outputs": [],
   "source": [
    "class EEDJ_Employee:\n",
    "    def __init__(self, id, name, position, workload, scale, b_pay):\n",
    "        self.id = id\n",
    "        self.name = name \n",
    "        self.position = position \n",
    "        self.workload = workload \n",
    "        self.scale = scale\n",
    "        self.b_pay = b_pay\n",
    "\n",
    "    def __str__(self):\n",
    "        return f\"Employee ID: {self.id}, Name: {self.name}, Position: {self.position}, Workload: {self.workload}-Hours, Scale: {self.scale}, Base Pay: {self.b_pay}\"\n",
    "\n",
    "#-------------------------------------------------------------------------------------------------------------------------------------------------------------------\n",
    "\n",
    "class Faculty(EEDJ_Employee):\n",
    "    def __init__(self, id, name, position, workload, scale, b_pay, research, subject, experiance, teach_mode):\n",
    "        super().__init__(id, name, position, workload, scale, b_pay)\n",
    "        self.research = research\n",
    "        self.subject = subject\n",
    "        self.experiance = experiance\n",
    "        self.teach_mode = teach_mode\n",
    "\n",
    "    def __str__(self):\n",
    "        return super().__str__() + f\", Research: {self.research}, Subject: {self.subject}, Experience: {self.experiance} years, Teach Mode: {self.teach_mode}\"\n",
    "\n",
    "class Professor(Faculty):\n",
    "    def __init__(self, id, name, position, workload, scale, b_pay, research, subject, experiance, teach_mode):\n",
    "        super().__init__(id, name, position, workload, scale, b_pay, research, subject, experiance, teach_mode)\n",
    "    \n",
    "    def __str__(self):\n",
    "        return super().__str__()\n",
    "\n",
    "class Associate_Prof(Faculty):\n",
    "    def __init__(self, id, name, position, workload, scale, b_pay, research, subject, experiance, teach_mode):\n",
    "        super().__init__(id, name, position, workload, scale, b_pay, research, subject, experiance, teach_mode)\n",
    "    \n",
    "    def __str__(self):\n",
    "        return super().__str__()\n",
    "\n",
    "class Assistant_Prof(Faculty):\n",
    "    def __init__(self, id, name, position, workload, scale, b_pay, research, subject, experiance, teach_mode):\n",
    "        super().__init__(id, name, position, workload, scale, b_pay, research, subject, experiance, teach_mode)\n",
    "    \n",
    "    def __str__(self):\n",
    "        return super().__str__()\n",
    "\n",
    "class Lecturer(Faculty):\n",
    "    def __init__(self, id, name, position, workload, scale, b_pay, research, subject, experiance, teach_mode):\n",
    "        super().__init__(id, name, position, workload, scale, b_pay, research, subject, experiance, teach_mode)\n",
    "    \n",
    "    def __str__(self):\n",
    "        return super().__str__()\n",
    "# ---------------------------------------------------------------------------------------------------------------------------------------------------------------\n",
    "\n",
    "class Admin(EEDJ_Employee):\n",
    "    def __init__(self, id, name, position, workload, scale, b_pay, lab_name=\"\", lab_capacity=0):\n",
    "        super().__init__(id, name, position, workload, scale, b_pay)\n",
    "        self.lab_name = lab_name\n",
    "        self.lab_capacity = lab_capacity\n",
    "\n",
    "    def __str__(self):\n",
    "        return super().__str__() + f\", Lab Name: {self.lab_name}, Lab Capacity: {self.lab_capacity}\"\n",
    "\n",
    "class Lab_Engr(Admin):\n",
    "    def __init__(self, id, name, position, workload, scale, b_pay, lab_name, lab_capacity,lab_subject):\n",
    "        super().__init__(id, name, position, workload, scale, b_pay, lab_name, lab_capacity)\n",
    "        self.lab_subject = lab_subject\n",
    "    \n",
    "    def __str__(self):\n",
    "        return super().__str__() + f\", Lab Subject: {self.lab_subject}\"\n",
    "\n",
    "class Lab_Technician(Admin):\n",
    "    def __init__(self, id, name, position, workload, scale, b_pay, lab_name, lab_capacity,basic_lab):\n",
    "        super().__init__(id, name, position, workload, scale, b_pay, lab_name, lab_capacity)\n",
    "        self.basic_lab = basic_lab\n",
    "        \n",
    "    def __str__(self):\n",
    "        return super().__str__() + f\", Basic Lab : {self.basic_lab}\"\n",
    "\n",
    "class Lab_Assistant(Admin):\n",
    "    def __init__(self, id, name, position, workload, scale, b_pay, lab_name, lab_capacity,equipment_handle):\n",
    "        super().__init__(id, name, position, workload, scale, b_pay, lab_name, lab_capacity)\n",
    "        self.equipment_handle = equipment_handle\n",
    "\n",
    "    def __str__(self):\n",
    "        return super().__str__() + f\", Equipment Handle: {self.equipment_handle}\"\n",
    "\n",
    "class Lab_Attendant(Admin):\n",
    "    def __init__(self, id, name, position, workload, scale, b_pay, lab_name, lab_capacity):\n",
    "        super().__init__(id, name, position, workload, scale, b_pay, lab_name, lab_capacity)\n",
    "\n",
    "    def __str__(self):\n",
    "        return super().__str__()\n",
    "    \n",
    "#-------------------------------------------------------------------------------------------------------------------------------------------------------------------------------\n",
    "class Chairman(Faculty, Admin):\n",
    "    def __init__(self, id, name, position, workload, scale, b_pay, research, subject, experiance, teach_mode, lab_name, lab_capacity=0):\n",
    "        Faculty.__init__(self, id, name, position, workload, scale, b_pay, research, subject, experiance, teach_mode)\n",
    "        Admin.__init__(self, id, name, position, workload, scale, b_pay, lab_name, lab_capacity=0)\n",
    "\n",
    "    def __str__(self):\n",
    "        return (super(Faculty, self).__str__() + f\", Lab Name: {self.lab_name}, Lab Capacity: {self.lab_capacity}\")"
   ]
  },
  {
   "cell_type": "code",
   "execution_count": 2,
   "metadata": {},
   "outputs": [],
   "source": [
    "# List of objects\n",
    "employees = [\n",
    "    Professor(1, \"Dr Qaisar Ali\", \"Professor\", 8, 21, 300000, \"Electrical Machine\", \"Signal and System\", \"12 Years\", \"Multimedia\"),\n",
    "    Associate_Prof(2, \"Akhtar Nawaz\", \"Associate Professor\", 10, 20, 250000, \"Power Analysis\", \"Circuit Analysis\", \"15 Years\", \"White Board\"),\n",
    "    Assistant_Prof(3, \"Waqas Imtiaz\", \"Assistant Professor\", 12, 19, 200000, \"Electric Cars\", \"Circuit Analysis\", \"5 Years\", \"Projector\"),\n",
    "    Lecturer(4, \"Irshad Ullah Sir\", \"Lecturer\", 14, 18, 100000, \"Renewable Energy\", \"OPPs And Ds\", \"7 Years\", \"Projector\"),\n",
    "    Lab_Engr(5, \"Waqar Hussain\", \"Lab Engineer\", 18, 17, 150000, \"Instrumentation\", 60, \"Circuit-1\"),\n",
    "    Lab_Technician(6, \"Wajid Ali\", \"Lab Technician\", 16, 16, 100000, \"Electronics Lab\", 50, \"DLD\"),\n",
    "    Lab_Assistant(7, \"M.Haris\", \"Lab Assistant\", 15, 16, 70000, \"Power Engineering Lab\", 54, \"AutoCAD\"),\n",
    "    Lab_Attendant(8, \"Shahzaib Khan\", \"Lab Attendant\", 14, 15, 50000, \"Computer Lab\", 33),\n",
    "    Chairman(9, \"Amjad Ali\", \"Chairman\", 8, 20, 270000, \"AI\", \"Engineering Economics\", \"12-Years\", \"Multimedia\", \"Circuit-II\", 30)\n",
    "]"
   ]
  },
  {
   "cell_type": "code",
   "execution_count": 3,
   "metadata": {},
   "outputs": [
    {
     "name": "stdout",
     "output_type": "stream",
     "text": [
      "Employee ID: 1, Name: Dr Qaisar Ali, Position: Professor, Workload: 8-Hours, Scale: 21, Base Pay: 300000, Research: Electrical Machine, Subject: Signal and System, Experience: 12 Years years, Teach Mode: Multimedia\n",
      "Employee ID: 2, Name: Akhtar Nawaz, Position: Associate Professor, Workload: 10-Hours, Scale: 20, Base Pay: 250000, Research: Power Analysis, Subject: Circuit Analysis, Experience: 15 Years years, Teach Mode: White Board\n",
      "Employee ID: 3, Name: Waqas Imtiaz, Position: Assistant Professor, Workload: 12-Hours, Scale: 19, Base Pay: 200000, Research: Electric Cars, Subject: Circuit Analysis, Experience: 5 Years years, Teach Mode: Projector\n",
      "Employee ID: 4, Name: Irshad Ullah Sir, Position: Lecturer, Workload: 14-Hours, Scale: 18, Base Pay: 100000, Research: Renewable Energy, Subject: OPPs And Ds, Experience: 7 Years years, Teach Mode: Projector\n",
      "Employee ID: 5, Name: Waqar Hussain, Position: Lab Engineer, Workload: 18-Hours, Scale: 17, Base Pay: 150000, Lab Name: Instrumentation, Lab Capacity: 60, Lab Subject: Circuit-1\n",
      "Employee ID: 6, Name: Wajid Ali, Position: Lab Technician, Workload: 16-Hours, Scale: 16, Base Pay: 100000, Lab Name: Electronics Lab, Lab Capacity: 50, Basic Lab : DLD\n",
      "Employee ID: 7, Name: M.Haris, Position: Lab Assistant, Workload: 15-Hours, Scale: 16, Base Pay: 70000, Lab Name: Power Engineering Lab, Lab Capacity: 54, Equipment Handle: AutoCAD\n",
      "Employee ID: 8, Name: Shahzaib Khan, Position: Lab Attendant, Workload: 14-Hours, Scale: 15, Base Pay: 50000, Lab Name: Computer Lab, Lab Capacity: 33\n",
      "Employee ID: 9, Name: Amjad Ali, Position: Chairman, Workload: 8-Hours, Scale: 20, Base Pay: 270000, Lab Name: Circuit-II, Lab Capacity: 0, Lab Name: Circuit-II, Lab Capacity: 0\n"
     ]
    }
   ],
   "source": [
    "# Print all objects\n",
    "for employee in employees:\n",
    "    print(employee)"
   ]
  }
 ],
 "metadata": {
  "kernelspec": {
   "display_name": "base",
   "language": "python",
   "name": "python3"
  },
  "language_info": {
   "codemirror_mode": {
    "name": "ipython",
    "version": 3
   },
   "file_extension": ".py",
   "mimetype": "text/x-python",
   "name": "python",
   "nbconvert_exporter": "python",
   "pygments_lexer": "ipython3",
   "version": "3.12.4"
  }
 },
 "nbformat": 4,
 "nbformat_minor": 2
}
