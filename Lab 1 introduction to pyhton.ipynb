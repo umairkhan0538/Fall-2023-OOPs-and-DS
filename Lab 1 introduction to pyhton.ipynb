{
 "cells": [
  {
   "cell_type": "markdown",
   "metadata": {},
   "source": [
    "<span style=\"\n",
    "            color: black;\n",
    "            font-size: 25px;\n",
    "            font-family: Arial, sans-serif;\n",
    "            font-weight: bold;\n",
    "            text-align: center;\n",
    "        \"> University of Engineering and Technology Peshawar Jalozai Campus\n",
    "        </span>"
   ]
  },
  {
   "cell_type": "markdown",
   "metadata": {},
   "source": [
    "-----------"
   ]
  },
  {
   "cell_type": "markdown",
   "metadata": {},
   "source": [
    "<span style=\"\n",
    "            color: black;\n",
    "            font-size: 27px;\n",
    "            font-family: Arial, sans-serif;\n",
    "            font-weight: bold;\n",
    "            text-align: center;\n",
    "        \"> Lab Title: EE-271 “OOP & Data Structures Lab\n",
    "        </span>"
   ]
  },
  {
   "cell_type": "markdown",
   "metadata": {},
   "source": [
    "--------"
   ]
  },
  {
   "cell_type": "markdown",
   "metadata": {},
   "source": [
    "<span style=\"\n",
    "            color: black;\n",
    "            font-size: 27px;\n",
    "            font-family: Arial, sans-serif;\n",
    "            font-weight: bold;\n",
    "            text-align: center;\n",
    "        \"> Lab 1: Python introduction, installation, and good practices\n",
    "        </span>"
   ]
  },
  {
   "cell_type": "markdown",
   "metadata": {},
   "source": [
    "-----------------"
   ]
  },
  {
   "cell_type": "markdown",
   "metadata": {},
   "source": [
    "<ol style=\"color: #2c3e50; font-family: 'Verdana', sans-serif; line-height: 1.6; padding: 10px;\">\n",
    "    <strong style=\"color: #3498db; background-color: #eaf7fc; padding: 8px; border-radius: 8px; display: block; margin-bottom: 8px;\">\n",
    "        1. Install IDE: Recommended IDE Python or Anaconda\n",
    "    </strong>\n",
    "    <ul style=\"color: #34495e; font-size: 16px;\">\n",
    "        <li style=\"margin: 8px 0;\">\n",
    "            <strong>Anaconda:</strong> <a href=\"https://www.anaconda.com/download\" style=\"color: #2980b9; text-decoration: none;\">https://www.anaconda.com/download</a>\n",
    "        </li>\n",
    "        <li style=\"margin: 8px 0;\">\n",
    "            <strong>Python:</strong> <a href=\"https://www.python.org/downloads/\" style=\"color: #2980b9; text-decoration: none;\">https://www.python.org/downloads/</a>\n",
    "        </li>\n",
    "    </ul>\n",
    "</ol>\n"
   ]
  },
  {
   "cell_type": "markdown",
   "metadata": {},
   "source": [
    "<ol style=\"color: #2c3e50; font-family: 'Verdana', sans-serif; line-height: 1.6; padding: 10px;\">\n",
    "    <strong style=\"color: #1abc9c; background-color: #eaf7fc; padding: 8px; border-radius: 8px; display: block; margin-bottom: 8px;\">\n",
    "   IDE Installation Work Completed\n",
    "    </strong>\n",
    "    <p style=\"color: #8e44ad; font-size: 16px;\">\n",
    "        I have successfully completed the installation of IDE, including both Anaconda and Python. The necessary setups are now ready for further development.\n",
    "    </p>\n",
    "</ol>\n"
   ]
  },
  {
   "cell_type": "markdown",
   "metadata": {},
   "source": [
    "-----------------"
   ]
  },
  {
   "cell_type": "markdown",
   "metadata": {},
   "source": [
    "<ol style=\"color: #2c3e50; font-family: 'Verdana', sans-serif; line-height: 1.6; padding: 10px;\">\n",
    "    <strong style=\"color: #3498db; background-color: #eaf7fc; padding: 8px; border-radius: 8px; display: block; margin-bottom: 8px;\">\n",
    "        2. Make a GitHub Account\n",
    "    </strong>\n",
    "    <ul style=\"color: #34495e; font-size: 14px;\">\n",
    "        <li style=\"margin: 8px 0;\">\n",
    "            <strong>GitHub:</strong> <a href=\"https://github.com/\" style=\"color: #2980b9; text-decoration: none;\">https://github.com/</a>\n",
    "        </li>\n",
    "    </ul>\n",
    "</ol>\n"
   ]
  },
  {
   "cell_type": "markdown",
   "metadata": {},
   "source": [
    "<ol style=\"color: #34495e; font-family: 'Verdana', sans-serif; line-height: 1.6; padding: 10px;\">\n",
    "    <strong style=\"color: #16a085; background-color: #e8f7f3; padding: 8px; border-radius: 8px; display: block; margin-bottom: 8px;\">\n",
    "        Make a GitHub Account - Done\n",
    "    </strong>\n",
    "    <p style=\"color: #9b59b6; font-size: 16px;\">\n",
    "        I have successfully created a GitHub account. You can view my profile at: <br>\n",
    "        <a href=\"https://github.com/umairkhan0538\" style=\"color: #2980b9; text-decoration: none;\">https://github.com/umairkhan0538</a>\n",
    "    </p>\n",
    "</ol>\n"
   ]
  },
  {
   "cell_type": "markdown",
   "metadata": {},
   "source": [
    "------------------"
   ]
  },
  {
   "cell_type": "markdown",
   "metadata": {},
   "source": [
    "<ol style=\"color: #2c3e50; font-family: 'Arial', sans-serif; line-height: 1.8; padding: 10px;\">\n",
    "    <strong style=\"color: #16a085; background-color: #eaf7f6; padding: 12px; border-radius: 8px; display: block; margin-bottom: 10px;\">\n",
    "        3. Helping Websites\n",
    "    </strong>\n",
    "<ol style=\"color: #2c3e50; font-family: 'Arial', sans-serif; line-height: 1.8; padding: 10px;\">\n",
    "    <li style=\"color: #2980b9; margin-bottom: 15px; \">\n",
    "        <strong style=\"color: #e74c3c;\">Introduction to Stack Overflow:</strong><br>\n",
    "        <span style=\"color: #34495e;\">This is helpful for code debugging.</span><br>\n",
    "        <a href=\"https://stackoverflow.com/\" style=\"color: #2980b9; text-decoration: none;\">https://stackoverflow.com/</a><br>\n",
    "        <span style=\"color: #2c3e50;\">• Search the answer for most common programming questions.</span><br>\n",
    "        <span style=\"color: #2c3e50;\">• Search for error messages to see what causes them.</span><br>\n",
    "        <span style=\"color: #2c3e50;\">• Ask programming questions to get answers from programmers worldwide.</span><br>\n",
    "        <span style=\"color: #2c3e50;\">• Gain valuable insights about programming in general.</span>\n",
    "    </li>\n",
    "    <li style=\"color: #2980b9; margin-bottom: 15px;\">\n",
    "        <strong style=\"color: #f39c12;\">Real Python:</strong><br>\n",
    "        <span style=\"color: #34495e;\">A great, in-depth, and to-the-point resource.</span><br>\n",
    "        <a href=\"https://realpython.com/\" style=\"color: #f39c12; text-decoration: none;\">https://realpython.com/</a><br>\n",
    "        <a href=\"https://www.youtube.com/@realpython\" style=\"color: #f39c12; text-decoration: none;\">https://www.youtube.com/@realpython</a>\n",
    "    </li>\n",
    "    <li style=\"color: #2980b9; margin-bottom: 15px;\">\n",
    "        <strong style=\"color: #9b59b6;\">Geeks For Geeks:</strong><br>\n",
    "        <a href=\"https://www.geeksforgeeks.org/\" style=\"color: #9b59b6; text-decoration: none;\">https://www.geeksforgeeks.org/</a>\n",
    "    </li>\n",
    "    <li style=\"color: #2980b9;\">\n",
    "        <strong style=\"color: #2ecc71;\">W3School:</strong><br>\n",
    "        <a href=\"https://www.w3schools.com/CPP/default.asp\" style=\"color: #2ecc71; text-decoration: none;\">https://www.w3schools.com/CPP/default.asp</a>\n",
    "    </li>\n",
    "</ol>\n"
   ]
  },
  {
   "cell_type": "markdown",
   "metadata": {},
   "source": [
    "<ol style=\"color: #2c3e50; font-family: 'Arial', sans-serif;line-height: 1.8; padding: 10px;\">\n",
    "    <strong style=\"color: #16a085; background-color: #eaf7f6; padding: 12px; border-radius: 8px; display: block; margin-bottom: 10px;\">\n",
    "   Helping Websites - Explored\n",
    "    </strong>\n",
    "    <li style=\"color: #2980b9; margin-bottom: 15px;\">\n",
    "        <strong style=\"color: #e74c3c;\">Introduction to Stack Overflow:</strong><br>\n",
    "        <span style=\"color: #34495e;\">I visited Stack Overflow and explored its wide range of resources. It's incredibly helpful for code debugging and finding answers to common programming questions. I searched for answers to common errors and explored solutions offered by developers worldwide.</span><br>\n",
    "        <a href=\"https://stackoverflow.com/\" style=\"color: #2980b9; text-decoration: none;\">https://stackoverflow.com/</a><br>\n",
    "    </li>\n",
    "    <li style=\"color: #2980b9; margin-bottom: 15px;\">\n",
    "        <strong style=\"color: #f39c12;\">Real Python:</strong><br>\n",
    "        <span style=\"color: #34495e;\">I explored Real Python and found it to be an excellent, in-depth resource for learning Python. The tutorials and guides are straightforward and focused on practical, hands-on learning. The YouTube channel also provides great tutorials and tips on Python programming.</span><br>\n",
    "        <a href=\"https://realpython.com/\" style=\"color: #f39c12; text-decoration: none;\">https://realpython.com/</a><br>\n",
    "        <a href=\"https://www.youtube.com/@realpython\" style=\"color: #f39c12; text-decoration: none;\">https://www.youtube.com/@realpython</a>\n",
    "    </li>\n",
    "    <li style=\"color: #2980b9; margin-bottom: 15px;\">\n",
    "        <strong style=\"color: #9b59b6;\">Geeks For Geeks:</strong><br>\n",
    "        <span style=\"color: #34495e;\">I visited Geeks for Geeks and found it to be a treasure trove of information, tutorials, and coding problems. It’s a great resource for both beginner and advanced programmers looking to enhance their skills.</span><br>\n",
    "        <a href=\"https://www.geeksforgeeks.org/\" style=\"color: #9b59b6; text-decoration: none;\">https://www.geeksforgeeks.org/</a>\n",
    "    </li>\n",
    "    <li style=\"color: #2980b9;\">\n",
    "        <strong style=\"color: #2ecc71;\">W3School:</strong><br>\n",
    "        <span style=\"color: #34495e;\">I also explored W3School’s python section, which offers easy-to-follow tutorials and examples. It's a great resource for anyone looking to learn or refresh their knowledge on python programming.</span><br>\n",
    "        <a href=\"https://www.w3schools.com/python/default.asp\" style=\"color: #2ecc71; text-decoration: none;\">https://www.w3schools.com/python/default.asp</a>\n",
    "    </li>\n",
    "</ol>\n"
   ]
  },
  {
   "cell_type": "markdown",
   "metadata": {},
   "source": [
    "-------------------"
   ]
  },
  {
   "cell_type": "markdown",
   "metadata": {},
   "source": [
    "<ol style=\"color: #2c3e50; font-family: 'Arial', sans-serif; line-height: 1.8; padding: 10px;\">\n",
    "    <strong style=\"color: #16a085; background-color: #eaf7f6; padding: 12px; border-radius: 8px; display: block; margin-bottom: 10px;\">\n",
    "        1. Jupyter Notebook\n",
    "    </strong>\n",
    "    <li style=\"color: #2980b9; margin-bottom: 15px;\">\n",
    "        <strong style=\"color: #e74c3c;\">The following link will help in understanding how to use Jupyter Notebook conveniently:</strong><br>\n",
    "        <a href=\"https://www.youtube.com/watch?v=HW29067qVWk&t=27s\" style=\"color: #2980b9; text-decoration: none;\">https://www.youtube.com/watch?v=HW29067qVWk&t=27s</a>\n",
    "    </li>\n",
    "</ol>\n"
   ]
  },
  {
   "cell_type": "markdown",
   "metadata": {},
   "source": [
    "<ol style=\"color: #2c3e50; font-family: 'Arial', sans-serif;line-height: 1.8; padding: 10px;\">\n",
    "    <strong style=\"color: #16a085; background-color: #eaf7f6; padding: 12px; border-radius: 8px; display: block; margin-bottom: 10px;\">\n",
    "   Jupyter Notebook - Explored\n",
    "    </strong>\n",
    "    <li style=\"color: #2980b9; margin-bottom: 15px;\">\n",
    "        <strong style=\"color: #e74c3c;\">Exploration of Jupyter Notebook:</strong><br>\n",
    "        <span style=\"color: #34495e;\">I have visited the provided link and explored how to use Jupyter Notebook. The video walk-through helped me understand its features and functionalities, including how to create notebooks, write and execute code in cells, and visualize the output inline. This has significantly enhanced my understanding of using Jupyter Notebook effectively for python.</span><br>\n",
    "        <a href=\"https://www.youtube.com/watch?v=HW29067qVWk&t=27s\" style=\"color: #2980b9; text-decoration: none;\">Watch Walkthrough Video</a>\n",
    "    </li>\n",
    "</ol>\n"
   ]
  },
  {
   "cell_type": "markdown",
   "metadata": {},
   "source": [
    "----------------"
   ]
  },
  {
   "cell_type": "markdown",
   "metadata": {},
   "source": [
    "<ol style=\"color: #2c3e50; font-family: 'Arial', sans-serif;line-height: 1.8; padding: 10px;\">\n",
    "    <strong style=\"color: #16a085; background-color: #eaf7f6; padding: 12px; border-radius: 8px; display: block; margin-bottom: 10px;\">Virtual Environment\n",
    "    </strong>\n",
    "    <li style=\"color: #2980b9; margin-bottom: 15px;\">\n",
    "        <strong style=\"color:  #2980b9;\">\n",
    "   Virtual environments allow to manage Python projects, packages, and versions efficiently. Must make a virtual environment.</strong><br>\n",
    "        <a href=\"https://www.youtube.com/watch?v=23aQdrS58e0&t=10s\" style=\"color: #2980b9; text-decoration: none;\">https://www.youtube.com/watch?v=23aQdrS58e0&t=10s</a>\n",
    "    </li>\n",
    "</ol>\n"
   ]
  },
  {
   "cell_type": "markdown",
   "metadata": {},
   "source": [
    "<ol style=\"color: #2c3e50; font-family: 'Arial', sans-serif;line-height: 1.8; padding: 10px;\">\n",
    "    <strong style=\"color: #16a085; background-color: #eaf7f6; padding: 12px; border-radius: 8px; display: block; margin-bottom: 10px;\">Virtual Environment - Explored\n",
    "    </strong>\n",
    "    <li style=\"color: #2980b9; margin-bottom: 15px;\">\n",
    "        <strong style=\"color: maroon;\">\n",
    "            Virtual environments allow to manage Python projects, packages, and versions efficiently. I have made a virtual environment as per the instructions in the video and have successfully applied it to my project.</strong><br>\n",
    "        <a href=\"https://www.youtube.com/watch?v=23aQdrS58e0&t=10s\" style=\"color: #2980b9; text-decoration: none;\">https://www.youtube.com/watch?v=23aQdrS58e0&t=10s</a>\n",
    "    </li>\n",
    "</ol>\n"
   ]
  },
  {
   "cell_type": "markdown",
   "metadata": {},
   "source": [
    "-------------------------"
   ]
  },
  {
   "cell_type": "markdown",
   "metadata": {},
   "source": [
    "<ol style=\"color: #2c3e50; font-family: 'Arial', sans-serif; line-height: 1.8; padding: 10px;\">\n",
    "    <strong style=\"color: #16a085; background-color: #eaf7f6; padding: 12px; border-radius: 8px; display: block; margin-bottom: 10px;\">Online Code Editor\n",
    "    </strong>\n",
    "    <li style=\"color: #2980b9; margin-bottom: 15px;\">\n",
    "        <strong style=\"color: black;\">\n",
    "            Use online code editor: Run your code online on Google Colab if Python is not installed on your machine.\n",
    "        </strong><br>\n",
    "        <a href=\"https://colab.google/\" style=\"color: #2980b9; text-decoration: none;\">https://colab.google/</a>\n",
    "    </li>\n",
    "</ol>\n"
   ]
  },
  {
   "cell_type": "markdown",
   "metadata": {},
   "source": [
    "<ol style=\"color: #2c3e50; font-family: 'Arial', sans-serif; line-height: 1.8; padding: 10px;\">\n",
    "    <strong style=\"color: #8e44ad; background-color: #f4ecf7; padding: 12px; border-radius: 8px; display: block; margin-bottom: 10px;\">Online Code Editor - Explored\n",
    "    </strong>\n",
    "        <strong style=\"color: #d35400;\">\n",
    "            If Python is not installed on my machine, I have used Google Colab to run my Python code online. It provides a powerful and convenient platform to execute Python code and collaborate with others easily.</strong><br>\n",
    "        <a href=\"https://colab.google/\" style=\"color: #16a085; text-decoration: none;\">Visit Google Colab</a>\n",
    "</ol>\n"
   ]
  },
  {
   "cell_type": "markdown",
   "metadata": {},
   "source": [
    "---------------------------"
   ]
  },
  {
   "cell_type": "markdown",
   "metadata": {},
   "source": [
    "<ol style=\"color: #2c3e50; font-family: 'Arial', sans-serif; line-height: 1.8; padding: 10px;\">\n",
    "    <strong style=\"color: #8e44ad; background-color: pink; padding: 12px; border-radius: 8px; display: block; margin-bottom: 10px;\">Courses\n",
    "    </strong>\n",
    "    <li style=\"color: #2980b9; margin-bottom: 15px;\">\n",
    "        <strong style=\"color: #e74c3c;\">\n",
    "            Complete the following two courses on Coursera. Click on the following link:\n",
    "        </strong><br>\n",
    "        <a href=\"https://www.coursera.org/specializations/python\" style=\"color: #16a085; text-decoration: none;\">https://www.coursera.org/specializations/python</a>\n",
    "    </li>\n",
    "</ol>\n"
   ]
  },
  {
   "cell_type": "markdown",
   "metadata": {},
   "source": [
    "<ol style=\"color: #2c3e50; font-family: 'Arial', sans-serif; line-height: 1.8; padding: 10px;\">\n",
    "    <strong style=\"color: #8e44ad; background-color: pink; padding: 12px; border-radius: 8px; display: block; margin-bottom: 10px;\">Courses - Completed the Instructions Provided in Lab</strong>\n",
    "        <strong style=\"color: blue;\">\n",
    "            I have completed the instructions provided in the lab by finishing the following course on Coursera:\n",
    "        </strong><br>\n",
    "        <a href=\"https://www.coursera.org/specializations/python\" style=\"color: #16a085; text-decoration: none;\">Python for Everybody Specialization</a>\n",
    "</ol>\n"
   ]
  },
  {
   "cell_type": "markdown",
   "metadata": {},
   "source": [
    "---------------------------"
   ]
  },
  {
   "cell_type": "markdown",
   "metadata": {},
   "source": [
    "<ol style=\"color: #2c3e50; font-family: 'Arial', sans-serif; line-height: 1.8; padding: 10px;\">\n",
    "    <strong style=\"color: #16a085; background-color: #eaf7f6; padding: 12px; border-radius: 8px; display: block; margin-bottom: 10px;\">Recommended Books</strong>\n",
    "    <li style=\"color: #2980b9; margin-bottom: 15px;\">\n",
    "        <strong style=\"color: #e74c3c;\">1. Python Tricks: The Book by Dan Bader</strong><br>\n",
    "        <span style=\"color: #34495e;\">A great book that teaches Python tricks and techniques to write more efficient, readable, and Pythonic code.</span>\n",
    "    </li>\n",
    "    <li style=\"color: #2980b9; margin-bottom: 15px;\">\n",
    "        <strong style=\"color: #e74c3c;\">2. How to Think Like a Computer Scientist by Allen Downey</strong><br>\n",
    "        <span style=\"color: #34495e;\">This book introduces the fundamentals of computer science and helps develop problem-solving skills in programming.</span>\n",
    "    </li>\n",
    "</ol>\n"
   ]
  }
 ],
 "metadata": {
  "kernelspec": {
   "display_name": "Python 3 (ipykernel)",
   "language": "python",
   "name": "python3"
  },
  "language_info": {
   "codemirror_mode": {
    "name": "ipython",
    "version": 3
   },
   "file_extension": ".py",
   "mimetype": "text/x-python",
   "name": "python",
   "nbconvert_exporter": "python",
   "pygments_lexer": "ipython3",
   "version": "3.8.20"
  }
 },
 "nbformat": 4,
 "nbformat_minor": 4
}
