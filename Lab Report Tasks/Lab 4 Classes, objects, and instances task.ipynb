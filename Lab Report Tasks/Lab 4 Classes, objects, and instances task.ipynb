{
 "cells": [
  {
   "cell_type": "markdown",
   "metadata": {},
   "source": [
    "<center>\n",
    "    <div style=\"\n",
    "        background: linear-gradient(90deg, #8e44ad, #3498db);\n",
    "        padding: 30px 20px;\n",
    "        border-radius: 25px;\n",
    "        box-shadow: 0 7px 6px rgba(0, 0, 0, 0.3);\n",
    "        display: inline-block;\n",
    "        border: 2px solid #CCCCFF;\n",
    "        max-width: 90%;\n",
    "    \">\n",
    "        <span style=\"\n",
    "            color: #FFBF00;\n",
    "            font-size: 25px;\n",
    "            font-family: Cooper Black;\n",
    "            letter-spacing: 2px;\n",
    "            line-height: 1.4;\n",
    "            font-weight: bold;\n",
    "            text-transform: uppercase;\n",
    "            text-shadow: 3px 3px 8px rgba(0, 0, 0, 0.5);\n",
    "        \">\n",
    "            University of Engineering and Technology Peshawar <br> Jalozai Campus\n",
    "        </span>\n",
    "    </div>\n",
    "</center>  </div>\n",
    "</center>\n",
    "  </div>\n",
    "</center>\n"
   ]
  },
  {
   "cell_type": "markdown",
   "metadata": {},
   "source": [
    "<center>\n",
    "    <div style=\"\n",
    "        background: linear-gradient(90deg, #CB0000, #618685);\n",
    "        padding: 30px 20px;\n",
    "        border-radius: 25px;\n",
    "        box-shadow: 0 7px 6px rgba(0, 0, 0, 0.3);\n",
    "        display: inline-block;\n",
    "        border: 2px solid #CCCCFF;\n",
    "        max-width: 90%;\n",
    "    \">\n",
    "        <span style=\"\n",
    "            font-size: 30px;\n",
    "            font-family: Cooper Black;\n",
    "            color: #FFBF00;\n",
    "            font-weight: bold;\n",
    "            letter-spacing: 1px;\n",
    "            text-shadow: 3px 1px 8px rgba(0, 0, 1, 0.6);\n",
    "        \">\n",
    "            Lab Title: EE-271 “OOP & Data Structures Lab”\n",
    "        </span>\n",
    "    </div>\n",
    "</center>\n"
   ]
  },
  {
   "cell_type": "markdown",
   "metadata": {},
   "source": [
    "<center>\n",
    "    <div style=\"\n",
    "        background: linear-gradient(90deg, #728FCE, #101820);\n",
    "        padding: 30px 20px;\n",
    "        border-radius: 25px;\n",
    "        box-shadow: 0 7px 6px rgba(0, 0, 0, 0.3);\n",
    "        display: inline-block;\n",
    "        border: 2px solid #CCCCFF;\n",
    "        max-width: 90%;\n",
    "    \">\n",
    "        <span style=\"\n",
    "            font-size: 30px;\n",
    "            font-family: Cooper Black;\n",
    "            color: #FFBF00;\n",
    "            font-weight: bold;\n",
    "            letter-spacing: 1px;\n",
    "            text-shadow: 3px 1px 8px rgba(0, 0, 1, 0.6);\n",
    "        \">\n",
    "            Lab 4: Classes, objects, and instances</span>\n",
    "        </span>\n",
    "    </div>\n",
    "</center>\n"
   ]
  },
  {
   "cell_type": "markdown",
   "metadata": {},
   "source": [
    "<span style=\"color: #000000;\n",
    "font-size: 44px;\n",
    "transition: color 0.3s;\">&#x21DD; </span>\n",
    "<span style=\"color: #ff0000;\n",
    "    font-family: Arial Black;\n",
    "font-size: 35px; font-weight: bold; \n",
    "text-shadow: 0px 4px 2px rgb(0, 0, 0);\">\n",
    "    Lab Report Tasks :</span>"
   ]
  },
  {
   "cell_type": "markdown",
   "metadata": {},
   "source": [
    "-------------"
   ]
  },
  {
   "cell_type": "markdown",
   "metadata": {},
   "source": [
    "<div style=\"padding: 20px; font-family: Arial, sans-serif; background-color: #f9f9f9; border:2px solid black; border-radius: 8px; width: fit-content;\">\n",
    "  <p style=\"color: #555; font-size: 16px; line-height: 1.6;\"><strong>Make an object and print its x and y coordinates.</strong>\n",
    "<code><br>\n",
    "import math<br>\n",
    "class Point:<br>\n",
    "\"\"\"Represents a point in two-dimensional geometric<br>\n",
    "coordinates<br>\n",
    "Parameters<br>\n",
    "----------<br>\n",
    "x : float<br>\n",
    "y : float<br>\n",
    "\"\"\"<br>\n",
    "def __init__(self, x: float, y: float)->None:<br>\n",
    "self.x = x<br>\n",
    "self.y = y<br>\n",
    "def distance(self, p2)->float:<br>\n",
    "return math.sqrt((self.x-p2.x)**2 + (self.y-p2.y)**2)</code><br>\n",
    "<strong>a. </strong>Define point1 and pass two numbers.<br>\n",
    "<strong>b. </strong>Make another instance of the point class, say its name is p2.<br>\n",
    "<strong>c. </strong>Print p1 and p2, for this use the print command and pass the point as input.<br>\n",
    "<strong>d. </strong>Print the coordinate by using the object and dot operator.<br>\n",
    "<strong>e. </strong>Add a new method to the point class that can effectively print the points. Print both the\n",
    "point using that function.<br>\n",
    "<strong>f. </strong>Calculate the distance between these two pints\n",
    "  </p>\n",
    "</div>\n"
   ]
  },
  {
   "cell_type": "code",
   "execution_count": 15,
   "metadata": {},
   "outputs": [],
   "source": [
    "import math\n",
    "\n",
    "class Point:\n",
    "    \"\"\"Represents a point in two-dimensional geometric coordinates \n",
    "    \n",
    "       Parameters\n",
    "        ----------\n",
    "        x : float\n",
    "        y : float\n",
    "        \"\"\"\n",
    "    def __init__(self, x: float, y: float)->None:\n",
    "        self.x = x\n",
    "        self.y = y\n",
    "        \n",
    "    def distance(self, p2)->float:\n",
    "        return math.sqrt((self.x-p2.x)**2 + (self.y-p2.y)**2)\n",
    "    \n",
    "    def display(self) -> None:\n",
    "        print(f\"Point({self.x}, {self.y})\")"
   ]
  },
  {
   "cell_type": "code",
   "execution_count": 23,
   "metadata": {},
   "outputs": [],
   "source": [
    "p1 = Point(3, 4)"
   ]
  },
  {
   "cell_type": "code",
   "execution_count": 24,
   "metadata": {},
   "outputs": [],
   "source": [
    "p2 = Point(7, 1)"
   ]
  },
  {
   "cell_type": "code",
   "execution_count": 25,
   "metadata": {},
   "outputs": [
    {
     "name": "stdout",
     "output_type": "stream",
     "text": [
      "<__main__.Point object at 0x0000020CD87E7410>\n"
     ]
    }
   ],
   "source": [
    "print(p1)"
   ]
  },
  {
   "cell_type": "code",
   "execution_count": 26,
   "metadata": {},
   "outputs": [
    {
     "name": "stdout",
     "output_type": "stream",
     "text": [
      "<__main__.Point object at 0x0000020CD88FEEA0>\n"
     ]
    }
   ],
   "source": [
    "print(p2)"
   ]
  },
  {
   "cell_type": "code",
   "execution_count": 27,
   "metadata": {},
   "outputs": [
    {
     "name": "stdout",
     "output_type": "stream",
     "text": [
      "Point 1:\n",
      "Point(3, 4)\n",
      "Point 2:\n",
      "Point(7, 1)\n"
     ]
    }
   ],
   "source": [
    "print(\"Point 1:\")\n",
    "p1.display()\n",
    "print(\"Point 2:\")\n",
    "p2.display()\n"
   ]
  },
  {
   "cell_type": "code",
   "execution_count": 28,
   "metadata": {},
   "outputs": [
    {
     "name": "stdout",
     "output_type": "stream",
     "text": [
      "Coordinates of point1: (3 , 4)\n",
      "Coordinates of point2: (7 , 1)\n"
     ]
    }
   ],
   "source": [
    "print(f\"Coordinates of point1: ({p1.x} , {p1.y})\")\n",
    "print(f\"Coordinates of point2: ({p2.x} , {p2.y})\")"
   ]
  },
  {
   "cell_type": "code",
   "execution_count": 29,
   "metadata": {},
   "outputs": [
    {
     "name": "stdout",
     "output_type": "stream",
     "text": [
      "Distance between point1 and point2: 5.00\n"
     ]
    }
   ],
   "source": [
    "distance = p1.distance(p2)\n",
    "print(f\"Distance between point1 and point2: {distance:.2f}\")"
   ]
  }
 ],
 "metadata": {
  "kernelspec": {
   "display_name": "Python 3",
   "language": "python",
   "name": "python3"
  },
  "language_info": {
   "codemirror_mode": {
    "name": "ipython",
    "version": 3
   },
   "file_extension": ".py",
   "mimetype": "text/x-python",
   "name": "python",
   "nbconvert_exporter": "python",
   "pygments_lexer": "ipython3",
   "version": "3.12.4"
  }
 },
 "nbformat": 4,
 "nbformat_minor": 2
}
