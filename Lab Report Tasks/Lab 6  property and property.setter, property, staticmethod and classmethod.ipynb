{
 "cells": [
  {
   "cell_type": "markdown",
   "metadata": {},
   "source": [
    "<center>\n",
    "    <div style=\"\n",
    "        background: linear-gradient(90deg, #8e44ad, #3498db);\n",
    "        padding: 30px 20px;\n",
    "        border-radius: 25px;\n",
    "        box-shadow: 0 7px 6px rgba(0, 0, 0, 0.3);\n",
    "        display: inline-block;\n",
    "        border: 2px solid #CCCCFF;\n",
    "        max-width: 90%;\n",
    "    \">\n",
    "        <span style=\"\n",
    "            color: #FFBF00;\n",
    "            font-size: 25px;\n",
    "            font-family: Cooper Black;\n",
    "            letter-spacing: 2px;\n",
    "            line-height: 1.4;\n",
    "            font-weight: bold;\n",
    "            text-transform: uppercase;\n",
    "            text-shadow: 3px 3px 8px rgba(0, 0, 0, 0.5);\n",
    "        \">\n",
    "            University of Engineering and Technology Peshawar <br> Jalozai Campus\n",
    "        </span>\n",
    "    </div>\n",
    "</center>  </div>\n",
    "</center>\n",
    "  </div>\n",
    "</center>\n"
   ]
  },
  {
   "cell_type": "markdown",
   "metadata": {},
   "source": [
    "<center>\n",
    "    <div style=\"\n",
    "        background: linear-gradient(90deg, #e06377, #3b3a30);\n",
    "        padding: 30px 20px;\n",
    "        border-radius: 25px;\n",
    "        box-shadow: 0 7px 6px rgba(0, 0, 0, 0.3);\n",
    "        display: inline-block;\n",
    "        border: 2px solid #CCCCFF;\n",
    "        max-width: 90%;\n",
    "    \">\n",
    "        <span style=\"\n",
    "            font-size: 30px;\n",
    "            font-family: Cooper Black;\n",
    "            color: #FFBF00;\n",
    "            font-weight: bold;\n",
    "            letter-spacing: 1px;\n",
    "            text-shadow: 3px 1px 8px rgba(0, 0, 1, 0.6);\n",
    "        \">\n",
    "            Lab Title: EE-271 “OOP & Data Structures Lab”\n",
    "        </span>\n",
    "    </div>\n",
    "</center>\n"
   ]
  },
  {
   "cell_type": "markdown",
   "metadata": {},
   "source": [
    "<center>\n",
    "    <div style=\"\n",
    "        background: linear-gradient(90deg, #c83349, #622569);\n",
    "        padding: 30px 20px;\n",
    "        border-radius: 25px;\n",
    "        box-shadow: 0 7px 6px rgba(0, 0, 0, 0.3);\n",
    "        display: inline-block;\n",
    "        border: 2px solid #CCCCFF;\n",
    "        max-width: 90%;\n",
    "    \">\n",
    "        <span style=\"\n",
    "            font-size: 20px;\n",
    "            font-family: Cooper Black;\n",
    "            color: #FFBF00;\n",
    "            font-weight: bold;\n",
    "            letter-spacing: 1px;\n",
    "            text-shadow: 3px 1px 8px rgba(0, 0, 1, 0.6);\n",
    "        \">\n",
    "            Lab 6: Classes 3 @property and @property.setter, @property, <br>@ staticmethod and @classmethod\n",
    "        </span>\n",
    "    </div>\n",
    "</center>\n"
   ]
  },
  {
   "cell_type": "markdown",
   "metadata": {},
   "source": [
    "<span style=\"color: #000000;\n",
    "font-size: 44px;\n",
    "transition: color 0.3s;\">&#x21DD; </span>\n",
    "<span style=\"color: #ff0000;\n",
    "    font-family: Arial Black;\n",
    "font-size: 35px; font-weight: bold; \n",
    "text-shadow: 0px 4px 2px rgb(0, 0, 0);\">\n",
    "    Lab Report Tasks :</span>"
   ]
  },
  {
   "cell_type": "markdown",
   "metadata": {},
   "source": [
    "-----------------------"
   ]
  },
  {
   "cell_type": "markdown",
   "metadata": {},
   "source": [
    "<div style=\"padding: 20px; font-family: Arial, sans-serif; background-color: #f9f9f9; border:2px solid black; border-radius: 8px; width: fit-content;\">\n",
    "  <p style=\"color: #555; font-size: 16px; line-height: 1.6;\"><br>\n",
    "<strong>1.</strong> Define a class circle. Your class must have the appropriate __init__ method.<br>\n",
    "<span>---</span><strong>i.</strong>  Add appropriate property methods. (@property and @property.setter)<br>\n",
    "<span>---</span><strong>ii.</strong>  In addition, add an instance method for the volume of a cylinder with the given radius.<br>\n",
    "<span>---</span><strong>iii.</strong>  Add property method for area, circumference, and diameter.<br>\n",
    "<span>---</span><strong>iv.</strong>  Add __repr__ and __str__ to the class.<br>\n",
    "<span>---</span><strong>v.</strong>  Add proper annotation and doc string to every class and instance method.<br>\n",
    "<strong>a.</strong>  Define inst_1 and pass two numbers.<br>\n",
    "<strong>b.</strong>  Make another instance inst2.<br>\n",
    "<strong>c.</strong>  Print inst_1 and inst_2, for this use the print command and pass the inst_1 and inst_2.<br>\n",
    "<strong>d.</strong>  Call the __dict__ by the class name.<br>\n",
    "<strong>e.</strong>  Also pass the class name to the vars built-in function.<br>\n",
    "<strong>f.</strong>  Call the __dict__ on the object of the class.<br>\n",
    "<strong>g.</strong>  Pass the class name to help.<br>\n",
    "<strong>h.</strong>  Print the doc-string and annotations of both the class and each instance method.<br>\n",
    "<strong>i.</strong>  Modify the __init__ by making its parameters default and verify by instances.<br>\n",
    "  </p>\n",
    "</div>\n"
   ]
  },
  {
   "cell_type": "code",
   "execution_count": 9,
   "metadata": {},
   "outputs": [],
   "source": [
    "import math\n",
    "class Circle:\n",
    "    \"\"\"A class to represent a circle with given radius and calculate the area, circumference, diameter  and volume\n",
    "    \"\"\"\n",
    "    def __init__(self, radius: float = 1):\n",
    "        \"\"\"\n",
    "        Initialize the Circle with a given radius.\n",
    "\n",
    "        Parameters:\n",
    "        radius (float): The radius of the circle. Default is 1.0.\n",
    "        \"\"\"\n",
    "        self.radius = radius\n",
    "\n",
    "    @property\n",
    "    def radius(self):\n",
    "        \"\"\"Get the radius of the circle.\"\"\"\n",
    "        return self._radius\n",
    "\n",
    "    @radius.setter\n",
    "    def radius(self, value: float) -> None:\n",
    "        \"\"\"Set the radius of the circle.\"\"\"\n",
    "        self._radius = value\n",
    "\n",
    "    def volume(self, height: float) -> None:\n",
    "        \"\"\"\n",
    "        Calculate the volume of a cylinder with the circle as the base.\n",
    "\n",
    "        Parameters:\n",
    "        height (float): The height of the cylinder.\n",
    "\n",
    "        Returns:\n",
    "        float: The volume of the cylinder.\n",
    "        \"\"\"\n",
    "        return self.area * height\n",
    "\n",
    "    @property\n",
    "    def area(self) -> float:\n",
    "        \"\"\"Calculate the area of the circle.\"\"\"\n",
    "        from math import pi\n",
    "        return pi * (self._radius ** 2)\n",
    "    @staticmethod\n",
    "    def volume(height: float) -> float:\n",
    "        return self.area * height\n",
    "\n",
    "    @property\n",
    "    def circumference(self) -> float:\n",
    "        \"\"\"Calculate the circumference of the circle.\"\"\"\n",
    "        from math import pi\n",
    "        return 2 * pi * self._radius\n",
    "\n",
    "    @property\n",
    "    def diameter(self) -> float:\n",
    "        \"\"\"Calculate the diameter of the circle.\"\"\"\n",
    "        return self._radius * 2\n",
    "    @classmethod\n",
    "    def unit_circle(cls) -> 'Circle':\n",
    "        \"\"\"Create a Circle instance with a radius of 1.\"\"\"\n",
    "        return cls(1)\n",
    "    def __repr__(self) -> str:\n",
    "        \"\"\"Return a string representation of the Circle instance.\"\"\"\n",
    "        return f\"Circle(radius={self._radius})\"\n",
    "\n",
    "    def __str__(self) -> str:\n",
    "        \"\"\"Return a user-friendly string representation of the Circle.\"\"\"\n",
    "        return f\"Circle with radius: {self._radius}\""
   ]
  },
  {
   "cell_type": "code",
   "execution_count": 10,
   "metadata": {},
   "outputs": [],
   "source": [
    "inst_1 = Circle(2)\n",
    "inst_2 = Circle(15)"
   ]
  },
  {
   "cell_type": "code",
   "execution_count": 11,
   "metadata": {},
   "outputs": [
    {
     "name": "stdout",
     "output_type": "stream",
     "text": [
      "Circle with radius: 2\n",
      "Circle with radius: 15\n"
     ]
    }
   ],
   "source": [
    "print(inst_1)\n",
    "print(inst_2)"
   ]
  },
  {
   "cell_type": "code",
   "execution_count": 12,
   "metadata": {},
   "outputs": [
    {
     "name": "stdout",
     "output_type": "stream",
     "text": [
      "Area of inst_1: 12.6\n",
      "Circumference of inst_1: 12.6\n",
      "Diameter of inst_1: 4.0\n",
      "\n",
      "Area of inst_2: 706.9\n",
      "Circumference of inst_2: 94.2\n",
      "Diameter of inst_2: 30.0\n"
     ]
    }
   ],
   "source": [
    "\n",
    "print(f\"Area of inst_1: {inst_1.area:.1f}\")\n",
    "print(f\"Circumference of inst_1: {inst_1.circumference:.1f}\")\n",
    "print(f\"Diameter of inst_1: {inst_1.diameter:.1f}\")\n",
    "print()\n",
    "print(f\"Area of inst_2: {inst_2.area:.1f}\")\n",
    "print(f\"Circumference of inst_2: {inst_2.circumference:.1f}\")\n",
    "print(f\"Diameter of inst_2: {inst_2.diameter:.1f}\")"
   ]
  },
  {
   "cell_type": "code",
   "execution_count": 13,
   "metadata": {},
   "outputs": [
    {
     "name": "stdout",
     "output_type": "stream",
     "text": [
      "mappingproxy({'__dict__': <attribute '__dict__' of 'Circle' objects>,\n",
      "              '__doc__': 'A class to represent a circle with given radius and '\n",
      "                         'calculate the area, circumference, diameter  and '\n",
      "                         'volume\\n'\n",
      "                         '    ',\n",
      "              '__init__': <function Circle.__init__ at 0x0000019538DB2A20>,\n",
      "              '__module__': '__main__',\n",
      "              '__repr__': <function Circle.__repr__ at 0x0000019538DB3560>,\n",
      "              '__str__': <function Circle.__str__ at 0x0000019538DB3600>,\n",
      "              '__weakref__': <attribute '__weakref__' of 'Circle' objects>,\n",
      "              'area': <property object at 0x0000019538DE91C0>,\n",
      "              'circumference': <property object at 0x0000019538DE9170>,\n",
      "              'diameter': <property object at 0x0000019538DE90D0>,\n",
      "              'radius': <property object at 0x0000019538DE9120>,\n",
      "              'unit_circle': <classmethod(<function Circle.unit_circle at 0x0000019538DB34C0>)>,\n",
      "              'volume': <staticmethod(<function Circle.volume at 0x0000019538DB2700>)>})\n"
     ]
    }
   ],
   "source": [
    "from pprint import pprint\n",
    "pprint(Circle.__dict__)"
   ]
  },
  {
   "cell_type": "code",
   "execution_count": 14,
   "metadata": {},
   "outputs": [
    {
     "name": "stdout",
     "output_type": "stream",
     "text": [
      "mappingproxy({'__dict__': <attribute '__dict__' of 'Circle' objects>,\n",
      "              '__doc__': 'A class to represent a circle with given radius and '\n",
      "                         'calculate the area, circumference, diameter  and '\n",
      "                         'volume\\n'\n",
      "                         '    ',\n",
      "              '__init__': <function Circle.__init__ at 0x0000019538DB2A20>,\n",
      "              '__module__': '__main__',\n",
      "              '__repr__': <function Circle.__repr__ at 0x0000019538DB3560>,\n",
      "              '__str__': <function Circle.__str__ at 0x0000019538DB3600>,\n",
      "              '__weakref__': <attribute '__weakref__' of 'Circle' objects>,\n",
      "              'area': <property object at 0x0000019538DE91C0>,\n",
      "              'circumference': <property object at 0x0000019538DE9170>,\n",
      "              'diameter': <property object at 0x0000019538DE90D0>,\n",
      "              'radius': <property object at 0x0000019538DE9120>,\n",
      "              'unit_circle': <classmethod(<function Circle.unit_circle at 0x0000019538DB34C0>)>,\n",
      "              'volume': <staticmethod(<function Circle.volume at 0x0000019538DB2700>)>})\n"
     ]
    }
   ],
   "source": [
    "pprint(vars(Circle))"
   ]
  },
  {
   "cell_type": "code",
   "execution_count": 15,
   "metadata": {},
   "outputs": [
    {
     "name": "stdout",
     "output_type": "stream",
     "text": [
      "{'_radius': 2}\n"
     ]
    }
   ],
   "source": [
    "print(inst_1.__dict__)"
   ]
  },
  {
   "cell_type": "code",
   "execution_count": 16,
   "metadata": {},
   "outputs": [
    {
     "name": "stdout",
     "output_type": "stream",
     "text": [
      "{'_radius': 15}\n"
     ]
    }
   ],
   "source": [
    "print(inst_2.__dict__)"
   ]
  },
  {
   "cell_type": "code",
   "execution_count": 17,
   "metadata": {},
   "outputs": [
    {
     "name": "stdout",
     "output_type": "stream",
     "text": [
      "Help on class Circle in module __main__:\n",
      "\n",
      "class Circle(builtins.object)\n",
      " |  Circle(radius: float = 1)\n",
      " |\n",
      " |  A class to represent a circle with given radius and calculate the area, circumference, diameter  and volume\n",
      " |\n",
      " |  Methods defined here:\n",
      " |\n",
      " |  __init__(self, radius: float = 1)\n",
      " |      Initialize the Circle with a given radius.\n",
      " |\n",
      " |      Parameters:\n",
      " |      radius (float): The radius of the circle. Default is 1.0.\n",
      " |\n",
      " |  __repr__(self) -> str\n",
      " |      Return a string representation of the Circle instance.\n",
      " |\n",
      " |  __str__(self) -> str\n",
      " |      Return a user-friendly string representation of the Circle.\n",
      " |\n",
      " |  ----------------------------------------------------------------------\n",
      " |  Class methods defined here:\n",
      " |\n",
      " |  unit_circle() -> 'Circle'\n",
      " |      Create a Circle instance with a radius of 1.\n",
      " |\n",
      " |  ----------------------------------------------------------------------\n",
      " |  Static methods defined here:\n",
      " |\n",
      " |  volume(height: float) -> float\n",
      " |\n",
      " |  ----------------------------------------------------------------------\n",
      " |  Readonly properties defined here:\n",
      " |\n",
      " |  area\n",
      " |      Calculate the area of the circle.\n",
      " |\n",
      " |  circumference\n",
      " |      Calculate the circumference of the circle.\n",
      " |\n",
      " |  diameter\n",
      " |      Calculate the diameter of the circle.\n",
      " |\n",
      " |  ----------------------------------------------------------------------\n",
      " |  Data descriptors defined here:\n",
      " |\n",
      " |  __dict__\n",
      " |      dictionary for instance variables\n",
      " |\n",
      " |  __weakref__\n",
      " |      list of weak references to the object\n",
      " |\n",
      " |  radius\n",
      " |      Get the radius of the circle.\n",
      "\n"
     ]
    }
   ],
   "source": [
    "help(Circle)"
   ]
  },
  {
   "cell_type": "code",
   "execution_count": 18,
   "metadata": {},
   "outputs": [
    {
     "name": "stdout",
     "output_type": "stream",
     "text": [
      "A class to represent a circle with given radius and calculate the area, circumference, diameter  and volume\n",
      "    \n",
      "Method: __init__, Docstring: \n",
      "        Initialize the Circle with a given radius.\n",
      "\n",
      "        Parameters:\n",
      "        radius (float): The radius of the circle. Default is 1.0.\n",
      "        , Annotations: {'radius': <class 'float'>}\n",
      "Method: volume, Docstring: None, Annotations: {'height': <class 'float'>, 'return': <class 'float'>}\n",
      "Method: area, Docstring: Calculate the area of the circle., Annotations: {'return': <class 'float'>}\n",
      "Method: circumference, Docstring: Calculate the circumference of the circle., Annotations: {'return': <class 'float'>}\n",
      "Method: diameter, Docstring: Calculate the diameter of the circle., Annotations: {'return': <class 'float'>}\n",
      "Method: __repr__, Docstring: Return a string representation of the Circle instance., Annotations: {'return': <class 'str'>}\n",
      "Method: __str__, Docstring: Return a user-friendly string representation of the Circle., Annotations: {'return': <class 'str'>}\n",
      "Method: diameter, Docstring: Calculate the diameter of the circle., Annotations: {'return': <class 'float'>}\n",
      "Method: unit_circle, Docstring: Create a Circle instance with a radius of 1., Annotations: {'return': 'Circle'}\n"
     ]
    }
   ],
   "source": [
    "print(Circle.__doc__)\n",
    "for method in [\n",
    "    Circle.__init__,\n",
    "    Circle.volume,\n",
    "    Circle.area,\n",
    "    Circle.circumference,\n",
    "    Circle.diameter,\n",
    "    Circle.__repr__,\n",
    "    Circle.__str__,\n",
    "    Circle.diameter,\n",
    "    Circle.unit_circle,]:\n",
    "    if isinstance(method, property):\n",
    "        print(f\"Method: {method.fget.__name__}, Docstring: {method.__doc__}, Annotations: {method.fget.__annotations__}\")\n",
    "    else:\n",
    "        print(f\"Method: {method.__name__}, Docstring: {method.__doc__}, Annotations: {method.__annotations__}\")"
   ]
  },
  {
   "cell_type": "code",
   "execution_count": 19,
   "metadata": {},
   "outputs": [
    {
     "name": "stdout",
     "output_type": "stream",
     "text": [
      "Circle with radius: 1\n"
     ]
    }
   ],
   "source": [
    "inst_3 = Circle()\n",
    "print(inst_3)"
   ]
  }
 ],
 "metadata": {
  "kernelspec": {
   "display_name": "base",
   "language": "python",
   "name": "python3"
  },
  "language_info": {
   "codemirror_mode": {
    "name": "ipython",
    "version": 3
   },
   "file_extension": ".py",
   "mimetype": "text/x-python",
   "name": "python",
   "nbconvert_exporter": "python",
   "pygments_lexer": "ipython3",
   "version": "3.12.7"
  }
 },
 "nbformat": 4,
 "nbformat_minor": 2
}
