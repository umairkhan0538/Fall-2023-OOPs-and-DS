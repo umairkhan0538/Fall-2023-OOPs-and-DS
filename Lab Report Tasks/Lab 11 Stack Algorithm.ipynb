{
 "cells": [
  {
   "cell_type": "markdown",
   "metadata": {},
   "source": [
    "<div style=\"\n",
    "        background: linear-gradient(90deg, #8e44ad, #3498db);\n",
    "        padding: 30px 20px;\n",
    "        border-radius: 25px;\n",
    "        box-shadow: 0 7px 6px rgba(0, 0, 0, 0.3);\n",
    "        border: 2px solid #CCCCFF;\n",
    "        max-width: 90%;\n",
    "    \">\n",
    "        <span style=\"\n",
    "            color: #FFBF00;\n",
    "            font-size: 20px;\n",
    "            font-family: Cooper Black;\n",
    "            letter-spacing: 2px;\n",
    "            line-height: 1.4;\n",
    "            text-transform: sentencecase;\n",
    "            text-shadow: 3px 3px 8px rgba(0, 0, 0, 0.5);\n",
    "            text-align: center;\n",
    "        \">\n",
    "            University of Engineering and Technology Peshawar Jalozai Campus\n",
    "        </span>\n",
    "  </div>\n"
   ]
  },
  {
   "cell_type": "markdown",
   "metadata": {},
   "source": [
    " <div style=\"\n",
    "        background: linear-gradient(90deg, #e06377, #3b3a30);\n",
    "        padding: 30px 20px;\n",
    "        border-radius: 25px;\n",
    "        box-shadow: 0 7px 6px rgba(0, 0, 0, 0.3);\n",
    "        border: 2px solid #CCCCFF;\n",
    "        max-width: 90%;\n",
    "    \">\n",
    "        <span style=\"\n",
    "            font-size: 20px;\n",
    "            font-family: Cooper Black;\n",
    "            color: #FFBF00;\n",
    "            font-weight: bold;\n",
    "            letter-spacing: 1px;\n",
    "            text-shadow: 3px 1px 8px rgba(0, 0, 1, 0.6);\n",
    "        \">\n",
    "            Lab Title: EE-271 “OOP & Data Structures Lab”\n",
    "        </span>\n",
    "    </div>\n"
   ]
  },
  {
   "cell_type": "markdown",
   "metadata": {},
   "source": [
    "<div style=\"\n",
    "        background: linear-gradient(90deg, #c83349, #622569);\n",
    "        padding: 30px 20px;\n",
    "        border-radius: 25px;\n",
    "        box-shadow: 0 7px 6px rgba(0, 0, 0, 0.3);\n",
    "        border: 2px solid #CCCCFF;\n",
    "        max-width: 90%;\n",
    "    \">\n",
    "        <span style=\"\n",
    "            font-size: 20px;\n",
    "            font-family: Cooper Black;\n",
    "            color: #FFBF00;\n",
    "            font-weight: bold;\n",
    "            letter-spacing: 1px;\n",
    "            text-shadow: 3px 1px 8px rgba(0, 0, 1, 0.6);\n",
    "        \">\n",
    "            Lab 11 : Stack Algorithm\n",
    "        </span>\n",
    "    </div>\n"
   ]
  },
  {
   "cell_type": "markdown",
   "metadata": {},
   "source": [
    "---------------------------"
   ]
  },
  {
   "cell_type": "markdown",
   "metadata": {},
   "source": [
    "\n",
    "<center><h3 style=\"color: white; font-family: Arial, sans-serif; background-color: gray; padding: 8px; border-radius: 5px;\">STACK ALGORITHM</h3></center>\n",
    "\n",
    "<h3 style=\"color: #34495e; font-family: Arial, sans-serif;\">AIM</h3>\n",
    "<p style=\"color: #2c3e50; font-family: Arial, sans-serif; line-height: 1.6;\">\n",
    "  To understand the concepts of Stack data structure in Python.\n",
    "</p>\n",
    "\n",
    "<h3 style=\"color: #34495e; font-family: Arial, sans-serif;\">INTRODUCTION</h3>\n",
    "<p style=\"color: #2c3e50; font-family: Arial, sans-serif; line-height: 1.6;\">A stack is a fundamental data structure that follows the Last In, First Out (LIFO) principle. This means the last element added to the stack is the first to be removed. </p>\n",
    "<ol style=\"color: #2c3e50; font-family: Arial, sans-serif; line-height: 1.8;\">\n",
    "  <li>\n",
    "    <strong style=\"color: #2980b9; background-color: #eafaf1; padding: 5px; border-radius: 5px;\">TYPES OF STACK:</strong>\n",
    "    <ul>\n",
    "      <li>List Stack</li>\n",
    "      <li>Node-based Stack</li>\n",
    "      <li>Deque Stack</li>\n",
    "    </ul>\n",
    "</ol>\n"
   ]
  },
  {
   "cell_type": "markdown",
   "metadata": {},
   "source": [
    "\n",
    "<center><h3 style=\"color: #34495e; font-family: Arial, sans-serif; background-color: pink; padding: 8px; border-radius: 5px;\">LAB REPORT TASK  </h3></center>\n",
    "<p style=\"color: #2c3e50; font-family: Arial, sans-serif; line-height: 1.6;\">\n",
    "  i. Make a node-based implementation for Stack and:  \n",
    "</p>\n",
    "<ol style=\"color: #2c3e50; font-family: Arial, sans-serif; line-height: 1.8;\">\n",
    "  <li>\n",
    "    <strong style=\"color: #2980b9; background-color: #eafaf1; padding: 5px; border-radius: 5px;\">TASK:</strong>\n",
    "    <ul>\n",
    "      <li>Pass different data types.</li>\n",
    "      <li>Push and pop different items.</li>\n",
    "      <li>Display the top item.</li>\n",
    "    </ul>\n",
    "</ol>\n"
   ]
  },
  {
   "cell_type": "code",
   "execution_count": 29,
   "metadata": {},
   "outputs": [],
   "source": [
    "class Node:\n",
    "    def __init__(self, data):\n",
    "        self.data = data\n",
    "        self.next = None\n",
    "\n",
    "class NodeStack:\n",
    "    def __init__(self):\n",
    "        self.top = None\n",
    "\n",
    "    def is_empty(self):\n",
    "        return self.top is None\n",
    "\n",
    "    def push(self, item):\n",
    "        new_node = Node(item)\n",
    "        new_node.next = self.top\n",
    "        self.top = new_node\n",
    "\n",
    "    def pop(self):\n",
    "        if not self.is_empty():\n",
    "            popped_item = self.top.data\n",
    "            self.top = self.top.next\n",
    "            return popped_item\n",
    "        else:\n",
    "            print(\"Stack is empty\")\n"
   ]
  },
  {
   "cell_type": "markdown",
   "metadata": {},
   "source": [
    "<ol style=\"color: #2c3e50; font-family: Arial, sans-serif; line-height: 1.8;\">\n",
    "    <strong style=\"color: #2980b9; background-color: #eafaf1; padding: 5px; border-radius: 5px;\">IMPLEMENTATION OF STACKS IN PYTHON </strong>\n",
    "    <ul>\n",
    "      <li>1. List Stack:</li>\n",
    "      <p>A stack can be implemented in Python using lists. Lists provide built-in methods that make it easy to add and remove elements, following the Last In, First Out (LIFO) principle.</p>\n",
    "    </ul>\n",
    "</ol>\n"
   ]
  },
  {
   "cell_type": "code",
   "execution_count": 30,
   "metadata": {},
   "outputs": [],
   "source": [
    "class StackList:\n",
    "    def __init__(self):\n",
    "        self.items = []\n",
    "\n",
    "    def is_empty(self):\n",
    "        return len(self.items) == 0\n",
    "\n",
    "    def push(self, item):\n",
    "        self.items.append(item)\n",
    "\n",
    "    def pop(self):\n",
    "        if not self.is_empty():\n",
    "            return self.items.pop()\n",
    "        else:\n",
    "            print(\"Stack is empty\")\n",
    "\n",
    "    def peek(self):\n",
    "        if not self.is_empty():\n",
    "            return self.items[-1]\n",
    "        else:\n",
    "            print(\"Stack is empty\")\n",
    "\n",
    "    def size(self):\n",
    "        return len(self.items)\n"
   ]
  },
  {
   "cell_type": "markdown",
   "metadata": {},
   "source": [
    "<ol style=\"color: #34495e; font-family: 'Verdana', sans-serif; line-height: 1.8; padding: 10px;\">\n",
    "    <strong style=\"color: #8e44ad; background-color: #f9f0fc; padding: 6px; border-radius: 8px; display: block; margin-bottom: 10px;\">\n",
    "        Creating an Object of the <code>EquilateralTriangle</code> Class\n",
    "    </strong>\n",
    "    <ul style=\"list-style-type: none; padding-left: 0;\">\n",
    "        <li style=\"margin-bottom: 10px;\">\n",
    "            <span style=\"font-weight: bold;\">1. Define the Class:</span>\n",
    "            <p style=\"margin: 5px 0 0 20px;\">Begin by defining the <code>EquilateralTriangle</code> class with its properties and methods.</p>\n",
    "        </li>\n",
    "        <li style=\"margin-bottom: 10px;\">\n",
    "            <span style=\"font-weight: bold;\">2. Instantiate an Object:</span>\n",
    "            <p style=\"margin: 5px 0 0 20px;\">After defining the class, create an object of the <code>EquilateralTriangle</code> class by passing the necessary parameters, such as side length.</p>\n",
    "        </li>\n",
    "    </ul>\n",
    "    <p style=\"margin-top: 10px;\">Here’s an example of creating and using an object of the <code>EquilateralTriangle</code> class in Python:</p>\n",
    "</ol>\n"
   ]
  },
  {
   "cell_type": "code",
   "execution_count": 31,
   "metadata": {},
   "outputs": [],
   "source": [
    "Stack = StackList()"
   ]
  },
  {
   "cell_type": "markdown",
   "metadata": {},
   "source": [
    "<ol style=\"color: #2c3e50; font-family: 'Verdana', sans-serif; line-height: 1.8; padding: 10px;\">\n",
    "    <strong style=\"color: #e74c3c; background-color: #fceae9; padding: 6px; border-radius: 8px; display: block; margin-bottom: 10px;\">\n",
    "        Explanation of the Stack Implementation\n",
    "    </strong>\n",
    "    <ul style=\"list-style-type: none; padding-left: 0;\">\n",
    "        <li style=\"margin-bottom: 10px;\">\n",
    "            <span style=\"color: #34495e;\">1. <code>__init__</code> Method:</span>\n",
    "            <p style=\"margin: 5px 0 0 20px; color: #7f8c8d;\">Initializes an empty list to store the stack elements.</p>\n",
    "        </li>\n",
    "        <li style=\"margin-bottom: 10px;\">\n",
    "            <span style=\"color: #34495e;\">2. <code>is_empty()</code>:</span>\n",
    "            <p style=\"margin: 5px 0 0 20px; color: #7f8c8d;\">Checks if the stack is empty.</p>\n",
    "        </li>\n",
    "        <li style=\"margin-bottom: 10px;\">\n",
    "            <span style=\"color: #34495e;\">3. <code>push(item)</code>:</span>\n",
    "            <p style=\"margin: 5px 0 0 20px; color: #7f8c8d;\">Adds an item to the top of the stack using the <code>append()</code> method.</p>\n",
    "        </li>\n",
    "    </ul>\n",
    "</ol>\n"
   ]
  },
  {
   "cell_type": "code",
   "execution_count": 32,
   "metadata": {},
   "outputs": [],
   "source": [
    "Stack.push(1)\n",
    "Stack.push(2)\n",
    "Stack.push(3)"
   ]
  },
  {
   "cell_type": "markdown",
   "metadata": {},
   "source": [
    "- **`pop()`**  \n",
    "  Removes and returns the item from the top of the stack using the `pop()` method.\n"
   ]
  },
  {
   "cell_type": "code",
   "execution_count": 33,
   "metadata": {},
   "outputs": [
    {
     "name": "stdout",
     "output_type": "stream",
     "text": [
      "Pop:  3\n"
     ]
    }
   ],
   "source": [
    "print(\"Pop: \", Stack.pop())"
   ]
  },
  {
   "cell_type": "markdown",
   "metadata": {},
   "source": [
    "- **peek()**: Returns the item from the top of the stack without removing it."
   ]
  },
  {
   "cell_type": "code",
   "execution_count": 34,
   "metadata": {},
   "outputs": [
    {
     "name": "stdout",
     "output_type": "stream",
     "text": [
      "Peak:  2\n"
     ]
    }
   ],
   "source": [
    "print(\"Peak: \", Stack.size())"
   ]
  },
  {
   "cell_type": "markdown",
   "metadata": {},
   "source": [
    "- **size()**: Returns the number of elements in the stack."
   ]
  },
  {
   "cell_type": "markdown",
   "metadata": {},
   "source": [
    "---------------------------------"
   ]
  },
  {
   "cell_type": "markdown",
   "metadata": {},
   "source": [
    "<ol style=\"color: #2c3e50; font-family: 'Verdana', sans-serif; line-height: 1.8; padding: 10px;\">\n",
    "    <center><strong style=\"color: #16a085; background-color: #e8f8f5; padding: 6px; border-radius: 8px; display: block; margin-bottom: 10px;\">\n",
    "        Deque Implementation\n",
    "    </strong></center>\n",
    "    <p style=\"margin: 10px 0; color: #34495e;\">\n",
    "        A <strong style=\"color: #16a085;\">deque</strong> (double-ended queue) is a versatile data structure that allows efficient insertion and deletion operations at both ends.\n",
    "    </p>\n",
    "    <p style=\"margin: 10px 0; color: #34495e;\">\n",
    "        In Python, you can implement a deque using the <code>collections.deque</code> class.\n",
    "    </p>\n",
    "</ol>\n"
   ]
  },
  {
   "cell_type": "code",
   "execution_count": 35,
   "metadata": {},
   "outputs": [],
   "source": [
    "from collections import deque\n",
    "\n",
    "class StackDeque:\n",
    "    def __init__(self):\n",
    "        self.items = deque()\n",
    "    \n",
    "    def is_empty(self):\n",
    "        return len(self.items) == 0\n",
    "    \n",
    "    def push(self, item):\n",
    "        self.items.append(item)\n",
    "    \n",
    "    def pop(self):\n",
    "        if not self.is_empty():\n",
    "            return self.items.pop()\n",
    "        else:\n",
    "            print(\"Stack is empty\")\n",
    "    \n",
    "    def peek(self):\n",
    "        if not self.is_empty():\n",
    "            return self.items[-1]\n",
    "        else:\n",
    "            print(\"Stack is empty\")\n",
    "    \n",
    "    def size(self):\n",
    "        return len(self.items)\n",
    "\n",
    "    def __str__(self):\n",
    "        return f\"{type(self).__name__}: {self.push()}\""
   ]
  },
  {
   "cell_type": "markdown",
   "metadata": {},
   "source": [
    "<ol style=\"color: #2c3e50; font-family: 'Verdana', sans-serif; line-height: 1.8; padding: 10px;\">\n",
    "    <strong style=\"color: #d35400; background-color: #fef5e7; padding: 6px; border-radius: 8px; display: block; margin-bottom: 10px;\">\n",
    "        a. Creating Data Types in Deque Stack Implementation\n",
    "    </strong>\n",
    "    <p style=\"margin: 10px 0; color: #34495e;\">\n",
    "        To create a stack using the <code>deque</code> data structure, we define a custom class, such as <code>StackDeque</code>. \n",
    "        This class provides methods for common stack operations, including:\n",
    "    </p>\n",
    "    <ul style=\"list-style-type: disc; padding-left: 20px; color: #34495e;\">\n",
    "        <li>Checking if the stack is empty</li>\n",
    "        <li>Pushing elements</li>\n",
    "        <li>Popping elements</li>\n",
    "        <li>Peeking at the top element</li>\n",
    "        <li>Getting the size of the stack</li>\n",
    "    </ul>\n",
    "</ol>\n"
   ]
  },
  {
   "cell_type": "code",
   "execution_count": 36,
   "metadata": {},
   "outputs": [],
   "source": [
    "stack1 = StackDeque()\n",
    "stack2 = StackDeque()"
   ]
  },
  {
   "cell_type": "markdown",
   "metadata": {},
   "source": [
    "#### Pushing element in Stack:"
   ]
  },
  {
   "cell_type": "code",
   "execution_count": 37,
   "metadata": {},
   "outputs": [],
   "source": [
    "stack1.push(1)\n",
    "stack1.push(2)\n",
    "stack1.push(3)"
   ]
  },
  {
   "cell_type": "code",
   "execution_count": 38,
   "metadata": {},
   "outputs": [],
   "source": [
    "stack2.push(\"apple\")\n",
    "stack2.push(\"banana\")\n",
    "stack2.push(\"cherry\")"
   ]
  },
  {
   "cell_type": "code",
   "execution_count": null,
   "metadata": {},
   "outputs": [],
   "source": [
    "print(\"Stack1:\", stack1)\n",
    "print(\"Stack2:\", stack2)"
   ]
  },
  {
   "cell_type": "markdown",
   "metadata": {},
   "source": [
    "#### Popping out element from Stack."
   ]
  },
  {
   "cell_type": "code",
   "execution_count": 40,
   "metadata": {},
   "outputs": [],
   "source": [
    "popped1 = stack1.pop()\n",
    "popped2 = stack1.pop()"
   ]
  },
  {
   "cell_type": "code",
   "execution_count": 41,
   "metadata": {},
   "outputs": [],
   "source": [
    "popped3 = stack2.pop()\n",
    "popped4 = stack2.pop()"
   ]
  },
  {
   "cell_type": "code",
   "execution_count": null,
   "metadata": {},
   "outputs": [],
   "source": [
    "print(\"Popped from Stack1:\", popped1, popped2)\n",
    "print(\"Popped from Stack2:\", popped3, popped4)\n",
    "print(\"Current Stack1:\", stack1.stack)\n",
    "print(\"Current Stack2:\", stack2.stack)"
   ]
  },
  {
   "cell_type": "markdown",
   "metadata": {},
   "source": [
    "-------------------------"
   ]
  },
  {
   "cell_type": "markdown",
   "metadata": {},
   "source": [
    "<ol style=\"color: #2c3e50; font-family: 'Verdana', sans-serif; line-height: 1.8; padding: 10px;\">\n",
    "    <strong style=\"color: #f39c12; background-color: #fef7e2; padding: 8px; border-radius: 8px; display: block; margin-bottom: 10px;\">\n",
    "        2. Node-Based Implementation\n",
    "    </strong>\n",
    "    <h3 style=\"color: #8e44ad; font-weight: bold; margin-bottom: 10px;\">\n",
    "        i. Overview\n",
    "    </h3>\n",
    "    <p style=\"margin: 10px 0; color: #34495e;\">\n",
    "        A node-based implementation refers to a data structure or algorithm design that involves the use of <strong style=\"color: #e74c3c;\">nodes</strong>, \n",
    "        where each node contains:\n",
    "    </p>\n",
    "    <ul style=\"list-style-type: circle; padding-left: 20px; color: #16a085; font-weight: bold;\">\n",
    "        <li style=\"margin-bottom: 5px;\"> <span style=\"color: #2980b9;\">Data</span>: The value or information stored in the node.</li>\n",
    "        <li style=\"margin-bottom: 5px;\"> <span style=\"color: #f39c12;\">Reference (or Link)</span>: A pointer to the next node in the sequence.</li>\n",
    "        <li style=\"margin-bottom: 5px; color: #9b59b6;\">Stacks</li>\n",
    "    </ul>\n",
    "</ol>\n"
   ]
  },
  {
   "cell_type": "code",
   "execution_count": 42,
   "metadata": {},
   "outputs": [],
   "source": [
    "class Node:\n",
    "    def __init__(self, data):\n",
    "        self.data = data\n",
    "        self.next = None\n"
   ]
  },
  {
   "cell_type": "markdown",
   "metadata": {},
   "source": [
    "<ol style=\"color: #2c3e50; font-family: 'Verdana', sans-serif; line-height: 1.8; padding: 10px;\">\n",
    "    <strong style=\"color: #8e44ad; background-color: #f5e8f7; padding: 8px; border-radius: 8px; display: block; margin-bottom: 10px;\">\n",
    "        a. The NodeStack class maintains a reference to the top of the stack (top)\n",
    "    </strong>\n",
    "</ol>\n"
   ]
  },
  {
   "cell_type": "code",
   "execution_count": 43,
   "metadata": {},
   "outputs": [],
   "source": [
    "class NodeStack:\n",
    "    def __init__(self):\n",
    "        self.top = None"
   ]
  },
  {
   "cell_type": "markdown",
   "metadata": {},
   "source": [
    "<ol style=\"color: #2c3e50; font-family: 'Verdana', sans-serif; line-height: 1.8; padding: 10px;\">\n",
    "    <strong style=\"color: #e67e22; background-color: #fdf1e6; padding: 8px; border-radius: 8px; display: block; margin-bottom: 10px;\">\n",
    "        b. The push() method adds a new node to the top of the stack.\n",
    "    </strong>\n",
    "</ol>\n"
   ]
  },
  {
   "cell_type": "code",
   "execution_count": 44,
   "metadata": {},
   "outputs": [],
   "source": [
    "def push(self, item):\n",
    "  new_node = Node(item)\n",
    "  new_node.next = self.top\n",
    "  self.top = new_node"
   ]
  },
  {
   "cell_type": "markdown",
   "metadata": {},
   "source": [
    "<ol style=\"color: #2c3e50; font-family: 'Verdana', sans-serif; line-height: 1.8; padding: 10px;\">\n",
    "    <strong style=\"color: #9b59b6; background-color: #f9f0fc; padding: 8px; border-radius: 8px; display: block; margin-bottom: 10px;\">\n",
    "        c. The pop() method removes and returns the item from the top of the stack.\n",
    "    </strong>\n",
    "</ol>\n"
   ]
  },
  {
   "cell_type": "code",
   "execution_count": 46,
   "metadata": {},
   "outputs": [],
   "source": [
    "def pop(self):\n",
    "    if not self.is_empty():\n",
    "        popped_item = self.top.data\n",
    "        self.top = self.top.next\n",
    "        return popped_item\n",
    "    else:\n",
    "        print(\"Stack is empty\")"
   ]
  },
  {
   "cell_type": "markdown",
   "metadata": {},
   "source": [
    "<ol style=\"color: #2c3e50; font-family: 'Verdana', sans-serif; line-height: 1.8; padding: 10px;\">\n",
    "    <strong style=\"color: #2980b9; background-color: #eafaf1; padding: 8px; border-radius: 8px; display: block; margin-bottom: 10px;\">\n",
    "        d. The peek() method returns the item from the top of the stack without removing it.\n",
    "    </strong>\n",
    "</ol>\n"
   ]
  },
  {
   "cell_type": "code",
   "execution_count": 47,
   "metadata": {},
   "outputs": [],
   "source": [
    "def peek(self):\n",
    "    if not self.is_empty():\n",
    "        return self.top.data\n",
    "    else:\n",
    "        print(\"stack is empty\")"
   ]
  },
  {
   "cell_type": "markdown",
   "metadata": {},
   "source": [
    "<ol style=\"color: #2c3e50; font-family: 'Verdana', sans-serif; line-height: 1.8; padding: 10px;\">\n",
    "    <strong style=\"color: #f39c12; background-color: #feebd8; padding: 8px; border-radius: 8px; display: block; margin-bottom: 10px;\">\n",
    "        e. The size() method calculates the number of elements in the stack by traversing the linked nodes.\n",
    "    </strong>\n",
    "</ol>\n"
   ]
  },
  {
   "cell_type": "code",
   "execution_count": 48,
   "metadata": {},
   "outputs": [],
   "source": [
    "def size(self):\n",
    "    current=self.top\n",
    "    count=0\n",
    "    while current:\n",
    "        count +=1\n",
    "        current=current.next\n",
    "    return count"
   ]
  },
  {
   "cell_type": "markdown",
   "metadata": {},
   "source": [
    "-----------------------"
   ]
  },
  {
   "cell_type": "markdown",
   "metadata": {},
   "source": [
    "<ol style=\"color: #2c3e50; font-family: 'Verdana', sans-serif; line-height: 1.8; padding: 10px;\">\n",
    "    <strong style=\"color: #e74c3c; background-color: #fceae9; padding: 10px; border-radius: 8px; display: block; margin-bottom: 10px;\">\n",
    "        3. NOW CREATING INSTANCES:\n",
    "    </strong>\n",
    "</ol>\n"
   ]
  },
  {
   "cell_type": "markdown",
   "metadata": {},
   "source": [
    "<ol style=\"color: #2c3e50; font-family: 'Verdana', sans-serif; line-height: 1.8; padding: 10px;\">\n",
    "    <strong style=\"color: #16a085; background-color: #e8f8f5; padding: 10px; border-radius: 8px; display: block; margin-bottom: 10px;\">\n",
    "        a. Creating instances of Node-based Stack and applying push, pop, and other methods on that instance.\n",
    "    </strong>\n",
    "</ol>\n"
   ]
  },
  {
   "cell_type": "code",
   "execution_count": 49,
   "metadata": {},
   "outputs": [],
   "source": [
    "class Node:\n",
    "    def __init__(self, data):\n",
    "        self.data = data\n",
    "        self.next = None\n",
    "\n",
    "class NodeStack:\n",
    "    def __init__(self):\n",
    "        self.top = None\n",
    "\n",
    "    def push(self, item):\n",
    "        new_node = Node(item)\n",
    "        new_node.next = self.top\n",
    "        self.top = new_node\n",
    "\n",
    "    def pop(self):\n",
    "        if not self.is_empty():\n",
    "            popped_item = self.top.data\n",
    "            self.top = self.top.next\n",
    "            return popped_item\n",
    "        else:\n",
    "            print(\"Stack is empty\")\n",
    "\n",
    "    def peek(self):\n",
    "        if not self.is_empty():\n",
    "            return self.top.data\n",
    "        else:\n",
    "            print(\"Stack is empty\")\n",
    "\n",
    "    def size(self):\n",
    "        current = self.top\n",
    "        count = 0\n",
    "        while current:\n",
    "            count += 1\n",
    "            current = current.next\n",
    "        return count\n",
    "\n",
    "    def is_empty(self):\n",
    "        return self.top is None"
   ]
  },
  {
   "cell_type": "code",
   "execution_count": 50,
   "metadata": {},
   "outputs": [],
   "source": [
    "stack=NodeStack()"
   ]
  },
  {
   "cell_type": "code",
   "execution_count": 51,
   "metadata": {},
   "outputs": [],
   "source": [
    "stack.push(1)\n",
    "stack.push(2)\n",
    "stack.push(3)"
   ]
  },
  {
   "cell_type": "code",
   "execution_count": 52,
   "metadata": {},
   "outputs": [
    {
     "name": "stdout",
     "output_type": "stream",
     "text": [
      "Peek: 3\n",
      "Pop: 3\n",
      "Stack size: 2\n"
     ]
    }
   ],
   "source": [
    "print(\"Peek:\", stack.peek())\n",
    "print(\"Pop:\", stack.pop())\n",
    "print(\"Stack size:\", stack.size())"
   ]
  }
 ],
 "metadata": {
  "kernelspec": {
   "display_name": "base",
   "language": "python",
   "name": "python3"
  },
  "language_info": {
   "codemirror_mode": {
    "name": "ipython",
    "version": 3
   },
   "file_extension": ".py",
   "mimetype": "text/x-python",
   "name": "python",
   "nbconvert_exporter": "python",
   "pygments_lexer": "ipython3",
   "version": "3.12.7"
  }
 },
 "nbformat": 4,
 "nbformat_minor": 2
}
