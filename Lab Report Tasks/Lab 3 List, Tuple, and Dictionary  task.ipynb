{
 "cells": [
  {
   "cell_type": "markdown",
   "metadata": {},
   "source": [
    "<center>\n",
    "    <div style=\"\n",
    "        background: linear-gradient(90deg, #8e44ad, #3498db);\n",
    "        padding: 30px 20px;\n",
    "        border-radius: 25px;\n",
    "        box-shadow: 0 7px 6px rgba(0, 0, 0, 0.3);\n",
    "        display: inline-block;\n",
    "        border: 2px solid #CCCCFF;\n",
    "        max-width: 90%;\n",
    "    \">\n",
    "        <span style=\"\n",
    "            color: #FFBF00;\n",
    "            font-size: 25px;\n",
    "            font-family: Cooper Black;\n",
    "            letter-spacing: 2px;\n",
    "            line-height: 1.4;\n",
    "            font-weight: bold;\n",
    "            text-transform: uppercase;\n",
    "            text-shadow: 3px 3px 8px rgba(0, 0, 0, 0.5);\n",
    "        \">\n",
    "            University of Engineering and Technology Peshawar <br> Jalozai Campus\n",
    "        </span>\n",
    "    </div>\n",
    "</center>  </div>\n",
    "</center>\n",
    "  </div>\n",
    "</center>\n"
   ]
  },
  {
   "cell_type": "markdown",
   "metadata": {},
   "source": [
    "<center>\n",
    "    <div style=\"\n",
    "        background: linear-gradient(90deg, #CB0000, #618685);\n",
    "        padding: 30px 20px;\n",
    "        border-radius: 25px;\n",
    "        box-shadow: 0 7px 6px rgba(0, 0, 0, 0.3);\n",
    "        display: inline-block;\n",
    "        border: 2px solid #CCCCFF;\n",
    "        max-width: 90%;\n",
    "    \">\n",
    "        <span style=\"\n",
    "            font-size: 30px;\n",
    "            font-family: Cooper Black;\n",
    "            color: #FFBF00;\n",
    "            font-weight: bold;\n",
    "            letter-spacing: 1px;\n",
    "            text-shadow: 3px 1px 8px rgba(0, 0, 1, 0.6);\n",
    "        \">\n",
    "            Lab Title: EE-271 “OOP & Data Structures Lab”\n",
    "        </span>\n",
    "    </div>\n",
    "</center>\n"
   ]
  },
  {
   "cell_type": "markdown",
   "metadata": {},
   "source": [
    "<center>\n",
    "    <div style=\"\n",
    "        background: linear-gradient(90deg, #728FCE, #101820);\n",
    "        padding: 30px 20px;\n",
    "        border-radius: 25px;\n",
    "        box-shadow: 0 7px 6px rgba(0, 0, 0, 0.3);\n",
    "        display: inline-block;\n",
    "        border: 2px solid #CCCCFF;\n",
    "        max-width: 90%;\n",
    "    \">\n",
    "        <span style=\"\n",
    "            font-size: 30px;\n",
    "            font-family: Cooper Black;\n",
    "            color: #FFBF00;\n",
    "            font-weight: bold;\n",
    "            letter-spacing: 1px;\n",
    "            text-shadow: 3px 1px 8px rgba(0, 0, 1, 0.6);\n",
    "        \">\n",
    "            Lab 3: List, Tuple, and Dictionary</span>\n",
    "        </span>\n",
    "    </div>\n",
    "</center>\n"
   ]
  },
  {
   "cell_type": "markdown",
   "metadata": {},
   "source": [
    "<span style=\"color: #000000;\n",
    "font-size: 44px;\n",
    "transition: color 0.3s;\">&#x21DD; </span>\n",
    "<span style=\"color: #ff0000;\n",
    "    font-family: Arial Black;\n",
    "font-size: 35px; font-weight: bold; \n",
    "text-shadow: 0px 4px 2px rgb(0, 0, 0);\">\n",
    "    Lab Report Tasks :</span>"
   ]
  },
  {
   "cell_type": "markdown",
   "metadata": {},
   "source": [
    "----------------"
   ]
  },
  {
   "cell_type": "markdown",
   "metadata": {},
   "source": [
    "<div style=\"padding: 20px; font-family: Arial, sans-serif; background-color: #f9f9f9; border:2px solid black; border-radius: 8px; width: fit-content;\">\n",
    "  <p style=\"color: #555; font-size: 16px; line-height: 1.6;\">\n",
    "    1. Make a list that contains the student name, the last four digits of the registration number as<br>\n",
    "an integer, the CGPA as a float, and a list that contains GPA of all semesters. <strong>(Nested List)</strong>\n",
    "  </p>\n",
    "</div>\n"
   ]
  },
  {
   "cell_type": "code",
   "execution_count": 4,
   "metadata": {},
   "outputs": [
    {
     "name": "stdout",
     "output_type": "stream",
     "text": [
      "Name: Umair khan, Registration Number: 538, CGPA: 3.5, GPA per Semester: [3.7, 3.5, 3.6, 3.4]\n",
      "Name: Ahmad, Registration Number: 546, CGPA: 3.6, GPA per Semester: [3.2, 3.8, 3.9, 3.7]\n",
      "Name: Baber, Registration Number: 527, CGPA: 3.9, GPA per Semester: [4.0, 3.8, 4.0, 3.9]\n",
      "Name: Prince, Registration Number: 508, CGPA: 3.7, GPA per Semester: [3.6, 3.7, 3.8, 3.9]\n",
      "Name: usman, Registration Number: 579, CGPA: 3.5, GPA per Semester: [3.3, 3.5, 3.7, 3.8]\n"
     ]
    }
   ],
   "source": [
    "students = [\n",
    "    [\"Umair khan\", 538, 3.5, [3.7, 3.5, 3.6, 3.4]],\n",
    "    [\"Ahmad\", 546, 3.6, [3.2, 3.8, 3.9, 3.7]],\n",
    "    [\"Baber\", 527, 3.9, [4.0, 3.8, 4.0, 3.9]],\n",
    "    [\"Prince\", 508, 3.7, [3.6, 3.7, 3.8, 3.9]],\n",
    "    [\"usman\", 579, 3.5, [3.3, 3.5, 3.7, 3.8]],\n",
    "]\n",
    "for student in students:\n",
    "    name = student[0]\n",
    "    reg_number = student[1]\n",
    "    cgpa = student[2]\n",
    "    gpas = student[3]\n",
    "    \n",
    "    print(f\"Name: {name}, Registration Number: {reg_number}, CGPA: {cgpa}, GPA per Semester: {gpas}\")\n"
   ]
  },
  {
   "cell_type": "markdown",
   "metadata": {},
   "source": [
    "<div style=\"padding: 20px; font-family: Arial, sans-serif; background-color: #f9f9f9; border:2px solid black; border-radius: 8px; width: fit-content;\">\n",
    "  <p style=\"color: #555; font-size: 16px; line-height: 1.6;\">\n",
    "    2. Use list inducing in the following nested list and access each and every element.<br>\n",
    "<code>x = [\"a\", [\"bb\", [\"ccc\", \"ddd\"], \"ee\", \"ff\"], \"g\", [\"hh\", \"ii\"], \"j\"]</code>\n",
    "  </p>\n",
    "</div>\n"
   ]
  },
  {
   "cell_type": "code",
   "execution_count": 5,
   "metadata": {},
   "outputs": [
    {
     "name": "stdout",
     "output_type": "stream",
     "text": [
      "Accessed Elements:\n",
      "a\n",
      "['bb', ['ccc', 'ddd'], 'ee', 'ff']\n",
      "g\n",
      "['hh', 'ii']\n",
      "j\n"
     ]
    }
   ],
   "source": [
    "x = [\"a\", [\"bb\", [\"ccc\", \"ddd\"], \"ee\", \"ff\"], \"g\", [\"hh\", \"ii\"], \"j\"]\n",
    "\n",
    "# Accessing each element\n",
    "element_0 = x[0]\n",
    "element_1 = x[1]  \n",
    "element_2 = x[2]  \n",
    "element_3 = x[3]  \n",
    "element_4 = x[4]  \n",
    "\n",
    "print(\"Accessed Elements:\")\n",
    "print(element_0)            \n",
    "print(element_1)            \n",
    "print(element_2)            \n",
    "print(element_3)            \n",
    "print(element_4)            "
   ]
  },
  {
   "cell_type": "code",
   "execution_count": 6,
   "metadata": {},
   "outputs": [
    {
     "name": "stdout",
     "output_type": "stream",
     "text": [
      "Accessed Elements:\n",
      "bb\n",
      "['ccc', 'ddd']\n",
      "ccc\n",
      "ddd\n",
      "ee\n",
      "ff\n",
      "hh\n",
      "ii\n"
     ]
    }
   ],
   "source": [
    "# Accessing nested elements\n",
    "element_1_0 = x[1][0]           \n",
    "element_1_1 = x[1][1]           \n",
    "element_1_1_0 = x[1][1][0]      \n",
    "element_1_1_1 = x[1][1][1]    \n",
    "element_1_2 = x[1][2]          \n",
    "element_1_3 = x[1][3]           \n",
    "element_3_0 = x[3][0]           \n",
    "element_3_1 = x[3][1]           \n",
    "\n",
    "print(\"Accessed Elements:\")\n",
    "print(element_1_0)         \n",
    "print(element_1_1)          \n",
    "print(element_1_1_0)        \n",
    "print(element_1_1_1)        \n",
    "print(element_1_2)          \n",
    "print(element_1_3)          \n",
    "print(element_3_0)          \n",
    "print(element_3_1)          \n"
   ]
  }
 ],
 "metadata": {
  "kernelspec": {
   "display_name": "Python 3",
   "language": "python",
   "name": "python3"
  },
  "language_info": {
   "codemirror_mode": {
    "name": "ipython",
    "version": 3
   },
   "file_extension": ".py",
   "mimetype": "text/x-python",
   "name": "python",
   "nbconvert_exporter": "python",
   "pygments_lexer": "ipython3",
   "version": "3.12.4"
  }
 },
 "nbformat": 4,
 "nbformat_minor": 2
}
